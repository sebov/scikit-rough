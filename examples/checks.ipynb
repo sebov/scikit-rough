{
 "cells": [
  {
   "cell_type": "markdown",
   "metadata": {
    "lines_to_next_cell": 2
   },
   "source": [
    "# Rough Set check functions\n"
   ]
  },
  {
   "cell_type": "code",
   "execution_count": null,
   "metadata": {},
   "outputs": [],
   "source": [
    "import numpy as np\n",
    "import pandas as pd\n",
    "\n",
    "from skrough.chaos_measures import entropy\n",
    "from skrough.checks import (\n",
    "    check_if_approx_reduct,\n",
    "    check_if_bireduct,\n",
    "    check_if_consistent_table,\n",
    "    check_if_functional_dependency,\n",
    "    check_if_reduct,\n",
    ")\n",
    "from skrough.dataprep import prepare_factorized_data"
   ]
  },
  {
   "cell_type": "markdown",
   "metadata": {},
   "source": [
    "## Dataset\n",
    "\n",
    "Let's prepare a sample data set - \"Play Golf Dataset\".\n"
   ]
  },
  {
   "cell_type": "code",
   "execution_count": null,
   "metadata": {},
   "outputs": [],
   "source": [
    "df = pd.DataFrame(\n",
    "    np.array(\n",
    "        [\n",
    "            [\"sunny\", \"hot\", \"high\", \"weak\", \"no\"],\n",
    "            [\"sunny\", \"hot\", \"high\", \"strong\", \"no\"],\n",
    "            [\"overcast\", \"hot\", \"high\", \"weak\", \"yes\"],\n",
    "            [\"rain\", \"mild\", \"high\", \"weak\", \"yes\"],\n",
    "            [\"rain\", \"cool\", \"normal\", \"weak\", \"yes\"],\n",
    "            [\"rain\", \"cool\", \"normal\", \"strong\", \"no\"],\n",
    "            [\"overcast\", \"cool\", \"normal\", \"strong\", \"yes\"],\n",
    "            [\"sunny\", \"mild\", \"high\", \"weak\", \"no\"],\n",
    "            [\"sunny\", \"cool\", \"normal\", \"weak\", \"yes\"],\n",
    "            [\"rain\", \"mild\", \"normal\", \"weak\", \"yes\"],\n",
    "            [\"sunny\", \"mild\", \"normal\", \"strong\", \"yes\"],\n",
    "            [\"overcast\", \"mild\", \"high\", \"strong\", \"yes\"],\n",
    "            [\"overcast\", \"hot\", \"normal\", \"weak\", \"yes\"],\n",
    "            [\"rain\", \"mild\", \"high\", \"strong\", \"no\"],\n",
    "        ],\n",
    "        dtype=object,\n",
    "    ),\n",
    "    columns=[\"Outlook\", \"Temperature\", \"Humidity\", \"Wind\", \"Play\"],\n",
    ")\n",
    "TARGET_COLUMN = \"Play\"\n",
    "x, x_counts, y, y_count = prepare_factorized_data(df, TARGET_COLUMN)"
   ]
  },
  {
   "cell_type": "markdown",
   "metadata": {},
   "source": [
    "## Data table consistency\n",
    "\n",
    "Let's check if the data table is consistent:\n",
    "\n",
    "- check whole table\n",
    "- check using a given subset of attributes"
   ]
  },
  {
   "cell_type": "code",
   "execution_count": null,
   "metadata": {},
   "outputs": [],
   "source": [
    "check_if_consistent_table(x, y)"
   ]
  },
  {
   "cell_type": "code",
   "execution_count": null,
   "metadata": {},
   "outputs": [],
   "source": [
    "# check using only first two columns\n",
    "check_if_consistent_table(x[:, 0:2], y)"
   ]
  },
  {
   "cell_type": "markdown",
   "metadata": {},
   "source": [
    "## Check functional dependency"
   ]
  },
  {
   "cell_type": "code",
   "execution_count": null,
   "metadata": {},
   "outputs": [],
   "source": [
    "# check functional dependency on all objects (using default: `None`) and all attrs\n",
    "# (using default: `None`)\n",
    "check_if_functional_dependency(x, y)"
   ]
  },
  {
   "cell_type": "code",
   "execution_count": null,
   "metadata": {},
   "outputs": [],
   "source": [
    "# check on all objects (using default: `None`) and on attrs `0, 2, 3`\n",
    "check_if_functional_dependency(x, y, attrs=[0, 2, 3])"
   ]
  },
  {
   "cell_type": "code",
   "execution_count": null,
   "metadata": {},
   "outputs": [],
   "source": [
    "# check on all objects (using default: `None`) and on attrs `0, 1`\n",
    "check_if_functional_dependency(x, y, attrs=[0, 1])"
   ]
  },
  {
   "cell_type": "code",
   "execution_count": null,
   "metadata": {},
   "outputs": [],
   "source": [
    "# check on objects `0, 2, 5` and on attrs `0, 1`\n",
    "check_if_functional_dependency(x, y, objs=[0, 2, 5], attrs=[0, 1])"
   ]
  },
  {
   "cell_type": "markdown",
   "metadata": {},
   "source": [
    "## Check reducts\n",
    "\n",
    "For \"Play Golf Dataset\" there are only two reducts:\n",
    "\n",
    "- \"Outlook\", \"Temperature\", \"Humidity\" - `attrs == [0, 1, 2]`\n",
    "- \"Outlook\", \"Humidity\", \"Wind\" - `attrs == [0, 2, 3]`"
   ]
  },
  {
   "cell_type": "code",
   "execution_count": null,
   "metadata": {},
   "outputs": [],
   "source": [
    "check_if_reduct(x, x_counts, y, y_count, attrs=[0, 2, 3])"
   ]
  },
  {
   "cell_type": "code",
   "execution_count": null,
   "metadata": {},
   "outputs": [],
   "source": [
    "check_if_reduct(x, x_counts, y, y_count, attrs=[0, 2, 3])"
   ]
  },
  {
   "cell_type": "code",
   "execution_count": null,
   "metadata": {},
   "outputs": [],
   "source": [
    "# too few attributes ~ no functional dependency\n",
    "check_if_reduct(x, x_counts, y, y_count, attrs=[0, 1])"
   ]
  },
  {
   "cell_type": "code",
   "execution_count": null,
   "metadata": {},
   "outputs": [],
   "source": [
    "# too many attributes ~ some of them can be removed\n",
    "check_if_reduct(x, x_counts, y, y_count, attrs=[0, 1, 2, 3])"
   ]
  },
  {
   "cell_type": "markdown",
   "metadata": {},
   "source": [
    "## Check approximate reducts\n"
   ]
  },
  {
   "cell_type": "markdown",
   "metadata": {},
   "source": [
    "Check if a given subset of attributes is an approximate reduct with a given\n",
    "approximation level $\\varepsilon$.\n",
    "\n",
    "See that for the specified subset of attributes and lower values of $\\varepsilon$ the\n",
    "answer is \"no\". After reaching specific larger values, the subset become good enough\n",
    "to fulfill the approximation condition. However, increasing the $varepsilon$ value\n",
    "even further, the subset starts to have redundant attributes (not needed to still\n",
    "fulfill the approximate condition) and therefore the whole subset cannot be further\n",
    "considered as an approximate reduct."
   ]
  },
  {
   "cell_type": "code",
   "execution_count": null,
   "metadata": {},
   "outputs": [],
   "source": [
    "attrs = [0, 3]\n",
    "for eps in np.arange(0, 1, step=0.1):\n",
    "    is_approx_reduct = check_if_approx_reduct(\n",
    "        x, x_counts, y, y_count, attrs=attrs, chaos_fun=entropy, epsilon=eps\n",
    "    )\n",
    "    print(f\"is approximate reduct {attrs=} for {eps=:.2} == {is_approx_reduct}\")"
   ]
  },
  {
   "cell_type": "markdown",
   "metadata": {},
   "source": [
    "## Check bireducts\n",
    "\n",
    "Check if a given pair of objects and attributes subsets constitutes a decision\n",
    "bireduct."
   ]
  },
  {
   "cell_type": "code",
   "execution_count": null,
   "metadata": {},
   "outputs": [],
   "source": [
    "df.sort_values([\"Temperature\", \"Humidity\"])"
   ]
  },
  {
   "cell_type": "code",
   "execution_count": null,
   "metadata": {},
   "outputs": [],
   "source": [
    "check_if_bireduct(\n",
    "    x, x_counts, y, y_count, objs=[0, 1, 2, 5, 6, 7, 11, 12, 13], attrs=[0]\n",
    ")"
   ]
  },
  {
   "cell_type": "code",
   "execution_count": null,
   "metadata": {},
   "outputs": [],
   "source": [
    "check_if_bireduct(x, x_counts, y, y_count, objs=[0, 1], attrs=[0])"
   ]
  },
  {
   "cell_type": "code",
   "execution_count": null,
   "metadata": {},
   "outputs": [],
   "source": [
    "check_if_bireduct(x, x_counts, y, y_count, objs=[0, 1, 5, 7, 13], attrs=[1])"
   ]
  },
  {
   "cell_type": "code",
   "execution_count": null,
   "metadata": {},
   "outputs": [],
   "source": [
    "# too few objects\n",
    "check_if_bireduct(x, x_counts, y, y_count, objs=[7, 9, 10, 12, 13], attrs=[1, 2])"
   ]
  },
  {
   "cell_type": "code",
   "execution_count": null,
   "metadata": {},
   "outputs": [],
   "source": [
    "check_if_bireduct(x, x_counts, y, y_count, objs=[2, 5, 7, 9, 10, 12, 13], attrs=[1, 2])"
   ]
  },
  {
   "cell_type": "code",
   "execution_count": null,
   "metadata": {},
   "outputs": [],
   "source": [
    "check_if_bireduct(\n",
    "    x,\n",
    "    x_counts,\n",
    "    y,\n",
    "    y_count,\n",
    "    objs=[0, 1, 2, 3, 4, 5, 6, 7, 8, 9, 10, 11, 12, 13],\n",
    "    attrs=[0, 2, 3],\n",
    ")"
   ]
  },
  {
   "cell_type": "code",
   "execution_count": null,
   "metadata": {},
   "outputs": [],
   "source": [
    "# all objects + all attrs - not a bireduct because some attrs are redundant\n",
    "check_if_bireduct(\n",
    "    x,\n",
    "    x_counts,\n",
    "    y,\n",
    "    y_count,\n",
    "    objs=[0, 1, 2, 3, 4, 5, 6, 7, 8, 9, 10, 11, 12, 13],\n",
    "    attrs=[0, 1, 2, 3],\n",
    ")"
   ]
  }
 ],
 "metadata": {
  "kernelspec": {
   "display_name": "Python 3.9.12 ('.venv': poetry)",
   "language": "python",
   "name": "python3"
  },
  "language_info": {
   "codemirror_mode": {
    "name": "ipython",
    "version": 3
   },
   "file_extension": ".py",
   "mimetype": "text/x-python",
   "name": "python",
   "nbconvert_exporter": "python",
   "pygments_lexer": "ipython3",
   "version": "3.9.12"
  },
  "vscode": {
   "interpreter": {
    "hash": "cb353cb8b9a4ebafc945efb5c6e15e592d37ff0fcf51b748ec6c5769c1eaa51b"
   }
  }
 },
 "nbformat": 4,
 "nbformat_minor": 2
}
