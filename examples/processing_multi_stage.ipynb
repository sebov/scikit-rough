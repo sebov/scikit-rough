{
 "cells": [
  {
   "attachments": {},
   "cell_type": "markdown",
   "metadata": {},
   "source": [
    "# Multi-Stage processing"
   ]
  },
  {
   "cell_type": "code",
   "execution_count": null,
   "metadata": {
    "lines_to_next_cell": 2
   },
   "outputs": [],
   "source": [
    "from dataclasses import asdict\n",
    "import pprint\n",
    "\n",
    "import numpy as np\n",
    "import pandas as pd\n",
    "\n",
    "from skrough.algorithms import hooks\n",
    "from skrough.algorithms.meta import describe, processing, stage\n",
    "from skrough.checks import check_if_approx_reduct\n",
    "from skrough.dataprep import prepare_factorized_data\n",
    "from skrough.disorder_measures import entropy\n",
    "from skrough.structs.attrs_subset import AttrsSubset\n",
    "from skrough.structs.state import ProcessingState"
   ]
  },
  {
   "attachments": {},
   "cell_type": "markdown",
   "metadata": {},
   "source": [
    "## Dataset\n",
    "\n",
    "Let's prepare a sample data set - \"Play Golf Dataset\"."
   ]
  },
  {
   "cell_type": "code",
   "execution_count": null,
   "metadata": {},
   "outputs": [],
   "source": [
    "df = pd.DataFrame(\n",
    "    np.array(\n",
    "        [\n",
    "            [\"sunny\", \"hot\", \"high\", \"weak\", \"no\"],\n",
    "            [\"sunny\", \"hot\", \"high\", \"strong\", \"no\"],\n",
    "            [\"overcast\", \"hot\", \"high\", \"weak\", \"yes\"],\n",
    "            [\"rain\", \"mild\", \"high\", \"weak\", \"yes\"],\n",
    "            [\"rain\", \"cool\", \"normal\", \"weak\", \"yes\"],\n",
    "            [\"rain\", \"cool\", \"normal\", \"strong\", \"no\"],\n",
    "            [\"overcast\", \"cool\", \"normal\", \"strong\", \"yes\"],\n",
    "            [\"sunny\", \"mild\", \"high\", \"weak\", \"no\"],\n",
    "            [\"sunny\", \"cool\", \"normal\", \"weak\", \"yes\"],\n",
    "            [\"rain\", \"mild\", \"normal\", \"weak\", \"yes\"],\n",
    "            [\"sunny\", \"mild\", \"normal\", \"strong\", \"yes\"],\n",
    "            [\"overcast\", \"mild\", \"high\", \"strong\", \"yes\"],\n",
    "            [\"overcast\", \"hot\", \"normal\", \"weak\", \"yes\"],\n",
    "            [\"rain\", \"mild\", \"high\", \"strong\", \"no\"],\n",
    "        ],\n",
    "        dtype=object,\n",
    "    ),\n",
    "    columns=[\"Outlook\", \"Temperature\", \"Humidity\", \"Wind\", \"Play\"],\n",
    ")\n",
    "TARGET_COLUMN = \"Play\"\n",
    "x, x_counts, y, y_count = prepare_factorized_data(df, TARGET_COLUMN)"
   ]
  },
  {
   "attachments": {},
   "cell_type": "markdown",
   "metadata": {},
   "source": [
    "## Approximate decision superreduct\n",
    "\n",
    "Let's prepare a processing procedure to search for approximate decision superreduct.\n",
    "Notice that despite of the `ProcessingMultiStage` name, we create the processing with\n",
    "only one stage, cf., the below `grow_stage`.\n",
    "\n",
    "A greedy heuristic algorithm is implemented in the below example. Its brief\n",
    "description is as follows:\n",
    "\n",
    "* initialization steps:\n",
    "    * factorize the input data\n",
    "    * initialize internal structures - group index and result subset of attributes\n",
    "    * compute the approximation threshold, based on the data and the input\n",
    "      approximation level $\\varepsilon$\n",
    "* perform processing defined in stages (here just one processing stage):\n",
    "  * grow_stage:\n",
    "    * define stop criterion - reaching the approximation threshold\n",
    "    * iteratively, until stop criterion\n",
    "      * use all remaining attrs as pre-candidates\n",
    "      * pass all pre-candidates as candidates\n",
    "      * use greedy heuristic to choose the best attribute - maximizing the disorder\n",
    "        score gain\n",
    "      * update internal structures\n",
    "* finalize the processing - prepare the actual return value"
   ]
  },
  {
   "cell_type": "code",
   "execution_count": null,
   "metadata": {},
   "outputs": [],
   "source": [
    "grow_stage = stage.Stage.from_hooks(\n",
    "    stop_hooks=[\n",
    "        hooks.stop_hooks.stop_hook_approx_threshold,\n",
    "    ],\n",
    "    init_hooks=None,\n",
    "    pre_candidates_hooks=[\n",
    "        hooks.pre_candidates_hooks.pre_candidates_hook_remaining_attrs,\n",
    "    ],\n",
    "    candidates_hooks=[\n",
    "        hooks.process_elements.process_elements_hook_pass_everything,\n",
    "    ],\n",
    "    select_hooks=[\n",
    "        hooks.select_hooks.select_hook_attrs_disorder_score_based,\n",
    "    ],\n",
    "    filter_hooks=None,\n",
    "    inner_init_hooks=None,\n",
    "    inner_stop_hooks=[hooks.inner_stop_hooks.inner_stop_hook_empty],\n",
    "    inner_process_hooks=[hooks.inner_process_hooks.inner_process_hook_add_first_attr],\n",
    "    finalize_hooks=None,\n",
    ")\n",
    "\n",
    "get_approx_reduct = processing.ProcessingMultiStage.from_hooks(\n",
    "    init_multi_stage_hooks=[\n",
    "        hooks.init_hooks.init_hook_factorize_data_x_y,\n",
    "        hooks.init_hooks.init_hook_single_group_index,\n",
    "        hooks.init_hooks.init_hook_result_attrs_empty,\n",
    "        hooks.init_hooks.init_hook_epsilon_approx_threshold,\n",
    "    ],\n",
    "    stages=[grow_stage],\n",
    "    finalize_hooks=None,\n",
    "    prepare_result_fun=hooks.prepare_result_hooks.prepare_result_hook_attrs_subset,\n",
    ")"
   ]
  },
  {
   "attachments": {},
   "cell_type": "markdown",
   "metadata": {},
   "source": [
    "## Processing procedure inspection\n",
    "\n",
    "There are ways to inspect the prepared processing procedures, either for checking or\n",
    "debugging purposes.\n",
    "\n",
    "A structured representation can be obtained and further processed:"
   ]
  },
  {
   "cell_type": "code",
   "execution_count": null,
   "metadata": {},
   "outputs": [],
   "source": [
    "description_graph = describe.describe(get_approx_reduct)\n",
    "print(pprint.pformat(asdict(description_graph))[:1500], \"...\")"
   ]
  },
  {
   "attachments": {},
   "cell_type": "markdown",
   "metadata": {},
   "source": [
    "## Invoke the prepared procedure"
   ]
  },
  {
   "attachments": {},
   "cell_type": "markdown",
   "metadata": {},
   "source": [
    "Invoke the prepared procedure (processing element) and get the result."
   ]
  },
  {
   "cell_type": "code",
   "execution_count": null,
   "metadata": {},
   "outputs": [],
   "source": [
    "eps = 0.4\n",
    "disorder_measure = entropy\n",
    "\n",
    "state = ProcessingState.from_optional(\n",
    "    processing_fun=None,\n",
    ")\n",
    "state.set_input_data_x(x)\n",
    "state.set_input_data_y(y)\n",
    "state.set_config_disorder_fun(disorder_measure)\n",
    "state.set_config_epsilon(eps)\n",
    "state.set_config_select_attrs_disorder_score_based_max_count(1)\n",
    "\n",
    "result: AttrsSubset = get_approx_reduct(state=state)\n",
    "result"
   ]
  },
  {
   "attachments": {},
   "cell_type": "markdown",
   "metadata": {},
   "source": [
    "Check if the obtained result is a decision approximate superreduct - as we expected\n",
    "that designing the computing procedure appropriately."
   ]
  },
  {
   "cell_type": "code",
   "execution_count": null,
   "metadata": {},
   "outputs": [],
   "source": [
    "check_if_approx_reduct(\n",
    "    x,\n",
    "    x_counts,\n",
    "    y,\n",
    "    y_count,\n",
    "    attrs=result.attrs,\n",
    "    disorder_fun=disorder_measure,\n",
    "    epsilon=eps,\n",
    "    check_attrs_reduction=False,\n",
    ")"
   ]
  }
 ],
 "metadata": {
  "kernelspec": {
   "display_name": ".venv",
   "language": "python",
   "name": "python3"
  },
  "language_info": {
   "codemirror_mode": {
    "name": "ipython",
    "version": 3
   },
   "file_extension": ".py",
   "mimetype": "text/x-python",
   "name": "python",
   "nbconvert_exporter": "python",
   "pygments_lexer": "ipython3",
   "version": "3.10.17"
  }
 },
 "nbformat": 4,
 "nbformat_minor": 2
}
