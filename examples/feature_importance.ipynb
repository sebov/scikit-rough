{
 "cells": [
  {
   "cell_type": "markdown",
   "metadata": {},
   "source": [
    "# Feature importance example"
   ]
  },
  {
   "cell_type": "code",
   "execution_count": null,
   "metadata": {},
   "outputs": [],
   "source": [
    "import pprint\n",
    "\n",
    "import more_itertools\n",
    "import numpy as np\n",
    "import pandas as pd\n",
    "\n",
    "from skrough.dataprep import prepare_factorized_data\n",
    "from skrough.disorder_measures import conflicts_count, entropy, gini_impurity\n",
    "from skrough.disorder_score import get_disorder_score_for_data\n",
    "from skrough.feature_importance import get_feature_importance"
   ]
  },
  {
   "cell_type": "markdown",
   "metadata": {},
   "source": [
    "## Dataset\n",
    "\n",
    "Let's prepare a sample data set - \"Play Golf Dataset\"."
   ]
  },
  {
   "cell_type": "code",
   "execution_count": null,
   "metadata": {},
   "outputs": [],
   "source": [
    "df = pd.DataFrame(\n",
    "    np.array(\n",
    "        [\n",
    "            [\"sunny\", \"hot\", \"high\", \"weak\", \"no\"],\n",
    "            [\"sunny\", \"hot\", \"high\", \"strong\", \"no\"],\n",
    "            [\"overcast\", \"hot\", \"high\", \"weak\", \"yes\"],\n",
    "            [\"rain\", \"mild\", \"high\", \"weak\", \"yes\"],\n",
    "            [\"rain\", \"cool\", \"normal\", \"weak\", \"yes\"],\n",
    "            [\"rain\", \"cool\", \"normal\", \"strong\", \"no\"],\n",
    "            [\"overcast\", \"cool\", \"normal\", \"strong\", \"yes\"],\n",
    "            [\"sunny\", \"mild\", \"high\", \"weak\", \"no\"],\n",
    "            [\"sunny\", \"cool\", \"normal\", \"weak\", \"yes\"],\n",
    "            [\"rain\", \"mild\", \"normal\", \"weak\", \"yes\"],\n",
    "            [\"sunny\", \"mild\", \"normal\", \"strong\", \"yes\"],\n",
    "            [\"overcast\", \"mild\", \"high\", \"strong\", \"yes\"],\n",
    "            [\"overcast\", \"hot\", \"normal\", \"weak\", \"yes\"],\n",
    "            [\"rain\", \"mild\", \"high\", \"strong\", \"no\"],\n",
    "        ],\n",
    "        dtype=object,\n",
    "    ),\n",
    "    columns=[\"Outlook\", \"Temperature\", \"Humidity\", \"Wind\", \"Play\"],\n",
    ")\n",
    "TARGET_COLUMN = \"Play\"\n",
    "df"
   ]
  },
  {
   "cell_type": "markdown",
   "metadata": {},
   "source": [
    "## Prepare data\n",
    "\n",
    "Factorize dataset and obtain the sizes of feature domains."
   ]
  },
  {
   "cell_type": "code",
   "execution_count": null,
   "metadata": {},
   "outputs": [],
   "source": [
    "x, x_counts, y, y_count = prepare_factorized_data(df, TARGET_COLUMN)\n",
    "column_names = np.array([col for col in df.columns if col != TARGET_COLUMN])\n",
    "\n",
    "print(\"Conditional data:\")\n",
    "print(x)\n",
    "print()\n",
    "print(\"Conditional data feature domain sizes:\")\n",
    "print(x_counts)\n",
    "print()\n",
    "print(\"Target data:\")\n",
    "print(y)\n",
    "print()\n",
    "print(\"Target data feature domain size:\")\n",
    "print(y_count)"
   ]
  },
  {
   "cell_type": "markdown",
   "metadata": {},
   "source": [
    "## Measure of disorder in the dataset - disorder score\n",
    "\n",
    "In the context of the given dataset, a disorder score values is quantity that\n",
    "characterizes a subset of features and, more or less, presents the disorder of\n",
    "decisions in the equivalence classes induced by the subsets of features.\n",
    "\n",
    "In most cases it is reasonable to assume that the disorder score function is monotonic\n",
    "with respect to subset relation, i.e., for subsets of features $A \\subseteq B$,\n",
    "the disorder score for $A$ should be less or equal to that for $B$.\n",
    "\n",
    "Attributes are given by their ordinal numbers.\n",
    "\n",
    "Let's try three standard approaches, i.e., `conflicts_count`, `gini_impurity` and\n",
    "`entropy`."
   ]
  },
  {
   "cell_type": "code",
   "execution_count": null,
   "metadata": {},
   "outputs": [],
   "source": [
    "for disorder_function in [conflicts_count, entropy, gini_impurity]:\n",
    "    print(disorder_function.__name__)\n",
    "    for attrs in [[0], [0, 1], [0, 1, 3], [0, 1, 2, 3]]:\n",
    "        print(\n",
    "            f\"disorder score for attrs {attrs}({column_names[attrs]}) = \",\n",
    "            get_disorder_score_for_data(\n",
    "                x=x,\n",
    "                x_counts=x_counts,\n",
    "                y=y,\n",
    "                y_count=y_count,\n",
    "                disorder_fun=disorder_function,\n",
    "                attrs=attrs,\n",
    "            ),\n",
    "        )\n",
    "    print()\n",
    "    print()"
   ]
  },
  {
   "cell_type": "markdown",
   "metadata": {},
   "source": [
    "## Assessing feature importance\n",
    "\n",
    "We can use the above disorder score functions for assessing the features, i.e.,\n",
    "we can observe the disorder score change if a given feature is removed.\n",
    "\n",
    "To follow a more realistic example, we can use an enseble of feature subsets, i.e.,\n",
    "a family of subsets of all atributes, and not just a single subset of features,\n",
    "computing the total or average disorder score change over several possible appearances\n",
    "of the attribute in the ensemble elements."
   ]
  },
  {
   "cell_type": "code",
   "execution_count": null,
   "metadata": {},
   "outputs": [],
   "source": [
    "attr_subset_ensemble = [\n",
    "    [[0, 2], [0, 3], [0], [2, 3], [1, 2, 3]],\n",
    "    [[0], [0, 1], [1, 2]],\n",
    "    [list(elem) for elem in more_itertools.powerset(range(4))],\n",
    "]\n",
    "for disorder_function in [conflicts_count, entropy, gini_impurity]:\n",
    "    print(disorder_function.__name__)\n",
    "    for attr_subset in attr_subset_ensemble:\n",
    "        print(\"feature importance for attribute subset ensemble: \")\n",
    "        pprint.pprint(attr_subset, compact=True)\n",
    "        print(\n",
    "            get_feature_importance(\n",
    "                x,\n",
    "                x_counts,\n",
    "                y,\n",
    "                y_count,\n",
    "                column_names,\n",
    "                attr_subset,\n",
    "                disorder_fun=disorder_function,\n",
    "            )\n",
    "        )\n",
    "        print()\n",
    "    print()\n",
    "    print()"
   ]
  }
 ],
 "metadata": {
  "interpreter": {
   "hash": "cb353cb8b9a4ebafc945efb5c6e15e592d37ff0fcf51b748ec6c5769c1eaa51b"
  },
  "kernelspec": {
   "display_name": "Python 3 (ipykernel)",
   "language": "python",
   "name": "python3"
  },
  "language_info": {
   "codemirror_mode": {
    "name": "ipython",
    "version": 3
   },
   "file_extension": ".py",
   "mimetype": "text/x-python",
   "name": "python",
   "nbconvert_exporter": "python",
   "pygments_lexer": "ipython3",
   "version": "3.9.12"
  }
 },
 "nbformat": 4,
 "nbformat_minor": 2
}
