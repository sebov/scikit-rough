{
 "cells": [
  {
   "cell_type": "markdown",
   "metadata": {},
   "source": [
    "# Feature importance"
   ]
  },
  {
   "cell_type": "code",
   "execution_count": null,
   "metadata": {},
   "outputs": [],
   "source": [
    "\"\"\"Feature importance example.\"\"\"\n",
    "\n",
    "import pprint\n",
    "\n",
    "import more_itertools\n",
    "import numpy as np\n",
    "import pandas as pd\n",
    "\n",
    "from skrough.chaos_score import compute_chaos_score\n",
    "from skrough.dataprep import prepare_df\n",
    "from skrough.feature_importance import get_feature_importance\n",
    "from skrough.measures import entropy, gini_impurity"
   ]
  },
  {
   "cell_type": "markdown",
   "metadata": {},
   "source": [
    "## Dataset\n",
    "\n",
    "Let's prepare a sample data set - \"Play Golf Dataset\"."
   ]
  },
  {
   "cell_type": "code",
   "execution_count": null,
   "metadata": {},
   "outputs": [],
   "source": [
    "df = pd.DataFrame(\n",
    "    np.array(\n",
    "        [\n",
    "            [\"sunny\", \"hot\", \"high\", \"weak\", \"no\"],\n",
    "            [\"sunny\", \"hot\", \"high\", \"strong\", \"no\"],\n",
    "            [\"overcast\", \"hot\", \"high\", \"weak\", \"yes\"],\n",
    "            [\"rain\", \"mild\", \"high\", \"weak\", \"yes\"],\n",
    "            [\"rain\", \"cool\", \"normal\", \"weak\", \"yes\"],\n",
    "            [\"rain\", \"cool\", \"normal\", \"strong\", \"no\"],\n",
    "            [\"overcast\", \"cool\", \"normal\", \"strong\", \"yes\"],\n",
    "            [\"sunny\", \"mild\", \"high\", \"weak\", \"no\"],\n",
    "            [\"sunny\", \"cool\", \"normal\", \"weak\", \"yes\"],\n",
    "            [\"rain\", \"mild\", \"normal\", \"weak\", \"yes\"],\n",
    "            [\"sunny\", \"mild\", \"normal\", \"strong\", \"yes\"],\n",
    "            [\"overcast\", \"mild\", \"high\", \"strong\", \"yes\"],\n",
    "            [\"overcast\", \"hot\", \"normal\", \"weak\", \"yes\"],\n",
    "            [\"rain\", \"mild\", \"high\", \"strong\", \"no\"],\n",
    "        ],\n",
    "        dtype=object,\n",
    "    ),\n",
    "    columns=[\"Outlook\", \"Temperature\", \"Humidity\", \"Wind\", \"Play\"],\n",
    ")\n",
    "TARGET_COLUMN = \"Play\"\n",
    "print(df)"
   ]
  },
  {
   "cell_type": "markdown",
   "metadata": {},
   "source": [
    "## Prepare data\n",
    "\n",
    "Factorize dataset and obtain the sizes of feature domains."
   ]
  },
  {
   "cell_type": "code",
   "execution_count": null,
   "metadata": {},
   "outputs": [],
   "source": [
    "x, x_domain_sizes, y, y_domain_size = prepare_df(df, TARGET_COLUMN)\n",
    "column_names = np.array([col for col in df.columns if col != TARGET_COLUMN])\n",
    "\n",
    "print(\"Conditional data:\")\n",
    "print(x)\n",
    "print()\n",
    "print(\"Conditional data feature domain sizes:\")\n",
    "print(x_domain_sizes)\n",
    "print()\n",
    "print(\"Target data:\")\n",
    "print(y)\n",
    "print()\n",
    "print(\"Target data feature domain size:\")\n",
    "print(y_domain_size)"
   ]
  },
  {
   "cell_type": "markdown",
   "metadata": {},
   "source": [
    "## Measure of disorder in the dataset - chaos score\n",
    "\n",
    "In the context of the given dataset, a chaos score is a quantity that characterizes\n",
    "a subset of features and, more or less, presents the disorder of decisions in \n",
    "the equivalence classes induced by the subsets of features.\n",
    "\n",
    "In most cases it is reasonable to assume that the chaos score function is monotonic\n",
    "with respect to subset relation, i.e., for subsets of features $A \\subseteq B$,\n",
    "the chaos score for $A$ should be less or equal to that for $B$.\n",
    "\n",
    "Attributes are given by their ordinal numbers.\n",
    "\n",
    "Let's try two standard approaches, i.e., gini_impurity and entropy."
   ]
  },
  {
   "cell_type": "code",
   "execution_count": null,
   "metadata": {},
   "outputs": [],
   "source": [
    "for chaos_function in [gini_impurity, entropy]:\n",
    "    print(chaos_function.__name__)\n",
    "    for attrs in [[0], [0, 1], [0, 1, 3], [0, 1, 2, 3]]:\n",
    "        print(\n",
    "            f\"chaos score for attrs {attrs}({column_names[attrs]}) = \",\n",
    "            compute_chaos_score(\n",
    "                x,\n",
    "                x_domain_sizes,\n",
    "                y,\n",
    "                y_domain_size,\n",
    "                attrs,\n",
    "                chaos_fun=chaos_function,\n",
    "            ),\n",
    "        )\n",
    "    print()\n",
    "    print()"
   ]
  },
  {
   "cell_type": "markdown",
   "metadata": {},
   "source": [
    "## Assessing feature importance\n",
    "\n",
    "We can use the above chaos score functions for assessing the features, i.e.,\n",
    "we can observe the chaos score change if a given feature is removed.\n",
    "\n",
    "To follow a more realistic example, we can use an enseble of feature subsets, i.e.,\n",
    "a family of subsets of all atributes, and not just a single subset of features, \n",
    "computing the total or average chaos score change over several possible appearances \n",
    "of the attribute in the ensemble elements."
   ]
  },
  {
   "cell_type": "code",
   "execution_count": null,
   "metadata": {},
   "outputs": [],
   "source": [
    "attr_subset_ensemble = [\n",
    "    [[0, 2], [0, 3], [0], [2, 3], [1, 2, 3]],\n",
    "    [[0], [0, 1], [1, 2]],\n",
    "    [list(elem) for elem in more_itertools.powerset(range(4))],\n",
    "]\n",
    "for chaos_function in [gini_impurity, entropy]:\n",
    "    print(chaos_function.__name__)\n",
    "    for attr_subset in attr_subset_ensemble:\n",
    "        print(\"feature importance for attribute subset ensemble: \")\n",
    "        pprint.pprint(attr_subset, compact=True)\n",
    "        print(\n",
    "            get_feature_importance(\n",
    "                x,\n",
    "                x_domain_sizes,\n",
    "                y,\n",
    "                y_domain_size,\n",
    "                column_names,\n",
    "                attr_subset,\n",
    "                chaos_fun=chaos_function,\n",
    "            )\n",
    "        )\n",
    "        print()\n",
    "    print()\n",
    "    print()"
   ]
  },
  {
   "cell_type": "code",
   "execution_count": null,
   "metadata": {},
   "outputs": [],
   "source": []
  }
 ],
 "metadata": {
  "interpreter": {
   "hash": "cb353cb8b9a4ebafc945efb5c6e15e592d37ff0fcf51b748ec6c5769c1eaa51b"
  },
  "kernelspec": {
   "display_name": "Python 3.9.9 64-bit ('.venv': poetry)",
   "language": "python",
   "name": "python3"
  },
  "language_info": {
   "codemirror_mode": {
    "name": "ipython",
    "version": 3
   },
   "file_extension": ".py",
   "mimetype": "text/x-python",
   "name": "python",
   "nbconvert_exporter": "python",
   "pygments_lexer": "ipython3",
   "version": "3.9.9"
  },
  "orig_nbformat": 4
 },
 "nbformat": 4,
 "nbformat_minor": 2
}
