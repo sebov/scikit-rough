{
 "cells": [
  {
   "cell_type": "code",
   "execution_count": 1,
   "metadata": {},
   "outputs": [],
   "source": [
    "import numpy as np\n",
    "import pandas as pd"
   ]
  },
  {
   "cell_type": "code",
   "execution_count": 2,
   "metadata": {},
   "outputs": [],
   "source": [
    "df = pd.DataFrame(\n",
    "    np.array(\n",
    "        [\n",
    "            [\"sunny\", \"hot\", \"high\", \"weak\", \"no\"],\n",
    "            [\"sunny\", \"hot\", \"high\", \"strong\", \"no\"],\n",
    "            [\"overcast\", \"hot\", \"high\", \"weak\", \"yes\"],\n",
    "            [\"rain\", \"mild\", \"high\", \"weak\", \"yes\"],\n",
    "            [\"rain\", \"cool\", \"normal\", \"weak\", \"yes\"],\n",
    "            [\"rain\", \"cool\", \"normal\", \"strong\", \"no\"],\n",
    "            [\"overcast\", \"cool\", \"normal\", \"strong\", \"yes\"],\n",
    "            [\"sunny\", \"mild\", \"high\", \"weak\", \"no\"],\n",
    "            [\"sunny\", \"cool\", \"normal\", \"weak\", \"yes\"],\n",
    "            [\"rain\", \"mild\", \"normal\", \"weak\", \"yes\"],\n",
    "            [\"sunny\", \"mild\", \"normal\", \"strong\", \"yes\"],\n",
    "            [\"overcast\", \"mild\", \"high\", \"strong\", \"yes\"],\n",
    "            [\"overcast\", \"hot\", \"normal\", \"weak\", \"yes\"],\n",
    "            [\"rain\", \"mild\", \"high\", \"strong\", \"no\"],\n",
    "        ],\n",
    "        dtype=object,\n",
    "    ),\n",
    "    columns=[\"Outlook\", \"Temperature\", \"Humidity\", \"Wind\", \"Play\"],\n",
    ")\n",
    "TARGET_COLUMN = \"Play\"\n",
    "df_dec = df.pop(TARGET_COLUMN)"
   ]
  },
  {
   "cell_type": "code",
   "execution_count": null,
   "metadata": {},
   "outputs": [],
   "source": []
  },
  {
   "cell_type": "code",
   "execution_count": 15,
   "metadata": {},
   "outputs": [
    {
     "data": {
      "text/plain": [
       "[ObjsAttrsSubset(objs=[0, 1, 2, 3, 4, 5, 6, 7, 8, 9, 10, 11, 12, 13], attrs=[0, 2, 3])]"
      ]
     },
     "execution_count": 15,
     "metadata": {},
     "output_type": "execute_result"
    }
   ],
   "source": [
    "from skrough.algorithms.bireducts import get_bireduct_daab_heuristic\n",
    "from skrough.chaos_measures import entropy\n",
    "\n",
    "get_bireduct_daab_heuristic(\n",
    "    df.to_numpy(),\n",
    "    df_dec,\n",
    "    chaos_measure=entropy,\n",
    "    epsilon=0.1,\n",
    "    attrs_max_count=4,\n",
    "    candidates_count=100,\n",
    "    allowed_randomness=0.9,\n",
    ")"
   ]
  },
  {
   "cell_type": "code",
   "execution_count": null,
   "metadata": {},
   "outputs": [],
   "source": []
  },
  {
   "cell_type": "code",
   "execution_count": null,
   "metadata": {},
   "outputs": [],
   "source": []
  },
  {
   "cell_type": "code",
   "execution_count": null,
   "metadata": {},
   "outputs": [],
   "source": []
  },
  {
   "cell_type": "code",
   "execution_count": null,
   "metadata": {},
   "outputs": [],
   "source": []
  },
  {
   "cell_type": "code",
   "execution_count": null,
   "metadata": {},
   "outputs": [],
   "source": []
  },
  {
   "cell_type": "code",
   "execution_count": null,
   "metadata": {},
   "outputs": [],
   "source": []
  },
  {
   "cell_type": "code",
   "execution_count": null,
   "metadata": {},
   "outputs": [],
   "source": []
  },
  {
   "cell_type": "code",
   "execution_count": null,
   "metadata": {},
   "outputs": [],
   "source": []
  },
  {
   "cell_type": "code",
   "execution_count": null,
   "metadata": {},
   "outputs": [],
   "source": []
  },
  {
   "cell_type": "code",
   "execution_count": null,
   "metadata": {},
   "outputs": [],
   "source": []
  },
  {
   "cell_type": "code",
   "execution_count": null,
   "metadata": {},
   "outputs": [],
   "source": []
  },
  {
   "cell_type": "code",
   "execution_count": null,
   "metadata": {},
   "outputs": [],
   "source": []
  },
  {
   "cell_type": "code",
   "execution_count": 10,
   "metadata": {},
   "outputs": [
    {
     "data": {
      "text/plain": [
       "[AttrsSubset(attrs=[22058, 27331, 8231, 57977, 26353, 17737, 10200])]"
      ]
     },
     "execution_count": 10,
     "metadata": {},
     "output_type": "execute_result"
    }
   ],
   "source": [
    "# from skrough.algorithms.reducts import get_approx_reduct_greedy_heuristic\n",
    "# from skrough.chaos_measures import entropy\n",
    "\n",
    "get_approx_reduct_daar_heuristic(df.to_numpy(), df_dec, 0.1, 4, entropy)\n",
    "# get_approx_reduct_greedy_heuristic(df, df_dec, 0.0, 100, entropy, n_reducts=1, n_jobs=1)"
   ]
  },
  {
   "cell_type": "code",
   "execution_count": 4,
   "metadata": {},
   "outputs": [
    {
     "data": {
      "text/plain": [
       "['config_consecutive_empty_iterations_max_count', 'config_chaos_fun']"
      ]
     },
     "execution_count": 4,
     "metadata": {},
     "output_type": "execute_result"
    }
   ],
   "source": [
    "_get_approx_reduct_daar_heuristic.get_config_keys()"
   ]
  },
  {
   "cell_type": "code",
   "execution_count": null,
   "metadata": {},
   "outputs": [],
   "source": []
  },
  {
   "cell_type": "code",
   "execution_count": null,
   "metadata": {},
   "outputs": [],
   "source": []
  },
  {
   "cell_type": "code",
   "execution_count": null,
   "metadata": {},
   "outputs": [],
   "source": []
  },
  {
   "cell_type": "code",
   "execution_count": 16,
   "metadata": {},
   "outputs": [
    {
     "data": {
      "text/plain": [
       "[ObjsAttrsSubset(objs=[1, 2, 3, 4, 5, 6, 7, 11, 12, 14, 15, 18, 19, 21, 23, 24, 26, 27, 28, 32, 33, 34, 35, 36, 37, 39, 42, 44, 45, 46, 47, 48, 50, 51, 53, 55, 58, 59, 60, 63, 64, 65, 70, 73, 75, 77, 79, 80, 81, 82, 84, 85, 88, 90, 94, 96, 97, 98, 100, 101, 103, 104, 105, 107, 108, 109, 110, 111, 112, 114, 115, 122, 124, 125, 127, 128, 129, 130, 132, 133, 134, 135, 136, 137, 138, 139, 140, 142, 143, 145, 146, 151, 154, 155, 157, 158], attrs=[58041]),\n",
       " ObjsAttrsSubset(objs=[0, 1, 2, 4, 5, 6, 7, 8, 9, 11, 13, 14, 15, 16, 17, 18, 20, 21, 22, 26, 29, 30, 31, 33, 35, 36, 38, 39, 40, 41, 42, 47, 50, 51, 52, 54, 56, 57, 59, 61, 63, 67, 68, 69, 70, 72, 74, 76, 77, 78, 79, 80, 81, 82, 85, 86, 87, 91, 93, 95, 97, 99, 104, 105, 107, 108, 109, 112, 113, 115, 116, 117, 118, 120, 123, 125, 126, 127, 129, 131, 133, 134, 135, 138, 139, 141, 144, 145, 146, 148, 149, 151, 153, 154, 155, 156, 157, 158], attrs=[57365]),\n",
       " ObjsAttrsSubset(objs=[0, 3, 6, 8, 9, 10, 11, 12, 13, 14, 15, 20, 25, 26, 27, 28, 30, 31, 33, 34, 36, 37, 38, 39, 40, 41, 42, 43, 44, 45, 46, 50, 51, 54, 59, 60, 62, 63, 65, 66, 68, 71, 72, 73, 77, 78, 79, 83, 88, 90, 91, 94, 95, 96, 98, 100, 101, 102, 103, 104, 106, 107, 109, 110, 114, 115, 118, 120, 125, 126, 129, 130, 131, 132, 134, 135, 136, 137, 140, 141, 142, 144, 145, 146, 148, 149, 151, 152, 153, 154, 155, 159], attrs=[33064]),\n",
       " ObjsAttrsSubset(objs=[0, 1, 2, 4, 6, 7, 8, 11, 13, 15, 17, 18, 20, 22, 26, 29, 30, 41, 43, 45, 47, 49, 50, 51, 52, 53, 54, 56, 61, 68, 70, 71, 74, 76, 77, 78, 79, 80, 82, 83, 85, 86, 87, 89, 90, 91, 92, 95, 96, 97, 99, 101, 105, 108, 112, 115, 116, 117, 123, 126, 128, 131, 141, 142, 144, 145, 146, 147, 149, 151, 152, 155, 156, 157, 159], attrs=[19750]),\n",
       " ObjsAttrsSubset(objs=[2, 3, 5, 6, 7, 9, 10, 13, 14, 17, 19, 21, 22, 24, 25, 26, 27, 34, 35, 36, 38, 39, 42, 43, 44, 45, 46, 47, 48, 49, 50, 53, 54, 56, 57, 60, 61, 63, 64, 67, 68, 69, 70, 72, 73, 75, 80, 81, 83, 84, 86, 88, 90, 91, 93, 94, 95, 97, 99, 101, 102, 104, 105, 107, 109, 110, 111, 113, 114, 115, 118, 119, 120, 121, 122, 124, 129, 130, 133, 134, 135, 137, 138, 139, 142, 143, 146, 147, 148, 150, 151, 155, 156, 157, 158, 159], attrs=[30515]),\n",
       " ObjsAttrsSubset(objs=[1, 4, 11, 14, 18, 21, 24, 25, 26, 29, 31, 34, 35, 37, 39, 42, 46, 51, 52, 53, 55, 58, 65, 67, 69, 70, 72, 75, 80, 86, 88, 91, 94, 95, 96, 98, 102, 104, 112, 114, 115, 117, 119, 120, 122, 128, 130, 131, 133, 134, 135, 138, 140, 142, 143, 146, 149, 157, 159], attrs=[47986]),\n",
       " ObjsAttrsSubset(objs=[0, 2, 6, 8, 9, 10, 11, 12, 13, 15, 16, 18, 20, 22, 26, 28, 29, 30, 31, 33, 36, 38, 39, 40, 41, 43, 49, 50, 51, 52, 54, 56, 59, 62, 63, 65, 66, 68, 70, 71, 72, 74, 76, 77, 78, 79, 82, 83, 86, 87, 89, 90, 91, 92, 93, 95, 98, 99, 100, 101, 103, 104, 106, 108, 109, 111, 113, 116, 117, 118, 120, 123, 125, 126, 127, 128, 129, 131, 132, 134, 136, 141, 142, 144, 145, 146, 147, 148, 149, 151, 152, 153, 154, 155, 156], attrs=[35440]),\n",
       " ObjsAttrsSubset(objs=[1, 2, 3, 6, 8, 10, 12, 13, 16, 17, 20, 22, 28, 29, 30, 40, 43, 45, 48, 50, 51, 52, 53, 54, 56, 57, 59, 62, 64, 66, 67, 68, 70, 74, 76, 77, 78, 85, 86, 87, 89, 90, 92, 93, 95, 98, 102, 106, 108, 111, 113, 116, 117, 118, 121, 123, 124, 126, 131, 143, 145, 146, 147, 149, 150, 151, 152, 153, 154, 155, 156], attrs=[48272]),\n",
       " ObjsAttrsSubset(objs=[1, 3, 4, 7, 9, 12, 13, 14, 15, 18, 19, 21, 23, 24, 26, 27, 28, 31, 32, 33, 34, 36, 37, 38, 39, 40, 42, 44, 46, 47, 48, 50, 53, 55, 57, 58, 59, 60, 63, 65, 68, 69, 71, 73, 79, 80, 81, 82, 84, 85, 88, 90, 92, 93, 94, 95, 96, 97, 100, 102, 103, 104, 105, 107, 108, 110, 111, 112, 114, 115, 118, 119, 120, 122, 124, 125, 128, 130, 132, 133, 134, 135, 136, 137, 139, 140, 142, 143, 154, 155, 157, 158], attrs=[42235]),\n",
       " ObjsAttrsSubset(objs=[1, 3, 4, 5, 7, 14, 17, 19, 21, 23, 24, 25, 27, 32, 34, 35, 37, 42, 44, 45, 46, 47, 48, 53, 55, 57, 58, 60, 61, 64, 67, 69, 73, 75, 80, 81, 84, 85, 88, 94, 96, 97, 102, 105, 107, 110, 112, 114, 115, 119, 121, 122, 124, 130, 133, 135, 137, 138, 139, 140, 143, 150, 157, 158, 159], attrs=[1116])]"
      ]
     },
     "execution_count": 16,
     "metadata": {},
     "output_type": "execute_result"
    }
   ],
   "source": [
    "from skrough.algorithms.bireducts import get_bireduct_greedy_heuristic\n",
    "from skrough.chaos_measures import entropy\n",
    "\n",
    "res = get_bireduct_greedy_heuristic(\n",
    "    df, df_dec, 0.99, 100, entropy, n_bireducts=10, n_jobs=5\n",
    ")\n",
    "res"
   ]
  },
  {
   "cell_type": "code",
   "execution_count": null,
   "metadata": {},
   "outputs": [],
   "source": []
  },
  {
   "cell_type": "code",
   "execution_count": null,
   "metadata": {},
   "outputs": [],
   "source": []
  },
  {
   "cell_type": "code",
   "execution_count": null,
   "metadata": {},
   "outputs": [],
   "source": []
  },
  {
   "cell_type": "code",
   "execution_count": null,
   "metadata": {},
   "outputs": [],
   "source": []
  },
  {
   "cell_type": "code",
   "execution_count": null,
   "metadata": {},
   "outputs": [],
   "source": []
  },
  {
   "cell_type": "code",
   "execution_count": null,
   "metadata": {},
   "outputs": [],
   "source": []
  },
  {
   "cell_type": "code",
   "execution_count": null,
   "metadata": {},
   "outputs": [],
   "source": []
  },
  {
   "cell_type": "code",
   "execution_count": null,
   "metadata": {},
   "outputs": [],
   "source": []
  },
  {
   "cell_type": "code",
   "execution_count": null,
   "metadata": {},
   "outputs": [],
   "source": []
  }
 ],
 "metadata": {
  "kernelspec": {
   "display_name": "Python 3.9.12 ('.venv': poetry)",
   "language": "python",
   "name": "python3"
  },
  "language_info": {
   "codemirror_mode": {
    "name": "ipython",
    "version": 3
   },
   "file_extension": ".py",
   "mimetype": "text/x-python",
   "name": "python",
   "nbconvert_exporter": "python",
   "pygments_lexer": "ipython3",
   "version": "3.9.12"
  },
  "vscode": {
   "interpreter": {
    "hash": "cb353cb8b9a4ebafc945efb5c6e15e592d37ff0fcf51b748ec6c5769c1eaa51b"
   }
  }
 },
 "nbformat": 4,
 "nbformat_minor": 2
}
