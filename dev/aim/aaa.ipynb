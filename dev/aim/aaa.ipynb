{
 "cells": [
  {
   "cell_type": "code",
   "execution_count": 50,
   "metadata": {},
   "outputs": [],
   "source": [
    "import random\n",
    "import time\n",
    "\n",
    "import pandas as pd\n",
    "from aim import Run, Text\n",
    "\n",
    "EXPERIMENT_NAME = \"xx23\"\n",
    "\n",
    "\n",
    "for learning_rate in [4]:\n",
    "    run1 = Run(experiment=EXPERIMENT_NAME)\n",
    "    run1[\"params\"] = {\"learning_rate\": learning_rate}\n",
    "    run1.track(Text(\"learning_rate_\" + str(learning_rate)), name=\"result\")\n",
    "    run1.add_tag(\"xgboost\")\n",
    "    run1.close()\n",
    "\n",
    "# print(run1.active)\n",
    "# run1.track(Text(\"33333333333\"), name=\"qqq\")\n",
    "# run1.track(Text(\"33333333333\"), name=\"qqq\")"
   ]
  },
  {
   "cell_type": "code",
   "execution_count": null,
   "metadata": {},
   "outputs": [],
   "source": []
  },
  {
   "cell_type": "code",
   "execution_count": null,
   "metadata": {},
   "outputs": [],
   "source": []
  },
  {
   "cell_type": "code",
   "execution_count": 53,
   "metadata": {},
   "outputs": [],
   "source": [
    "import io\n",
    "\n",
    "import pandas as pd\n",
    "\n",
    "q = io.StringIO(\"aaa,bbb\\n1,5\\n2,6\\n3,7\\n\")\n",
    "df = pd.read_csv(q)"
   ]
  },
  {
   "cell_type": "code",
   "execution_count": 61,
   "metadata": {},
   "outputs": [
    {
     "data": {
      "text/plain": [
       "'{\"schema\":{\"fields\":[{\"name\":\"index\",\"type\":\"integer\"},{\"name\":\"aaa\",\"type\":\"integer\"},{\"name\":\"bbb\",\"type\":\"integer\"}],\"primaryKey\":[\"index\"],\"pandas_version\":\"1.4.0\"},\"data\":[{\"index\":0,\"aaa\":1,\"bbb\":5},{\"index\":1,\"aaa\":2,\"bbb\":6},{\"index\":2,\"aaa\":3,\"bbb\":7}]}'"
      ]
     },
     "execution_count": 61,
     "metadata": {},
     "output_type": "execute_result"
    }
   ],
   "source": [
    "df.to_json(orient=\"table\")"
   ]
  },
  {
   "cell_type": "code",
   "execution_count": null,
   "metadata": {},
   "outputs": [],
   "source": []
  },
  {
   "cell_type": "code",
   "execution_count": 61,
   "metadata": {},
   "outputs": [],
   "source": []
  },
  {
   "cell_type": "code",
   "execution_count": null,
   "metadata": {},
   "outputs": [],
   "source": []
  },
  {
   "cell_type": "code",
   "execution_count": null,
   "metadata": {},
   "outputs": [],
   "source": []
  },
  {
   "cell_type": "code",
   "execution_count": null,
   "metadata": {},
   "outputs": [],
   "source": []
  }
 ],
 "metadata": {
  "kernelspec": {
   "display_name": "Python 3 (ipykernel)",
   "language": "python",
   "name": "python3"
  },
  "language_info": {
   "codemirror_mode": {
    "name": "ipython",
    "version": 3
   },
   "file_extension": ".py",
   "mimetype": "text/x-python",
   "name": "python",
   "nbconvert_exporter": "python",
   "pygments_lexer": "ipython3",
   "version": "3.9.12"
  }
 },
 "nbformat": 4,
 "nbformat_minor": 2
}
