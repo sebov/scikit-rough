{
 "cells": [
  {
   "cell_type": "code",
   "execution_count": 166,
   "metadata": {},
   "outputs": [
    {
     "name": "stdout",
     "output_type": "stream",
     "text": [
      "-\n"
     ]
    },
    {
     "name": "stderr",
     "output_type": "stream",
     "text": [
      "100%|██████████| 39/39 [00:00<00:00, 1934.53it/s]\n",
      "100%|██████████| 39/39 [00:00<00:00, 309.39it/s]\n"
     ]
    }
   ],
   "source": [
    "from aim import Repo, Run\n",
    "\n",
    "my_repo = Repo(\".\")\n",
    "from aim import Run, Text\n",
    "\n",
    "print(\"-\")\n",
    "# query = f\"metric.name == 'loss' and run.experiment == '{EXPERIMENT_NAME}'\"\n",
    "query = f'run.experiment == \"exp1\"'\n",
    "# query = ''\n",
    "# metrics = list(my_repo.query_metrics(query))\n",
    "for run_metrics_collection in my_repo.query_runs(query).iter_runs():\n",
    "    print(run_metrics_collection)\n",
    "    # print(\"------------\")\n",
    "\n",
    "q = list(my_repo.query_texts(query))\n",
    "# q[0].run.active\n",
    "# print(\"--------\")\n",
    "# q.values.tolist()"
   ]
  },
  {
   "cell_type": "code",
   "execution_count": 164,
   "metadata": {},
   "outputs": [
    {
     "name": "stderr",
     "output_type": "stream",
     "text": [
      "100%|██████████| 39/39 [00:00<00:00, 3512.74it/s]\n"
     ]
    },
    {
     "data": {
      "text/plain": [
       "[<aim.sdk.sequence_collection.SingleRunSequenceCollection at 0x7f7c7701a9a0>]"
      ]
     },
     "execution_count": 164,
     "metadata": {},
     "output_type": "execute_result"
    }
   ],
   "source": [
    "list(my_repo.query_runs(query).iter_runs())"
   ]
  },
  {
   "cell_type": "code",
   "execution_count": null,
   "metadata": {},
   "outputs": [],
   "source": []
  }
 ],
 "metadata": {
  "kernelspec": {
   "display_name": "Python 3 (ipykernel)",
   "language": "python",
   "name": "python3"
  },
  "language_info": {
   "codemirror_mode": {
    "name": "ipython",
    "version": 3
   },
   "file_extension": ".py",
   "mimetype": "text/x-python",
   "name": "python",
   "nbconvert_exporter": "python",
   "pygments_lexer": "ipython3",
   "version": "3.9.12"
  }
 },
 "nbformat": 4,
 "nbformat_minor": 2
}
