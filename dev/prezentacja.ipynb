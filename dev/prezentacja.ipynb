{
 "cells": [
  {
   "cell_type": "markdown",
   "metadata": {
    "slideshow": {
     "slide_type": "slide"
    }
   },
   "source": [
    "\n",
    "# <center>Tworzenie zespołów klasyfikatorów w oparciu o biredukty decyzyjne i drzewa dekompozycji danych</center>\n",
    "\n",
    "\n",
    "<pre>\n",
    "\n",
    "\n",
    "\n",
    "</pre>\n"
   ]
  },
  {
   "cell_type": "markdown",
   "metadata": {
    "collapsed": true,
    "slideshow": {
     "slide_type": "slide"
    }
   },
   "source": [
    "\n",
    "## Publikacja w **International Journal of Approximate Reasoning**\n",
    "\n",
    "\n",
    "\n",
    "<img src=\"figures/article.png\" width=\"80%\" style=\"padding:1px;border:thin solid black;\">\n",
    "\n",
    "\n"
   ]
  },
  {
   "cell_type": "markdown",
   "metadata": {},
   "source": [
    "\n"
   ]
  },
  {
   "cell_type": "markdown",
   "metadata": {},
   "source": [
    "## Definicje\n",
    "\n",
    "<img src=\"figures/bireduct_def.png\" width=\"100%\" style=\"padding:1px;border:thin solid black;\">\n",
    "<img src=\"figures/gamma_bireduct_def.png\" width=\"100%\" style=\"padding:1px;border:thin solid black;\">"
   ]
  },
  {
   "cell_type": "markdown",
   "metadata": {},
   "source": [
    "## Wyniki teoretyczne\n",
    "\n",
    "<img src=\"figures/bireducts_boolean.png\" width=\"100%\" style=\"padding:1px;border:thin solid black;\">\n",
    "<img src=\"figures/gamma_bireducts_boolean.png\" width=\"100%\" style=\"padding:1px;border:thin solid black;\">\n",
    "\n",
    "----------\n"
   ]
  },
  {
   "cell_type": "markdown",
   "metadata": {},
   "source": [
    "## Algorytm permutacyjny\n",
    "<img src=\"figures/bireducts_algorithm.png\" width=\"100%\" style=\"padding:1px;border:thin solid black;\">\n",
    "<img src=\"figures/bireducts_algorithm_2.png\" width=\"100%\" style=\"padding:1px;border:thin solid black;\">\n",
    "\n",
    "----------\n",
    "\n"
   ]
  },
  {
   "cell_type": "markdown",
   "metadata": {},
   "source": [
    "\n",
    "## Algorytm \"samplingowy\"\n",
    "<img src=\"figures/bireducts_sampling.png\" width=\"100%\" style=\"padding:1px;border:thin solid black;\">\n",
    "<img src=\"figures/bireducts_sampling_2.png\" width=\"100%\" style=\"padding:1px;border:thin solid black;\">\n",
    "<img src=\"figures/bireducts_sampling_3.png\" width=\"100%\" style=\"padding:1px;border:thin solid black;\">\n",
    "\n",
    "----------\n"
   ]
  },
  {
   "cell_type": "markdown",
   "metadata": {},
   "source": [
    "## Wyniki teoretyczne\n",
    "\n",
    "<img src=\"figures/bireducts_eps.png\" width=\"100%\" style=\"padding:1px;\">\n",
    "<img src=\"figures/bireducts_eps_2.png\" width=\"100%\" style=\"padding:1px;\">\n",
    "<img src=\"figures/bireducts_eps_3.png\" width=\"100%\" style=\"padding:1px;border:thin solid black;\">\n",
    "<img src=\"figures/bireducts_eps_4.png\" width=\"100%\" style=\"padding:1px;border:thin solid black;\">\n",
    "\n",
    "----------\n"
   ]
  },
  {
   "cell_type": "markdown",
   "metadata": {},
   "source": [
    "## Wyniki eksperymentów dla bireduktów\n",
    "\n",
    "<img src=\"figures/results.png\" width=\"80%\" style=\"padding:1px;border:thin solid black;\">\n",
    "<img src=\"figures/results_2.png\" width=\"80%\" style=\"padding:1px;border:thin solid black;\">\n",
    "\n",
    "----------"
   ]
  },
  {
   "cell_type": "markdown",
   "metadata": {},
   "source": [
    "## Zespoły bireduktów a drzewa dekompozycji danych"
   ]
  },
  {
   "cell_type": "code",
   "execution_count": null,
   "metadata": {
    "collapsed": true
   },
   "outputs": [],
   "source": [
    "%matplotlib inline\n",
    "import itertools\n",
    "import pickle\n",
    "\n",
    "import matplotlib.pyplot as plt\n",
    "import mpld3\n",
    "import networkx as nx\n",
    "import pandas as pd\n",
    "\n",
    "mpld3.enable_notebook()"
   ]
  },
  {
   "cell_type": "markdown",
   "metadata": {},
   "source": [
    "### Przykładowe drzewa"
   ]
  },
  {
   "cell_type": "code",
   "execution_count": null,
   "metadata": {
    "collapsed": false
   },
   "outputs": [],
   "source": [
    "with open(\"sample_tree_for_zoo.save\") as f:\n",
    "    draw_decomposition_tree(pickle.load(f))"
   ]
  },
  {
   "cell_type": "code",
   "execution_count": null,
   "metadata": {
    "collapsed": false
   },
   "outputs": [],
   "source": [
    "with open(\"sample_tree_for_zoo_large.save\") as f:\n",
    "    draw_decomposition_tree(pickle.load(f))"
   ]
  },
  {
   "cell_type": "code",
   "execution_count": null,
   "metadata": {
    "collapsed": false
   },
   "outputs": [],
   "source": [
    "with open(\"sample_tree_for_zoo_high.save\") as f:\n",
    "    draw_decomposition_tree(pickle.load(f))"
   ]
  },
  {
   "cell_type": "code",
   "execution_count": null,
   "metadata": {
    "collapsed": false
   },
   "outputs": [],
   "source": [
    "with open(\"sample_tree_for_zoo_low_avg.save\") as f:\n",
    "    draw_decomposition_tree(pickle.load(f))"
   ]
  },
  {
   "cell_type": "code",
   "execution_count": null,
   "metadata": {
    "collapsed": true
   },
   "outputs": [],
   "source": [
    "import itertools\n",
    "import pickle\n",
    "\n",
    "import pandas as pd\n",
    "\n",
    "with open(\"zoo_trees_3_t_f.model\") as f:\n",
    "    trees = pickle.load(f)\n",
    "with open(\"zoo_bireducts.model\") as f:\n",
    "    bireducts = pickle.load(f)"
   ]
  },
  {
   "cell_type": "code",
   "execution_count": null,
   "metadata": {
    "collapsed": true
   },
   "outputs": [],
   "source": []
  },
  {
   "cell_type": "markdown",
   "metadata": {},
   "source": [
    "### średnia wielkość bireduktów w eksperymencie (zoo)"
   ]
  },
  {
   "cell_type": "code",
   "execution_count": null,
   "metadata": {
    "collapsed": false
   },
   "outputs": [],
   "source": []
  },
  {
   "cell_type": "markdown",
   "metadata": {},
   "source": [
    "### średnia wielkość drzew w eksperymencie (zoo 3-drzewa)"
   ]
  },
  {
   "cell_type": "code",
   "execution_count": null,
   "metadata": {
    "collapsed": false
   },
   "outputs": [],
   "source": []
  },
  {
   "cell_type": "markdown",
   "metadata": {},
   "source": [
    "## Wyniki eksperymentów - zoo dataset - biredukty vs. 3-drzewa"
   ]
  },
  {
   "cell_type": "code",
   "execution_count": null,
   "metadata": {
    "collapsed": false
   },
   "outputs": [],
   "source": [
    "%matplotlib inline\n",
    "\n",
    "import pickle\n",
    "\n",
    "import matplotlib.pyplot as plt\n",
    "import pandas as pd\n",
    "\n",
    "fig, axes = plt.subplots(2, 3, figsize=(16, 10), sharey=True)\n",
    "\n",
    "with open(\"zoo_bireducts.model.accuracy\") as f:\n",
    "    acc = pickle.load(f)\n",
    "ax = axes[0, 0]\n",
    "ax.set_title(\"bireducts\")\n",
    "ax.axhline(0.97, c=\"red\")\n",
    "pd.DataFrame(acc).plot.box(ax=ax)\n",
    "ax = axes[1, 0]\n",
    "ax.set_title(\"bireducts\")\n",
    "ax.axhline(0.97, c=\"red\")\n",
    "pd.DataFrame(acc).plot.box(ax=ax)\n",
    "\n",
    "filename = \"zoo_trees_3_t_f.model.accuracy.all_trees\"\n",
    "ax = axes[0, 1]\n",
    "with open(filename) as f:\n",
    "    acc = pickle.load(f)\n",
    "pd.DataFrame(acc).plot.box(ax=ax)\n",
    "ax.set_title(filename)\n",
    "ax.axhline(0.97, c=\"red\")\n",
    "\n",
    "filename = \"zoo_trees_3_t_t.model.accuracy.all_trees\"\n",
    "ax = axes[0, 2]\n",
    "with open(filename) as f:\n",
    "    acc = pickle.load(f)\n",
    "pd.DataFrame(acc).plot.box(ax=ax)\n",
    "ax.set_title(filename)\n",
    "ax.axhline(0.97, c=\"red\")\n",
    "\n",
    "filename = \"zoo_trees_3_t_f.model.accuracy.nontrivial_trees\"\n",
    "ax = axes[1, 1]\n",
    "with open(filename) as f:\n",
    "    acc = pickle.load(f)\n",
    "pd.DataFrame(acc).plot.box(ax=ax)\n",
    "ax.set_title(filename)\n",
    "ax.axhline(0.97, c=\"red\")\n",
    "\n",
    "filename = \"zoo_trees_3_t_t.model.accuracy.nontrivial_trees\"\n",
    "ax = axes[1, 2]\n",
    "with open(filename) as f:\n",
    "    acc = pickle.load(f)\n",
    "pd.DataFrame(acc).plot.box(ax=ax)\n",
    "ax.set_title(filename)\n",
    "ax.axhline(0.97, c=\"red\")"
   ]
  },
  {
   "cell_type": "markdown",
   "metadata": {},
   "source": [
    "## Wyniki eksperymentów - zoo dataset - biredukty vs. 5-drzewa"
   ]
  },
  {
   "cell_type": "code",
   "execution_count": null,
   "metadata": {
    "collapsed": false
   },
   "outputs": [],
   "source": [
    "fig, axes = plt.subplots(2, 3, figsize=(16, 10), sharey=True)\n",
    "\n",
    "with open(\"zoo_bireducts.model.accuracy\") as f:\n",
    "    acc = pickle.load(f)\n",
    "ax = axes[0, 0]\n",
    "ax.set_title(\"bireducts\")\n",
    "ax.axhline(0.97, c=\"red\")\n",
    "pd.DataFrame(acc).plot.box(ax=ax)\n",
    "ax = axes[1, 0]\n",
    "ax.set_title(\"bireducts\")\n",
    "ax.axhline(0.97, c=\"red\")\n",
    "pd.DataFrame(acc).plot.box(ax=ax)\n",
    "\n",
    "filename = \"zoo_trees_5_t_f.model.accuracy.all_trees\"\n",
    "ax = axes[0, 1]\n",
    "with open(filename) as f:\n",
    "    acc = pickle.load(f)\n",
    "pd.DataFrame(acc).plot.box(ax=ax)\n",
    "ax.set_title(filename)\n",
    "ax.axhline(0.97, c=\"red\")\n",
    "\n",
    "filename = \"zoo_trees_5_t_t.model.accuracy.all_trees\"\n",
    "ax = axes[0, 2]\n",
    "with open(filename) as f:\n",
    "    acc = pickle.load(f)\n",
    "pd.DataFrame(acc).plot.box(ax=ax)\n",
    "ax.set_title(filename)\n",
    "ax.axhline(0.97, c=\"red\")\n",
    "\n",
    "filename = \"zoo_trees_5_t_f.model.accuracy.nontrivial_trees\"\n",
    "ax = axes[1, 1]\n",
    "with open(filename) as f:\n",
    "    acc = pickle.load(f)\n",
    "pd.DataFrame(acc).plot.box(ax=ax)\n",
    "ax.set_title(filename)\n",
    "ax.axhline(0.97, c=\"red\")\n",
    "\n",
    "filename = \"zoo_trees_5_t_t.model.accuracy.nontrivial_trees\"\n",
    "ax = axes[1, 2]\n",
    "with open(filename) as f:\n",
    "    acc = pickle.load(f)\n",
    "pd.DataFrame(acc).plot.box(ax=ax)\n",
    "ax.set_title(filename)\n",
    "ax.axhline(0.97, c=\"red\")"
   ]
  },
  {
   "cell_type": "markdown",
   "metadata": {},
   "source": [
    "## Wyniki eksperymentów - lymphography dataset - biredukty vs. 5-drzewa"
   ]
  },
  {
   "cell_type": "code",
   "execution_count": null,
   "metadata": {
    "collapsed": false
   },
   "outputs": [],
   "source": [
    "fig, axes = plt.subplots(2, 3, figsize=(15, 12), sharey=True)\n",
    "\n",
    "# with open('lympho_bireducts.model.accuracy', 'r') as f:\n",
    "#     acc = pickle.load(f)\n",
    "# axes[0,0].set_title('bireducts')\n",
    "# pd.DataFrame(acc).plot.box(ax=axes[0,0])\n",
    "# axes[1,0].set_title('bireducts')\n",
    "# pd.DataFrame(acc).plot.box(ax=axes[1,0])\n",
    "\n",
    "filename = \"lympho_trees_3_t_f.model.accuracy.all_trees\"\n",
    "ax = axes[0, 1]\n",
    "with open(filename) as f:\n",
    "    acc = pickle.load(f)\n",
    "pd.DataFrame(acc).plot.box(ax=ax)\n",
    "ax.set_title(filename)\n",
    "\n",
    "filename = \"lympho_trees_3_t_t.model.accuracy.all_trees\"\n",
    "ax = axes[0, 2]\n",
    "with open(filename) as f:\n",
    "    acc = pickle.load(f)\n",
    "pd.DataFrame(acc).plot.box(ax=ax)\n",
    "ax.set_title(filename)\n",
    "\n",
    "filename = \"lympho_trees_3_t_f.model.accuracy.nontrivial_trees\"\n",
    "ax = axes[1, 1]\n",
    "with open(filename) as f:\n",
    "    acc = pickle.load(f)\n",
    "pd.DataFrame(acc).plot.box(ax=ax)\n",
    "ax.set_title(filename)\n",
    "\n",
    "filename = \"lympho_trees_3_t_t.model.accuracy.nontrivial_trees\"\n",
    "ax = axes[1, 2]\n",
    "with open(filename) as f:\n",
    "    acc = pickle.load(f)\n",
    "pd.DataFrame(acc).plot.box(ax=ax)\n",
    "ax.set_title(filename)"
   ]
  },
  {
   "cell_type": "markdown",
   "metadata": {},
   "source": [
    "## Wyniki eksperymentów - lymphography dataset - biredukty vs. 5-drzewa"
   ]
  },
  {
   "cell_type": "code",
   "execution_count": null,
   "metadata": {
    "collapsed": false
   },
   "outputs": [],
   "source": [
    "fig, axes = plt.subplots(2, 2, figsize=(15, 12), sharey=True)\n",
    "\n",
    "# with open('lympho_bireducts.model.accuracy', 'r') as f:\n",
    "#     acc = pickle.load(f)\n",
    "# axes[0,0].set_title('bireducts')\n",
    "# pd.DataFrame(acc).plot.box(ax=axes[0,0])\n",
    "# axes[1,0].set_title('bireducts')\n",
    "# pd.DataFrame(acc).plot.box(ax=axes[1,0])\n",
    "\n",
    "filename = \"lympho_trees_5_t_f.model.accuracy.all_trees\"\n",
    "ax = axes[0, 1]\n",
    "with open(filename) as f:\n",
    "    acc = pickle.load(f)\n",
    "pd.DataFrame(acc).plot.box(ax=ax)\n",
    "ax.set_title(filename)\n",
    "\n",
    "filename = \"lympho_trees_5_t_f.model.accuracy.nontrivial_trees\"\n",
    "ax = axes[1, 1]\n",
    "with open(filename) as f:\n",
    "    acc = pickle.load(f)\n",
    "pd.DataFrame(acc).plot.box(ax=ax)\n",
    "ax.set_title(filename)"
   ]
  }
 ],
 "metadata": {
  "celltoolbar": "Raw Cell Format",
  "kernelspec": {
   "display_name": "Python 2",
   "language": "python",
   "name": "python2"
  },
  "language_info": {
   "codemirror_mode": {
    "name": "ipython",
    "version": 2
   },
   "file_extension": ".py",
   "mimetype": "text/x-python",
   "name": "python",
   "nbconvert_exporter": "python",
   "pygments_lexer": "ipython2",
   "version": "2.7.9"
  }
 },
 "nbformat": 4,
 "nbformat_minor": 0
}
