{
 "cells": [
  {
   "cell_type": "code",
   "execution_count": 2,
   "metadata": {},
   "outputs": [],
   "source": [
    "import numpy as np\n",
    "import pandas as pd\n",
    "\n",
    "from skrough.dataprep import prepare_factorized_array, prepare_factorized_vector"
   ]
  },
  {
   "cell_type": "code",
   "execution_count": 3,
   "metadata": {},
   "outputs": [],
   "source": [
    "# df_train = pd.read_csv(\"../../1m_sdiv_balanced.csv\", index_col=0)\n",
    "# target_train = pd.read_csv(\"../../1m_sdiv_y.csv\", index_col=0, header=None).reset_index(drop=True)[1]\n",
    "\n",
    "df_train = pd.read_csv(\n",
    "    \"../../26m_sdiv_biased.csv\", index_col=0, dtype=np.int8, nrows=1000000\n",
    ")\n",
    "target_train = pd.read_csv(\n",
    "    \"../../26m_sdiv_y.csv\", index_col=0, header=None, dtype=np.int8, nrows=1000000\n",
    ").reset_index(drop=True)[1]"
   ]
  },
  {
   "cell_type": "code",
   "execution_count": null,
   "metadata": {},
   "outputs": [],
   "source": []
  },
  {
   "cell_type": "code",
   "execution_count": 4,
   "metadata": {},
   "outputs": [],
   "source": [
    "x, x_counts = prepare_factorized_array(df_train.to_numpy())\n",
    "y, y_count = prepare_factorized_vector(target_train.to_numpy())\n",
    "\n",
    "# x, x_counts = prepare_factorized_array(df.to_numpy())\n",
    "# y, y_count = prepare_factorized_vector(target)"
   ]
  },
  {
   "cell_type": "code",
   "execution_count": null,
   "metadata": {},
   "outputs": [],
   "source": []
  },
  {
   "cell_type": "code",
   "execution_count": 9,
   "metadata": {},
   "outputs": [],
   "source": [
    "import numpy as np\n",
    "\n",
    "from skrough.algorithms import hooks\n",
    "from skrough.algorithms.hooks.names import (\n",
    "    CONFIG_CANDIDATES_MAX_COUNT,\n",
    "    CONFIG_CHAOS_FUN,\n",
    "    CONFIG_CONSECUTIVE_EMPTY_ITERATIONS_MAX_COUNT,\n",
    "    CONFIG_DAAR_ALLOWED_RANDOMNESS,\n",
    "    CONFIG_DAAR_N_OF_PROBES,\n",
    "    CONFIG_EPSILON,\n",
    "    CONFIG_SELECT_ATTRS_CHAOS_SCORE_BASED_MAX_COUNT,\n",
    "    INPUT_X,\n",
    "    INPUT_Y,\n",
    "    VALUES_CHAOS_SCORE_APPROX_THRESHOLD,\n",
    "    VALUES_CHAOS_SCORE_BASE,\n",
    "    VALUES_CHAOS_SCORE_TOTAL,\n",
    "    VALUES_GROUP_INDEX,\n",
    "    VALUES_RESULT_ATTRS,\n",
    "    VALUES_RESULT_OBJS,\n",
    "    VALUES_X,\n",
    "    VALUES_X_COUNTS,\n",
    "    VALUES_Y,\n",
    "    VALUES_Y_COUNT,\n",
    ")\n",
    "from skrough.algorithms.meta import processing, stage\n",
    "from skrough.chaos_measures import entropy, gini_impurity\n",
    "from skrough.chaos_score import get_chaos_score_stats\n",
    "from skrough.structs.state import ProcessingState\n",
    "\n",
    "grow_stage = stage.Stage.from_hooks(\n",
    "    stop_hooks=[\n",
    "        hooks.stop_hooks.stop_hook_approx_threshold,\n",
    "        # hooks.stop_hooks.stop_hook_empty_iterations,\n",
    "    ],\n",
    "    init_hooks=None,\n",
    "    pre_candidates_hooks=[\n",
    "        hooks.pre_candidates_hooks.pre_candidates_hook_remaining_attrs,\n",
    "    ],\n",
    "    # candidates_hooks=hooks.common.process_elements.process_elements_hook_pass_everything,\n",
    "    candidates_hooks=hooks.common.process_elements.create_process_elements_hook_random_choice(\n",
    "        CONFIG_CANDIDATES_MAX_COUNT\n",
    "    ),\n",
    "    select_hooks=[\n",
    "        hooks.select_hooks.select_hook_attrs_chaos_score_based,\n",
    "    ],\n",
    "    # filter_hooks=hooks.filter_hooks.filter_hook_attrs_first_daar,\n",
    "    filter_hooks=None,\n",
    "    # inner_init_hooks=hooks.inner_init_hooks.inner_init_hook_consecutive_empty_iterations_count,\n",
    "    inner_init_hooks=None,\n",
    "    inner_stop_hooks=hooks.inner_stop_hooks.inner_stop_hook_empty,\n",
    "    inner_process_hooks=hooks.inner_process_hooks.inner_process_hook_add_first_attr,\n",
    "    finalize_hooks=None,\n",
    ")\n",
    "\n",
    "\n",
    "msfun = processing.ProcessingMultiStage.from_hooks(\n",
    "    init_multi_stage_hooks=[\n",
    "        hooks.init_hooks.init_hook_factorize_data_x_y,\n",
    "        hooks.init_hooks.init_hook_approx_threshold,\n",
    "        hooks.init_hooks.init_hook_result_attrs_empty,\n",
    "        hooks.init_hooks.init_hook_single_group_index,\n",
    "    ],\n",
    "    stages=[grow_stage],\n",
    "    finalize_hooks=None,\n",
    "    prepare_result_fun=hooks.prepare_result_hooks.prepare_result_hook_attrs_subset,\n",
    ")\n",
    "\n",
    "\n",
    "def compute():\n",
    "    return msfun(\n",
    "        input_data={\n",
    "            INPUT_X: df_train.to_numpy(),\n",
    "            INPUT_Y: target_train.to_numpy(),\n",
    "        },\n",
    "        config={\n",
    "            CONFIG_CHAOS_FUN: entropy,\n",
    "            CONFIG_EPSILON: 0.00,\n",
    "            CONFIG_SELECT_ATTRS_CHAOS_SCORE_BASED_MAX_COUNT: 1,\n",
    "            CONFIG_CANDIDATES_MAX_COUNT: 50,\n",
    "            # CONFIG_DAAR_ALLOWED_RANDOMNESS: 0.2,\n",
    "            # CONFIG_DAAR_N_OF_PROBES: 100,\n",
    "            # CONFIG_CONSECUTIVE_EMPTY_ITERATIONS_MAX_COUNT: 1,\n",
    "        },\n",
    "    )\n",
    "\n",
    "\n",
    "res = compute()"
   ]
  },
  {
   "cell_type": "code",
   "execution_count": null,
   "metadata": {},
   "outputs": [],
   "source": []
  },
  {
   "cell_type": "code",
   "execution_count": null,
   "metadata": {},
   "outputs": [],
   "source": []
  },
  {
   "cell_type": "code",
   "execution_count": 47,
   "metadata": {},
   "outputs": [],
   "source": [
    "# import joblib\n",
    "# result = joblib.Parallel(n_jobs=4)(\n",
    "#             joblib.delayed(compute)()\n",
    "#             for _ in range(10)\n",
    "#         )\n",
    "# result"
   ]
  },
  {
   "cell_type": "code",
   "execution_count": 12,
   "metadata": {},
   "outputs": [],
   "source": [
    "from skrough.checks import check_if_approx_reduct"
   ]
  },
  {
   "cell_type": "code",
   "execution_count": 20,
   "metadata": {},
   "outputs": [
    {
     "data": {
      "text/plain": [
       "True"
      ]
     },
     "execution_count": 20,
     "metadata": {},
     "output_type": "execute_result"
    }
   ],
   "source": [
    "check_if_approx_reduct(\n",
    "    x, x_counts, y, y_count, chaos_fun=entropy, epsilon=0.5, attrs=[68]\n",
    ")"
   ]
  },
  {
   "cell_type": "code",
   "execution_count": 10,
   "metadata": {},
   "outputs": [
    {
     "data": {
      "text/plain": [
       "AttrsSubset(attrs=[68, 69, 66, 58, 59, 57])"
      ]
     },
     "execution_count": 10,
     "metadata": {},
     "output_type": "execute_result"
    }
   ],
   "source": [
    "res"
   ]
  }
 ],
 "metadata": {
  "kernelspec": {
   "display_name": "Python 3.10.5 ('.venv': poetry)",
   "language": "python",
   "name": "python3"
  },
  "language_info": {
   "codemirror_mode": {
    "name": "ipython",
    "version": 3
   },
   "file_extension": ".py",
   "mimetype": "text/x-python",
   "name": "python",
   "nbconvert_exporter": "python",
   "pygments_lexer": "ipython3",
   "version": "3.9.12"
  },
  "orig_nbformat": 4,
  "vscode": {
   "interpreter": {
    "hash": "cb353cb8b9a4ebafc945efb5c6e15e592d37ff0fcf51b748ec6c5769c1eaa51b"
   }
  }
 },
 "nbformat": 4,
 "nbformat_minor": 2
}
