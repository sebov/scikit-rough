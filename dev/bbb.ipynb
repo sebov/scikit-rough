{
 "cells": [
  {
   "cell_type": "code",
   "execution_count": 3,
   "metadata": {},
   "outputs": [],
   "source": [
    "import numpy as np\n",
    "import pandas as pd\n",
    "\n",
    "from skrough.dataprep import (\n",
    "    prepare_factorized_array,\n",
    "    prepare_factorized_data,\n",
    "    prepare_factorized_vector,\n",
    ")"
   ]
  },
  {
   "cell_type": "code",
   "execution_count": 3,
   "metadata": {},
   "outputs": [],
   "source": [
    "# df_train = pd.read_csv(\"../../1m_sdiv_balanced.csv\", index_col=0)\n",
    "# target_train = pd.read_csv(\"../../1m_sdiv_y.csv\", index_col=0, header=None).reset_index(drop=True)[1]\n",
    "\n",
    "df_train = pd.read_csv(\n",
    "    \"../../26m_sdiv_biased.csv\", index_col=0, dtype=np.int8, nrows=1000000\n",
    ")\n",
    "target_train = pd.read_csv(\n",
    "    \"../../26m_sdiv_y.csv\", index_col=0, header=None, dtype=np.int8, nrows=1000000\n",
    ").reset_index(drop=True)[1]"
   ]
  },
  {
   "cell_type": "code",
   "execution_count": 4,
   "metadata": {},
   "outputs": [],
   "source": [
    "df = pd.DataFrame(\n",
    "    np.array(\n",
    "        [\n",
    "            [\"sunny\", \"hot\", \"high\", \"weak\", \"no\"],\n",
    "            [\"sunny\", \"hot\", \"high\", \"strong\", \"no\"],\n",
    "            [\"overcast\", \"hot\", \"high\", \"weak\", \"yes\"],\n",
    "            [\"rain\", \"mild\", \"high\", \"weak\", \"yes\"],\n",
    "            [\"rain\", \"cool\", \"normal\", \"weak\", \"yes\"],\n",
    "            [\"rain\", \"cool\", \"normal\", \"strong\", \"no\"],\n",
    "            [\"overcast\", \"cool\", \"normal\", \"strong\", \"yes\"],\n",
    "            [\"sunny\", \"mild\", \"high\", \"weak\", \"no\"],\n",
    "            [\"sunny\", \"cool\", \"normal\", \"weak\", \"yes\"],\n",
    "            [\"rain\", \"mild\", \"normal\", \"weak\", \"yes\"],\n",
    "            [\"sunny\", \"mild\", \"normal\", \"strong\", \"yes\"],\n",
    "            [\"overcast\", \"mild\", \"high\", \"strong\", \"yes\"],\n",
    "            [\"overcast\", \"hot\", \"normal\", \"weak\", \"yes\"],\n",
    "            [\"rain\", \"mild\", \"high\", \"strong\", \"no\"],\n",
    "        ],\n",
    "        dtype=object,\n",
    "    ),\n",
    "    columns=[\"Outlook\", \"Temperature\", \"Humidity\", \"Wind\", \"Play\"],\n",
    ")\n",
    "TARGET_COLUMN = \"Play\"\n",
    "x, x_counts, y, y_count = prepare_factorized_data(df, TARGET_COLUMN)"
   ]
  },
  {
   "cell_type": "code",
   "execution_count": 4,
   "metadata": {},
   "outputs": [],
   "source": [
    "x, x_counts = prepare_factorized_array(df_train.to_numpy())\n",
    "y, y_count = prepare_factorized_vector(target_train.to_numpy())\n",
    "\n",
    "# x, x_counts = prepare_factorized_array(df.to_numpy())\n",
    "# y, y_count = prepare_factorized_vector(target)"
   ]
  },
  {
   "cell_type": "code",
   "execution_count": null,
   "metadata": {},
   "outputs": [],
   "source": []
  },
  {
   "cell_type": "code",
   "execution_count": 448,
   "metadata": {},
   "outputs": [
    {
     "data": {
      "text/plain": [
       "AttrsSubset(attrs=[1, 0, 2, 3])"
      ]
     },
     "execution_count": 448,
     "metadata": {},
     "output_type": "execute_result"
    }
   ],
   "source": [
    "import numpy as np\n",
    "\n",
    "from skrough.algorithms import hooks\n",
    "from skrough.algorithms.key_names import (\n",
    "    CONFIG_CANDIDATES_SELECT_RANDOM_MAX_COUNT,\n",
    "    CONFIG_CHAOS_FUN,\n",
    "    CONFIG_CONSECUTIVE_EMPTY_ITERATIONS_MAX_COUNT,\n",
    "    CONFIG_DAAR_ALLOWED_RANDOMNESS,\n",
    "    CONFIG_DAAR_N_OF_PROBES,\n",
    "    CONFIG_EPSILON,\n",
    "    CONFIG_SELECT_ATTRS_CHAOS_SCORE_BASED_MAX_COUNT,\n",
    "    INPUT_DATA_X,\n",
    "    INPUT_DATA_Y,\n",
    "    VALUES_CHAOS_SCORE_APPROX_THRESHOLD,\n",
    "    VALUES_CHAOS_SCORE_BASE,\n",
    "    VALUES_CHAOS_SCORE_TOTAL,\n",
    "    VALUES_GROUP_INDEX,\n",
    "    VALUES_RESULT_ATTRS,\n",
    "    VALUES_RESULT_OBJS,\n",
    "    VALUES_X,\n",
    "    VALUES_X_COUNTS,\n",
    "    VALUES_Y,\n",
    "    VALUES_Y_COUNT,\n",
    ")\n",
    "from skrough.algorithms.meta import processing, stage\n",
    "from skrough.algorithms.reusables.daar import daar_stage\n",
    "from skrough.chaos_measures import entropy, gini_impurity\n",
    "from skrough.chaos_score import get_chaos_score_stats\n",
    "from skrough.structs.state import ProcessingState\n",
    "\n",
    "msfun = processing.ProcessingMultiStage.from_hooks(\n",
    "    init_multi_stage_hooks=[\n",
    "        hooks.init_hooks.init_hook_factorize_data_x_y,\n",
    "        hooks.init_hooks.init_hook_approx_threshold,\n",
    "        hooks.init_hooks.init_hook_result_attrs_empty,\n",
    "        hooks.init_hooks.init_hook_single_group_index,\n",
    "    ],\n",
    "    stages=[daar_stage],\n",
    "    finalize_hooks=None,\n",
    "    prepare_result_fun=hooks.prepare_result_hooks.prepare_result_hook_attrs_subset,\n",
    ")\n",
    "\n",
    "\n",
    "def compute():\n",
    "    return msfun(\n",
    "        input_data={\n",
    "            INPUT_DATA_X: x,\n",
    "            INPUT_DATA_Y: y,\n",
    "        },\n",
    "        config={\n",
    "            CONFIG_CHAOS_FUN: entropy,\n",
    "            CONFIG_EPSILON: 0.0,\n",
    "            CONFIG_SELECT_ATTRS_CHAOS_SCORE_BASED_MAX_COUNT: 1,\n",
    "            CONFIG_CANDIDATES_SELECT_RANDOM_MAX_COUNT: 1,\n",
    "            CONFIG_DAAR_ALLOWED_RANDOMNESS: 0.9,\n",
    "            CONFIG_DAAR_N_OF_PROBES: 100,\n",
    "            CONFIG_CONSECUTIVE_EMPTY_ITERATIONS_MAX_COUNT: 1,\n",
    "        },\n",
    "    )\n",
    "\n",
    "\n",
    "res = compute()\n",
    "res"
   ]
  },
  {
   "cell_type": "code",
   "execution_count": 8,
   "metadata": {},
   "outputs": [
    {
     "data": {
      "text/plain": [
       "AttrsSubset(attrs=[0, 3, 1])"
      ]
     },
     "execution_count": 8,
     "metadata": {},
     "output_type": "execute_result"
    }
   ],
   "source": [
    "res"
   ]
  },
  {
   "cell_type": "code",
   "execution_count": null,
   "metadata": {},
   "outputs": [],
   "source": []
  },
  {
   "cell_type": "code",
   "execution_count": 47,
   "metadata": {},
   "outputs": [],
   "source": [
    "# import joblib\n",
    "# result = joblib.Parallel(n_jobs=4)(\n",
    "#             joblib.delayed(compute)()\n",
    "#             for _ in range(10)\n",
    "#         )\n",
    "# result"
   ]
  },
  {
   "cell_type": "code",
   "execution_count": 12,
   "metadata": {},
   "outputs": [],
   "source": [
    "from skrough.checks import check_if_approx_reduct"
   ]
  },
  {
   "cell_type": "code",
   "execution_count": 20,
   "metadata": {},
   "outputs": [
    {
     "data": {
      "text/plain": [
       "True"
      ]
     },
     "execution_count": 20,
     "metadata": {},
     "output_type": "execute_result"
    }
   ],
   "source": [
    "check_if_approx_reduct(\n",
    "    x, x_counts, y, y_count, chaos_fun=entropy, epsilon=0.5, attrs=[68]\n",
    ")"
   ]
  },
  {
   "cell_type": "code",
   "execution_count": 10,
   "metadata": {},
   "outputs": [
    {
     "data": {
      "text/plain": [
       "AttrsSubset(attrs=[68, 69, 66, 58, 59, 57])"
      ]
     },
     "execution_count": 10,
     "metadata": {},
     "output_type": "execute_result"
    }
   ],
   "source": [
    "res"
   ]
  }
 ],
 "metadata": {
  "kernelspec": {
   "display_name": "Python 3.10.5 ('.venv': poetry)",
   "language": "python",
   "name": "python3"
  },
  "language_info": {
   "codemirror_mode": {
    "name": "ipython",
    "version": 3
   },
   "file_extension": ".py",
   "mimetype": "text/x-python",
   "name": "python",
   "nbconvert_exporter": "python",
   "pygments_lexer": "ipython3",
   "version": "3.9.12"
  },
  "orig_nbformat": 4,
  "vscode": {
   "interpreter": {
    "hash": "cb353cb8b9a4ebafc945efb5c6e15e592d37ff0fcf51b748ec6c5769c1eaa51b"
   }
  }
 },
 "nbformat": 4,
 "nbformat_minor": 2
}
