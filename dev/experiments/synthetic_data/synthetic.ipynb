{
 "cells": [
  {
   "cell_type": "code",
   "execution_count": 1,
   "metadata": {},
   "outputs": [],
   "source": [
    "import numpy as np\n",
    "import pandas as pd"
   ]
  },
  {
   "cell_type": "code",
   "execution_count": 214,
   "metadata": {},
   "outputs": [],
   "source": [
    "n_rows = 10000\n",
    "n_cols = 1000\n",
    "rng = np.random.default_rng()\n",
    "data = rng.normal(size=(n_rows, n_cols))\n",
    "\n",
    "n_digits = int(np.ceil(np.log10(n_cols)))\n",
    "\n",
    "df1 = pd.DataFrame(data, columns=[f\"a{i:0{n_digits}}\" for i in range(n_cols)])\n",
    "df2 = df1.copy()\n",
    "df3 = df1.copy()"
   ]
  },
  {
   "cell_type": "code",
   "execution_count": 215,
   "metadata": {},
   "outputs": [],
   "source": [
    "sum_k = 20\n",
    "target_1 = df1.iloc[:, :sum_k].sum(axis=1) >= 0\n",
    "df1[\"target\"] = target_1"
   ]
  },
  {
   "cell_type": "code",
   "execution_count": 216,
   "metadata": {},
   "outputs": [],
   "source": [
    "pair_multiplication_k = 20\n",
    "values_2 = df2.iloc[:, :pair_multiplication_k]\n",
    "values_2 = values_2 * np.roll(values_2, -1, axis=1)\n",
    "target_2 = values_2.sum(axis=1) >= 0\n",
    "df2[\"target\"] = target_2"
   ]
  },
  {
   "cell_type": "code",
   "execution_count": 217,
   "metadata": {},
   "outputs": [],
   "source": [
    "bool_expression_k = 20\n",
    "delta = 0.043\n",
    "values_3 = df3.iloc[:, :bool_expression_k]\n",
    "values_3 = values_3.abs() <= delta\n",
    "values_3 = values_3 & ~np.roll(values_3, -1, axis=1)\n",
    "target_3 = values_3.any(axis=1)\n",
    "df3[\"target\"] = target_3"
   ]
  },
  {
   "cell_type": "code",
   "execution_count": 238,
   "metadata": {},
   "outputs": [],
   "source": [
    "df1.round(3).to_csv(\"synthetic1.csv\", index=False)\n",
    "df2.round(3).to_csv(\"synthetic2.csv\", index=False)\n",
    "df3.round(3).to_csv(\"synthetic3.csv\", index=False)"
   ]
  },
  {
   "cell_type": "code",
   "execution_count": null,
   "metadata": {},
   "outputs": [],
   "source": []
  },
  {
   "cell_type": "code",
   "execution_count": null,
   "metadata": {},
   "outputs": [],
   "source": []
  },
  {
   "cell_type": "code",
   "execution_count": null,
   "metadata": {},
   "outputs": [],
   "source": []
  }
 ],
 "metadata": {
  "kernelspec": {
   "display_name": ".venv",
   "language": "python",
   "name": "python3"
  },
  "language_info": {
   "codemirror_mode": {
    "name": "ipython",
    "version": 3
   },
   "file_extension": ".py",
   "mimetype": "text/x-python",
   "name": "python",
   "nbconvert_exporter": "python",
   "pygments_lexer": "ipython3",
   "version": "3.9.12"
  },
  "orig_nbformat": 4
 },
 "nbformat": 4,
 "nbformat_minor": 2
}
