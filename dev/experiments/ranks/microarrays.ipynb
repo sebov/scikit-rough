{
 "cells": [
  {
   "cell_type": "code",
   "execution_count": 1,
   "metadata": {},
   "outputs": [],
   "source": [
    "import contextlib\n",
    "from dataclasses import replace\n",
    "\n",
    "import numpy as np\n",
    "from aim import Repo, Run, Text\n",
    "from aim.sdk.types import QueryReportMode\n",
    "from microarrays_data import get_discretized_prepared, get_microarray_data_shuffled\n",
    "from ranks_model_scores import (\n",
    "    BireductsHParams,\n",
    "    CorrelationHParams,\n",
    "    HParamsBase,\n",
    "    XGBoostHParams,\n",
    "    get_bireducts_scores,\n",
    "    get_correlation_scores,\n",
    "    get_xgboost_scores,\n",
    ")\n",
    "\n",
    "from skrough.ranks import compare_ranks"
   ]
  },
  {
   "cell_type": "code",
   "execution_count": 2,
   "metadata": {},
   "outputs": [],
   "source": [
    "FINISHED_TAG = \"finished\"\n",
    "EXPERIMENT_NAME = \"exp1\"\n",
    "\n",
    "repo = Repo(\".\")\n",
    "\n",
    "\n",
    "def aim_run_present(repo: Repo, experiment, hparams: HParamsBase):\n",
    "    query = [\n",
    "        f'run.experiment == \"{experiment}\"',\n",
    "        hparams.asquery(),\n",
    "        f\"run.tags.count('{FINISHED_TAG}')\",\n",
    "    ]\n",
    "    query = \" and \".join(query)\n",
    "    result = list(\n",
    "        repo.query_runs(\n",
    "            query,\n",
    "            report_mode=QueryReportMode.DISABLED,\n",
    "        ).iter_runs()\n",
    "    )\n",
    "    return len(result) > 0"
   ]
  },
  {
   "cell_type": "code",
   "execution_count": 3,
   "metadata": {},
   "outputs": [],
   "source": [
    "microarray_files = [\n",
    "    \"acuteLymphoblasticLeukemia_processed.csv\",\n",
    "    \"anthracyclineTaxaneChemotherapy_processed.csv\",\n",
    "    \"brainTumour_processed.csv\",\n",
    "    \"BurkittLymphoma_processed.csv\",\n",
    "    \"gingivalPeriodontits_processed.csv\",\n",
    "    \"heartFailurFactors_processed.csv\",\n",
    "    \"hepatitisC_processed.csv\",\n",
    "    \"humanGlioma_processed.csv\",\n",
    "    \"ovarianTumour_processed.csv\",\n",
    "    \"septicShock_processed.csv\",\n",
    "    \"skinPsoriatic_processed.csv\",\n",
    "]"
   ]
  },
  {
   "attachments": {},
   "cell_type": "markdown",
   "metadata": {},
   "source": [
    "# bireducts"
   ]
  },
  {
   "cell_type": "code",
   "execution_count": 9,
   "metadata": {},
   "outputs": [],
   "source": [
    "bireducts_hparams_base = BireductsHParams(\n",
    "    filename=\"_changeme\",\n",
    "    chaos_fun=\"gini_impurity\",\n",
    "    epsilon=0.0,\n",
    "    attrs_max_count=-1,\n",
    "    candidates_count=100,\n",
    "    selected_count=1,\n",
    "    consecutive_daar_reps=1,\n",
    "    allowed_randomness=0.05,\n",
    "    probes_count=100,\n",
    "    # n_bireducts=1000,\n",
    "    n_bireducts=4,\n",
    ")"
   ]
  },
  {
   "cell_type": "code",
   "execution_count": 29,
   "metadata": {},
   "outputs": [
    {
     "ename": "NameError",
     "evalue": "name 'bireducts_hparams_base' is not defined",
     "output_type": "error",
     "traceback": [
      "\u001b[0;31m---------------------------------------------------------------------------\u001b[0m",
      "\u001b[0;31mNameError\u001b[0m                                 Traceback (most recent call last)",
      "Cell \u001b[0;32mIn[29], line 4\u001b[0m\n\u001b[1;32m      1\u001b[0m \u001b[39mfor\u001b[39;00m attrs_max_count \u001b[39min\u001b[39;00m [\u001b[39m3\u001b[39m, \u001b[39m7\u001b[39m, \u001b[39m15\u001b[39m, \u001b[39m31\u001b[39m][:\u001b[39m1\u001b[39m]:\n\u001b[1;32m      2\u001b[0m     \u001b[39mfor\u001b[39;00m microarray_filename \u001b[39min\u001b[39;00m microarray_files[:\u001b[39m2\u001b[39m]:\n\u001b[1;32m      3\u001b[0m         bireducts_hparams \u001b[39m=\u001b[39m replace(\n\u001b[0;32m----> 4\u001b[0m             bireducts_hparams_base,\n\u001b[1;32m      5\u001b[0m             filename\u001b[39m=\u001b[39mmicroarray_filename,\n\u001b[1;32m      6\u001b[0m             attrs_max_count\u001b[39m=\u001b[39mattrs_max_count,\n\u001b[1;32m      7\u001b[0m         )\n\u001b[1;32m      8\u001b[0m         \u001b[39mif\u001b[39;00m aim_run_present(repo, experiment\u001b[39m=\u001b[39mEXPERIMENT_NAME, hparams\u001b[39m=\u001b[39mbireducts_hparams):\n\u001b[1;32m      9\u001b[0m             \u001b[39mcontinue\u001b[39;00m\n",
      "\u001b[0;31mNameError\u001b[0m: name 'bireducts_hparams_base' is not defined"
     ]
    }
   ],
   "source": [
    "for attrs_max_count in [3, 7, 15, 31][:1]:\n",
    "    for microarray_filename in microarray_files[:2]:\n",
    "        bireducts_hparams = replace(\n",
    "            bireducts_hparams_base,\n",
    "            filename=microarray_filename,\n",
    "            attrs_max_count=attrs_max_count,\n",
    "        )\n",
    "        if aim_run_present(repo, experiment=EXPERIMENT_NAME, hparams=bireducts_hparams):\n",
    "            continue\n",
    "        print(bireducts_hparams.filename)\n",
    "        with contextlib.closing(Run(repo=repo, experiment=EXPERIMENT_NAME)) as run:\n",
    "            run.add_tag(\"bireducts\")\n",
    "            df, df_dec = get_microarray_data_shuffled(bireducts_hparams.filename)\n",
    "            column_names = df.columns\n",
    "            x, x_counts, y, y_count = get_discretized_prepared(df, df_dec)\n",
    "            bireducts_scores, bireducts = get_bireducts_scores(\n",
    "                x,\n",
    "                x_counts,\n",
    "                y,\n",
    "                y_count,\n",
    "                column_names=column_names,\n",
    "                hparams=bireducts_hparams,\n",
    "                seed=None,\n",
    "                n_jobs=6,\n",
    "            )\n",
    "            run[\"hparams\"] = bireducts_hparams.asdict()\n",
    "            run.track(Text(bireducts_scores.to_json()), name=\"scores\")\n",
    "            objs_size_list = [len(b.objs) for b in bireducts]\n",
    "            attrs_size_list = [len(b.attrs) for b in bireducts]\n",
    "            for objs_size in objs_size_list:\n",
    "                run.track(objs_size, name=\"objs_size\")\n",
    "            for attrs_size in attrs_size_list:\n",
    "                run.track(attrs_size, name=\"attrs_size\")\n",
    "            run.track(np.mean(objs_size_list), name=\"mean_objs_size\")\n",
    "            run.track(np.median(objs_size_list), name=\"median_objs_size\")\n",
    "            run.track(np.mean(attrs_size_list), name=\"mean_attrs_size\")\n",
    "            run.track(np.median(attrs_size_list), name=\"median_attrs_size\")\n",
    "            run.add_tag(FINISHED_TAG)"
   ]
  },
  {
   "cell_type": "code",
   "execution_count": null,
   "metadata": {},
   "outputs": [],
   "source": []
  },
  {
   "attachments": {},
   "cell_type": "markdown",
   "metadata": {},
   "source": [
    "# XGBoost"
   ]
  },
  {
   "cell_type": "code",
   "execution_count": 4,
   "metadata": {},
   "outputs": [],
   "source": [
    "xgboost_hparams_base = XGBoostHParams(\n",
    "    filename=\"_changeme\",\n",
    "    num_boost_round=1000,\n",
    "    learning_rate=0.001,\n",
    "    max_depth=-1,\n",
    "    objective=\"multi:softmax\",\n",
    ")"
   ]
  },
  {
   "cell_type": "code",
   "execution_count": 5,
   "metadata": {},
   "outputs": [
    {
     "name": "stdout",
     "output_type": "stream",
     "text": [
      "acuteLymphoblasticLeukemia_processed.csv\n"
     ]
    }
   ],
   "source": [
    "for max_depth in [2, 3, 4, 5, 10]:\n",
    "    for microarray_filename in microarray_files:\n",
    "        xgboost_hparams = replace(\n",
    "            xgboost_hparams_base,\n",
    "            filename=microarray_filename,\n",
    "            max_depth=max_depth,\n",
    "        )\n",
    "        if aim_run_present(repo, experiment=EXPERIMENT_NAME, hparams=xgboost_hparams):\n",
    "            continue\n",
    "        print(xgboost_hparams.filename)\n",
    "        with contextlib.closing(Run(repo=repo, experiment=EXPERIMENT_NAME)) as run:\n",
    "            run.add_tag(\"xgboost\")\n",
    "            df, df_dec = get_microarray_data_shuffled(xgboost_hparams.filename)\n",
    "            xgboost_scores = get_xgboost_scores(\n",
    "                df,\n",
    "                df_dec,\n",
    "                xgboost_hparams,\n",
    "                n_jobs=6,\n",
    "            )\n",
    "            run[\"hparams\"] = xgboost_hparams.asdict()\n",
    "            run.track(Text(xgboost_scores.to_json()), name=\"scores\")\n",
    "            run.add_tag(FINISHED_TAG)"
   ]
  },
  {
   "cell_type": "code",
   "execution_count": null,
   "metadata": {},
   "outputs": [],
   "source": []
  },
  {
   "cell_type": "code",
   "execution_count": null,
   "metadata": {},
   "outputs": [],
   "source": []
  },
  {
   "cell_type": "code",
   "execution_count": null,
   "metadata": {},
   "outputs": [],
   "source": []
  },
  {
   "cell_type": "code",
   "execution_count": null,
   "metadata": {},
   "outputs": [],
   "source": []
  },
  {
   "attachments": {},
   "cell_type": "markdown",
   "metadata": {},
   "source": [
    "# Correlation"
   ]
  },
  {
   "cell_type": "code",
   "execution_count": null,
   "metadata": {},
   "outputs": [],
   "source": [
    "correlation_hparams_base = CorrelationHParams(\n",
    "    filename=\"_changeme\",\n",
    ")"
   ]
  },
  {
   "cell_type": "code",
   "execution_count": null,
   "metadata": {},
   "outputs": [
    {
     "name": "stdout",
     "output_type": "stream",
     "text": [
      "acuteLymphoblasticLeukemia_processed.csv\n"
     ]
    }
   ],
   "source": [
    "for microarray_filename in microarray_files:\n",
    "    correlation_hparams = replace(\n",
    "        correlation_hparams_base, filename=microarray_filename\n",
    "    )\n",
    "    if aim_run_present(repo, experiment=EXPERIMENT_NAME, hparams=correlation_hparams):\n",
    "        continue\n",
    "    print(correlation_hparams.filename)\n",
    "    with contextlib.closing(Run(repo=repo, experiment=EXPERIMENT_NAME)) as run:\n",
    "        run.add_tag(\"correlation\")\n",
    "        df, df_dec = get_microarray_data_shuffled(correlation_hparams.filename)\n",
    "        correlation_scores = get_correlation_scores(df, df_dec)\n",
    "        run[\"hparams\"] = correlation_hparams.asdict()\n",
    "        run.track(Text(correlation_scores.to_json()), name=\"scores\")\n",
    "        run.add_tag(FINISHED_TAG)"
   ]
  },
  {
   "cell_type": "code",
   "execution_count": null,
   "metadata": {},
   "outputs": [],
   "source": []
  },
  {
   "cell_type": "code",
   "execution_count": null,
   "metadata": {},
   "outputs": [],
   "source": []
  },
  {
   "cell_type": "code",
   "execution_count": null,
   "metadata": {},
   "outputs": [],
   "source": []
  },
  {
   "cell_type": "code",
   "execution_count": null,
   "metadata": {},
   "outputs": [],
   "source": []
  }
 ],
 "metadata": {
  "kernelspec": {
   "display_name": "Python 3.10.5 ('.venv': poetry)",
   "language": "python",
   "name": "python3"
  },
  "language_info": {
   "codemirror_mode": {
    "name": "ipython",
    "version": 3
   },
   "file_extension": ".py",
   "mimetype": "text/x-python",
   "name": "python",
   "nbconvert_exporter": "python",
   "pygments_lexer": "ipython3",
   "version": "3.9.12"
  },
  "vscode": {
   "interpreter": {
    "hash": "cb353cb8b9a4ebafc945efb5c6e15e592d37ff0fcf51b748ec6c5769c1eaa51b"
   }
  }
 },
 "nbformat": 4,
 "nbformat_minor": 4
}
