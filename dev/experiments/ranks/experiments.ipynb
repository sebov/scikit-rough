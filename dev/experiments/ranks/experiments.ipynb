{
 "cells": [
  {
   "cell_type": "code",
   "execution_count": null,
   "metadata": {},
   "outputs": [],
   "source": [
    "import contextlib\n",
    "from dataclasses import replace\n",
    "\n",
    "import numpy as np\n",
    "from aim import Repo, Run, Text\n",
    "from aim.sdk.types import QueryReportMode\n",
    "from data_sources import (\n",
    "    get_discretized_prepared,\n",
    "    get_microarray_data_shuffled,\n",
    "    get_synthetic_data_shuffled,\n",
    "    get_toolbox_data_shuffled,\n",
    ")\n",
    "from ranks_model_scores import (\n",
    "    BireductsHParams,\n",
    "    CorrelationHParams,\n",
    "    HParamsBase,\n",
    "    XGBoostHParams,\n",
    "    get_bireducts_scores,\n",
    "    get_correlation_scores,\n",
    "    get_xgboost_scores,\n",
    ")"
   ]
  },
  {
   "cell_type": "code",
   "execution_count": null,
   "metadata": {},
   "outputs": [],
   "source": [
    "FINISHED_TAG = \"finished\"\n",
    "EXPERIMENT_NAME = \"exp1\"\n",
    "\n",
    "repo = Repo(\".\")\n",
    "\n",
    "\n",
    "def aim_run_present(repo: Repo, experiment, hparams: HParamsBase):\n",
    "    query = [\n",
    "        f'run.experiment == \"{experiment}\"',\n",
    "        hparams.asquery(),\n",
    "        f\"run.tags.count('{FINISHED_TAG}')\",\n",
    "    ]\n",
    "    query = \" and \".join(query)\n",
    "    result = list(\n",
    "        repo.query_runs(\n",
    "            query,\n",
    "            report_mode=QueryReportMode.DISABLED,\n",
    "        ).iter_runs()\n",
    "    )\n",
    "    return len(result) > 0"
   ]
  },
  {
   "cell_type": "code",
   "execution_count": null,
   "metadata": {},
   "outputs": [],
   "source": [
    "# tuples representing filenames and appropriate functions to load and prepare shuffled\n",
    "# data\n",
    "\n",
    "data_files = [\n",
    "    (\"acuteLymphoblasticLeukemia_processed.csv\", get_microarray_data_shuffled),\n",
    "    (\"anthracyclineTaxaneChemotherapy_processed.csv\", get_microarray_data_shuffled),\n",
    "    (\"brainTumour_processed.csv\", get_microarray_data_shuffled),\n",
    "    (\"BurkittLymphoma_processed.csv\", get_microarray_data_shuffled),\n",
    "    (\"gingivalPeriodontits_processed.csv\", get_microarray_data_shuffled),\n",
    "    (\"heartFailurFactors_processed.csv\", get_microarray_data_shuffled),\n",
    "    (\"hepatitisC_processed.csv\", get_microarray_data_shuffled),\n",
    "    (\"humanGlioma_processed.csv\", get_microarray_data_shuffled),\n",
    "    (\"ovarianTumour_processed.csv\", get_microarray_data_shuffled),\n",
    "    (\"septicShock_processed.csv\", get_microarray_data_shuffled),\n",
    "    (\"skinPsoriatic_processed.csv\", get_microarray_data_shuffled),\n",
    "    (\"recruitment_data.csv\", get_toolbox_data_shuffled),\n",
    "    (\"synthetic1.csv\", get_synthetic_data_shuffled),\n",
    "    (\"synthetic2.csv\", get_synthetic_data_shuffled),\n",
    "    (\"synthetic3.csv\", get_synthetic_data_shuffled),\n",
    "]"
   ]
  },
  {
   "cell_type": "code",
   "execution_count": null,
   "metadata": {},
   "outputs": [],
   "source": []
  },
  {
   "attachments": {},
   "cell_type": "markdown",
   "metadata": {},
   "source": [
    "# bireducts"
   ]
  },
  {
   "cell_type": "code",
   "execution_count": null,
   "metadata": {},
   "outputs": [],
   "source": [
    "bireducts_hparams_base = BireductsHParams(\n",
    "    filename=\"_changeme\",\n",
    "    n_bins=3,\n",
    "    chaos_fun=\"gini_impurity\",\n",
    "    epsilon=0.0,\n",
    "    attrs_max_count=-1,\n",
    "    candidates_count=100,\n",
    "    selected_count=1,\n",
    "    consecutive_daar_reps=1,\n",
    "    allowed_randomness=0.05,\n",
    "    probes_count=100,\n",
    "    n_bireducts=1000,\n",
    ")"
   ]
  },
  {
   "cell_type": "code",
   "execution_count": null,
   "metadata": {},
   "outputs": [],
   "source": [
    "for attrs_max_count in [3, 7, 15, 31]:\n",
    "    for filename, _get_shuffled_data_function in data_files:\n",
    "        bireducts_hparams = replace(\n",
    "            bireducts_hparams_base,\n",
    "            filename=filename,\n",
    "            attrs_max_count=attrs_max_count,\n",
    "        )\n",
    "        if aim_run_present(repo, experiment=EXPERIMENT_NAME, hparams=bireducts_hparams):\n",
    "            continue\n",
    "        print(bireducts_hparams.filename)\n",
    "        with contextlib.closing(Run(repo=repo, experiment=EXPERIMENT_NAME)) as run:\n",
    "            run.add_tag(\"bireducts\")\n",
    "            df, df_dec = _get_shuffled_data_function(bireducts_hparams.filename)\n",
    "            column_names = df.columns\n",
    "            x, x_counts, y, y_count = get_discretized_prepared(\n",
    "                df, df_dec, n_bins=bireducts_hparams.n_bins\n",
    "            )\n",
    "            bireducts_scores, bireducts = get_bireducts_scores(\n",
    "                x,\n",
    "                x_counts,\n",
    "                y,\n",
    "                y_count,\n",
    "                column_names=column_names,\n",
    "                hparams=bireducts_hparams,\n",
    "                seed=None,\n",
    "                n_jobs=6,\n",
    "            )\n",
    "            run[\"hparams\"] = bireducts_hparams.asdict()\n",
    "            run.track(Text(bireducts_scores.to_json()), name=\"scores\")\n",
    "            objs_size_list = [len(b.objs) for b in bireducts]\n",
    "            attrs_size_list = [len(b.attrs) for b in bireducts]\n",
    "            for objs_size in objs_size_list:\n",
    "                run.track(objs_size, name=\"objs_size\")\n",
    "            for attrs_size in attrs_size_list:\n",
    "                run.track(attrs_size, name=\"attrs_size\")\n",
    "            run.track(np.mean(objs_size_list), name=\"mean_objs_size\")\n",
    "            run.track(np.median(objs_size_list), name=\"median_objs_size\")\n",
    "            run.track(np.mean(attrs_size_list), name=\"mean_attrs_size\")\n",
    "            run.track(np.median(attrs_size_list), name=\"median_attrs_size\")\n",
    "            run.add_tag(FINISHED_TAG)"
   ]
  },
  {
   "cell_type": "code",
   "execution_count": null,
   "metadata": {},
   "outputs": [],
   "source": []
  },
  {
   "attachments": {},
   "cell_type": "markdown",
   "metadata": {},
   "source": [
    "# XGBoost"
   ]
  },
  {
   "cell_type": "code",
   "execution_count": null,
   "metadata": {},
   "outputs": [],
   "source": [
    "xgboost_hparams_base = XGBoostHParams(\n",
    "    filename=\"_changeme\",\n",
    "    num_boost_round=1000,\n",
    "    learning_rate=0.001,\n",
    "    max_depth=-1,\n",
    "    objective=\"multi:softmax\",\n",
    ")"
   ]
  },
  {
   "cell_type": "code",
   "execution_count": null,
   "metadata": {},
   "outputs": [],
   "source": [
    "for max_depth in [2, 3, 4, 5, 10]:\n",
    "    for filename, _get_shuffled_data_function in data_files:\n",
    "        xgboost_hparams = replace(\n",
    "            xgboost_hparams_base,\n",
    "            filename=filename,\n",
    "            max_depth=max_depth,\n",
    "        )\n",
    "        if aim_run_present(repo, experiment=EXPERIMENT_NAME, hparams=xgboost_hparams):\n",
    "            continue\n",
    "        print(xgboost_hparams.filename)\n",
    "        with contextlib.closing(Run(repo=repo, experiment=EXPERIMENT_NAME)) as run:\n",
    "            run.add_tag(\"xgboost\")\n",
    "            df, df_dec = _get_shuffled_data_function(xgboost_hparams.filename)\n",
    "            xgboost_scores = get_xgboost_scores(\n",
    "                df,\n",
    "                df_dec,\n",
    "                xgboost_hparams,\n",
    "                n_jobs=6,\n",
    "            )\n",
    "            run[\"hparams\"] = xgboost_hparams.asdict()\n",
    "            run.track(Text(xgboost_scores.to_json()), name=\"scores\")\n",
    "            run.add_tag(FINISHED_TAG)"
   ]
  },
  {
   "cell_type": "code",
   "execution_count": null,
   "metadata": {},
   "outputs": [],
   "source": []
  },
  {
   "attachments": {},
   "cell_type": "markdown",
   "metadata": {},
   "source": [
    "# Correlation"
   ]
  },
  {
   "cell_type": "code",
   "execution_count": null,
   "metadata": {},
   "outputs": [],
   "source": [
    "correlation_hparams_base = CorrelationHParams(\n",
    "    filename=\"_changeme\",\n",
    ")"
   ]
  },
  {
   "cell_type": "code",
   "execution_count": null,
   "metadata": {},
   "outputs": [],
   "source": [
    "for filename, _get_shuffled_data_function in data_files:\n",
    "    correlation_hparams = replace(correlation_hparams_base, filename=filename)\n",
    "    if aim_run_present(repo, experiment=EXPERIMENT_NAME, hparams=correlation_hparams):\n",
    "        continue\n",
    "    print(correlation_hparams.filename)\n",
    "    with contextlib.closing(Run(repo=repo, experiment=EXPERIMENT_NAME)) as run:\n",
    "        run.add_tag(\"correlation\")\n",
    "        df, df_dec = _get_shuffled_data_function(correlation_hparams.filename)\n",
    "        correlation_scores = get_correlation_scores(df, df_dec)\n",
    "        run[\"hparams\"] = correlation_hparams.asdict()\n",
    "        run.track(Text(correlation_scores.to_json()), name=\"scores\")\n",
    "        run.add_tag(FINISHED_TAG)"
   ]
  },
  {
   "cell_type": "code",
   "execution_count": null,
   "metadata": {},
   "outputs": [],
   "source": []
  },
  {
   "cell_type": "code",
   "execution_count": null,
   "metadata": {},
   "outputs": [],
   "source": []
  },
  {
   "cell_type": "code",
   "execution_count": null,
   "metadata": {},
   "outputs": [],
   "source": []
  },
  {
   "cell_type": "code",
   "execution_count": null,
   "metadata": {},
   "outputs": [],
   "source": []
  }
 ],
 "metadata": {
  "kernelspec": {
   "display_name": "Python 3.10.5 ('.venv': poetry)",
   "language": "python",
   "name": "python3"
  },
  "language_info": {
   "codemirror_mode": {
    "name": "ipython",
    "version": 3
   },
   "file_extension": ".py",
   "mimetype": "text/x-python",
   "name": "python",
   "nbconvert_exporter": "python",
   "pygments_lexer": "ipython3",
   "version": "3.9.12"
  },
  "vscode": {
   "interpreter": {
    "hash": "cb353cb8b9a4ebafc945efb5c6e15e592d37ff0fcf51b748ec6c5769c1eaa51b"
   }
  }
 },
 "nbformat": 4,
 "nbformat_minor": 4
}
