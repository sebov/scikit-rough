{
 "cells": [
  {
   "cell_type": "code",
   "execution_count": 1,
   "metadata": {},
   "outputs": [],
   "source": [
    "import pprint\n",
    "\n",
    "import numpy as np\n",
    "import pandas as pd\n",
    "from attrs import asdict\n",
    "\n",
    "from skrough.algorithms import hooks\n",
    "from skrough.algorithms.key_names import (\n",
    "    CONFIG_CANDIDATES_SELECT_RANDOM_MAX_COUNT,\n",
    "    CONFIG_CHAOS_FUN,\n",
    "    CONFIG_EPSILON,\n",
    "    CONFIG_SELECT_ATTRS_CHAOS_SCORE_BASED_MAX_COUNT,\n",
    "    INPUT_DATA_X,\n",
    "    INPUT_DATA_Y,\n",
    "    VALUES_CHAOS_SCORE_APPROX_THRESHOLD,\n",
    "    VALUES_RESULT_ATTRS,\n",
    "    VALUES_X,\n",
    "    VALUES_X_COUNTS,\n",
    "    VALUES_Y,\n",
    "    VALUES_Y_COUNT,\n",
    ")\n",
    "from skrough.algorithms.meta import describe, processing, stage\n",
    "from skrough.algorithms.reusables.attrs_greedy import greedy_stage\n",
    "from skrough.chaos_measures import entropy\n",
    "from skrough.checks import check_if_approx_reduct\n",
    "from skrough.dataprep import (\n",
    "    prepare_factorized_array,\n",
    "    prepare_factorized_data,\n",
    "    prepare_factorized_vector,\n",
    ")\n",
    "from skrough.structs.attrs_subset import AttrsSubset"
   ]
  },
  {
   "cell_type": "code",
   "execution_count": 2,
   "metadata": {},
   "outputs": [],
   "source": [
    "df = pd.DataFrame(\n",
    "    np.array(\n",
    "        [\n",
    "            [\"sunny\", \"hot\", \"high\", \"weak\", \"no\"],\n",
    "            [\"sunny\", \"hot\", \"high\", \"strong\", \"no\"],\n",
    "            [\"overcast\", \"hot\", \"high\", \"weak\", \"yes\"],\n",
    "            [\"rain\", \"mild\", \"high\", \"weak\", \"yes\"],\n",
    "            [\"rain\", \"cool\", \"normal\", \"weak\", \"yes\"],\n",
    "            [\"rain\", \"cool\", \"normal\", \"strong\", \"no\"],\n",
    "            [\"overcast\", \"cool\", \"normal\", \"strong\", \"yes\"],\n",
    "            [\"sunny\", \"mild\", \"high\", \"weak\", \"no\"],\n",
    "            [\"sunny\", \"cool\", \"normal\", \"weak\", \"yes\"],\n",
    "            [\"rain\", \"mild\", \"normal\", \"weak\", \"yes\"],\n",
    "            [\"sunny\", \"mild\", \"normal\", \"strong\", \"yes\"],\n",
    "            [\"overcast\", \"mild\", \"high\", \"strong\", \"yes\"],\n",
    "            [\"overcast\", \"hot\", \"normal\", \"weak\", \"yes\"],\n",
    "            [\"rain\", \"mild\", \"high\", \"strong\", \"no\"],\n",
    "        ],\n",
    "        dtype=object,\n",
    "    ),\n",
    "    columns=[\"Outlook\", \"Temperature\", \"Humidity\", \"Wind\", \"Play\"],\n",
    ")\n",
    "TARGET_COLUMN = \"Play\"\n",
    "x, x_counts, y, y_count = prepare_factorized_data(df, TARGET_COLUMN)"
   ]
  },
  {
   "cell_type": "code",
   "execution_count": 5,
   "metadata": {},
   "outputs": [
    {
     "data": {
      "text/plain": [
       "AttrsSubset(attrs=[2, 3, 0])"
      ]
     },
     "execution_count": 5,
     "metadata": {},
     "output_type": "execute_result"
    }
   ],
   "source": [
    "import skrough.typing as rght\n",
    "from skrough.algorithms.exceptions import LoopBreak\n",
    "from skrough.structs.group_index import GroupIndex\n",
    "from skrough.structs.state import ProcessingState\n",
    "\n",
    "\n",
    "def xy(\n",
    "    state: ProcessingState,\n",
    ") -> None:\n",
    "    state.values[VALUES_X] = x\n",
    "    state.values[VALUES_X_COUNTS] = x_counts\n",
    "    state.values[VALUES_Y] = y\n",
    "    state.values[VALUES_Y_COUNT] = y_count\n",
    "    state.values[VALUES_CHAOS_SCORE_APPROX_THRESHOLD] = 0.0001\n",
    "    state.values[VALUES_RESULT_ATTRS] = [2, 3, 1, 0]\n",
    "\n",
    "\n",
    "get_reduct = processing.ProcessingMultiStage.from_hooks(\n",
    "    init_multi_stage_hooks=[\n",
    "        xy,\n",
    "    ],\n",
    "    stages=[],\n",
    "    finalize_hooks=None,\n",
    "    prepare_result_fun=hooks.prepare_result_hooks.prepare_result_hook_attrs_subset,\n",
    ")\n",
    "\n",
    "import importlib\n",
    "\n",
    "importlib.reload(hooks)\n",
    "\n",
    "eps = 0.0\n",
    "chaos_measure = entropy\n",
    "result: AttrsSubset = get_reduct(\n",
    "    input_data={\n",
    "        # INPUT_DATA_X: x,\n",
    "        # INPUT_DATA_Y: y,\n",
    "    },\n",
    "    config={\n",
    "        CONFIG_CHAOS_FUN: chaos_measure,\n",
    "        CONFIG_EPSILON: eps,\n",
    "    },\n",
    ")\n",
    "result"
   ]
  },
  {
   "cell_type": "code",
   "execution_count": null,
   "metadata": {},
   "outputs": [],
   "source": []
  },
  {
   "cell_type": "code",
   "execution_count": null,
   "metadata": {},
   "outputs": [],
   "source": []
  },
  {
   "cell_type": "code",
   "execution_count": null,
   "metadata": {},
   "outputs": [],
   "source": []
  },
  {
   "cell_type": "code",
   "execution_count": null,
   "metadata": {},
   "outputs": [],
   "source": []
  }
 ],
 "metadata": {
  "kernelspec": {
   "display_name": "Python 3.9.12 ('.venv': poetry)",
   "language": "python",
   "name": "python3"
  },
  "language_info": {
   "codemirror_mode": {
    "name": "ipython",
    "version": 3
   },
   "file_extension": ".py",
   "mimetype": "text/x-python",
   "name": "python",
   "nbconvert_exporter": "python",
   "pygments_lexer": "ipython3",
   "version": "3.9.12"
  },
  "vscode": {
   "interpreter": {
    "hash": "cb353cb8b9a4ebafc945efb5c6e15e592d37ff0fcf51b748ec6c5769c1eaa51b"
   }
  }
 },
 "nbformat": 4,
 "nbformat_minor": 2
}
