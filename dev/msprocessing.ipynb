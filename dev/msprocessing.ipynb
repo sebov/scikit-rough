{
 "cells": [
  {
   "cell_type": "code",
   "execution_count": 1,
   "metadata": {},
   "outputs": [],
   "source": [
    "import pprint\n",
    "\n",
    "import numpy as np\n",
    "import pandas as pd\n",
    "from attrs import asdict\n",
    "\n",
    "from skrough.algorithms import hooks\n",
    "from skrough.algorithms.key_names import (\n",
    "    CONFIG_CHAOS_FUN,\n",
    "    CONFIG_EPSILON,\n",
    "    CONFIG_SELECT_ATTRS_CHAOS_SCORE_BASED_MAX_COUNT,\n",
    "    CONFIG_SELECT_RANDOM_MAX_COUNT,\n",
    "    INPUT_DATA_X,\n",
    "    INPUT_DATA_Y,\n",
    "    VALUES_CHAOS_SCORE_APPROX_THRESHOLD,\n",
    "    VALUES_X,\n",
    "    VALUES_X_COUNTS,\n",
    "    VALUES_Y,\n",
    "    VALUES_Y_COUNT,\n",
    ")\n",
    "from skrough.algorithms.meta import describe, processing, stage\n",
    "from skrough.chaos_measures import entropy\n",
    "from skrough.checks import check_if_approx_reduct\n",
    "from skrough.dataprep import (\n",
    "    prepare_factorized_array,\n",
    "    prepare_factorized_data,\n",
    "    prepare_factorized_vector,\n",
    ")\n",
    "from skrough.structs.attrs_subset import AttrsSubset"
   ]
  },
  {
   "cell_type": "markdown",
   "metadata": {},
   "source": [
    "## Dataset\n",
    "\n",
    "Let's prepare a sample data set - \"Play Golf Dataset\"."
   ]
  },
  {
   "cell_type": "code",
   "execution_count": 2,
   "metadata": {},
   "outputs": [],
   "source": [
    "df = pd.DataFrame(\n",
    "    np.array(\n",
    "        [\n",
    "            [\"sunny\", \"hot\", \"high\", \"weak\", \"no\"],\n",
    "            [\"sunny\", \"hot\", \"high\", \"strong\", \"no\"],\n",
    "            [\"overcast\", \"hot\", \"high\", \"weak\", \"yes\"],\n",
    "            [\"rain\", \"mild\", \"high\", \"weak\", \"yes\"],\n",
    "            [\"rain\", \"cool\", \"normal\", \"weak\", \"yes\"],\n",
    "            [\"rain\", \"cool\", \"normal\", \"strong\", \"no\"],\n",
    "            [\"overcast\", \"cool\", \"normal\", \"strong\", \"yes\"],\n",
    "            [\"sunny\", \"mild\", \"high\", \"weak\", \"no\"],\n",
    "            [\"sunny\", \"cool\", \"normal\", \"weak\", \"yes\"],\n",
    "            [\"rain\", \"mild\", \"normal\", \"weak\", \"yes\"],\n",
    "            [\"sunny\", \"mild\", \"normal\", \"strong\", \"yes\"],\n",
    "            [\"overcast\", \"mild\", \"high\", \"strong\", \"yes\"],\n",
    "            [\"overcast\", \"hot\", \"normal\", \"weak\", \"yes\"],\n",
    "            [\"rain\", \"mild\", \"high\", \"strong\", \"no\"],\n",
    "        ],\n",
    "        dtype=object,\n",
    "    ),\n",
    "    columns=[\"Outlook\", \"Temperature\", \"Humidity\", \"Wind\", \"Play\"],\n",
    ")\n",
    "TARGET_COLUMN = \"Play\"\n",
    "x, x_counts, y, y_count = prepare_factorized_data(df, TARGET_COLUMN)"
   ]
  },
  {
   "cell_type": "code",
   "execution_count": 3,
   "metadata": {},
   "outputs": [],
   "source": [
    "from sklearn.preprocessing import KBinsDiscretizer\n",
    "\n",
    "df = pd.read_csv(\n",
    "    \"../../../workspace/data/microarray/anthracyclineTaxaneChemotherapy_processed.csv\",\n",
    "    index_col=0,\n",
    ")\n",
    "df_dec = df.pop(\"target\")\n",
    "\n",
    "est = KBinsDiscretizer(n_bins=3, encode=\"ordinal\", strategy=\"quantile\")\n",
    "df = est.fit_transform(df)\n",
    "\n",
    "# x, x_counts, y, y_count = prepare_factorized_data(df, TARGET_COLUMN)"
   ]
  },
  {
   "cell_type": "code",
   "execution_count": 4,
   "metadata": {},
   "outputs": [],
   "source": [
    "x, x_counts = prepare_factorized_array(df)\n",
    "y, y_count = prepare_factorized_vector(df_dec)"
   ]
  },
  {
   "cell_type": "code",
   "execution_count": 5,
   "metadata": {},
   "outputs": [
    {
     "data": {
      "text/plain": [
       "(160, 61359)"
      ]
     },
     "execution_count": 5,
     "metadata": {},
     "output_type": "execute_result"
    }
   ],
   "source": [
    "x.shape"
   ]
  },
  {
   "cell_type": "code",
   "execution_count": 6,
   "metadata": {},
   "outputs": [],
   "source": [
    "grow_stage = stage.Stage.from_hooks(\n",
    "    stop_hooks=[\n",
    "        hooks.stop_hooks.stop_hook_approx_threshold,\n",
    "    ],\n",
    "    init_hooks=None,\n",
    "    pre_candidates_hooks=[\n",
    "        hooks.pre_candidates_hooks.pre_candidates_hook_remaining_attrs,\n",
    "    ],\n",
    "    candidates_hooks=[\n",
    "        # hooks.common.process_elements.process_elements_hook_pass_everything,\n",
    "        hooks.common.process_elements.create_process_elements_hook_random_choice(\n",
    "            CONFIG_SELECT_RANDOM_MAX_COUNT\n",
    "        )\n",
    "    ],\n",
    "    select_hooks=[\n",
    "        hooks.select_hooks.select_hook_attrs_chaos_score_based,\n",
    "    ],\n",
    "    filter_hooks=None,\n",
    "    inner_init_hooks=None,\n",
    "    inner_stop_hooks=hooks.inner_stop_hooks.inner_stop_hook_empty,\n",
    "    inner_process_hooks=hooks.inner_process_hooks.inner_process_hook_add_first_attr,\n",
    "    finalize_hooks=None,\n",
    ")\n",
    "from skrough.structs.state import ProcessingState\n",
    "\n",
    "\n",
    "def xy(\n",
    "    state: ProcessingState,\n",
    ") -> None:\n",
    "    state.values[VALUES_X] = x\n",
    "    state.values[VALUES_X_COUNTS] = x_counts\n",
    "    state.values[VALUES_Y] = y\n",
    "    state.values[VALUES_Y_COUNT] = y_count\n",
    "    state.values[VALUES_CHAOS_SCORE_APPROX_THRESHOLD] = 0.0001\n",
    "\n",
    "\n",
    "get_approx_reduct = processing.ProcessingMultiStage.from_hooks(\n",
    "    init_multi_stage_hooks=[\n",
    "        xy,\n",
    "        hooks.init_hooks.init_hook_single_group_index,\n",
    "        hooks.init_hooks.init_hook_result_attrs_empty,\n",
    "        # hooks.init_hooks.init_hook_approx_threshold,\n",
    "    ],\n",
    "    stages=[grow_stage],\n",
    "    finalize_hooks=None,\n",
    "    prepare_result_fun=hooks.prepare_result_hooks.prepare_result_hook_attrs_subset,\n",
    ")"
   ]
  },
  {
   "cell_type": "code",
   "execution_count": 20,
   "metadata": {},
   "outputs": [
    {
     "data": {
      "text/plain": [
       "AttrsSubset(attrs=[17678, 1629, 37496, 40556, 49921, 49933])"
      ]
     },
     "execution_count": 20,
     "metadata": {},
     "output_type": "execute_result"
    }
   ],
   "source": [
    "import importlib\n",
    "\n",
    "importlib.reload(hooks)\n",
    "\n",
    "eps = 0.0\n",
    "chaos_measure = entropy\n",
    "result: AttrsSubset = get_approx_reduct(\n",
    "    input_data={\n",
    "        # INPUT_DATA_X: x,\n",
    "        # INPUT_DATA_Y: y,\n",
    "    },\n",
    "    config={\n",
    "        CONFIG_CHAOS_FUN: chaos_measure,\n",
    "        CONFIG_EPSILON: eps,\n",
    "        CONFIG_SELECT_ATTRS_CHAOS_SCORE_BASED_MAX_COUNT: 1,\n",
    "        CONFIG_SELECT_RANDOM_MAX_COUNT: 10000,\n",
    "    },\n",
    ")\n",
    "result"
   ]
  },
  {
   "cell_type": "code",
   "execution_count": 57,
   "metadata": {},
   "outputs": [
    {
     "data": {
      "text/plain": [
       "False"
      ]
     },
     "execution_count": 57,
     "metadata": {},
     "output_type": "execute_result"
    }
   ],
   "source": [
    "check_if_approx_reduct(\n",
    "    x, x_counts, y, y_count, attrs=result.attrs, chaos_fun=chaos_measure, epsilon=eps\n",
    ")"
   ]
  },
  {
   "cell_type": "code",
   "execution_count": 8,
   "metadata": {},
   "outputs": [
    {
     "data": {
      "text/plain": [
       "['config_chaos_fun']"
      ]
     },
     "execution_count": 8,
     "metadata": {},
     "output_type": "execute_result"
    }
   ],
   "source": [
    "get_approx_reduct.get_config_keys()"
   ]
  },
  {
   "cell_type": "code",
   "execution_count": null,
   "metadata": {},
   "outputs": [],
   "source": []
  },
  {
   "cell_type": "code",
   "execution_count": null,
   "metadata": {},
   "outputs": [],
   "source": []
  },
  {
   "cell_type": "code",
   "execution_count": null,
   "metadata": {},
   "outputs": [],
   "source": []
  }
 ],
 "metadata": {
  "kernelspec": {
   "display_name": "Python 3.9.12 ('.venv': poetry)",
   "language": "python",
   "name": "python3"
  },
  "language_info": {
   "codemirror_mode": {
    "name": "ipython",
    "version": 3
   },
   "file_extension": ".py",
   "mimetype": "text/x-python",
   "name": "python",
   "nbconvert_exporter": "python",
   "pygments_lexer": "ipython3",
   "version": "3.9.12"
  },
  "vscode": {
   "interpreter": {
    "hash": "cb353cb8b9a4ebafc945efb5c6e15e592d37ff0fcf51b748ec6c5769c1eaa51b"
   }
  }
 },
 "nbformat": 4,
 "nbformat_minor": 2
}
