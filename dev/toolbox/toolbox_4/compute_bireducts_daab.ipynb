{
 "cells": [
  {
   "cell_type": "code",
   "execution_count": null,
   "metadata": {},
   "outputs": [],
   "source": [
    "import json\n",
    "import pathlib\n",
    "\n",
    "import attr\n",
    "import config\n",
    "import numpy as np\n",
    "import pandas as pd\n",
    "import tqdm.notebook\n",
    "\n",
    "import skrough.reducts.greedy_heuristic_reduct\n",
    "\n",
    "# from skrough.bireducts.sampling_heuristic_bireduct import SamplingHeuristicBireduct\n",
    "from skrough.bireducts.dynamically_adapted_approximate_bireduct import (\n",
    "    DynamicallyAdaptedApproximateBireduct,\n",
    ")"
   ]
  },
  {
   "cell_type": "code",
   "execution_count": null,
   "metadata": {},
   "outputs": [],
   "source": []
  },
  {
   "cell_type": "code",
   "execution_count": null,
   "metadata": {},
   "outputs": [],
   "source": [
    "DATA_DIR = pathlib.Path(config.DATA_DIR)\n",
    "TMP_DIR = pathlib.Path(config.TMP_DIR)\n",
    "SEP = \";\"\n",
    "N_BIREDUCTS = 1000\n",
    "\n",
    "FILEPATH_IN = DATA_DIR / \"train_utf.csv\"\n",
    "# FILENAME_OUT_TEMPLATE = 'bireducts_n_{n_bireducts}_candidate_attrs_{candidate_n_attrs}_max_attrs_{max_n_attrs}.json'\n",
    "\n",
    "# FILEPATH_IN = DATA_DIR / 'train_utf.csv'\n",
    "# FILENAME_OUT_TEMPLATE = 'bireducts_n_{n_bireducts}_candidate_attrs_{candidate_n_attrs}_max_attrs_{max_n_attrs}.json'\n",
    "\n",
    "FILEPATH_IN = DATA_DIR / \"train_utf_with_reordered_cols.csv\"\n",
    "FILENAME_OUT_TEMPLATE = \"bireducts_daab_reordered_cols_n_{n_bireducts}_candidate_attrs_{candidate_n_attrs}_allowed_randomness_{allowed_randomness}_max_attrs_{max_n_attrs}.json\""
   ]
  },
  {
   "cell_type": "code",
   "execution_count": null,
   "metadata": {},
   "outputs": [],
   "source": [
    "df = pd.read_csv(FILEPATH_IN, sep=SEP)"
   ]
  },
  {
   "cell_type": "code",
   "execution_count": null,
   "metadata": {},
   "outputs": [],
   "source": []
  },
  {
   "cell_type": "code",
   "execution_count": null,
   "metadata": {},
   "outputs": [],
   "source": []
  },
  {
   "cell_type": "code",
   "execution_count": null,
   "metadata": {},
   "outputs": [],
   "source": []
  },
  {
   "cell_type": "code",
   "execution_count": null,
   "metadata": {},
   "outputs": [],
   "source": [
    "for i in range(5):\n",
    "    df2[\"skill_Java__shuffled_{}\".format(i)] = df[\"skill_Java\"][:15].sample(15).values"
   ]
  },
  {
   "cell_type": "code",
   "execution_count": null,
   "metadata": {},
   "outputs": [],
   "source": [
    "df2"
   ]
  },
  {
   "cell_type": "code",
   "execution_count": null,
   "metadata": {},
   "outputs": [],
   "source": [
    "df[\"skill_Java\"][:15].sample(15).values"
   ]
  },
  {
   "cell_type": "code",
   "execution_count": null,
   "metadata": {},
   "outputs": [],
   "source": [
    "def compute_bireducts(\n",
    "    filepath,\n",
    "    results_dir,\n",
    "    filename_out_template,\n",
    "    n_bireducts,\n",
    "    n_of_probes,\n",
    "    allowed_randomness,\n",
    "    candidate_n_attrs,\n",
    "    sep=SEP,\n",
    "):\n",
    "    df = pd.read_csv(filepath, sep=sep)\n",
    "    df_dec = df.pop(\"target\")\n",
    "    df = df.astype(\"category\")\n",
    "    df = df.apply(lambda x: x.cat.codes)\n",
    "\n",
    "    #     shr = SamplingHeuristicBireduct(candidate_n_attrs=candidate_n_attrs, max_n_attrs=max_n_attrs, epsilon=epsilon)\n",
    "    #     shr.fit(df, df_dec, check_data_consistency=False)\n",
    "\n",
    "    #     ghr = GreedyHeuristicBireduct(candidate_n_attrs=candidate_n_attrs, max_n_attrs=max_n_attrs, epsilon=epsilon)\n",
    "    #     ghr.fit(df, df_dec, check_data_consistency=False)\n",
    "\n",
    "    daab = DynamicallyAdaptedApproximateBireduct(\n",
    "        n_of_probes=100,\n",
    "        allowed_randomness=allowed_randomness,\n",
    "        candidate_n_attrs=candidate_n_attrs,\n",
    "    )\n",
    "    daab.fit(df, df_dec, check_data_consistency=False)\n",
    "\n",
    "    bireducts = []\n",
    "    for i in tqdm.notebook.tnrange(n_bireducts):\n",
    "        #         bireducts.append(attr.asdict(shr.get_bireduct()))\n",
    "        #         bireducts.append(attr.asdict(ghr.get_bireduct()))\n",
    "        bireducts.append(attr.asdict(daab.get_bireduct()))\n",
    "    #         print(len(bireducts[i]['attributes']))\n",
    "\n",
    "    with (\n",
    "        results_dir\n",
    "        / filename_out_template.format(\n",
    "            n_bireducts=n_bireducts,\n",
    "            candidate_n_attrs=candidate_n_attrs,\n",
    "            allowed_randomness=allowed_randomness,\n",
    "        )\n",
    "    ).open(\"w\") as f:\n",
    "        json.dump(bireducts, f)"
   ]
  },
  {
   "cell_type": "code",
   "execution_count": null,
   "metadata": {},
   "outputs": [],
   "source": [
    "compute_bireducts(\n",
    "    FILEPATH_IN,\n",
    "    TMP_DIR,\n",
    "    FILENAME_OUT_TEMPLATE,\n",
    "    n_bireducts=N_BIREDUCTS,\n",
    "    n_of_probes=100,\n",
    "    allowed_randomness=0.1,\n",
    "    candidate_n_attrs=30,\n",
    ")\n",
    "# compute_bireducts(FILEPATH_IN, TMP_DIR, FILENAME_OUT_TEMPLATE,\n",
    "#                   n_bireducts=N_BIREDUCTS, candidate_n_attrs=50, max_n_attrs=30, epsilon=0.2)\n",
    "# compute_bireducts(FILEPATH_IN, TMP_DIR, FILENAME_OUT_TEMPLATE,\n",
    "#                   n_bireducts=N_BIREDUCTS, candidate_n_attrs=100, max_n_attrs=30, epsilon=0.2)\n",
    "# compute_bireducts(FILEPATH_IN, TMP_DIR, FILENAME_OUT_TEMPLATE,\n",
    "#                   n_bireducts=N_BIREDUCTS, candidate_n_attrs=100, max_n_attrs=30, epsilon=0.4)"
   ]
  },
  {
   "cell_type": "code",
   "execution_count": null,
   "metadata": {},
   "outputs": [],
   "source": []
  },
  {
   "cell_type": "code",
   "execution_count": null,
   "metadata": {},
   "outputs": [],
   "source": []
  },
  {
   "cell_type": "code",
   "execution_count": null,
   "metadata": {},
   "outputs": [],
   "source": []
  },
  {
   "cell_type": "code",
   "execution_count": null,
   "metadata": {},
   "outputs": [],
   "source": []
  },
  {
   "cell_type": "code",
   "execution_count": null,
   "metadata": {},
   "outputs": [],
   "source": []
  },
  {
   "cell_type": "code",
   "execution_count": null,
   "metadata": {},
   "outputs": [],
   "source": []
  },
  {
   "cell_type": "code",
   "execution_count": null,
   "metadata": {},
   "outputs": [],
   "source": []
  }
 ],
 "metadata": {
  "kernelspec": {
   "display_name": "Python 3",
   "language": "python",
   "name": "python3"
  },
  "language_info": {
   "codemirror_mode": {
    "name": "ipython",
    "version": 3
   },
   "file_extension": ".py",
   "mimetype": "text/x-python",
   "name": "python",
   "nbconvert_exporter": "python",
   "pygments_lexer": "ipython3",
   "version": "3.8.5"
  }
 },
 "nbformat": 4,
 "nbformat_minor": 4
}
