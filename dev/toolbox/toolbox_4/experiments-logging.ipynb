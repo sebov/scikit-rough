{
 "cells": [
  {
   "cell_type": "code",
   "execution_count": 1,
   "metadata": {},
   "outputs": [],
   "source": [
    "import logging\n",
    "import pathlib\n",
    "import pickle\n",
    "import warnings\n",
    "\n",
    "import attr\n",
    "import matplotlib.pyplot as plt\n",
    "import numpy as np\n",
    "import pandas as pd\n",
    "import tqdm.notebook\n",
    "from joblib import Parallel, delayed\n",
    "from sklearn.metrics import auc, precision_score, recall_score, roc_curve\n",
    "from sklearn.model_selection import LeaveOneGroupOut\n",
    "from sklearn.neighbors import NearestNeighbors\n",
    "\n",
    "from skrough.base import Bireduct\n",
    "from skrough.bireducts.sampling_heuristic_bireduct import SamplingHeuristicBireduct\n",
    "\n",
    "warnings.filterwarnings(\"ignore\", category=np.VisibleDeprecationWarning)\n",
    "\n",
    "import config"
   ]
  },
  {
   "cell_type": "code",
   "execution_count": null,
   "metadata": {},
   "outputs": [],
   "source": []
  },
  {
   "cell_type": "code",
   "execution_count": 2,
   "metadata": {},
   "outputs": [],
   "source": [
    "DATA_DIR = pathlib.Path(config.DATA_DIR)\n",
    "TMP_DIR = pathlib.Path(config.TMP_DIR)\n",
    "N_JOBS = 32\n",
    "\n",
    "K_NEIGHBORS_PROCESSES = 40\n",
    "N_BIREDUCTS = 1000\n",
    "BIREDUCT_INITIAL_SAMPLE_N_ATTRS = 100\n",
    "BIREDUCT_MAX_N_ATTRS = 20\n",
    "# N_BIREDUCTS = 1\n",
    "# BIREDUCT_INITIAL_SAMPLE_N_ATTRS = 100\n",
    "# BIREDUCT_MAX_N_ATTRS = 100\n",
    "\n",
    "\n",
    "FILEPATH_IN = DATA_DIR / \"toolbox_tabular_data_annonymized.csv\"\n",
    "EMBEDDINGS_FILEPATH_IN = DATA_DIR / \"process_embeddings_d50.csv\"\n",
    "FILENAME_OUT_TEMPLATE = \"leave_one_process_out_k_{k}_bireducts_{n_bireducts}_sample_attrs_{initial_sample_n_attrs}_max_attrs_{max_n_attrs}.csv\"\n",
    "FILENAME_2_OUT_TEMPLATE = \"leave_one_process_out_same_category_bireducts_{n_bireducts}_sample_attrs_{initial_sample_n_attrs}_max_attrs_{max_n_attrs}.csv\""
   ]
  },
  {
   "cell_type": "code",
   "execution_count": 3,
   "metadata": {},
   "outputs": [],
   "source": [
    "logging.basicConfig(filename=TMP_DIR / \"b.log\", level=logging.INFO)"
   ]
  },
  {
   "cell_type": "code",
   "execution_count": null,
   "metadata": {},
   "outputs": [],
   "source": []
  },
  {
   "cell_type": "code",
   "execution_count": 4,
   "metadata": {},
   "outputs": [],
   "source": [
    "df = pd.read_csv(FILEPATH_IN)\n",
    "process_ids = df.pop(\"process_ids\")\n",
    "df = df.astype(\"category\")\n",
    "df = df.apply(lambda x: x.cat.codes)\n",
    "df_dec = df.pop(\"target\")\n",
    "\n",
    "\n",
    "embeddings = pd.read_csv(EMBEDDINGS_FILEPATH_IN)\n",
    "process_category = embeddings[[\"process_ids\", \"process_category\"]]\n",
    "embeddings.drop([\"process_category\"], axis=1, inplace=True)\n",
    "embeddings.set_index(\"process_ids\", inplace=True)\n",
    "emb_nbrs = NearestNeighbors().fit(embeddings)"
   ]
  },
  {
   "cell_type": "code",
   "execution_count": null,
   "metadata": {},
   "outputs": [],
   "source": []
  },
  {
   "cell_type": "code",
   "execution_count": 5,
   "metadata": {},
   "outputs": [],
   "source": [
    "def refine_train(train, test, process_ids, embeddings, emb_nbrs, k):\n",
    "    # search for k+1 neighbors because the one we search for is obviously the best match (thus +1)\n",
    "    test_process_id = process_ids.loc[test.index[0]]\n",
    "    nbrs = emb_nbrs.kneighbors(\n",
    "        [embeddings.loc[test_process_id]], n_neighbors=k + 1, return_distance=False\n",
    "    )[0]\n",
    "    return train[process_ids.loc[train.index].isin(embeddings.index[nbrs])]\n",
    "\n",
    "\n",
    "def get_bireducts(\n",
    "    train, df_dec, n_bireducts, bireduct_initial_sample_n_attrs, bireduct_max_n_attrs\n",
    "):\n",
    "    shr = SamplingHeuristicBireduct(\n",
    "        initial_sample_n_attrs=bireduct_initial_sample_n_attrs,\n",
    "        max_n_attrs=bireduct_max_n_attrs,\n",
    "    )\n",
    "    shr.fit(train, df_dec.loc[train.index], check_data_consistency=False)\n",
    "    #     bireducts = []\n",
    "    #     for i in range(n_bireducts):\n",
    "    #         bireducts.append(shr.get_bireduct())\n",
    "    bireducts = Parallel(n_jobs=N_JOBS)(\n",
    "        delayed(shr.get_bireduct)() for i in range(n_bireducts)\n",
    "    )\n",
    "    return bireducts\n",
    "\n",
    "\n",
    "def predict(train, test, bireduct, df_dec):\n",
    "    objs = bireduct.objects\n",
    "    cols = bireduct.attributes\n",
    "    bireduct_train = train.iloc[objs, cols]\n",
    "    nn = NearestNeighbors().fit(bireduct_train)\n",
    "    dist, neighbors = nn.kneighbors(\n",
    "        test.iloc[:, cols], n_neighbors=1, return_distance=True\n",
    "    )\n",
    "    result = [\n",
    "        df_dec.loc[bireduct_train.index[n[0]]] if d[0] == 0 else np.nan\n",
    "        for d, n in zip(dist, neighbors)\n",
    "    ]\n",
    "    return result\n",
    "\n",
    "\n",
    "def fit_predict(\n",
    "    train,\n",
    "    test,\n",
    "    df_dec,\n",
    "    n_bireducts,\n",
    "    bireduct_initial_sample_n_attrs,\n",
    "    bireduct_max_n_attrs,\n",
    "):\n",
    "    bireducts = get_bireducts(\n",
    "        train,\n",
    "        df_dec,\n",
    "        n_bireducts,\n",
    "        bireduct_initial_sample_n_attrs,\n",
    "        bireduct_max_n_attrs,\n",
    "    )\n",
    "    scores = np.zeros(len(test))\n",
    "    counts = np.zeros(len(test))\n",
    "    counts2 = np.zeros(len(test))\n",
    "    for bireduct in bireducts:\n",
    "        for i, dec in enumerate(predict(train, test, bireduct, df_dec)):\n",
    "            if not np.isnan(dec):\n",
    "                scores[i] += int(dec)\n",
    "                counts[i] += 1\n",
    "                counts2[i] += len(bireduct.objects) / len(train)\n",
    "    return (\n",
    "        pd.Series(scores, index=test.index),\n",
    "        pd.Series(counts, index=test.index),\n",
    "        pd.Series(counts2, index=test.index),\n",
    "    )\n",
    "\n",
    "\n",
    "def do_leave_one_process_out_k(\n",
    "    df,\n",
    "    df_dec,\n",
    "    process_ids,\n",
    "    k,\n",
    "    n_bireducts,\n",
    "    bireduct_initial_sample_n_attrs,\n",
    "    bireduct_max_n_attrs,\n",
    "):\n",
    "    scores = pd.Series(dtype=\"float\")\n",
    "    counts = pd.Series(dtype=\"float\")\n",
    "    counts2 = pd.Series(dtype=\"float\")\n",
    "    i = 0\n",
    "    for train_index, test_index in tqdm.notebook.tqdm(\n",
    "        LeaveOneGroupOut().split(df, df_dec, groups=process_ids)\n",
    "    ):\n",
    "        i += 1\n",
    "        logging.info(str(i))\n",
    "        train = df.iloc[train_index]\n",
    "        test = df.iloc[test_index]\n",
    "        if k is not None:\n",
    "            train = refine_train(train, test, process_ids, embeddings, emb_nbrs, k)\n",
    "        s, c, c2 = fit_predict(\n",
    "            train,\n",
    "            test,\n",
    "            df_dec,\n",
    "            n_bireducts,\n",
    "            bireduct_initial_sample_n_attrs,\n",
    "            bireduct_max_n_attrs,\n",
    "        )\n",
    "        scores = scores.append(s)\n",
    "        counts = counts.append(c)\n",
    "        counts2 = counts2.append(c2)\n",
    "    return scores.sort_index(), counts.sort_index(), counts2.sort_index()\n",
    "\n",
    "\n",
    "def do_leave_one_process_out_same_category(\n",
    "    df,\n",
    "    df_dec,\n",
    "    process_ids,\n",
    "    process_category,\n",
    "    n_bireducts,\n",
    "    bireduct_initial_sample_n_attrs,\n",
    "    bireduct_max_n_attrs,\n",
    "):\n",
    "    scores = pd.Series(dtype=\"float\")\n",
    "    counts = pd.Series(dtype=\"float\")\n",
    "    counts2 = pd.Series(dtype=\"float\")\n",
    "    for leave_one_out_process_id in tqdm.notebook.tqdm(\n",
    "        process_category[\"process_ids\"].unique()\n",
    "    ):\n",
    "        test = df[process_ids == leave_one_out_process_id]\n",
    "        test_category = process_category[\n",
    "            process_category[\"process_ids\"] == leave_one_out_process_id\n",
    "        ][\"process_category\"].iloc[0]\n",
    "        test_category_process_ids = process_category[\n",
    "            process_category[\"process_category\"] == test_category\n",
    "        ][\"process_ids\"]\n",
    "        train = df[\n",
    "            process_ids.isin(test_category_process_ids)\n",
    "            & (process_ids != leave_one_out_process_id)\n",
    "        ]\n",
    "        s, c, c2 = fit_predict(\n",
    "            train,\n",
    "            test,\n",
    "            df_dec,\n",
    "            n_bireducts,\n",
    "            bireduct_initial_sample_n_attrs,\n",
    "            bireduct_max_n_attrs,\n",
    "        )\n",
    "        scores = scores.append(s)\n",
    "        counts = counts.append(c)\n",
    "        counts2 = counts2.append(c2)\n",
    "    return scores.sort_index(), counts.sort_index(), counts2.sort_index()"
   ]
  },
  {
   "cell_type": "code",
   "execution_count": null,
   "metadata": {},
   "outputs": [],
   "source": [
    "z = do_leave_one_process_out_same_category(\n",
    "    df,\n",
    "    df_dec,\n",
    "    process_ids,\n",
    "    process_category,\n",
    "    n_bireducts=N_BIREDUCTS,\n",
    "    bireduct_initial_sample_n_attrs=BIREDUCT_INITIAL_SAMPLE_N_ATTRS,\n",
    "    bireduct_max_n_attrs=BIREDUCT_MAX_N_ATTRS,\n",
    ")\n",
    "pd.DataFrame({\"scores\": z[0], \"counts\": z[1], \"counts2\": z[2]}).to_csv(\n",
    "    TMP_DIR\n",
    "    / FILENAME_2_OUT_TEMPLATE.format(\n",
    "        n_bireducts=N_BIREDUCTS,\n",
    "        initial_sample_n_attrs=BIREDUCT_INITIAL_SAMPLE_N_ATTRS,\n",
    "        max_n_attrs=BIREDUCT_MAX_N_ATTRS,\n",
    "    ),\n",
    "    sep=\";\",\n",
    "    index=False,\n",
    ")"
   ]
  },
  {
   "cell_type": "code",
   "execution_count": null,
   "metadata": {},
   "outputs": [],
   "source": []
  },
  {
   "cell_type": "code",
   "execution_count": null,
   "metadata": {},
   "outputs": [],
   "source": []
  },
  {
   "cell_type": "code",
   "execution_count": null,
   "metadata": {},
   "outputs": [],
   "source": []
  },
  {
   "cell_type": "code",
   "execution_count": null,
   "metadata": {},
   "outputs": [],
   "source": []
  },
  {
   "cell_type": "code",
   "execution_count": null,
   "metadata": {},
   "outputs": [],
   "source": []
  },
  {
   "cell_type": "code",
   "execution_count": null,
   "metadata": {},
   "outputs": [],
   "source": []
  },
  {
   "cell_type": "code",
   "execution_count": null,
   "metadata": {},
   "outputs": [],
   "source": []
  },
  {
   "cell_type": "code",
   "execution_count": 6,
   "metadata": {},
   "outputs": [
    {
     "data": {
      "application/vnd.jupyter.widget-view+json": {
       "model_id": "7e1c94de9d6d4f4da21c13ac38306afb",
       "version_major": 2,
       "version_minor": 0
      },
      "text/plain": [
       "HBox(children=(HTML(value=''), FloatProgress(value=1.0, bar_style='info', layout=Layout(width='20px'), max=1.0…"
      ]
     },
     "metadata": {},
     "output_type": "display_data"
    },
    {
     "name": "stdout",
     "output_type": "stream",
     "text": [
      "\n"
     ]
    }
   ],
   "source": [
    "x = do_leave_one_process_out_k(\n",
    "    df,\n",
    "    df_dec,\n",
    "    process_ids,\n",
    "    k=K_NEIGHBORS_PROCESSES,\n",
    "    n_bireducts=N_BIREDUCTS,\n",
    "    bireduct_initial_sample_n_attrs=BIREDUCT_INITIAL_SAMPLE_N_ATTRS,\n",
    "    bireduct_max_n_attrs=BIREDUCT_MAX_N_ATTRS,\n",
    ")\n",
    "pd.DataFrame({\"scores\": x[0], \"counts\": x[1], \"counts2\": x[2]}).to_csv(\n",
    "    TMP_DIR\n",
    "    / FILENAME_OUT_TEMPLATE.format(\n",
    "        k=K_NEIGHBORS_PROCESSES,\n",
    "        n_bireducts=N_BIREDUCTS,\n",
    "        initial_sample_n_attrs=BIREDUCT_INITIAL_SAMPLE_N_ATTRS,\n",
    "        max_n_attrs=BIREDUCT_MAX_N_ATTRS,\n",
    "    ),\n",
    "    sep=\";\",\n",
    "    index=False,\n",
    ")"
   ]
  },
  {
   "cell_type": "code",
   "execution_count": null,
   "metadata": {},
   "outputs": [],
   "source": []
  },
  {
   "cell_type": "code",
   "execution_count": 7,
   "metadata": {},
   "outputs": [
    {
     "data": {
      "application/vnd.jupyter.widget-view+json": {
       "model_id": "44eb0eb1139c431ab80a2325695d9eca",
       "version_major": 2,
       "version_minor": 0
      },
      "text/plain": [
       "HBox(children=(HTML(value=''), FloatProgress(value=1.0, bar_style='info', layout=Layout(width='20px'), max=1.0…"
      ]
     },
     "metadata": {},
     "output_type": "display_data"
    },
    {
     "name": "stdout",
     "output_type": "stream",
     "text": [
      "\n"
     ]
    }
   ],
   "source": [
    "y = do_leave_one_process_out_k(\n",
    "    df,\n",
    "    df_dec,\n",
    "    process_ids,\n",
    "    k=None,\n",
    "    n_bireducts=N_BIREDUCTS,\n",
    "    bireduct_initial_sample_n_attrs=BIREDUCT_INITIAL_SAMPLE_N_ATTRS,\n",
    "    bireduct_max_n_attrs=BIREDUCT_MAX_N_ATTRS,\n",
    ")\n",
    "pd.DataFrame({\"scores\": y[0], \"counts\": y[1], \"counts2\": y[2]}).to_csv(\n",
    "    TMP_DIR\n",
    "    / FILENAME_OUT_TEMPLATE.format(\n",
    "        k=None,\n",
    "        n_bireducts=N_BIREDUCTS,\n",
    "        initial_sample_n_attrs=BIREDUCT_INITIAL_SAMPLE_N_ATTRS,\n",
    "        max_n_attrs=BIREDUCT_MAX_N_ATTRS,\n",
    "    ),\n",
    "    sep=\";\",\n",
    "    index=False,\n",
    ")"
   ]
  },
  {
   "cell_type": "code",
   "execution_count": null,
   "metadata": {},
   "outputs": [],
   "source": []
  },
  {
   "cell_type": "code",
   "execution_count": null,
   "metadata": {},
   "outputs": [],
   "source": [
    "# x=pd.read_csv('./tmp/leave_one_process_out_k_10_m_1000_n_20.csv', sep=';')\n",
    "# x=pd.read_csv('./tmp/leave_one_process_out_k_10_nb_100_bna_10_draw_objects_mk2.csv', sep=';')\n",
    "# x=pd.read_csv('./tmp/leave_one_process_out_k_40_bireducts_1000_sample_attrs_100_max_attrs_10.csv', sep=';')\n",
    "x = pd.read_csv(\n",
    "    \"./tmp/leave_one_process_out_same_category_bireducts_1_sample_attrs_100_max_attrs_100.csv\",\n",
    "    sep=\";\",\n",
    ")\n",
    "\n",
    "\n",
    "# fpr, tpr, _ = roc_curve(df_dec, np.nan_to_num(x[0]/x[1]))\n",
    "fpr, tpr, _ = roc_curve(df_dec, np.nan_to_num(x.iloc[:, 0] / x.iloc[:, 1]), pos_label=1)\n",
    "\n",
    "plt.figure(figsize=(6, 5))\n",
    "lw = 2\n",
    "plt.plot(\n",
    "    fpr,\n",
    "    tpr,\n",
    "    color=\"darkorange\",\n",
    "    lw=lw,\n",
    "    label=\"ROC curve (area = %0.2f)\" % auc(fpr, tpr),\n",
    ")\n",
    "plt.plot([0, 1], [0, 1], color=\"navy\", lw=lw, linestyle=\"--\")\n",
    "plt.xlim([0.0, 1.0])\n",
    "plt.ylim([0.0, 1.05])\n",
    "plt.xlabel(\"False Positive Rate\")\n",
    "plt.ylabel(\"True Positive Rate\")\n",
    "plt.title(\"Receiver operating characteristic\")\n",
    "plt.legend(loc=\"lower right\")\n",
    "plt.show()"
   ]
  },
  {
   "cell_type": "code",
   "execution_count": null,
   "metadata": {},
   "outputs": [],
   "source": [
    "auc(fpr, tpr)"
   ]
  },
  {
   "cell_type": "code",
   "execution_count": null,
   "metadata": {},
   "outputs": [],
   "source": [
    "recall_score(fpr, tpr)"
   ]
  },
  {
   "cell_type": "code",
   "execution_count": null,
   "metadata": {},
   "outputs": [],
   "source": [
    "# x=pd.read_csv('./tmp/leave_one_process_out_k_10_m_1000_n_20.csv', sep=';')\n",
    "# x=pd.read_csv('./tmp/leave_one_process_out_k_10_nb_100_bna_10_draw_objects_mk2.csv', sep=';')\n",
    "x = pd.read_csv(\n",
    "    \"./tmp/leave_one_process_out_k_None_bireducts_1000_sample_attrs_100_max_attrs_10.csv\",\n",
    "    sep=\";\",\n",
    ")\n",
    "\n",
    "# fpr, tpr, _ = roc_curve(df_dec, np.nan_to_num(x[0]/x[1]))\n",
    "fpr, tpr, _ = roc_curve(df_dec, np.nan_to_num(x.iloc[:, 0] / x.iloc[:, 1]), pos_label=1)\n",
    "\n",
    "plt.figure(figsize=(6, 5))\n",
    "lw = 2\n",
    "plt.plot(\n",
    "    fpr,\n",
    "    tpr,\n",
    "    color=\"darkorange\",\n",
    "    lw=lw,\n",
    "    label=\"ROC curve (area = %0.2f)\" % auc(fpr, tpr),\n",
    ")\n",
    "plt.plot([0, 1], [0, 1], color=\"navy\", lw=lw, linestyle=\"--\")\n",
    "plt.xlim([0.0, 1.0])\n",
    "plt.ylim([0.0, 1.05])\n",
    "plt.xlabel(\"False Positive Rate\")\n",
    "plt.ylabel(\"True Positive Rate\")\n",
    "plt.title(\"Receiver operating characteristic\")\n",
    "plt.legend(loc=\"lower right\")\n",
    "plt.show()"
   ]
  },
  {
   "cell_type": "code",
   "execution_count": null,
   "metadata": {},
   "outputs": [],
   "source": [
    "auc(fpr, tpr)"
   ]
  },
  {
   "cell_type": "code",
   "execution_count": null,
   "metadata": {},
   "outputs": [],
   "source": []
  },
  {
   "cell_type": "code",
   "execution_count": null,
   "metadata": {},
   "outputs": [],
   "source": []
  },
  {
   "cell_type": "code",
   "execution_count": null,
   "metadata": {},
   "outputs": [],
   "source": []
  },
  {
   "cell_type": "code",
   "execution_count": null,
   "metadata": {},
   "outputs": [],
   "source": []
  },
  {
   "cell_type": "code",
   "execution_count": null,
   "metadata": {},
   "outputs": [],
   "source": []
  },
  {
   "cell_type": "code",
   "execution_count": null,
   "metadata": {},
   "outputs": [],
   "source": []
  },
  {
   "cell_type": "code",
   "execution_count": null,
   "metadata": {},
   "outputs": [],
   "source": []
  },
  {
   "cell_type": "code",
   "execution_count": null,
   "metadata": {},
   "outputs": [],
   "source": []
  },
  {
   "cell_type": "code",
   "execution_count": null,
   "metadata": {},
   "outputs": [],
   "source": []
  },
  {
   "cell_type": "code",
   "execution_count": null,
   "metadata": {},
   "outputs": [],
   "source": []
  },
  {
   "cell_type": "code",
   "execution_count": null,
   "metadata": {},
   "outputs": [],
   "source": []
  },
  {
   "cell_type": "code",
   "execution_count": null,
   "metadata": {},
   "outputs": [],
   "source": []
  },
  {
   "cell_type": "code",
   "execution_count": null,
   "metadata": {},
   "outputs": [],
   "source": []
  },
  {
   "cell_type": "code",
   "execution_count": null,
   "metadata": {},
   "outputs": [],
   "source": []
  },
  {
   "cell_type": "code",
   "execution_count": null,
   "metadata": {},
   "outputs": [],
   "source": []
  },
  {
   "cell_type": "code",
   "execution_count": null,
   "metadata": {},
   "outputs": [],
   "source": []
  },
  {
   "cell_type": "code",
   "execution_count": null,
   "metadata": {},
   "outputs": [],
   "source": []
  },
  {
   "cell_type": "code",
   "execution_count": null,
   "metadata": {},
   "outputs": [],
   "source": []
  },
  {
   "cell_type": "code",
   "execution_count": null,
   "metadata": {},
   "outputs": [],
   "source": []
  },
  {
   "cell_type": "code",
   "execution_count": null,
   "metadata": {},
   "outputs": [],
   "source": []
  },
  {
   "cell_type": "code",
   "execution_count": null,
   "metadata": {},
   "outputs": [],
   "source": []
  },
  {
   "cell_type": "code",
   "execution_count": null,
   "metadata": {},
   "outputs": [],
   "source": []
  },
  {
   "cell_type": "code",
   "execution_count": null,
   "metadata": {},
   "outputs": [],
   "source": []
  },
  {
   "cell_type": "code",
   "execution_count": null,
   "metadata": {},
   "outputs": [],
   "source": []
  },
  {
   "cell_type": "code",
   "execution_count": null,
   "metadata": {},
   "outputs": [],
   "source": []
  },
  {
   "cell_type": "code",
   "execution_count": null,
   "metadata": {},
   "outputs": [],
   "source": []
  },
  {
   "cell_type": "code",
   "execution_count": null,
   "metadata": {},
   "outputs": [],
   "source": []
  },
  {
   "cell_type": "code",
   "execution_count": null,
   "metadata": {},
   "outputs": [],
   "source": [
    "    "
   ]
  },
  {
   "cell_type": "code",
   "execution_count": null,
   "metadata": {},
   "outputs": [],
   "source": []
  },
  {
   "cell_type": "code",
   "execution_count": null,
   "metadata": {},
   "outputs": [],
   "source": []
  },
  {
   "cell_type": "code",
   "execution_count": null,
   "metadata": {},
   "outputs": [],
   "source": []
  },
  {
   "cell_type": "code",
   "execution_count": null,
   "metadata": {},
   "outputs": [],
   "source": []
  },
  {
   "cell_type": "code",
   "execution_count": null,
   "metadata": {},
   "outputs": [],
   "source": []
  },
  {
   "cell_type": "code",
   "execution_count": null,
   "metadata": {},
   "outputs": [],
   "source": []
  },
  {
   "cell_type": "code",
   "execution_count": null,
   "metadata": {},
   "outputs": [],
   "source": []
  },
  {
   "cell_type": "code",
   "execution_count": null,
   "metadata": {},
   "outputs": [],
   "source": []
  },
  {
   "cell_type": "code",
   "execution_count": null,
   "metadata": {},
   "outputs": [],
   "source": []
  }
 ],
 "metadata": {
  "kernelspec": {
   "display_name": "Python 3",
   "language": "python",
   "name": "python3"
  },
  "language_info": {
   "codemirror_mode": {
    "name": "ipython",
    "version": 3
   },
   "file_extension": ".py",
   "mimetype": "text/x-python",
   "name": "python",
   "nbconvert_exporter": "python",
   "pygments_lexer": "ipython3",
   "version": "3.8.5"
  }
 },
 "nbformat": 4,
 "nbformat_minor": 4
}
