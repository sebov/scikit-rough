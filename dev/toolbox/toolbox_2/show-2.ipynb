{
 "cells": [
  {
   "cell_type": "code",
   "execution_count": null,
   "metadata": {},
   "outputs": [],
   "source": [
    "import logging\n",
    "import pathlib\n",
    "import pickle\n",
    "import re\n",
    "import warnings\n",
    "from collections import defaultdict\n",
    "\n",
    "import attr\n",
    "import matplotlib.pyplot as plt\n",
    "import numpy as np\n",
    "import pandas as pd\n",
    "import seaborn as sns\n",
    "import tqdm\n",
    "from joblib import Parallel, delayed\n",
    "from plotnine import (\n",
    "    aes,\n",
    "    element_blank,\n",
    "    element_rect,\n",
    "    element_text,\n",
    "    ggplot,\n",
    "    stat_smooth,\n",
    "    theme,\n",
    ")\n",
    "from sklearn.metrics import precision_recall_curve, roc_auc_score\n",
    "from sklearn.model_selection import LeaveOneGroupOut\n",
    "from sklearn.neighbors import NearestNeighbors\n",
    "\n",
    "from skrough.base import Bireduct\n",
    "from skrough.bireducts.dynamically_adapted_approximate_bireduct import (\n",
    "    DynamicallyAdaptedApproximateBireduct,\n",
    ")\n",
    "\n",
    "warnings.filterwarnings(\"ignore\", category=np.VisibleDeprecationWarning)\n",
    "\n",
    "import config"
   ]
  },
  {
   "cell_type": "code",
   "execution_count": null,
   "metadata": {},
   "outputs": [],
   "source": []
  },
  {
   "cell_type": "code",
   "execution_count": null,
   "metadata": {},
   "outputs": [],
   "source": [
    "DATA_DIR = pathlib.Path(config.DATA_DIR)\n",
    "TMP_DIR = pathlib.Path(config.TMP_DIR)\n",
    "SEP = \";\"\n",
    "\n",
    "# FILEPATH_IN = DATA_DIR / 'toolbox_tabular_data_annonymized_discretized_uniform.csv'\n",
    "FILEPATH_IN = DATA_DIR / \"toolbox_tabular_data_annonymized_discretized_quantile.csv\"\n",
    "# FILEPATH_IN = DATA_DIR / 'toolbox_tabular_data_annonymized_discretized_kmeans.csv'\n",
    "# FILEPATH_IN = DATA_DIR / 'toolbox_tabular_data_annonymized.csv'\n",
    "\n",
    "EMBEDDINGS_FILEPATH_IN = DATA_DIR / \"process_embeddings_d50.csv\""
   ]
  },
  {
   "cell_type": "code",
   "execution_count": null,
   "metadata": {},
   "outputs": [],
   "source": []
  },
  {
   "cell_type": "code",
   "execution_count": null,
   "metadata": {},
   "outputs": [],
   "source": [
    "df = pd.read_csv(FILEPATH_IN, sep=SEP)\n",
    "process_ids = df.pop(\"process_ids\")\n",
    "df = df.astype(\"category\")\n",
    "df = df.apply(lambda x: x.cat.codes)\n",
    "df_dec = df.pop(\"target\")\n",
    "df_dec = 1 - df_dec\n",
    "\n",
    "embeddings = pd.read_csv(EMBEDDINGS_FILEPATH_IN)\n",
    "process_category = embeddings[[\"process_ids\", \"process_category\"]]\n",
    "embeddings.drop([\"process_category\"], axis=1, inplace=True)\n",
    "embeddings.set_index(\"process_ids\", inplace=True)\n",
    "emb_nbrs = NearestNeighbors().fit(embeddings)"
   ]
  },
  {
   "cell_type": "code",
   "execution_count": null,
   "metadata": {},
   "outputs": [],
   "source": [
    "sum(df_dec) / len(df_dec)"
   ]
  },
  {
   "cell_type": "code",
   "execution_count": null,
   "metadata": {},
   "outputs": [],
   "source": []
  },
  {
   "cell_type": "code",
   "execution_count": null,
   "metadata": {},
   "outputs": [],
   "source": []
  },
  {
   "cell_type": "code",
   "execution_count": null,
   "metadata": {},
   "outputs": [],
   "source": []
  },
  {
   "cell_type": "code",
   "execution_count": null,
   "metadata": {},
   "outputs": [],
   "source": []
  },
  {
   "cell_type": "code",
   "execution_count": null,
   "metadata": {},
   "outputs": [],
   "source": []
  },
  {
   "cell_type": "code",
   "execution_count": null,
   "metadata": {},
   "outputs": [],
   "source": []
  },
  {
   "cell_type": "code",
   "execution_count": null,
   "metadata": {},
   "outputs": [],
   "source": []
  },
  {
   "cell_type": "code",
   "execution_count": null,
   "metadata": {},
   "outputs": [],
   "source": []
  },
  {
   "cell_type": "code",
   "execution_count": null,
   "metadata": {},
   "outputs": [],
   "source": [
    "# result_xgboost_test = []\n",
    "# for p in (TMP_DIR/'paper_xgboost_hyper_native_2_test').glob('*.csv'):\n",
    "#     m = re.search('_dataset_(\\w+)'\n",
    "#                   '_leave_one_process_out_k_(\\d+).*_num_boost_round_(\\d+).*_learning_rate_([.\\d]+).*_max_depth_(\\d+).*_base_score_([.\\d]+).*\\.csv', p.name)\n",
    "#     if m is not None:\n",
    "#         dataset = m.group(1)\n",
    "#         k = int(m.group(2))\n",
    "#         num_boost_round = int(m.group(3))\n",
    "#         learning_rate = float(m.group(4))\n",
    "#         max_depth = int(m.group(5))\n",
    "#         base_score = float(m.group(6))\n",
    "#         x = pd.read_csv(p, sep=';')\n",
    "#         result_xgboost_test.append([dataset, k, num_boost_round, learning_rate, max_depth, base_score,\n",
    "#                        roc_auc_score(df_dec, np.nan_to_num(x.iloc[:, 0]/x.iloc[:, 1]))])\n",
    "# result_xgboost_test = pd.DataFrame(result_xgboost_test, columns=('dataset', 'k', 'num_boost_round', 'learning_rate', 'max_depth', 'base_score', 'AUC'))\n",
    "# result_xgboost_test.sort_values('AUC', ascending=False)"
   ]
  },
  {
   "cell_type": "code",
   "execution_count": null,
   "metadata": {},
   "outputs": [],
   "source": []
  },
  {
   "cell_type": "code",
   "execution_count": null,
   "metadata": {},
   "outputs": [],
   "source": [
    "result_xgboost = []\n",
    "for p in (TMP_DIR / \"paper_xgboost_hyper_native_2_\").glob(\"*.csv\"):\n",
    "    m = re.search(\n",
    "        r\"_dataset_(\\w+)\"\n",
    "        r\"_leave_one_process_out_k_(\\d+).*_num_boost_round_(\\d+).*_learning_rate_([.\\d]+).*_max_depth_(\\d+).*_base_score_([.\\d]+).*\\.csv\",\n",
    "        p.name,\n",
    "    )\n",
    "    if m is not None:\n",
    "        dataset = m.group(1)\n",
    "        k = int(m.group(2))\n",
    "        num_boost_round = int(m.group(3))\n",
    "        learning_rate = float(m.group(4))\n",
    "        max_depth = int(m.group(5))\n",
    "        base_score = float(m.group(6))\n",
    "        x = pd.read_csv(p, sep=\";\")\n",
    "        result_xgboost.append(\n",
    "            [\n",
    "                dataset,\n",
    "                k,\n",
    "                num_boost_round,\n",
    "                learning_rate,\n",
    "                max_depth,\n",
    "                base_score,\n",
    "                roc_auc_score(df_dec, np.nan_to_num(x.iloc[:, 0] / x.iloc[:, 1])),\n",
    "            ]\n",
    "        )\n",
    "result_xgboost = pd.DataFrame(\n",
    "    result_xgboost,\n",
    "    columns=(\n",
    "        \"dataset\",\n",
    "        \"k\",\n",
    "        \"num_boost_round\",\n",
    "        \"learning_rate\",\n",
    "        \"max_depth\",\n",
    "        \"base_score\",\n",
    "        \"AUC\",\n",
    "    ),\n",
    ")"
   ]
  },
  {
   "cell_type": "code",
   "execution_count": null,
   "metadata": {},
   "outputs": [],
   "source": [
    "# result_tree_test = []\n",
    "# for p in (TMP_DIR/'paper_tree_2_test').glob('*.csv'):\n",
    "#     m = re.search('_dataset_(\\w+)'\n",
    "#                   '_leave_one_process_out_k_(\\d+).*_min_impurity_decrease_([.\\d]+).*_max_depth_(\\d+|None).*\\.csv', p.name)\n",
    "#     if m is not None:\n",
    "#         dataset = m.group(1)\n",
    "#         k = int(m.group(2))\n",
    "#         min_impurity_decrease = float(m.group(3))\n",
    "#         max_depth = None if m.group(4) == 'None' else int(m.group(4))\n",
    "#         x = pd.read_csv(p, sep=';')\n",
    "#         result_tree_test.append([dataset, k, min_impurity_decrease, max_depth,\n",
    "#                        roc_auc_score(df_dec, np.nan_to_num(x.iloc[:, 0]/x.iloc[:, 1]))])\n",
    "# result_tree_test = pd.DataFrame(result_tree_test, columns=('dataset', 'k', 'min_impurity_decrease', 'max_depth', 'AUC'))\n",
    "# result_tree_test.sort_values('AUC', ascending=False)"
   ]
  },
  {
   "cell_type": "code",
   "execution_count": null,
   "metadata": {},
   "outputs": [],
   "source": []
  },
  {
   "cell_type": "code",
   "execution_count": null,
   "metadata": {},
   "outputs": [],
   "source": [
    "result_tree = []\n",
    "for p in (TMP_DIR / \"paper_tree_2_\").glob(\"*.csv\"):\n",
    "    m = re.search(\n",
    "        r\"_dataset_(\\w+)\"\n",
    "        r\"_leave_one_process_out_k_(\\d+).*_min_impurity_decrease_([.\\d]+).*_max_depth_(\\d+|None).*\\.csv\",\n",
    "        p.name,\n",
    "    )\n",
    "    if m is not None:\n",
    "        dataset = m.group(1)\n",
    "        k = int(m.group(2))\n",
    "        min_impurity_decrease = float(m.group(3))\n",
    "        max_depth = None if m.group(4) == \"None\" else int(m.group(4))\n",
    "        x = pd.read_csv(p, sep=\";\")\n",
    "        result_tree.append(\n",
    "            [\n",
    "                dataset,\n",
    "                k,\n",
    "                min_impurity_decrease,\n",
    "                max_depth,\n",
    "                roc_auc_score(df_dec, np.nan_to_num(x.iloc[:, 0] / x.iloc[:, 1])),\n",
    "            ]\n",
    "        )\n",
    "result_tree = pd.DataFrame(\n",
    "    result_tree, columns=(\"dataset\", \"k\", \"min_impurity_decrease\", \"max_depth\", \"AUC\")\n",
    ")"
   ]
  },
  {
   "cell_type": "code",
   "execution_count": null,
   "metadata": {},
   "outputs": [],
   "source": []
  },
  {
   "cell_type": "code",
   "execution_count": null,
   "metadata": {},
   "outputs": [],
   "source": [
    "result_bireducts = []\n",
    "for p in (TMP_DIR / \"paper_bireducts_2_\").glob(\"*.csv\"):\n",
    "    m = re.search(\n",
    "        r\"_dataset_(\\w+)\"\n",
    "        r\"_leave_one_process_out_k_(\\d+).*_n_bireducts_(\\d+).*_candidate_n_attrs_(\\d+).*_allowed_randomness_([.\\d]+).*_max_n_attrs_(\\d+|None).*_iteration_(\\d+).*\\.csv\",\n",
    "        p.name,\n",
    "    )\n",
    "    if m is not None:\n",
    "        dataset = m.group(1)\n",
    "        k = int(m.group(2))\n",
    "        n_bireducts = int(m.group(3))\n",
    "        candidate_n_attrs = int(m.group(4))\n",
    "        allowed_randomness = float(m.group(5))\n",
    "        max_n_attrs = None if m.group(6) == \"None\" else int(m.group(6))\n",
    "        iteration = int(m.group(7))\n",
    "        x = pd.read_csv(p, sep=\";\")\n",
    "        result_bireducts.append(\n",
    "            [\n",
    "                dataset,\n",
    "                k,\n",
    "                n_bireducts,\n",
    "                candidate_n_attrs,\n",
    "                allowed_randomness,\n",
    "                max_n_attrs,\n",
    "                iteration,\n",
    "                roc_auc_score(df_dec, np.nan_to_num(x.iloc[:, 0] / x.iloc[:, 1])),\n",
    "                roc_auc_score(df_dec, np.nan_to_num(x.iloc[:, 0] / x.iloc[:, 2])),\n",
    "            ]\n",
    "        )\n",
    "result_bireducts = pd.DataFrame(\n",
    "    result_bireducts,\n",
    "    columns=(\n",
    "        \"dataset\",\n",
    "        \"k\",\n",
    "        \"n_bireducts\",\n",
    "        \"candidate_n_attrs\",\n",
    "        \"allowed_randomness\",\n",
    "        \"max_n_attrs\",\n",
    "        \"iteration\",\n",
    "        \"AUC\",\n",
    "        \"AUC2\",\n",
    "    ),\n",
    ")"
   ]
  },
  {
   "cell_type": "code",
   "execution_count": null,
   "metadata": {},
   "outputs": [],
   "source": [
    "result_bireducts_old = []\n",
    "for p in (TMP_DIR / \"paper\").glob(\"*.csv\"):\n",
    "    m = re.search(\n",
    "        r\"k_(\\d+).*_bireducts_(\\d+).*_candidate_attrs_(\\d+).*_allowed_randomness_([.\\d]+).*_rep_(\\d+).*\\.csv\",\n",
    "        p.name,\n",
    "    )\n",
    "    if m is not None:\n",
    "        k = int(m.group(1))\n",
    "        bireducts = int(m.group(2))\n",
    "        candidate_attrs = int(m.group(3))\n",
    "        allowed_randomness = float(m.group(4))\n",
    "        iteration = int(m.group(5))\n",
    "        x = pd.read_csv(p, sep=\";\")\n",
    "        result_bireducts_old.append(\n",
    "            [\n",
    "                k,\n",
    "                bireducts,\n",
    "                candidate_attrs,\n",
    "                allowed_randomness,\n",
    "                iteration,\n",
    "                1 - roc_auc_score(df_dec, np.nan_to_num(x.iloc[:, 0] / x.iloc[:, 1])),\n",
    "                1 - roc_auc_score(df_dec, np.nan_to_num(x.iloc[:, 0] / x.iloc[:, 2])),\n",
    "            ]\n",
    "        )\n",
    "result_bireducts_old = pd.DataFrame(\n",
    "    result_bireducts_old,\n",
    "    columns=(\n",
    "        \"k\",\n",
    "        \"bireducts\",\n",
    "        \"candidate_attrs\",\n",
    "        \"allowed_randomness\",\n",
    "        \"iteration\",\n",
    "        \"AUC\",\n",
    "        \"AUC2\",\n",
    "    ),\n",
    ")"
   ]
  },
  {
   "cell_type": "code",
   "execution_count": null,
   "metadata": {},
   "outputs": [],
   "source": [
    "result_bireducts_old_3 = []\n",
    "for p in (TMP_DIR / \"paper_max_3_attrs\").glob(\"*.csv\"):\n",
    "    m = re.search(\n",
    "        r\"k_(\\d+).*_bireducts_(\\d+).*_candidate_attrs_(\\d+).*_allowed_randomness_([.\\d]+).*_max_attrs_(\\d+).*_rep_(\\d+).*\\.csv\",\n",
    "        p.name,\n",
    "    )\n",
    "    if m is not None:\n",
    "        k = int(m.group(1))\n",
    "        bireducts = int(m.group(2))\n",
    "        candidate_attrs = int(m.group(3))\n",
    "        allowed_randomness = float(m.group(4))\n",
    "        max_attrs = int(m.group(5))\n",
    "        iteration = int(m.group(6))\n",
    "        x = pd.read_csv(p, sep=\";\")\n",
    "        result_bireducts_old_3.append(\n",
    "            [\n",
    "                k,\n",
    "                bireducts,\n",
    "                candidate_attrs,\n",
    "                allowed_randomness,\n",
    "                max_attrs,\n",
    "                iteration,\n",
    "                1 - roc_auc_score(df_dec, np.nan_to_num(x.iloc[:, 0] / x.iloc[:, 1])),\n",
    "                1 - roc_auc_score(df_dec, np.nan_to_num(x.iloc[:, 0] / x.iloc[:, 2])),\n",
    "            ]\n",
    "        )\n",
    "result_bireducts_old_3 = pd.DataFrame(\n",
    "    result_bireducts_old_3,\n",
    "    columns=(\n",
    "        \"k\",\n",
    "        \"bireducts\",\n",
    "        \"candidate_attrs\",\n",
    "        \"allowed_randomness\",\n",
    "        \"max_attrs\",\n",
    "        \"iteration\",\n",
    "        \"AUC\",\n",
    "        \"AUC2\",\n",
    "    ),\n",
    ")"
   ]
  },
  {
   "cell_type": "code",
   "execution_count": null,
   "metadata": {},
   "outputs": [],
   "source": []
  },
  {
   "cell_type": "code",
   "execution_count": null,
   "metadata": {},
   "outputs": [],
   "source": []
  },
  {
   "cell_type": "code",
   "execution_count": null,
   "metadata": {},
   "outputs": [],
   "source": []
  },
  {
   "cell_type": "code",
   "execution_count": null,
   "metadata": {},
   "outputs": [],
   "source": []
  },
  {
   "cell_type": "code",
   "execution_count": null,
   "metadata": {},
   "outputs": [],
   "source": [
    "# x2 = result_xgboost[(result_xgboost['num_boost_round'] == 1000) & (result_xgboost['learning_rate'] == 0.001) & (result_xgboost['max_depth'] == 2) & (result_xgboost['base_score'] == 0.0696)]\n",
    "# x3 = result_xgboost[(result_xgboost['num_boost_round'] == 1000) & (result_xgboost['learning_rate'] == 0.001) & (result_xgboost['max_depth'] == 3) & (result_xgboost['base_score'] == 0.0696)]\n",
    "# x4 = result_xgboost[(result_xgboost['num_boost_round'] == 1000) & (result_xgboost['learning_rate'] == 0.001) & (result_xgboost['max_depth'] == 4) & (result_xgboost['base_score'] == 0.0696)]\n",
    "# x5 = result_xgboost[(result_xgboost['num_boost_round'] == 1000) & (result_xgboost['learning_rate'] == 0.001) & (result_xgboost['max_depth'] == 5) & (result_xgboost['base_score'] == 0.0696)]\n",
    "# x10 = result_xgboost[(result_xgboost['num_boost_round'] == 1000) & (result_xgboost['learning_rate'] == 0.001) & (result_xgboost['max_depth'] == 10) & (result_xgboost['base_score'] == 0.0696)]\n",
    "\n",
    "x3 = result_xgboost[\n",
    "    (result_xgboost[\"dataset\"] == \"toolbox_tabular_data_annonymized\")\n",
    "    & (result_xgboost[\"num_boost_round\"] == 1000)\n",
    "    & (result_xgboost[\"learning_rate\"] == 0.001)\n",
    "    & (result_xgboost[\"max_depth\"] == 3)\n",
    "    & (result_xgboost[\"base_score\"] == 0.0696)\n",
    "]\n",
    "x2_discretized = result_xgboost[\n",
    "    (\n",
    "        result_xgboost[\"dataset\"]\n",
    "        == \"toolbox_tabular_data_annonymized_discretized_quantile\"\n",
    "    )\n",
    "    & (result_xgboost[\"num_boost_round\"] == 1000)\n",
    "    & (result_xgboost[\"learning_rate\"] == 0.001)\n",
    "    & (result_xgboost[\"max_depth\"] == 2)\n",
    "    & (result_xgboost[\"base_score\"] == 0.0696)\n",
    "]\n",
    "\n",
    "\n",
    "t1 = result_tree[\n",
    "    (result_tree[\"dataset\"] == \"toolbox_tabular_data_annonymized\")\n",
    "    & (result_tree[\"min_impurity_decrease\"] == 0.0)\n",
    "    & (result_tree[\"max_depth\"] == 2)\n",
    "]\n",
    "t2 = result_tree[\n",
    "    (result_tree[\"dataset\"] == \"toolbox_tabular_data_annonymized\")\n",
    "    & (result_tree[\"min_impurity_decrease\"] == 0.001)\n",
    "    & (result_tree[\"max_depth\"] == 2)\n",
    "]\n",
    "t3 = result_tree[\n",
    "    (result_tree[\"dataset\"] == \"toolbox_tabular_data_annonymized\")\n",
    "    & (result_tree[\"min_impurity_decrease\"] == 0.0)\n",
    "    & (result_tree[\"max_depth\"] == 3)\n",
    "]\n",
    "t4 = result_tree[\n",
    "    (result_tree[\"dataset\"] == \"toolbox_tabular_data_annonymized\")\n",
    "    & (result_tree[\"min_impurity_decrease\"] == 0.001)\n",
    "    & (result_tree[\"max_depth\"] == 3)\n",
    "]\n",
    "t5 = result_tree[\n",
    "    (result_tree[\"dataset\"] == \"toolbox_tabular_data_annonymized\")\n",
    "    & (result_tree[\"min_impurity_decrease\"] == 0.0)\n",
    "    & (result_tree[\"max_depth\"] == 4)\n",
    "]\n",
    "t6 = result_tree[\n",
    "    (result_tree[\"dataset\"] == \"toolbox_tabular_data_annonymized\")\n",
    "    & (result_tree[\"min_impurity_decrease\"] == 0.001)\n",
    "    & (result_tree[\"max_depth\"] == 4)\n",
    "]\n",
    "t7 = result_tree[\n",
    "    (result_tree[\"dataset\"] == \"toolbox_tabular_data_annonymized\")\n",
    "    & (result_tree[\"min_impurity_decrease\"] == 0.0)\n",
    "    & (result_tree[\"max_depth\"] == 5)\n",
    "]\n",
    "t8 = result_tree[\n",
    "    (result_tree[\"dataset\"] == \"toolbox_tabular_data_annonymized\")\n",
    "    & (result_tree[\"min_impurity_decrease\"] == 0.001)\n",
    "    & (result_tree[\"max_depth\"] == 5)\n",
    "]\n",
    "\n",
    "b1 = result_bireducts[\n",
    "    (result_bireducts[\"max_n_attrs\"].isnull()) & (result_bireducts[\"iteration\"] == 0)\n",
    "]\n",
    "b2 = result_bireducts[\n",
    "    (result_bireducts[\"max_n_attrs\"] == 3) & (result_bireducts[\"iteration\"] == 1)\n",
    "]\n",
    "\n",
    "bo1 = result_bireducts_old[result_bireducts_old[\"iteration\"] == 0]\n",
    "bo2 = result_bireducts_old[result_bireducts_old[\"iteration\"] == 1]\n",
    "bo3 = result_bireducts_old[result_bireducts_old[\"iteration\"] == 2]\n",
    "bo4 = result_bireducts_old[result_bireducts_old[\"iteration\"] == 3]\n",
    "bo5 = result_bireducts_old[result_bireducts_old[\"iteration\"] == 4]\n",
    "\n",
    "bo31 = result_bireducts_old_3[result_bireducts_old_3[\"iteration\"] == 0]\n",
    "bo32 = result_bireducts_old_3[result_bireducts_old_3[\"iteration\"] == 1]\n",
    "bo33 = result_bireducts_old_3[result_bireducts_old_3[\"iteration\"] == 2]\n",
    "bo34 = result_bireducts_old_3[result_bireducts_old_3[\"iteration\"] == 3]\n",
    "bo35 = result_bireducts_old_3[result_bireducts_old_3[\"iteration\"] == 4]"
   ]
  },
  {
   "cell_type": "code",
   "execution_count": null,
   "metadata": {},
   "outputs": [],
   "source": [
    "result_tree[\n",
    "    (result_tree[\"dataset\"] == \"toolbox_tabular_data_annonymized\")\n",
    "    & (result_tree[\"k\"] == 40)\n",
    "].sort_values(\"AUC\", ascending=False)"
   ]
  },
  {
   "cell_type": "code",
   "execution_count": null,
   "metadata": {},
   "outputs": [],
   "source": []
  },
  {
   "cell_type": "code",
   "execution_count": null,
   "metadata": {},
   "outputs": [],
   "source": []
  },
  {
   "cell_type": "code",
   "execution_count": null,
   "metadata": {},
   "outputs": [],
   "source": [
    "sns.set_theme()\n",
    "plt.figure(figsize=(15, 8))\n",
    "plt.xlim(8, 200)\n",
    "\n",
    "sns.lineplot(data=x3, x=\"k\", y=\"AUC\", markers=True, label=\"xgboost_depth_3\")\n",
    "# sns.lineplot(data=x2_discretized, x='k', y='AUC', markers=True, label='xgboost_depth_2_discretized')\n",
    "# sns.lineplot(data=x2, x='k', y='AUC', markers=True, lw=1, label='xgboost')\n",
    "# sns.lineplot(data=x3, x='k', y='AUC', markers=True, lw=1, label='xgboost')\n",
    "# sns.lineplot(data=x5, x='k', y='AUC', markers=True, lw=1, label='xgboost_depth_5')\n",
    "# sns.lineplot(data=x5, x='k', y='AUC', markers=True, lw=1, label='xgboost')\n",
    "\n",
    "sns.lineplot(data=b1, x=\"k\", y=\"AUC\", markers=True, lw=1, label=\"bireducts\")\n",
    "# sns.lineplot(data=b2, x='k', y='AUC', markers=True, lw=1, label='bireducts_attrs_3')\n",
    "\n",
    "# sns.lineplot(data=bo1, x='k', y='AUC', markers=True, lw=1, color='red', label='bireducts_old')\n",
    "# sns.lineplot(data=bo2, x='k', y='AUC', markers=True, lw=1, color='red')\n",
    "# sns.lineplot(data=bo3, x='k', y='AUC', markers=True, lw=1, color='red')\n",
    "# sns.lineplot(data=bo4, x='k', y='AUC', markers=True, lw=1, color='red')\n",
    "# sns.lineplot(data=bo5, x='k', y='AUC', markers=True, lw=1, color='red')\n",
    "\n",
    "# sns.lineplot(data=result_bireducts_old, x='k', y='AUC', markers=True, lw=1, label='bireducts_old')\n",
    "\n",
    "# sns.lineplot(data=bo31, x='k', y='AUC', markers=True, lw=1, color='plum', label='bireducts_old_3')\n",
    "# sns.lineplot(data=bo32, x='k', y='AUC', markers=True, lw=1, color='plum')\n",
    "# sns.lineplot(data=bo33, x='k', y='AUC', markers=True, lw=1, color='plum')\n",
    "# sns.lineplot(data=bo34, x='k', y='AUC', markers=True, lw=1, color='plum')\n",
    "# sns.lineplot(data=bo35, x='k', y='AUC', markers=True, lw=1, color='plum')\n",
    "\n",
    "# sns.lineplot(data=result_bireducts_old_3, x='k', y='AUC', markers=True, lw=1, label='bireducts_old_3')\n",
    "\n",
    "# sns.lineplot(data=t1, x='k', y='AUC', markers=True, lw=1, label='tree')\n",
    "# sns.lineplot(data=t2, x='k', y='AUC', markers=True, lw=1)\n",
    "# sns.lineplot(data=t3, x='k', y='AUC', markers=True, lw=1, label='3')\n",
    "# sns.lineplot(data=t4, x='k', y='AUC', markers=True, lw=1)\n",
    "# sns.lineplot(data=t5, x='k', y='AUC', markers=True, lw=1, label='5')\n",
    "# sns.lineplot(data=t6, x='k', y='AUC', markers=True, lw=1)\n",
    "sns.lineplot(data=t7, x=\"k\", y=\"AUC\", markers=True, lw=1, label=\"7\")\n",
    "# sns.lineplot(data=t8, x='k', y='AUC', markers=True, lw=1)"
   ]
  },
  {
   "cell_type": "code",
   "execution_count": null,
   "metadata": {},
   "outputs": [],
   "source": [
    "x3"
   ]
  },
  {
   "cell_type": "code",
   "execution_count": null,
   "metadata": {},
   "outputs": [],
   "source": []
  },
  {
   "cell_type": "code",
   "execution_count": null,
   "metadata": {},
   "outputs": [],
   "source": [
    "# (ggplot()\n",
    "#  + stat_smooth(data=x3, mapping=aes('k', 'AUC'), method='loess', color='royalblue', size=2, span=0.3)\n",
    "#  + stat_smooth(data=b1, mapping=aes('k', 'AUC'), method='loess', color='limegreen', size=2, span=0.3)\n",
    "#  + stat_smooth(data=t7, mapping=aes('k', 'AUC'), method='loess', color='tomato', size=2, span=0.3)\n",
    "# )"
   ]
  },
  {
   "cell_type": "code",
   "execution_count": null,
   "metadata": {},
   "outputs": [],
   "source": [
    "x3\n",
    "b1\n",
    "t7"
   ]
  },
  {
   "cell_type": "code",
   "execution_count": null,
   "metadata": {},
   "outputs": [],
   "source": [
    "valx = x3[[\"k\", \"AUC\"]].copy()\n",
    "valx[\"algorithm\"] = \"xgboost\"\n",
    "valb = b1[[\"k\", \"AUC\"]].copy()\n",
    "valb[\"algorithm\"] = \"bireducts\"\n",
    "valt = t7[[\"k\", \"AUC\"]].copy()\n",
    "valt[\"algorithm\"] = \"decision tree\"\n",
    "\n",
    "vals = pd.concat([valx, valb, valt])"
   ]
  },
  {
   "cell_type": "code",
   "execution_count": null,
   "metadata": {},
   "outputs": [],
   "source": [
    "vals.to_csv(\"auc_vals.csv\")"
   ]
  },
  {
   "cell_type": "code",
   "execution_count": null,
   "metadata": {},
   "outputs": [],
   "source": []
  },
  {
   "cell_type": "code",
   "execution_count": null,
   "metadata": {},
   "outputs": [],
   "source": [
    "plot = (\n",
    "    ggplot(vals, aes(x=\"k\"))\n",
    "    + stat_smooth(\n",
    "        aes(\n",
    "            y=\"AUC\",\n",
    "            color=[\"red\"] * 20 + [\"blue\"] * 20 + [\"green\"] * 20,\n",
    "            group=\"algorithm\",\n",
    "        ),\n",
    "        span=0.4,\n",
    "        size=2,\n",
    "        level=0.95,\n",
    "    )\n",
    "    + theme(\n",
    "        legend_direction=\"horizontal\",\n",
    "        legend_position=\"bottom\",\n",
    "        legend_key=element_rect(alpha=0),\n",
    "        legend_title=element_blank(),\n",
    "        legend_entry_spacing_x=50,\n",
    "        legend_box_margin=-3,\n",
    "        legend_box_spacing=0.45,\n",
    "        #         rect=element_rect(color='black', size=3, fill='#EEBB0050'),\n",
    "    )\n",
    ")\n",
    "plot"
   ]
  },
  {
   "cell_type": "code",
   "execution_count": null,
   "metadata": {},
   "outputs": [],
   "source": [
    "plot.save(\"kresults_span_04.pdf\")"
   ]
  },
  {
   "cell_type": "code",
   "execution_count": null,
   "metadata": {},
   "outputs": [],
   "source": []
  },
  {
   "cell_type": "code",
   "execution_count": null,
   "metadata": {},
   "outputs": [],
   "source": []
  },
  {
   "cell_type": "markdown",
   "metadata": {},
   "source": [
    "# Predictions"
   ]
  },
  {
   "cell_type": "code",
   "execution_count": null,
   "metadata": {},
   "outputs": [],
   "source": [
    "def get_predictions(file_path, norm_column=1):\n",
    "    df = pd.read_csv(file_path, sep=\";\")\n",
    "    return df.iloc[:, 0] / df.iloc[:, 1]\n",
    "\n",
    "\n",
    "def get_predictions_metrics(df_dec, preds, round_decimals=3):\n",
    "    precision, recall, thresholds = precision_recall_curve(df_dec, preds)\n",
    "    f1_score = np.divide(\n",
    "        2 * recall * precision,\n",
    "        recall + precision,\n",
    "        out=np.zeros(len(precision)),\n",
    "        where=(recall + precision > 0),\n",
    "    )\n",
    "    i = np.argmax(f1_score)\n",
    "    #     sns.lineplot(x=range(len(f1_score)), y=f1_score, label='f1_score')\n",
    "    return {\n",
    "        \"precision\": np.round(precision[i], decimals=round_decimals),\n",
    "        \"recall\": np.round(recall[i], decimals=round_decimals),\n",
    "        \"f1_score\": np.round(f1_score[i], decimals=round_decimals),\n",
    "        \"AUC\": np.round(roc_auc_score(df_dec, preds), decimals=round_decimals),\n",
    "    }\n",
    "\n",
    "\n",
    "def get_predictions_table(df_dec, preds_all, preds_same, preds_40, round_decimal=3):\n",
    "    table = pd.DataFrame.from_dict(\n",
    "        {\n",
    "            \"all\": get_predictions_metrics(df_dec, preds_all),\n",
    "            \"same\": get_predictions_metrics(df_dec, preds_same),\n",
    "            \"top 40\": get_predictions_metrics(df_dec, preds_40),\n",
    "        },\n",
    "        orient=\"index\",\n",
    "    )\n",
    "    table = table.T\n",
    "    return table"
   ]
  },
  {
   "cell_type": "code",
   "execution_count": null,
   "metadata": {},
   "outputs": [],
   "source": [
    "# pred_xgboost_discretized_all = get_predictions(\n",
    "#     './tmp/paper_xgboost_hyper_native_2_/xgboost_native_dataset_toolbox_tabular_data_annonymized_discretized_quantile'\n",
    "#     '_leave_one_process_out_k_None_num_boost_round_1000_learning_rate_0.001_max_depth_2_base_score_0.0696.csv')\n",
    "# pred_xgboost_discretized_same = get_predictions(\n",
    "#     './tmp/paper_xgboost_hyper_native_2_/xgboost_native_dataset_toolbox_tabular_data_annonymized_discretized_quantile'\n",
    "#     '_leave_one_process_out_same_category_num_boost_round_1000_learning_rate_0.001_max_depth_2_base_score_0.0696.csv')\n",
    "# pred_xgboost_discretized_40 = get_predictions(\n",
    "#     './tmp/paper_xgboost_hyper_native_2_/xgboost_native_dataset_toolbox_tabular_data_annonymized_discretized_quantile'\n",
    "#     '_leave_one_process_out_k_40_num_boost_round_1000_learning_rate_0.001_max_depth_2_base_score_0.0696.csv')\n",
    "\n",
    "\n",
    "pred_xgboost_all = get_predictions(\n",
    "    \"./tmp/paper_xgboost_hyper_native_2_/xgboost_native_dataset_toolbox_tabular_data_annonymized\"\n",
    "    \"_leave_one_process_out_k_None_num_boost_round_1000_learning_rate_0.001_max_depth_3_base_score_0.0696.csv\"\n",
    ")\n",
    "pred_xgboost_same = get_predictions(\n",
    "    \"./tmp/paper_xgboost_hyper_native_2_/xgboost_native_dataset_toolbox_tabular_data_annonymized\"\n",
    "    \"_leave_one_process_out_same_category_num_boost_round_1000_learning_rate_0.001_max_depth_3_base_score_0.0696.csv\"\n",
    ")\n",
    "pred_xgboost_40 = get_predictions(\n",
    "    \"./tmp/paper_xgboost_hyper_native_2_/xgboost_native_dataset_toolbox_tabular_data_annonymized\"\n",
    "    \"_leave_one_process_out_k_40_num_boost_round_1000_learning_rate_0.001_max_depth_3_base_score_0.0696.csv\"\n",
    ")\n",
    "\n",
    "\n",
    "# pred_tree_discretized_all = get_predictions(\n",
    "#     './tmp/paper_tree_2_/decision_tree_dataset_toolbox_tabular_data_annonymized_discretized_quantile'\n",
    "#     '_leave_one_process_out_k_None_min_impurity_decrease_0.0_max_depth_3.csv')\n",
    "# pred_tree_discretized_same = get_predictions(\n",
    "#     './tmp/paper_tree_2_/decision_tree_dataset_toolbox_tabular_data_annonymized_discretized_quantile'\n",
    "#     '_leave_one_process_out_same_category_min_impurity_decrease_0.0_max_depth_3.csv')\n",
    "# pred_tree_discretized_40 = get_predictions(\n",
    "#     './tmp/paper_tree_2_/decision_tree_dataset_toolbox_tabular_data_annonymized_discretized_quantile'\n",
    "#     '_leave_one_process_out_k_40_min_impurity_decrease_0.0_max_depth_3.csv')\n",
    "\n",
    "\n",
    "pred_tree_all = get_predictions(\n",
    "    \"./tmp/paper_tree_2_/decision_tree_dataset_toolbox_tabular_data_annonymized\"\n",
    "    \"_leave_one_process_out_k_None_min_impurity_decrease_0.0_max_depth_5.csv\"\n",
    ")\n",
    "pred_tree_same = get_predictions(\n",
    "    \"./tmp/paper_tree_2_/decision_tree_dataset_toolbox_tabular_data_annonymized\"\n",
    "    \"_leave_one_process_out_same_category_min_impurity_decrease_0.0_max_depth_5.csv\"\n",
    ")\n",
    "pred_tree_40 = get_predictions(\n",
    "    \"./tmp/paper_tree_2_/decision_tree_dataset_toolbox_tabular_data_annonymized\"\n",
    "    \"_leave_one_process_out_k_40_min_impurity_decrease_0.0_max_depth_5.csv\"\n",
    ")\n",
    "\n",
    "\n",
    "# pred_tree_all_4 = get_predictions(\n",
    "#     './tmp/paper_tree_2_/decision_tree_dataset_toolbox_tabular_data_annonymized'\n",
    "#     '_leave_one_process_out_k_None_min_impurity_decrease_0.0_max_depth_4.csv')\n",
    "# pred_tree_same_4 = get_predictions(\n",
    "#     './tmp/paper_tree_2_/decision_tree_dataset_toolbox_tabular_data_annonymized'\n",
    "#     '_leave_one_process_out_same_category_min_impurity_decrease_0.0_max_depth_4.csv')\n",
    "# pred_tree_40_4 = get_predictions(\n",
    "#     './tmp/paper_tree_2_/decision_tree_dataset_toolbox_tabular_data_annonymized'\n",
    "#     '_leave_one_process_out_k_40_min_impurity_decrease_0.0_max_depth_4.csv')\n",
    "\n",
    "\n",
    "# pred_tree_all_3 = get_predictions(\n",
    "#     './tmp/paper_tree_2_/decision_tree_dataset_toolbox_tabular_data_annonymized'\n",
    "#     '_leave_one_process_out_k_None_min_impurity_decrease_0.0_max_depth_3.csv')\n",
    "# pred_tree_same_3 = get_predictions(\n",
    "#     './tmp/paper_tree_2_/decision_tree_dataset_toolbox_tabular_data_annonymized'\n",
    "#     '_leave_one_process_out_same_category_min_impurity_decrease_0.0_max_depth_3.csv')\n",
    "# pred_tree_40_3 = get_predictions(\n",
    "#     './tmp/paper_tree_2_/decision_tree_dataset_toolbox_tabular_data_annonymized'\n",
    "#     '_leave_one_process_out_k_40_min_impurity_decrease_0.0_max_depth_3.csv')\n",
    "\n",
    "\n",
    "pred_bireducts_all = get_predictions(\n",
    "    \"./tmp/paper_bireducts_2_/bireducts_dataset_toolbox_tabular_data_annonymized_discretized_quantile\"\n",
    "    \"_leave_one_process_out_k_None_n_bireducts_1000_candidate_n_attrs_100_allowed_randomness_0.05_max_n_attrs_None_iteration_0.csv\"\n",
    ")\n",
    "pred_bireducts_same = get_predictions(\n",
    "    \"./tmp/paper_bireducts_2_/bireducts_dataset_toolbox_tabular_data_annonymized_discretized_quantile\"\n",
    "    \"_leave_one_process_out_same_category_n_bireducts_1000_candidate_n_attrs_100_allowed_randomness_0.05_max_n_attrs_None_iteration_0.csv\"\n",
    ")\n",
    "pred_bireducts_40 = get_predictions(\n",
    "    \"./tmp/paper_bireducts_2_/bireducts_dataset_toolbox_tabular_data_annonymized_discretized_quantile\"\n",
    "    \"_leave_one_process_out_k_40_n_bireducts_1000_candidate_n_attrs_100_allowed_randomness_0.05_max_n_attrs_None_iteration_0.csv\"\n",
    ")"
   ]
  },
  {
   "cell_type": "code",
   "execution_count": null,
   "metadata": {},
   "outputs": [],
   "source": []
  },
  {
   "cell_type": "code",
   "execution_count": null,
   "metadata": {},
   "outputs": [],
   "source": []
  },
  {
   "cell_type": "code",
   "execution_count": null,
   "metadata": {},
   "outputs": [],
   "source": []
  },
  {
   "cell_type": "code",
   "execution_count": null,
   "metadata": {},
   "outputs": [],
   "source": []
  },
  {
   "cell_type": "code",
   "execution_count": null,
   "metadata": {},
   "outputs": [],
   "source": []
  },
  {
   "cell_type": "code",
   "execution_count": null,
   "metadata": {},
   "outputs": [],
   "source": []
  },
  {
   "cell_type": "code",
   "execution_count": null,
   "metadata": {},
   "outputs": [],
   "source": []
  },
  {
   "cell_type": "code",
   "execution_count": null,
   "metadata": {},
   "outputs": [],
   "source": []
  },
  {
   "cell_type": "code",
   "execution_count": null,
   "metadata": {},
   "outputs": [],
   "source": []
  },
  {
   "cell_type": "code",
   "execution_count": null,
   "metadata": {},
   "outputs": [],
   "source": []
  },
  {
   "cell_type": "code",
   "execution_count": null,
   "metadata": {},
   "outputs": [],
   "source": [
    "\n",
    "\n"
   ]
  },
  {
   "cell_type": "code",
   "execution_count": null,
   "metadata": {},
   "outputs": [],
   "source": []
  },
  {
   "cell_type": "code",
   "execution_count": null,
   "metadata": {},
   "outputs": [],
   "source": [
    "get_predictions_metrics(df_dec, pred_xgboost_all)"
   ]
  },
  {
   "cell_type": "code",
   "execution_count": null,
   "metadata": {},
   "outputs": [],
   "source": [
    "get_predictions_metrics(df_dec, pred_xgboost_same)"
   ]
  },
  {
   "cell_type": "code",
   "execution_count": null,
   "metadata": {},
   "outputs": [],
   "source": [
    "get_predictions_metrics(df_dec, pred_xgboost_40)"
   ]
  },
  {
   "cell_type": "code",
   "execution_count": null,
   "metadata": {},
   "outputs": [],
   "source": [
    "print(\n",
    "    get_predictions_table(\n",
    "        df_dec, pred_xgboost_all, pred_xgboost_same, pred_xgboost_40\n",
    "    ).to_latex()\n",
    ")"
   ]
  },
  {
   "cell_type": "code",
   "execution_count": null,
   "metadata": {},
   "outputs": [],
   "source": []
  },
  {
   "cell_type": "code",
   "execution_count": null,
   "metadata": {},
   "outputs": [],
   "source": []
  },
  {
   "cell_type": "code",
   "execution_count": null,
   "metadata": {},
   "outputs": [],
   "source": []
  },
  {
   "cell_type": "code",
   "execution_count": null,
   "metadata": {},
   "outputs": [],
   "source": []
  },
  {
   "cell_type": "code",
   "execution_count": null,
   "metadata": {},
   "outputs": [],
   "source": [
    "get_predictions_metrics(df_dec, pred_tree_all)"
   ]
  },
  {
   "cell_type": "code",
   "execution_count": null,
   "metadata": {},
   "outputs": [],
   "source": [
    "get_predictions_metrics(df_dec, pred_tree_same)"
   ]
  },
  {
   "cell_type": "code",
   "execution_count": null,
   "metadata": {},
   "outputs": [],
   "source": [
    "get_predictions_metrics(df_dec, pred_tree_40)"
   ]
  },
  {
   "cell_type": "code",
   "execution_count": null,
   "metadata": {},
   "outputs": [],
   "source": [
    "print(\n",
    "    get_predictions_table(\n",
    "        df_dec, pred_tree_all, pred_tree_same, pred_tree_40\n",
    "    ).to_latex()\n",
    ")"
   ]
  },
  {
   "cell_type": "code",
   "execution_count": null,
   "metadata": {},
   "outputs": [],
   "source": []
  },
  {
   "cell_type": "code",
   "execution_count": null,
   "metadata": {},
   "outputs": [],
   "source": []
  },
  {
   "cell_type": "code",
   "execution_count": null,
   "metadata": {},
   "outputs": [],
   "source": []
  },
  {
   "cell_type": "code",
   "execution_count": null,
   "metadata": {},
   "outputs": [],
   "source": [
    "get_predictions_metrics(df_dec, pred_bireducts_all)"
   ]
  },
  {
   "cell_type": "code",
   "execution_count": null,
   "metadata": {},
   "outputs": [],
   "source": [
    "get_predictions_metrics(df_dec, pred_bireducts_same)"
   ]
  },
  {
   "cell_type": "code",
   "execution_count": null,
   "metadata": {},
   "outputs": [],
   "source": [
    "get_predictions_metrics(df_dec, pred_bireducts_40)"
   ]
  },
  {
   "cell_type": "code",
   "execution_count": null,
   "metadata": {},
   "outputs": [],
   "source": [
    "print(\n",
    "    get_predictions_table(\n",
    "        df_dec, pred_bireducts_all, pred_bireducts_same, pred_bireducts_40\n",
    "    ).to_latex()\n",
    ")"
   ]
  },
  {
   "cell_type": "code",
   "execution_count": null,
   "metadata": {},
   "outputs": [],
   "source": []
  },
  {
   "cell_type": "code",
   "execution_count": null,
   "metadata": {},
   "outputs": [],
   "source": []
  },
  {
   "cell_type": "code",
   "execution_count": null,
   "metadata": {},
   "outputs": [],
   "source": []
  },
  {
   "cell_type": "code",
   "execution_count": null,
   "metadata": {},
   "outputs": [],
   "source": [
    "    "
   ]
  },
  {
   "cell_type": "code",
   "execution_count": null,
   "metadata": {},
   "outputs": [],
   "source": []
  },
  {
   "cell_type": "code",
   "execution_count": null,
   "metadata": {},
   "outputs": [],
   "source": []
  },
  {
   "cell_type": "code",
   "execution_count": null,
   "metadata": {},
   "outputs": [],
   "source": []
  },
  {
   "cell_type": "code",
   "execution_count": null,
   "metadata": {},
   "outputs": [],
   "source": []
  },
  {
   "cell_type": "code",
   "execution_count": null,
   "metadata": {},
   "outputs": [],
   "source": []
  },
  {
   "cell_type": "code",
   "execution_count": null,
   "metadata": {},
   "outputs": [],
   "source": []
  },
  {
   "cell_type": "code",
   "execution_count": null,
   "metadata": {},
   "outputs": [],
   "source": []
  },
  {
   "cell_type": "code",
   "execution_count": null,
   "metadata": {},
   "outputs": [],
   "source": []
  },
  {
   "cell_type": "code",
   "execution_count": null,
   "metadata": {},
   "outputs": [],
   "source": []
  }
 ],
 "metadata": {
  "kernelspec": {
   "display_name": ".venv",
   "language": "python",
   "name": "python3"
  },
  "language_info": {
   "codemirror_mode": {
    "name": "ipython",
    "version": 3
   },
   "file_extension": ".py",
   "mimetype": "text/x-python",
   "name": "python",
   "nbconvert_exporter": "python",
   "pygments_lexer": "ipython3",
   "version": "3.9.12"
  },
  "vscode": {
   "interpreter": {
    "hash": "cb353cb8b9a4ebafc945efb5c6e15e592d37ff0fcf51b748ec6c5769c1eaa51b"
   }
  }
 },
 "nbformat": 4,
 "nbformat_minor": 4
}
