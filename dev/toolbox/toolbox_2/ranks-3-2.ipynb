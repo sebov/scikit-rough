{
 "cells": [
  {
   "cell_type": "code",
   "execution_count": 1,
   "metadata": {},
   "outputs": [],
   "source": [
    "import json\n",
    "import pathlib\n",
    "import re\n",
    "\n",
    "import numpy as np\n",
    "import pandas as pd\n",
    "import sklearn.utils\n",
    "import tqdm.notebook\n",
    "import xgboost as xgb\n",
    "\n",
    "from skrough.chaos_measures import gini_impurity\n",
    "from skrough.structs.group_index import GroupIndex\n",
    "\n",
    "random_state = sklearn.utils.check_random_state(1)\n",
    "\n",
    "DATA_DIR = pathlib.Path(\"../../../toolbox/data_tmp/data\")\n",
    "TMP_DIR = pathlib.Path(\"../../../toolbox/data_tmp/tmp\")\n",
    "SEP = \",\"\n",
    "ORIG_DISCRETIZED_SEP = \";\"\n",
    "\n",
    "DISCRETIZED_FILEPATH_IN = (\n",
    "    DATA_DIR / \"toolbox_tabular_data_annonymized_discretized_quantile.csv\"\n",
    ")\n",
    "FILEPATH_IN = DATA_DIR / \"toolbox_tabular_data_annonymized.csv\"\n",
    "\n",
    "DISCRETIZED_FILEPATH_IN_REORDERED = DATA_DIR / (\n",
    "    DISCRETIZED_FILEPATH_IN.stem + \"_with_reordered_cols.csv\"\n",
    ")\n",
    "FILEPATH_IN_REORDERED = DATA_DIR / (FILEPATH_IN.stem + \"_with_reordered_cols.csv\")\n",
    "\n",
    "FILEPATH_TEMPLATE_BIREDUCTS_LIST = (\n",
    "    f\"{TMP_DIR}/paper_ranks_3_/\"\n",
    "    \"bireducts_list\"\n",
    "    \"_dataset_{dataset}\"\n",
    "    \"_n_bireducts_{n_bireducts}\"\n",
    "    \"_n_of_probes_{n_of_probes}\"\n",
    "    \"_allowed_randomness_{allowed_randomness}\"\n",
    "    \"_candidate_n_attrs_{candidate_n_attrs}\"\n",
    "    \"_max_n_attrs_{max_n_attrs}\"\n",
    "    \".csv\"\n",
    ")"
   ]
  },
  {
   "cell_type": "markdown",
   "metadata": {},
   "source": [
    "# generate dataset with reordered cols"
   ]
  },
  {
   "cell_type": "code",
   "execution_count": null,
   "metadata": {},
   "outputs": [],
   "source": [
    "# df = pd.read_csv(FILEPATH_IN, sep=SEP)\n",
    "# df_dec = df.pop('target')\n",
    "# df.drop('process_ids', axis=1, inplace=True)\n",
    "# df2 = df.apply(lambda col: col.sample(n=len(df), replace=False, random_state=random_state).reset_index(drop=True), axis=0)\n",
    "# df2 = df2.rename(lambda col_name: 'reordered_' + col_name, axis='columns')\n",
    "# df = pd.concat([df, df2], axis=1)\n",
    "# df.insert(df.shape[1], df_dec.name, df_dec)\n",
    "# df.to_csv(FILEPATH_IN_REORDERED, sep=SEP, index=False)"
   ]
  },
  {
   "cell_type": "code",
   "execution_count": null,
   "metadata": {},
   "outputs": [],
   "source": [
    "# df = pd.read_csv(DISCRETIZED_FILEPATH_IN, sep=ORIG_DISCRETIZED_SEP)\n",
    "# df_dec = df.pop('target')\n",
    "# df.drop('process_ids', axis=1, inplace=True)\n",
    "# df2 = df.apply(lambda col: col.sample(n=len(df), replace=False, random_state=random_state).reset_index(drop=True), axis=0)\n",
    "# df2 = df2.rename(lambda col_name: 'reordered_' + col_name, axis='columns')\n",
    "# df = pd.concat([df, df2], axis=1)\n",
    "# df.insert(df.shape[1], df_dec.name, df_dec)\n",
    "# df.to_csv(DISCRETIZED_FILEPATH_IN_REORDERED, sep=SEP, index=False)"
   ]
  },
  {
   "cell_type": "code",
   "execution_count": null,
   "metadata": {},
   "outputs": [],
   "source": []
  },
  {
   "cell_type": "code",
   "execution_count": null,
   "metadata": {},
   "outputs": [],
   "source": []
  },
  {
   "cell_type": "code",
   "execution_count": null,
   "metadata": {},
   "outputs": [],
   "source": []
  },
  {
   "cell_type": "code",
   "execution_count": null,
   "metadata": {},
   "outputs": [],
   "source": []
  },
  {
   "cell_type": "markdown",
   "metadata": {},
   "source": [
    "# utils"
   ]
  },
  {
   "cell_type": "code",
   "execution_count": 2,
   "metadata": {},
   "outputs": [],
   "source": [
    "def __prepare_values(values):\n",
    "    factorized_values, uniques = pd.factorize(values)\n",
    "    uniques = len(uniques)\n",
    "    return np.array([factorized_values, uniques], dtype=object)\n",
    "\n",
    "\n",
    "def get_df(data_filepath=None, df=None, sep=SEP):\n",
    "    if df is None:\n",
    "        df = pd.read_csv(data_filepath, sep=sep)\n",
    "    if \"process_ids\" in df.columns:\n",
    "        df.drop(\"process_ids\", axis=1, inplace=True)\n",
    "    df_dec = df.pop(\"target\").astype(\"category\").cat.codes\n",
    "    df_dec = 1 - df_dec\n",
    "    return df, df_dec\n",
    "\n",
    "\n",
    "def get_df_discretized(data_filepath=None, df=None, sep=SEP):\n",
    "    if df is None:\n",
    "        df = pd.read_csv(data_filepath, sep=sep)\n",
    "    if \"process_ids\" in df.columns:\n",
    "        df.drop(\"process_ids\", axis=1, inplace=True)\n",
    "    df = df.astype(\"category\")\n",
    "    df = df.apply(lambda x: x.cat.codes)\n",
    "    df_dec = df.pop(\"target\")\n",
    "    df_dec = 1 - df_dec\n",
    "    return df, df_dec\n",
    "\n",
    "\n",
    "def prepare_df(df, df_dec):\n",
    "    x = df\n",
    "    y = df_dec\n",
    "    x, y = sklearn.utils.check_X_y(x, y, multi_output=False)\n",
    "    data = np.apply_along_axis(__prepare_values, 0, x)\n",
    "    x = np.vstack(data[0]).T\n",
    "    x_count_distinct = data[1]\n",
    "    y, y_count_distinct = __prepare_values(y)\n",
    "    return x, x_count_distinct, y, y_count_distinct"
   ]
  },
  {
   "cell_type": "markdown",
   "metadata": {},
   "source": [
    "# compare attribures ranks"
   ]
  },
  {
   "cell_type": "code",
   "execution_count": 3,
   "metadata": {},
   "outputs": [],
   "source": [
    "def compare3(scores, score_column, top_ks=None):\n",
    "    scores = scores.sort_values([score_column], ascending=False)\n",
    "    ranks = pd.DataFrame(\n",
    "        {\n",
    "            \"column\": scores[\"column\"],\n",
    "            \"rank\": np.arange(len(scores)) + 1,\n",
    "            \"is_reordered\": scores[\"column\"].str.contains(\"reordered_\"),\n",
    "        }\n",
    "    )\n",
    "    ranks[\"rank\"] = ranks[\"rank\"].groupby(scores[score_column]).transform(\"mean\")\n",
    "    ranks.reset_index(inplace=True, drop=True)\n",
    "    result = {\n",
    "        \"avg_rank_normal_top_k_all\": ranks[~ranks[\"is_reordered\"]][\"rank\"].mean(),\n",
    "        \"avg_rank_reordered_top_k_all\": ranks[ranks[\"is_reordered\"]][\"rank\"].mean(),\n",
    "    }\n",
    "    if top_ks is not None:\n",
    "        if isinstance(top_ks, int):\n",
    "            top_ks = [top_ks]\n",
    "        for top_k in top_ks:\n",
    "            result[f\"avg_rank_normal_top_k_{top_k}\"] = (\n",
    "                ranks[~ranks[\"is_reordered\"]].iloc[:top_k][\"rank\"].mean()\n",
    "            )\n",
    "            result[f\"avg_rank_reordered_top_k_{top_k}\"] = (\n",
    "                ranks[ranks[\"is_reordered\"]].iloc[:top_k][\"rank\"].mean()\n",
    "            )\n",
    "    return result\n",
    "\n",
    "\n",
    "def latex_compare_result(compare_result):\n",
    "    result = []\n",
    "    for k, v in compare_result.items():\n",
    "        m = re.search(r\"avg_rank_(normal|reordered)_top_k_(all|\\d*)\", k)\n",
    "        result.append((m.group(1), m.group(2), v))\n",
    "    df = pd.DataFrame(result, columns=(\"attr_type\", \"top_k\", \"avg_rank\"))\n",
    "    df = df.pivot(index=\"top_k\", columns=\"attr_type\", values=\"avg_rank\")\n",
    "    order = np.argsort([int(i) if i != \"all\" else 0 for i in df.index])\n",
    "    df = df.iloc[order]\n",
    "    return print(df.style.to_latex())"
   ]
  },
  {
   "cell_type": "code",
   "execution_count": 8,
   "metadata": {},
   "outputs": [],
   "source": [
    "def compare_ranksum(scores, score_column):\n",
    "    reordered_indicator = scores[\"column\"].str.contains(\"reordered_\")\n",
    "    scores_normal = scores[~reordered_indicator][score_column]\n",
    "    scores_reordered = scores[reordered_indicator][score_column]\n",
    "    return scipy.stats.ranksums(scores_normal, scores_reordered)"
   ]
  },
  {
   "cell_type": "code",
   "execution_count": null,
   "metadata": {},
   "outputs": [],
   "source": []
  },
  {
   "cell_type": "code",
   "execution_count": null,
   "metadata": {},
   "outputs": [],
   "source": []
  },
  {
   "cell_type": "markdown",
   "metadata": {},
   "source": [
    "# bireducts - compute bireducts list"
   ]
  },
  {
   "cell_type": "code",
   "execution_count": 8,
   "metadata": {},
   "outputs": [],
   "source": [
    "def compute_bireducts(\n",
    "    data_filepath,\n",
    "    bireducts_list_filepath_template,\n",
    "    n_bireducts,\n",
    "    n_of_probes,\n",
    "    allowed_randomness,\n",
    "    candidate_n_attrs,\n",
    "    max_n_attrs,\n",
    "    sep=SEP,\n",
    "):\n",
    "    df, df_dec = get_df_discretized(data_filepath, sep=sep)\n",
    "\n",
    "    daab = DynamicallyAdaptedApproximateBireduct(\n",
    "        n_of_probes=n_of_probes,\n",
    "        allowed_randomness=allowed_randomness,\n",
    "        candidate_n_attrs=candidate_n_attrs,\n",
    "        max_n_attrs=max_n_attrs,\n",
    "    )\n",
    "    daab.fit(df, df_dec, check_data_consistency=False)\n",
    "\n",
    "    bireducts = []\n",
    "    for i in tqdm.trange(n_bireducts):\n",
    "        bireducts.append(attr.asdict(daab.get_bireduct()))\n",
    "\n",
    "    with open(\n",
    "        bireducts_list_filepath_template.format(\n",
    "            dataset=pathlib.Path(data_filepath).stem,\n",
    "            n_bireducts=n_bireducts,\n",
    "            n_of_probes=n_of_probes,\n",
    "            allowed_randomness=allowed_randomness,\n",
    "            candidate_n_attrs=candidate_n_attrs,\n",
    "            max_n_attrs=max_n_attrs,\n",
    "        ),\n",
    "        \"w\",\n",
    "    ) as f:\n",
    "        json.dump(bireducts, f)"
   ]
  },
  {
   "cell_type": "code",
   "execution_count": null,
   "metadata": {},
   "outputs": [],
   "source": [
    "# compute_bireducts(DISCRETIZED_FILEPATH_IN_REORDERED, FILEPATH_TEMPLATE_BIREDUCTS_LIST,\n",
    "#                   n_bireducts=1000, n_of_probes=100, allowed_randomness=0.05, candidate_n_attrs=100, max_n_attrs=None)\n",
    "# compute_bireducts(DISCRETIZED_FILEPATH_IN_REORDERED, FILEPATH_TEMPLATE_BIREDUCTS_LIST,\n",
    "#                   n_bireducts=1000, n_of_probes=100, allowed_randomness=0.05, candidate_n_attrs=100, max_n_attrs=3)"
   ]
  },
  {
   "cell_type": "code",
   "execution_count": null,
   "metadata": {},
   "outputs": [],
   "source": []
  },
  {
   "cell_type": "markdown",
   "metadata": {},
   "source": [
    "# bireducts"
   ]
  },
  {
   "cell_type": "code",
   "execution_count": 4,
   "metadata": {},
   "outputs": [],
   "source": [
    "def get_chaos_score(xx, xx_count_distinct, yy, yy_count_distinct, attrs):\n",
    "    group_index = GroupIndex.from_data(xx, xx_count_distinct, list(attrs))\n",
    "    return group_index.get_chaos_score(yy, yy_count_distinct, gini_impurity)\n",
    "\n",
    "\n",
    "def get_bireducts_scores(data_filepath, bireducts_list_filepath, sep=SEP):\n",
    "    df_columns = pd.read_csv(data_filepath, sep=sep, nrows=0).columns[:-1]\n",
    "\n",
    "    df, df_dec = get_df_discretized(data_filepath, sep=sep)\n",
    "    xx, xx_count_distinct, yy, yy_count_distinct = prepare_df(df, df_dec)\n",
    "\n",
    "    with open(bireducts_list_filepath) as f:\n",
    "        bireducts = json.load(f)\n",
    "    counts = np.zeros(xx.shape[1])\n",
    "    global_gain = np.zeros(xx.shape[1])\n",
    "    global_gain_cover = np.zeros(xx.shape[1])\n",
    "    local_gain = np.zeros(xx.shape[1])\n",
    "    local_gain_cover = np.zeros(xx.shape[1])\n",
    "    for bireduct in tqdm.tqdm(bireducts):\n",
    "        bireduct_objects = bireduct[\"objects\"]\n",
    "        bireduct_all_attrs = set(bireduct[\"attributes\"])\n",
    "        global_xxx = xx\n",
    "        global_yyy = yy\n",
    "        local_xxx = xx[bireduct_objects]\n",
    "        local_yyy = yy[bireduct_objects]\n",
    "        global_starting_chaos_score = get_chaos_score(\n",
    "            global_xxx,\n",
    "            xx_count_distinct,\n",
    "            global_yyy,\n",
    "            yy_count_distinct,\n",
    "            bireduct_all_attrs,\n",
    "        )\n",
    "        local_starting_chaos_score = get_chaos_score(\n",
    "            local_xxx,\n",
    "            xx_count_distinct,\n",
    "            local_yyy,\n",
    "            yy_count_distinct,\n",
    "            bireduct_all_attrs,\n",
    "        )\n",
    "        counts[bireduct[\"attributes\"]] += 1\n",
    "        for attr in bireduct[\"attributes\"]:\n",
    "            attrs_to_check = bireduct_all_attrs.difference([attr])\n",
    "            global_current_chaos_score = get_chaos_score(\n",
    "                global_xxx,\n",
    "                xx_count_distinct,\n",
    "                global_yyy,\n",
    "                yy_count_distinct,\n",
    "                attrs_to_check,\n",
    "            )\n",
    "            global_score_gain = global_current_chaos_score - global_starting_chaos_score\n",
    "            global_gain[attr] += global_score_gain\n",
    "            global_gain_cover[attr] += (\n",
    "                global_score_gain * len(bireduct_objects) / xx.shape[0]\n",
    "            )\n",
    "            local_current_chaos_score = get_chaos_score(\n",
    "                local_xxx,\n",
    "                xx_count_distinct,\n",
    "                local_yyy,\n",
    "                yy_count_distinct,\n",
    "                attrs_to_check,\n",
    "            )\n",
    "            local_score_gain = local_current_chaos_score - local_starting_chaos_score\n",
    "            local_gain[attr] += local_score_gain\n",
    "            local_gain_cover[attr] += (\n",
    "                local_score_gain * len(bireduct_objects) / xx.shape[0]\n",
    "            )\n",
    "    avg_global_gain = np.divide(\n",
    "        global_gain, counts, out=np.zeros_like(global_gain), where=counts > 0\n",
    "    )\n",
    "    avg_global_gain_cover = np.divide(\n",
    "        global_gain_cover,\n",
    "        counts,\n",
    "        out=np.zeros_like(global_gain_cover),\n",
    "        where=counts > 0,\n",
    "    )\n",
    "    avg_local_gain = np.divide(\n",
    "        local_gain, counts, out=np.zeros_like(local_gain), where=counts > 0\n",
    "    )\n",
    "    avg_local_gain_cover = np.divide(\n",
    "        local_gain_cover, counts, out=np.zeros_like(local_gain_cover), where=counts > 0\n",
    "    )\n",
    "    result = pd.DataFrame(\n",
    "        {\n",
    "            \"column\": df_columns,\n",
    "            \"count\": counts,\n",
    "            \"global_gain\": global_gain,\n",
    "            \"global_gain_cover\": global_gain_cover,\n",
    "            \"avg_global_gain\": avg_global_gain,\n",
    "            \"avg_global_gain_cover\": avg_global_gain_cover,\n",
    "            \"local_gain\": local_gain,\n",
    "            \"local_gain_cover\": local_gain_cover,\n",
    "            \"avg_local_gain\": avg_local_gain,\n",
    "            \"avg_local_gain_cover\": avg_local_gain_cover,\n",
    "        }\n",
    "    )\n",
    "    del bireducts\n",
    "    return result"
   ]
  },
  {
   "cell_type": "code",
   "execution_count": 5,
   "metadata": {},
   "outputs": [
    {
     "name": "stderr",
     "output_type": "stream",
     "text": [
      "100%|██████████| 1000/1000 [01:04<00:00, 15.55it/s]\n"
     ]
    }
   ],
   "source": [
    "bireducts_list_filepath = FILEPATH_TEMPLATE_BIREDUCTS_LIST.format(\n",
    "    dataset=pathlib.Path(DISCRETIZED_FILEPATH_IN_REORDERED).stem,\n",
    "    n_bireducts=1000,\n",
    "    n_of_probes=100,\n",
    "    allowed_randomness=0.05,\n",
    "    candidate_n_attrs=100,\n",
    "    max_n_attrs=None,\n",
    ")\n",
    "bireducts_scores = get_bireducts_scores(\n",
    "    DISCRETIZED_FILEPATH_IN_REORDERED, bireducts_list_filepath, sep=SEP\n",
    ")"
   ]
  },
  {
   "cell_type": "code",
   "execution_count": 5,
   "metadata": {},
   "outputs": [
    {
     "name": "stderr",
     "output_type": "stream",
     "text": [
      "100%|██████████| 1000/1000 [00:59<00:00, 16.77it/s]\n"
     ]
    }
   ],
   "source": [
    "bireducts_list_filepath = FILEPATH_TEMPLATE_BIREDUCTS_LIST.format(\n",
    "    dataset=pathlib.Path(DISCRETIZED_FILEPATH_IN_REORDERED).stem,\n",
    "    n_bireducts=1000,\n",
    "    n_of_probes=100,\n",
    "    allowed_randomness=0.05,\n",
    "    candidate_n_attrs=100,\n",
    "    max_n_attrs=3,\n",
    ")\n",
    "bireducts_scores_3 = get_bireducts_scores(\n",
    "    DISCRETIZED_FILEPATH_IN_REORDERED, bireducts_list_filepath, sep=SEP\n",
    ")"
   ]
  },
  {
   "cell_type": "code",
   "execution_count": null,
   "metadata": {},
   "outputs": [],
   "source": []
  },
  {
   "cell_type": "code",
   "execution_count": 39,
   "metadata": {},
   "outputs": [
    {
     "data": {
      "text/plain": [
       "2.548986145454799"
      ]
     },
     "execution_count": 39,
     "metadata": {},
     "output_type": "execute_result"
    }
   ],
   "source": [
    "bireducts_scores_3[\"global_gain\"].sum()"
   ]
  },
  {
   "cell_type": "code",
   "execution_count": 16,
   "metadata": {},
   "outputs": [
    {
     "name": "stdout",
     "output_type": "stream",
     "text": [
      "\\begin{tabular}{lrr}\n",
      "attr_type & normal & reordered \\\\\n",
      "top_k &  &  \\\\\n",
      "all & 706.939119 & 838.060881 \\\\\n",
      "10 & 5.500000 & 766.500000 \\\\\n",
      "20 & 10.500000 & 802.750000 \\\\\n",
      "30 & 15.500000 & 814.833333 \\\\\n",
      "50 & 25.500000 & 824.500000 \\\\\n",
      "100 & 50.500000 & 831.750000 \\\\\n",
      "\\end{tabular}\n",
      "\n"
     ]
    }
   ],
   "source": [
    "importance = \"global_gain\"\n",
    "scores = bireducts_scores_3\n",
    "compare3(scores, importance, [10, 20, 30, 50, 100])\n",
    "latex_compare_result(compare3(scores, importance, [10, 20, 30, 50, 100]))"
   ]
  },
  {
   "cell_type": "code",
   "execution_count": 19,
   "metadata": {},
   "outputs": [
    {
     "name": "stdout",
     "output_type": "stream",
     "text": [
      "\\begin{tabular}{lrr}\n",
      "attr_type & normal & reordered \\\\\n",
      "top_k &  &  \\\\\n",
      "all & 763.000000 & 782.000000 \\\\\n",
      "10 & 5.500000 & 782.000000 \\\\\n",
      "20 & 48.600000 & 782.000000 \\\\\n",
      "30 & 293.066667 & 782.000000 \\\\\n",
      "50 & 488.640000 & 782.000000 \\\\\n",
      "100 & 635.320000 & 782.000000 \\\\\n",
      "\\end{tabular}\n",
      "\n"
     ]
    }
   ],
   "source": [
    "importance = \"total_gain\"\n",
    "scores = xgboost_scores_2\n",
    "compare3(scores, importance, [10, 20, 30, 50, 100])\n",
    "latex_compare_result(compare3(scores, importance, [10, 20, 30, 50, 100]))"
   ]
  },
  {
   "cell_type": "code",
   "execution_count": null,
   "metadata": {},
   "outputs": [],
   "source": []
  },
  {
   "cell_type": "code",
   "execution_count": 24,
   "metadata": {},
   "outputs": [
    {
     "name": "stdout",
     "output_type": "stream",
     "text": [
      "\\begin{tabular}{lrr}\n",
      "attr_type & normal & reordered \\\\\n",
      "top_k &  &  \\\\\n",
      "all & 714.956606 & 830.043394 \\\\\n",
      "10 & 5.500000 & 67.100000 \\\\\n",
      "20 & 10.500000 & 81.650000 \\\\\n",
      "30 & 15.500000 & 94.600000 \\\\\n",
      "50 & 25.920000 & 124.880000 \\\\\n",
      "100 & 56.960000 & 470.815000 \\\\\n",
      "\\end{tabular}\n",
      "\n"
     ]
    }
   ],
   "source": [
    "compare3(bireducts_scores, \"global_gain\", [10, 20, 30, 50, 100])\n",
    "latex_compare_result(compare3(bireducts_scores, \"global_gain\", [10, 20, 30, 50, 100]))"
   ]
  },
  {
   "cell_type": "code",
   "execution_count": 11,
   "metadata": {},
   "outputs": [
    {
     "name": "stdout",
     "output_type": "stream",
     "text": [
      "\\begin{tabular}{lrr}\n",
      "attr_type & normal & reordered \\\\\n",
      "top_k &  &  \\\\\n",
      "all & 706.939119 & 838.060881 \\\\\n",
      "10 & 5.500000 & 766.500000 \\\\\n",
      "20 & 10.500000 & 802.750000 \\\\\n",
      "30 & 15.500000 & 814.833333 \\\\\n",
      "50 & 25.500000 & 824.500000 \\\\\n",
      "100 & 50.500000 & 831.750000 \\\\\n",
      "\\end{tabular}\n",
      "\n"
     ]
    }
   ],
   "source": [
    "compare3(bireducts_scores_3, \"global_gain\", [10, 20, 30, 50, 100])\n",
    "latex_compare_result(compare3(bireducts_scores_3, \"global_gain\", [10, 20, 30, 50, 100]))"
   ]
  },
  {
   "cell_type": "code",
   "execution_count": 13,
   "metadata": {},
   "outputs": [
    {
     "name": "stdout",
     "output_type": "stream",
     "text": [
      "\\begin{tabular}{lrr}\n",
      "attr_type & normal & reordered \\\\\n",
      "top_k &  &  \\\\\n",
      "all & 763.000000 & 782.000000 \\\\\n",
      "10 & 5.500000 & 782.000000 \\\\\n",
      "20 & 48.600000 & 782.000000 \\\\\n",
      "30 & 293.066667 & 782.000000 \\\\\n",
      "50 & 488.640000 & 782.000000 \\\\\n",
      "100 & 635.320000 & 782.000000 \\\\\n",
      "\\end{tabular}\n",
      "\n"
     ]
    }
   ],
   "source": [
    "compare3(xgboost_scores_3, \"total_gain\", [10, 20, 30, 50, 100])\n",
    "latex_compare_result(compare3(xgboost_scores_2, \"total_gain\", [10, 20, 30, 50, 100]))"
   ]
  },
  {
   "cell_type": "code",
   "execution_count": null,
   "metadata": {},
   "outputs": [],
   "source": [
    "compare3(xgboost_scores_3, \"total_gain\", [10, 20, 30, 50, 100])\n",
    "latex_compare_result(compare3(xgboost_scores_3, \"total_gain\", [10, 20, 30, 50, 100]))"
   ]
  },
  {
   "cell_type": "code",
   "execution_count": null,
   "metadata": {},
   "outputs": [],
   "source": [
    "compare3(xgboost_scores_5, \"total_gain\", [10, 20, 30, 50, 100])\n",
    "latex_compare_result(compare3(xgboost_scores_5, \"total_gain\", [10, 20, 30, 50, 100]))"
   ]
  },
  {
   "cell_type": "code",
   "execution_count": null,
   "metadata": {},
   "outputs": [],
   "source": [
    "compare3(\n",
    "    correlation_scores,\n",
    "    \"spearman_correlation\",\n",
    "    [\n",
    "        10,\n",
    "        20,\n",
    "        30,\n",
    "        50,\n",
    "        100,\n",
    "    ],\n",
    ")\n",
    "latex_compare_result(\n",
    "    compare3(\n",
    "        correlation_scores,\n",
    "        \"spearman_correlation\",\n",
    "        [\n",
    "            10,\n",
    "            20,\n",
    "            30,\n",
    "            50,\n",
    "            100,\n",
    "        ],\n",
    "    )\n",
    ")"
   ]
  },
  {
   "cell_type": "code",
   "execution_count": null,
   "metadata": {},
   "outputs": [],
   "source": []
  },
  {
   "cell_type": "code",
   "execution_count": null,
   "metadata": {},
   "outputs": [],
   "source": []
  },
  {
   "cell_type": "code",
   "execution_count": null,
   "metadata": {},
   "outputs": [],
   "source": [
    "compare_ranksum(bireducts_scores, \"global_gain\")"
   ]
  },
  {
   "cell_type": "code",
   "execution_count": null,
   "metadata": {},
   "outputs": [],
   "source": [
    "compare_ranksum(bireducts_scores_3, \"global_gain\")"
   ]
  },
  {
   "cell_type": "code",
   "execution_count": null,
   "metadata": {},
   "outputs": [],
   "source": [
    "compare_ranksum(xgboost_scores_2, \"total_gain\")"
   ]
  },
  {
   "cell_type": "code",
   "execution_count": null,
   "metadata": {},
   "outputs": [],
   "source": [
    "compare_ranksum(xgboost_scores_3, \"total_gain\")"
   ]
  },
  {
   "cell_type": "code",
   "execution_count": null,
   "metadata": {},
   "outputs": [],
   "source": [
    "compare_ranksum(xgboost_scores_5, \"total_gain\")"
   ]
  },
  {
   "cell_type": "code",
   "execution_count": null,
   "metadata": {},
   "outputs": [],
   "source": [
    "compare_ranksum(correlation_scores, \"spearman_correlation\")"
   ]
  },
  {
   "cell_type": "code",
   "execution_count": null,
   "metadata": {},
   "outputs": [],
   "source": []
  },
  {
   "cell_type": "code",
   "execution_count": null,
   "metadata": {},
   "outputs": [],
   "source": []
  },
  {
   "cell_type": "code",
   "execution_count": null,
   "metadata": {},
   "outputs": [],
   "source": []
  },
  {
   "cell_type": "code",
   "execution_count": null,
   "metadata": {},
   "outputs": [],
   "source": []
  },
  {
   "cell_type": "code",
   "execution_count": null,
   "metadata": {},
   "outputs": [],
   "source": []
  },
  {
   "cell_type": "code",
   "execution_count": null,
   "metadata": {},
   "outputs": [],
   "source": []
  },
  {
   "cell_type": "code",
   "execution_count": null,
   "metadata": {},
   "outputs": [],
   "source": []
  },
  {
   "cell_type": "code",
   "execution_count": null,
   "metadata": {},
   "outputs": [],
   "source": []
  },
  {
   "cell_type": "code",
   "execution_count": null,
   "metadata": {},
   "outputs": [],
   "source": []
  },
  {
   "cell_type": "markdown",
   "metadata": {},
   "source": [
    "# xgboost"
   ]
  },
  {
   "cell_type": "code",
   "execution_count": 6,
   "metadata": {},
   "outputs": [],
   "source": [
    "def get_xgboost_scores(data_filepath, params, sep=SEP):\n",
    "    df, df_dec = get_df(data_filepath, sep=sep)\n",
    "    num_boost_round = params.pop(\"num_boost_round\")\n",
    "    dtrain = xgb.DMatrix(df, label=df_dec)\n",
    "    cl = xgb.train(params, dtrain, num_boost_round=num_boost_round)\n",
    "    result = pd.DataFrame({\"column\": df.columns})\n",
    "    result.set_index(\"column\", drop=False, inplace=True)\n",
    "    for importance_type in (\"weight\", \"gain\", \"cover\", \"total_gain\", \"total_cover\"):\n",
    "        result[importance_type] = 0\n",
    "        score = cl.get_score(importance_type=importance_type)\n",
    "        result.loc[score.keys(), importance_type] = list(score.values())\n",
    "    result.reset_index(drop=True, inplace=True)\n",
    "    return result"
   ]
  },
  {
   "cell_type": "code",
   "execution_count": null,
   "metadata": {},
   "outputs": [],
   "source": []
  },
  {
   "cell_type": "code",
   "execution_count": 7,
   "metadata": {},
   "outputs": [],
   "source": [
    "params = {\n",
    "    \"num_boost_round\": 1000,\n",
    "    \"learning_rate\": 0.001,\n",
    "    \"max_depth\": 2,\n",
    "    \"base_score\": 0.0696,\n",
    "    \"objective\": \"binary:logistic\",\n",
    "    \"eval_metric\": \"logloss\",\n",
    "}\n",
    "xgboost_scores_2 = get_xgboost_scores(FILEPATH_IN_REORDERED, params, sep=SEP)"
   ]
  },
  {
   "cell_type": "code",
   "execution_count": 8,
   "metadata": {},
   "outputs": [],
   "source": [
    "params = {\n",
    "    \"num_boost_round\": 1000,\n",
    "    \"learning_rate\": 0.001,\n",
    "    \"max_depth\": 3,\n",
    "    \"base_score\": 0.0696,\n",
    "    \"objective\": \"binary:logistic\",\n",
    "    \"eval_metric\": \"logloss\",\n",
    "}\n",
    "xgboost_scores_3 = get_xgboost_scores(FILEPATH_IN_REORDERED, params, sep=SEP)"
   ]
  },
  {
   "cell_type": "code",
   "execution_count": 47,
   "metadata": {},
   "outputs": [],
   "source": [
    "params = {\n",
    "    \"num_boost_round\": 1000,\n",
    "    \"learning_rate\": 0.001,\n",
    "    \"max_depth\": 5,\n",
    "    \"base_score\": 0.0696,\n",
    "    \"objective\": \"binary:logistic\",\n",
    "    \"eval_metric\": \"logloss\",\n",
    "}\n",
    "xgboost_scores_5 = get_xgboost_scores(FILEPATH_IN_REORDERED, params, sep=SEP)"
   ]
  },
  {
   "cell_type": "code",
   "execution_count": null,
   "metadata": {},
   "outputs": [],
   "source": []
  },
  {
   "cell_type": "code",
   "execution_count": 17,
   "metadata": {},
   "outputs": [
    {
     "data": {
      "text/plain": [
       "{'avg_rank_normal_top_k_all': 763.0,\n",
       " 'avg_rank_reordered_top_k_all': 782.0,\n",
       " 'avg_rank_normal_top_k_10': 5.5,\n",
       " 'avg_rank_reordered_top_k_10': 782.0,\n",
       " 'avg_rank_normal_top_k_20': 48.6,\n",
       " 'avg_rank_reordered_top_k_20': 782.0,\n",
       " 'avg_rank_normal_top_k_30': 293.06666666666666,\n",
       " 'avg_rank_reordered_top_k_30': 782.0,\n",
       " 'avg_rank_normal_top_k_100': 635.32,\n",
       " 'avg_rank_reordered_top_k_100': 782.0}"
      ]
     },
     "execution_count": 17,
     "metadata": {},
     "output_type": "execute_result"
    }
   ],
   "source": [
    "compare3(xgboost_scores_2, \"weight\", [10, 20, 30, 100])"
   ]
  },
  {
   "cell_type": "code",
   "execution_count": 18,
   "metadata": {},
   "outputs": [
    {
     "data": {
      "text/plain": [
       "{'avg_rank_normal_top_k_all': 760.8788860103627,\n",
       " 'avg_rank_reordered_top_k_all': 784.1211139896373,\n",
       " 'avg_rank_normal_top_k_10': 5.5,\n",
       " 'avg_rank_reordered_top_k_10': 26.9,\n",
       " 'avg_rank_normal_top_k_20': 11.8,\n",
       " 'avg_rank_reordered_top_k_20': 262.275,\n",
       " 'avg_rank_normal_top_k_30': 18.483333333333334,\n",
       " 'avg_rank_reordered_top_k_30': 440.85,\n",
       " 'avg_rank_normal_top_k_100': 511.425,\n",
       " 'avg_rank_reordered_top_k_100': 690.855}"
      ]
     },
     "execution_count": 18,
     "metadata": {},
     "output_type": "execute_result"
    }
   ],
   "source": [
    "compare3(xgboost_scores_3, \"weight\", [10, 20, 30, 100])"
   ]
  },
  {
   "cell_type": "code",
   "execution_count": 19,
   "metadata": {},
   "outputs": [
    {
     "data": {
      "text/plain": [
       "{'avg_rank_normal_top_k_all': 779.6968911917098,\n",
       " 'avg_rank_reordered_top_k_all': 765.3031088082902,\n",
       " 'avg_rank_normal_top_k_10': 6.9,\n",
       " 'avg_rank_reordered_top_k_10': 17.45,\n",
       " 'avg_rank_normal_top_k_20': 14.525,\n",
       " 'avg_rank_reordered_top_k_20': 33.525,\n",
       " 'avg_rank_normal_top_k_30': 21.783333333333335,\n",
       " 'avg_rank_reordered_top_k_30': 46.083333333333336,\n",
       " 'avg_rank_normal_top_k_100': 88.44,\n",
       " 'avg_rank_reordered_top_k_100': 112.75}"
      ]
     },
     "execution_count": 19,
     "metadata": {},
     "output_type": "execute_result"
    }
   ],
   "source": [
    "compare3(xgboost_scores_5, \"weight\", [10, 20, 30, 100])"
   ]
  },
  {
   "cell_type": "code",
   "execution_count": null,
   "metadata": {},
   "outputs": [],
   "source": []
  },
  {
   "cell_type": "code",
   "execution_count": null,
   "metadata": {},
   "outputs": [],
   "source": []
  },
  {
   "cell_type": "code",
   "execution_count": null,
   "metadata": {},
   "outputs": [],
   "source": []
  },
  {
   "cell_type": "code",
   "execution_count": null,
   "metadata": {},
   "outputs": [],
   "source": []
  },
  {
   "cell_type": "code",
   "execution_count": 20,
   "metadata": {},
   "outputs": [
    {
     "data": {
      "text/plain": [
       "RanksumsResult(statistic=0.8372400335545404, pvalue=0.402457658777992)"
      ]
     },
     "execution_count": 20,
     "metadata": {},
     "output_type": "execute_result"
    }
   ],
   "source": [
    "compare_ranksum(xgboost_scores_2, \"weight\")"
   ]
  },
  {
   "cell_type": "code",
   "execution_count": 21,
   "metadata": {},
   "outputs": [
    {
     "data": {
      "text/plain": [
       "RanksumsResult(statistic=1.0241749333289554, pvalue=0.3057526562120514)"
      ]
     },
     "execution_count": 21,
     "metadata": {},
     "output_type": "execute_result"
    }
   ],
   "source": [
    "compare_ranksum(xgboost_scores_3, \"weight\")"
   ]
  },
  {
   "cell_type": "code",
   "execution_count": 22,
   "metadata": {},
   "outputs": [
    {
     "data": {
      "text/plain": [
       "RanksumsResult(statistic=-0.634265833982687, pvalue=0.5259073497396312)"
      ]
     },
     "execution_count": 22,
     "metadata": {},
     "output_type": "execute_result"
    }
   ],
   "source": [
    "compare_ranksum(xgboost_scores_5, \"weight\")"
   ]
  },
  {
   "cell_type": "code",
   "execution_count": null,
   "metadata": {},
   "outputs": [],
   "source": []
  },
  {
   "cell_type": "code",
   "execution_count": null,
   "metadata": {},
   "outputs": [],
   "source": []
  },
  {
   "cell_type": "code",
   "execution_count": null,
   "metadata": {},
   "outputs": [],
   "source": []
  },
  {
   "cell_type": "code",
   "execution_count": null,
   "metadata": {},
   "outputs": [],
   "source": []
  },
  {
   "cell_type": "markdown",
   "metadata": {},
   "source": [
    "# correlation"
   ]
  },
  {
   "cell_type": "code",
   "execution_count": 23,
   "metadata": {},
   "outputs": [],
   "source": [
    "def get_correlation_scores(data_filepath, sep=SEP):\n",
    "    df, df_dec = get_df(data_filepath, sep=sep)\n",
    "    result = []\n",
    "    with warnings.catch_warnings():\n",
    "        warnings.simplefilter(\"ignore\")\n",
    "        for column in tqdm.tqdm(df.columns):\n",
    "            result.append([column] + list(scipy.stats.spearmanr(df[column], df_dec)))\n",
    "    result = pd.DataFrame(result, columns=(\"column\", \"spearman_correlation\", \"pvalue\"))\n",
    "    idx = result[\"spearman_correlation\"].isna()\n",
    "    result.loc[idx, \"spearman_correlation\"] = 0\n",
    "    result.loc[idx, \"pvalue\"] = 1\n",
    "    result[\"spearman_correlation\"] = result[\"spearman_correlation\"].abs()\n",
    "    result[\"pvalue_score\"] = 1 / (result[\"pvalue\"] + 10 ** (-20))\n",
    "    return result"
   ]
  },
  {
   "cell_type": "code",
   "execution_count": 24,
   "metadata": {},
   "outputs": [
    {
     "name": "stderr",
     "output_type": "stream",
     "text": [
      "100%|██████████| 1544/1544 [00:04<00:00, 333.72it/s]\n"
     ]
    }
   ],
   "source": [
    "correlation_scores = get_correlation_scores(FILEPATH_IN_REORDERED, sep=SEP)"
   ]
  },
  {
   "cell_type": "code",
   "execution_count": null,
   "metadata": {},
   "outputs": [],
   "source": []
  },
  {
   "cell_type": "code",
   "execution_count": 25,
   "metadata": {},
   "outputs": [
    {
     "data": {
      "text/plain": [
       "{'avg_rank_normal_top_k_all': 636.6567357512953,\n",
       " 'avg_rank_reordered_top_k_all': 908.3432642487047,\n",
       " 'avg_rank_normal_top_k_10': 5.5,\n",
       " 'avg_rank_reordered_top_k_10': 171.15,\n",
       " 'avg_rank_normal_top_k_20': 10.5,\n",
       " 'avg_rank_reordered_top_k_20': 197.65,\n",
       " 'avg_rank_normal_top_k_30': 15.5,\n",
       " 'avg_rank_reordered_top_k_30': 213.61666666666667,\n",
       " 'avg_rank_normal_top_k_50': 25.52,\n",
       " 'avg_rank_reordered_top_k_50': 244.03,\n",
       " 'avg_rank_normal_top_k_100': 50.5,\n",
       " 'avg_rank_reordered_top_k_100': 310.53,\n",
       " 'avg_rank_normal_top_k_200': 102.2175,\n",
       " 'avg_rank_reordered_top_k_200': 413.1775,\n",
       " 'avg_rank_normal_top_k_500': 343.678,\n",
       " 'avg_rank_reordered_top_k_500': 674.126}"
      ]
     },
     "execution_count": 25,
     "metadata": {},
     "output_type": "execute_result"
    }
   ],
   "source": [
    "compare3(correlation_scores, \"pvalue_score\", top_ks=[10, 20, 30, 50, 100, 200, 500])"
   ]
  },
  {
   "cell_type": "code",
   "execution_count": 26,
   "metadata": {},
   "outputs": [
    {
     "data": {
      "text/plain": [
       "{'avg_rank_normal_top_k_all': 636.6567357512953,\n",
       " 'avg_rank_reordered_top_k_all': 908.3432642487047,\n",
       " 'avg_rank_normal_top_k_10': 5.5,\n",
       " 'avg_rank_reordered_top_k_10': 171.15,\n",
       " 'avg_rank_normal_top_k_20': 10.5,\n",
       " 'avg_rank_reordered_top_k_20': 197.65,\n",
       " 'avg_rank_normal_top_k_30': 15.5,\n",
       " 'avg_rank_reordered_top_k_30': 213.61666666666667,\n",
       " 'avg_rank_normal_top_k_50': 25.52,\n",
       " 'avg_rank_reordered_top_k_50': 244.03,\n",
       " 'avg_rank_normal_top_k_100': 50.5,\n",
       " 'avg_rank_reordered_top_k_100': 310.53,\n",
       " 'avg_rank_normal_top_k_200': 102.2175,\n",
       " 'avg_rank_reordered_top_k_200': 413.1775,\n",
       " 'avg_rank_normal_top_k_500': 343.678,\n",
       " 'avg_rank_reordered_top_k_500': 674.126}"
      ]
     },
     "execution_count": 26,
     "metadata": {},
     "output_type": "execute_result"
    }
   ],
   "source": [
    "compare3(\n",
    "    correlation_scores, \"spearman_correlation\", top_ks=[10, 20, 30, 50, 100, 200, 500]\n",
    ")"
   ]
  },
  {
   "cell_type": "code",
   "execution_count": null,
   "metadata": {},
   "outputs": [],
   "source": []
  },
  {
   "cell_type": "code",
   "execution_count": 27,
   "metadata": {},
   "outputs": [
    {
     "data": {
      "text/plain": [
       "RanksumsResult(statistic=11.971938854499346, pvalue=4.9849926754411247e-33)"
      ]
     },
     "execution_count": 27,
     "metadata": {},
     "output_type": "execute_result"
    }
   ],
   "source": [
    "compare_ranksum(correlation_scores, \"spearman_correlation\")"
   ]
  },
  {
   "cell_type": "code",
   "execution_count": null,
   "metadata": {},
   "outputs": [],
   "source": []
  },
  {
   "cell_type": "code",
   "execution_count": 28,
   "metadata": {},
   "outputs": [
    {
     "data": {
      "text/html": [
       "<div>\n",
       "<style scoped>\n",
       "    .dataframe tbody tr th:only-of-type {\n",
       "        vertical-align: middle;\n",
       "    }\n",
       "\n",
       "    .dataframe tbody tr th {\n",
       "        vertical-align: top;\n",
       "    }\n",
       "\n",
       "    .dataframe thead th {\n",
       "        text-align: right;\n",
       "    }\n",
       "</style>\n",
       "<table border=\"1\" class=\"dataframe\">\n",
       "  <thead>\n",
       "    <tr style=\"text-align: right;\">\n",
       "      <th></th>\n",
       "      <th>column</th>\n",
       "      <th>spearman_correlation</th>\n",
       "      <th>pvalue</th>\n",
       "      <th>pvalue_score</th>\n",
       "    </tr>\n",
       "  </thead>\n",
       "  <tbody>\n",
       "    <tr>\n",
       "      <th>0</th>\n",
       "      <td>feature_1_g1</td>\n",
       "      <td>0.020183</td>\n",
       "      <td>0.004309</td>\n",
       "      <td>232.080045</td>\n",
       "    </tr>\n",
       "    <tr>\n",
       "      <th>1</th>\n",
       "      <td>feature_3_g1</td>\n",
       "      <td>0.005055</td>\n",
       "      <td>0.474650</td>\n",
       "      <td>2.106817</td>\n",
       "    </tr>\n",
       "    <tr>\n",
       "      <th>2</th>\n",
       "      <td>feature_4_g1</td>\n",
       "      <td>0.022783</td>\n",
       "      <td>0.001271</td>\n",
       "      <td>786.839264</td>\n",
       "    </tr>\n",
       "    <tr>\n",
       "      <th>3</th>\n",
       "      <td>feature_8_g1</td>\n",
       "      <td>0.009315</td>\n",
       "      <td>0.187724</td>\n",
       "      <td>5.326972</td>\n",
       "    </tr>\n",
       "    <tr>\n",
       "      <th>4</th>\n",
       "      <td>feature_9_g1</td>\n",
       "      <td>0.011259</td>\n",
       "      <td>0.111303</td>\n",
       "      <td>8.984506</td>\n",
       "    </tr>\n",
       "    <tr>\n",
       "      <th>...</th>\n",
       "      <td>...</td>\n",
       "      <td>...</td>\n",
       "      <td>...</td>\n",
       "      <td>...</td>\n",
       "    </tr>\n",
       "    <tr>\n",
       "      <th>1539</th>\n",
       "      <td>reordered_feature_783_g2</td>\n",
       "      <td>0.001955</td>\n",
       "      <td>0.782197</td>\n",
       "      <td>1.278450</td>\n",
       "    </tr>\n",
       "    <tr>\n",
       "      <th>1540</th>\n",
       "      <td>reordered_feature_784_g2</td>\n",
       "      <td>0.011122</td>\n",
       "      <td>0.115735</td>\n",
       "      <td>8.640443</td>\n",
       "    </tr>\n",
       "    <tr>\n",
       "      <th>1541</th>\n",
       "      <td>reordered_feature_785_g2</td>\n",
       "      <td>0.003158</td>\n",
       "      <td>0.655126</td>\n",
       "      <td>1.526424</td>\n",
       "    </tr>\n",
       "    <tr>\n",
       "      <th>1542</th>\n",
       "      <td>reordered_feature_786_g2</td>\n",
       "      <td>0.001245</td>\n",
       "      <td>0.860281</td>\n",
       "      <td>1.162411</td>\n",
       "    </tr>\n",
       "    <tr>\n",
       "      <th>1543</th>\n",
       "      <td>reordered_feature_787_g2</td>\n",
       "      <td>0.008094</td>\n",
       "      <td>0.252315</td>\n",
       "      <td>3.963293</td>\n",
       "    </tr>\n",
       "  </tbody>\n",
       "</table>\n",
       "<p>1544 rows × 4 columns</p>\n",
       "</div>"
      ],
      "text/plain": [
       "                        column  spearman_correlation    pvalue  pvalue_score\n",
       "0                 feature_1_g1              0.020183  0.004309    232.080045\n",
       "1                 feature_3_g1              0.005055  0.474650      2.106817\n",
       "2                 feature_4_g1              0.022783  0.001271    786.839264\n",
       "3                 feature_8_g1              0.009315  0.187724      5.326972\n",
       "4                 feature_9_g1              0.011259  0.111303      8.984506\n",
       "...                        ...                   ...       ...           ...\n",
       "1539  reordered_feature_783_g2              0.001955  0.782197      1.278450\n",
       "1540  reordered_feature_784_g2              0.011122  0.115735      8.640443\n",
       "1541  reordered_feature_785_g2              0.003158  0.655126      1.526424\n",
       "1542  reordered_feature_786_g2              0.001245  0.860281      1.162411\n",
       "1543  reordered_feature_787_g2              0.008094  0.252315      3.963293\n",
       "\n",
       "[1544 rows x 4 columns]"
      ]
     },
     "execution_count": 28,
     "metadata": {},
     "output_type": "execute_result"
    }
   ],
   "source": [
    "correlation_scores"
   ]
  },
  {
   "cell_type": "code",
   "execution_count": null,
   "metadata": {},
   "outputs": [],
   "source": []
  },
  {
   "cell_type": "code",
   "execution_count": null,
   "metadata": {},
   "outputs": [],
   "source": []
  },
  {
   "cell_type": "code",
   "execution_count": 29,
   "metadata": {},
   "outputs": [],
   "source": [
    "import matplotlib.pyplot as plt\n",
    "from sklearn.metrics import (\n",
    "    PrecisionRecallDisplay,\n",
    "    RocCurveDisplay,\n",
    "    plot_precision_recall_curve,\n",
    "    plot_roc_curve,\n",
    "    precision_recall_curve,\n",
    "    roc_auc_score,\n",
    "    roc_curve,\n",
    ")"
   ]
  },
  {
   "cell_type": "code",
   "execution_count": 3,
   "metadata": {},
   "outputs": [
    {
     "data": {
      "text/plain": [
       "<bound method RocCurveDisplay.from_predictions of <class 'sklearn.metrics._plot.roc_curve.RocCurveDisplay'>>"
      ]
     },
     "execution_count": 3,
     "metadata": {},
     "output_type": "execute_result"
    }
   ],
   "source": [
    "RocCurveDisplay.from_predictions"
   ]
  },
  {
   "cell_type": "code",
   "execution_count": 46,
   "metadata": {},
   "outputs": [
    {
     "data": {
      "text/plain": [
       "<sklearn.metrics._plot.precision_recall_curve.PrecisionRecallDisplay at 0x7f501cba3bb0>"
      ]
     },
     "execution_count": 46,
     "metadata": {},
     "output_type": "execute_result"
    },
    {
     "data": {
      "image/png": "[encoded data removed]",
      "text/plain": [
       "<Figure size 432x288 with 1 Axes>"
      ]
     },
     "metadata": {
      "needs_background": "light"
     },
     "output_type": "display_data"
    },
    {
     "data": {
      "image/png": "[encoded data removed]",
      "text/plain": [
       "<Figure size 432x288 with 1 Axes>"
      ]
     },
     "metadata": {
      "needs_background": "light"
     },
     "output_type": "display_data"
    }
   ],
   "source": [
    "y_true = correlation_scores[\"column\"].str.startswith(\"reordered_\")\n",
    "y_pred = correlation_scores[\"spearman_correlation\"]\n",
    "RocCurveDisplay.from_predictions(1 - y_true, y_pred)\n",
    "PrecisionRecallDisplay.from_predictions(1 - y_true, y_pred)"
   ]
  },
  {
   "cell_type": "code",
   "execution_count": 47,
   "metadata": {},
   "outputs": [
    {
     "data": {
      "text/plain": [
       "<sklearn.metrics._plot.precision_recall_curve.PrecisionRecallDisplay at 0x7f501f5e31c0>"
      ]
     },
     "execution_count": 47,
     "metadata": {},
     "output_type": "execute_result"
    },
    {
     "data": {
      "image/png": "[encoded data removed]",
      "text/plain": [
       "<Figure size 432x288 with 1 Axes>"
      ]
     },
     "metadata": {
      "needs_background": "light"
     },
     "output_type": "display_data"
    },
    {
     "data": {
      "image/png": "[encoded data removed]",
      "text/plain": [
       "<Figure size 432x288 with 1 Axes>"
      ]
     },
     "metadata": {
      "needs_background": "light"
     },
     "output_type": "display_data"
    }
   ],
   "source": [
    "y_true = xgboost_scores_2[\"column\"].str.startswith(\"reordered_\")\n",
    "y_pred = xgboost_scores_2[\"weight\"]\n",
    "RocCurveDisplay.from_predictions(1 - y_true, y_pred)\n",
    "PrecisionRecallDisplay.from_predictions(1 - y_true, y_pred)"
   ]
  },
  {
   "cell_type": "code",
   "execution_count": 48,
   "metadata": {},
   "outputs": [
    {
     "data": {
      "text/plain": [
       "<sklearn.metrics._plot.precision_recall_curve.PrecisionRecallDisplay at 0x7f501f4f88b0>"
      ]
     },
     "execution_count": 48,
     "metadata": {},
     "output_type": "execute_result"
    },
    {
     "data": {
      "image/png": "[encoded data removed]",
      "text/plain": [
       "<Figure size 432x288 with 1 Axes>"
      ]
     },
     "metadata": {
      "needs_background": "light"
     },
     "output_type": "display_data"
    },
    {
     "data": {
      "image/png": "[encoded data removed]",
      "text/plain": [
       "<Figure size 432x288 with 1 Axes>"
      ]
     },
     "metadata": {
      "needs_background": "light"
     },
     "output_type": "display_data"
    }
   ],
   "source": [
    "y_true = xgboost_scores_3[\"column\"].str.startswith(\"reordered_\")\n",
    "y_pred = xgboost_scores_3[\"weight\"]\n",
    "RocCurveDisplay.from_predictions(1 - y_true, y_pred)\n",
    "PrecisionRecallDisplay.from_predictions(1 - y_true, y_pred)"
   ]
  },
  {
   "cell_type": "code",
   "execution_count": 52,
   "metadata": {},
   "outputs": [
    {
     "data": {
      "text/plain": [
       "<sklearn.metrics._plot.precision_recall_curve.PrecisionRecallDisplay at 0x7f501f60d7f0>"
      ]
     },
     "execution_count": 52,
     "metadata": {},
     "output_type": "execute_result"
    },
    {
     "data": {
      "image/png": "[encoded data removed]",
      "text/plain": [
       "<Figure size 432x288 with 1 Axes>"
      ]
     },
     "metadata": {
      "needs_background": "light"
     },
     "output_type": "display_data"
    },
    {
     "data": {
      "image/png": "[encoded data removed]",
      "text/plain": [
       "<Figure size 432x288 with 1 Axes>"
      ]
     },
     "metadata": {
      "needs_background": "light"
     },
     "output_type": "display_data"
    }
   ],
   "source": [
    "y_true = xgboost_scores_5[\"column\"].str.startswith(\"reordered_\")\n",
    "y_pred = xgboost_scores_5[\"weight\"]\n",
    "RocCurveDisplay.from_predictions(1 - y_true, y_pred)\n",
    "PrecisionRecallDisplay.from_predictions(1 - y_true, y_pred)"
   ]
  },
  {
   "cell_type": "code",
   "execution_count": 53,
   "metadata": {},
   "outputs": [
    {
     "data": {
      "text/plain": [
       "<sklearn.metrics._plot.precision_recall_curve.PrecisionRecallDisplay at 0x7f501f5a5520>"
      ]
     },
     "execution_count": 53,
     "metadata": {},
     "output_type": "execute_result"
    },
    {
     "data": {
      "image/png": "[encoded data removed]",
      "text/plain": [
       "<Figure size 432x288 with 1 Axes>"
      ]
     },
     "metadata": {
      "needs_background": "light"
     },
     "output_type": "display_data"
    },
    {
     "data": {
      "image/png": "[encoded data removed]",
      "text/plain": [
       "<Figure size 432x288 with 1 Axes>"
      ]
     },
     "metadata": {
      "needs_background": "light"
     },
     "output_type": "display_data"
    }
   ],
   "source": [
    "y_true = bireducts_scores[\"column\"].str.startswith(\"reordered_\")\n",
    "y_pred = bireducts_scores[\"global_gain\"]\n",
    "RocCurveDisplay.from_predictions(1 - y_true, y_pred)\n",
    "PrecisionRecallDisplay.from_predictions(1 - y_true, y_pred)"
   ]
  },
  {
   "cell_type": "code",
   "execution_count": 50,
   "metadata": {},
   "outputs": [
    {
     "data": {
      "text/plain": [
       "<sklearn.metrics._plot.precision_recall_curve.PrecisionRecallDisplay at 0x7f501f44bd30>"
      ]
     },
     "execution_count": 50,
     "metadata": {},
     "output_type": "execute_result"
    },
    {
     "data": {
      "image/png": "[encoded data removed]",
      "text/plain": [
       "<Figure size 432x288 with 1 Axes>"
      ]
     },
     "metadata": {
      "needs_background": "light"
     },
     "output_type": "display_data"
    },
    {
     "data": {
      "image/png": "[encoded data removed]",
      "text/plain": [
       "<Figure size 432x288 with 1 Axes>"
      ]
     },
     "metadata": {
      "needs_background": "light"
     },
     "output_type": "display_data"
    }
   ],
   "source": [
    "y_true = bireducts_scores_3[\"column\"].str.startswith(\"reordered_\")\n",
    "y_pred = bireducts_scores_3[\"global_gain\"]\n",
    "RocCurveDisplay.from_predictions(1 - y_true, y_pred)\n",
    "PrecisionRecallDisplay.from_predictions(1 - y_true, y_pred)"
   ]
  },
  {
   "cell_type": "code",
   "execution_count": null,
   "metadata": {},
   "outputs": [],
   "source": [
    "\n"
   ]
  },
  {
   "cell_type": "code",
   "execution_count": null,
   "metadata": {},
   "outputs": [],
   "source": []
  },
  {
   "cell_type": "code",
   "execution_count": null,
   "metadata": {},
   "outputs": [],
   "source": []
  },
  {
   "cell_type": "code",
   "execution_count": null,
   "metadata": {},
   "outputs": [],
   "source": []
  }
 ],
 "metadata": {
  "kernelspec": {
   "display_name": "Python 3.10.5 ('.venv': poetry)",
   "language": "python",
   "name": "python3"
  },
  "language_info": {
   "codemirror_mode": {
    "name": "ipython",
    "version": 3
   },
   "file_extension": ".py",
   "mimetype": "text/x-python",
   "name": "python",
   "nbconvert_exporter": "python",
   "pygments_lexer": "ipython3",
   "version": "3.9.12"
  },
  "vscode": {
   "interpreter": {
    "hash": "cb353cb8b9a4ebafc945efb5c6e15e592d37ff0fcf51b748ec6c5769c1eaa51b"
   }
  }
 },
 "nbformat": 4,
 "nbformat_minor": 4
}
