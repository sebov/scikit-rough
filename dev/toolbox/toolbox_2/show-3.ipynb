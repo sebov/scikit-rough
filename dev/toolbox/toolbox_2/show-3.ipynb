{
 "cells": [
  {
   "cell_type": "code",
   "execution_count": 1,
   "metadata": {},
   "outputs": [],
   "source": [
    "import logging\n",
    "import pathlib\n",
    "import pickle\n",
    "import re\n",
    "import warnings\n",
    "from collections import defaultdict\n",
    "\n",
    "import attr\n",
    "import matplotlib.pyplot as plt\n",
    "import numpy as np\n",
    "import pandas as pd\n",
    "import seaborn as sns\n",
    "import tqdm\n",
    "from joblib import Parallel, delayed\n",
    "from plotnine import (\n",
    "    aes,\n",
    "    element_blank,\n",
    "    element_rect,\n",
    "    element_text,\n",
    "    ggplot,\n",
    "    stat_smooth,\n",
    "    theme,\n",
    ")\n",
    "from sklearn.metrics import precision_recall_curve, roc_auc_score\n",
    "from sklearn.model_selection import LeaveOneGroupOut\n",
    "from sklearn.neighbors import NearestNeighbors\n",
    "\n",
    "from skrough.base import Bireduct\n",
    "from skrough.bireducts.dynamically_adapted_approximate_bireduct import (\n",
    "    DynamicallyAdaptedApproximateBireduct,\n",
    ")\n",
    "\n",
    "warnings.filterwarnings(\"ignore\", category=np.VisibleDeprecationWarning)\n",
    "\n",
    "import config"
   ]
  },
  {
   "cell_type": "code",
   "execution_count": null,
   "metadata": {},
   "outputs": [],
   "source": []
  },
  {
   "cell_type": "code",
   "execution_count": 3,
   "metadata": {},
   "outputs": [],
   "source": [
    "DATA_DIR = pathlib.Path(config.DATA_DIR)\n",
    "TMP_DIR = pathlib.Path(config.TMP_DIR)\n",
    "SEP = \";\"\n",
    "\n",
    "# FILEPATH_IN = DATA_DIR / 'toolbox_tabular_data_annonymized_discretized_uniform.csv'\n",
    "FILEPATH_IN = DATA_DIR / \"toolbox_tabular_data_annonymized_discretized_quantile.csv\"\n",
    "# FILEPATH_IN = DATA_DIR / 'toolbox_tabular_data_annonymized_discretized_kmeans.csv'\n",
    "# FILEPATH_IN = DATA_DIR / 'toolbox_tabular_data_annonymized.csv'"
   ]
  },
  {
   "cell_type": "code",
   "execution_count": null,
   "metadata": {},
   "outputs": [],
   "source": []
  },
  {
   "cell_type": "code",
   "execution_count": 117,
   "metadata": {},
   "outputs": [],
   "source": [
    "df = pd.read_csv(FILEPATH_IN, sep=SEP)\n",
    "process_ids = df.pop(\"process_ids\")\n",
    "df = df.astype(\"category\")\n",
    "df = df.apply(lambda x: x.cat.codes)\n",
    "df_dec = df.pop(\"target\")\n",
    "df_dec = 1 - df_dec\n",
    "\n",
    "del df\n",
    "del process_ids"
   ]
  },
  {
   "cell_type": "code",
   "execution_count": 6,
   "metadata": {},
   "outputs": [
    {
     "data": {
      "text/plain": [
       "0.06968954656801479"
      ]
     },
     "execution_count": 6,
     "metadata": {},
     "output_type": "execute_result"
    }
   ],
   "source": [
    "sum(df_dec) / len(df_dec)"
   ]
  },
  {
   "cell_type": "code",
   "execution_count": null,
   "metadata": {},
   "outputs": [],
   "source": []
  },
  {
   "cell_type": "code",
   "execution_count": 257,
   "metadata": {},
   "outputs": [],
   "source": [
    "FEATURE_GROUPS_FILEPATH_IN = DATA_DIR / \"feature_groups.csv\"\n",
    "\n",
    "feature_groups = pd.read_csv(FEATURE_GROUPS_FILEPATH_IN)\n",
    "\n",
    "group_names = [\n",
    "    \"employment history\",\n",
    "    \"skills\",\n",
    "    \"education\",\n",
    "    \"place of residence\",\n",
    "    \"current status\",\n",
    "    \"job offer\",\n",
    "    \"person-offer relation\",\n",
    "]"
   ]
  },
  {
   "cell_type": "code",
   "execution_count": null,
   "metadata": {},
   "outputs": [],
   "source": []
  },
  {
   "cell_type": "code",
   "execution_count": 5,
   "metadata": {},
   "outputs": [],
   "source": []
  },
  {
   "cell_type": "code",
   "execution_count": 260,
   "metadata": {},
   "outputs": [],
   "source": []
  },
  {
   "cell_type": "code",
   "execution_count": null,
   "metadata": {},
   "outputs": [],
   "source": []
  },
  {
   "cell_type": "code",
   "execution_count": null,
   "metadata": {},
   "outputs": [],
   "source": []
  },
  {
   "cell_type": "code",
   "execution_count": null,
   "metadata": {},
   "outputs": [],
   "source": []
  },
  {
   "cell_type": "code",
   "execution_count": 106,
   "metadata": {},
   "outputs": [],
   "source": [
    "# result_xgboost_test = []\n",
    "# for p in (TMP_DIR/'trash/paper_xgboost_hyper_native_2_test').glob('*.csv'):\n",
    "#     m = re.search('_dataset_(\\w+)'\n",
    "#                   '_leave_one_process_out_k_(\\d+).*_num_boost_round_(\\d+).*_learning_rate_([.\\d]+).*_max_depth_(\\d+).*_base_score_([.\\d]+).*\\.csv', p.name)\n",
    "#     if m is not None:\n",
    "#         dataset = m.group(1)\n",
    "#         k = int(m.group(2))\n",
    "#         num_boost_round = int(m.group(3))\n",
    "#         learning_rate = float(m.group(4))\n",
    "#         max_depth = int(m.group(5))\n",
    "#         base_score = float(m.group(6))\n",
    "#         without_feature_group = m.group(7)\n",
    "#         x = pd.read_csv(p, sep=';')\n",
    "#         result_xgboost_test.append([dataset, k, num_boost_round, learning_rate, max_depth, base_score, without_feature_group,\n",
    "#                        roc_auc_score(df_dec, np.nan_to_num(x.iloc[:, 0]/x.iloc[:, 1]))])\n",
    "# result_xgboost_test = pd.DataFrame(result_xgboost_test, columns=('dataset', 'k', 'num_boost_round', 'learning_rate', 'max_depth', 'base_score', 'without_feature_group', AUC'))\n",
    "# result_xgboost_test = result_xgboost_test[result_xgboost_test['without_feature_group'].isnull()]\n",
    "# result_xgboost_test.sort_values('AUC', ascending=False)"
   ]
  },
  {
   "cell_type": "code",
   "execution_count": null,
   "metadata": {},
   "outputs": [],
   "source": []
  },
  {
   "cell_type": "code",
   "execution_count": 246,
   "metadata": {},
   "outputs": [],
   "source": [
    "result_xgboost = []\n",
    "for p in (TMP_DIR / \"paper_xgboost_hyper_native_2_\").glob(\"*.csv\"):\n",
    "    m = re.search(\n",
    "        r\"_dataset_(\\w+)\"\n",
    "        r\"_leave_one_process_out_k_(\\d+).*_num_boost_round_(\\d+).*_learning_rate_([.\\d]+).*_max_depth_(\\d+).*_base_score_([.\\d]+).*?(?:_without_feature_group_(.*))?\\.csv\",\n",
    "        p.name,\n",
    "    )\n",
    "    if m is not None:\n",
    "        dataset = m.group(1)\n",
    "        k = int(m.group(2))\n",
    "        num_boost_round = int(m.group(3))\n",
    "        learning_rate = float(m.group(4))\n",
    "        max_depth = int(m.group(5))\n",
    "        base_score = float(m.group(6))\n",
    "        without_feature_group = m.group(7)\n",
    "        x = pd.read_csv(p, sep=\";\")\n",
    "        result_xgboost.append(\n",
    "            [\n",
    "                dataset,\n",
    "                k,\n",
    "                num_boost_round,\n",
    "                learning_rate,\n",
    "                max_depth,\n",
    "                base_score,\n",
    "                without_feature_group,\n",
    "                roc_auc_score(df_dec, np.nan_to_num(x.iloc[:, 0] / x.iloc[:, 1])),\n",
    "            ]\n",
    "        )\n",
    "result_xgboost = pd.DataFrame(\n",
    "    result_xgboost,\n",
    "    columns=(\n",
    "        \"dataset\",\n",
    "        \"k\",\n",
    "        \"num_boost_round\",\n",
    "        \"learning_rate\",\n",
    "        \"max_depth\",\n",
    "        \"base_score\",\n",
    "        \"without_feature_group\",\n",
    "        \"AUC\",\n",
    "    ),\n",
    ")\n",
    "result_xgboost = result_xgboost[result_xgboost[\"without_feature_group\"].isnull()]"
   ]
  },
  {
   "cell_type": "code",
   "execution_count": null,
   "metadata": {},
   "outputs": [],
   "source": []
  },
  {
   "cell_type": "code",
   "execution_count": 623,
   "metadata": {},
   "outputs": [],
   "source": [
    "# result_tree_test = []\n",
    "# for p in (TMP_DIR/'paper_tree_2_test').glob('*.csv'):\n",
    "#     m = re.search('_dataset_(\\w+)'\n",
    "#                   '_leave_one_process_out_k_(\\d+).*_min_impurity_decrease_([.\\d]+).*_max_depth_(\\d+|None).*?(?:_without_feature_group_(.*))?\\.csv', p.name)\n",
    "#     if m is not None:\n",
    "#         dataset = m.group(1)\n",
    "#         k = int(m.group(2))\n",
    "#         min_impurity_decrease = float(m.group(3))\n",
    "#         max_depth = None if m.group(4) == 'None' else int(m.group(4))\n",
    "#         without_feature_group = m.group(5)\n",
    "#         x = pd.read_csv(p, sep=';')\n",
    "#         result_tree_test.append([dataset, k, min_impurity_decrease, max_depth, without_feature_group,\n",
    "#                        roc_auc_score(df_dec, np.nan_to_num(x.iloc[:, 0]/x.iloc[:, 1]))])\n",
    "# result_tree_test = pd.DataFrame(result_tree_test, columns=('dataset', 'k', 'min_impurity_decrease', 'max_depth', 'without_feature_group', AUC'))\n",
    "# result_tree_test = result_tree_test[result_tree_test['without_feature_group'].isnull()]\n",
    "# result_tree_test.sort_values('AUC', ascending=False)"
   ]
  },
  {
   "cell_type": "code",
   "execution_count": null,
   "metadata": {},
   "outputs": [],
   "source": []
  },
  {
   "cell_type": "code",
   "execution_count": 84,
   "metadata": {},
   "outputs": [],
   "source": [
    "# result_tree_2 = []\n",
    "# for p in (TMP_DIR/'trash/paper_tree_2_').glob('*.csv'):\n",
    "#     m = re.search('_dataset_(\\w+)'\n",
    "#                   '_leave_one_process_out_k_(\\d+).*_min_impurity_decrease_([.\\d]+).*_max_depth_(\\d+|None).*?(?:_without_feature_group_(.*))?\\.csv', p.name)\n",
    "#     if m is not None:\n",
    "#         dataset = m.group(1)\n",
    "#         k = int(m.group(2))\n",
    "#         min_impurity_decrease = float(m.group(3))\n",
    "#         max_depth = None if m.group(4) == 'None' else int(m.group(4))\n",
    "#         without_feature_group = m.group(5)\n",
    "#         x = pd.read_csv(p, sep=';')\n",
    "#         result_tree_2.append([dataset, k, min_impurity_decrease, max_depth, without_feature_group,\n",
    "#                        roc_auc_score(df_dec, np.nan_to_num(x.iloc[:, 0]/x.iloc[:, 1]))])\n",
    "# result_tree_2 = pd.DataFrame(result_tree_2, columns=('dataset', 'k', 'min_impurity_decrease', 'max_depth', 'without_feature_group', AUC'))\n",
    "# result_tree_2 = result_tree_2[result_tree_2['without_feature_group'].isnull()]"
   ]
  },
  {
   "cell_type": "code",
   "execution_count": 247,
   "metadata": {},
   "outputs": [],
   "source": [
    "result_tree = []\n",
    "for p in (TMP_DIR / \"paper_tree_3_\").glob(\"*.csv\"):\n",
    "    m = re.search(\n",
    "        r\"_dataset_(\\w+)\"\n",
    "        r\"_leave_one_process_out_k_(\\d+).*_min_impurity_decrease_([.\\d]+).*_max_depth_(\\d+|None).*?(?:_without_feature_group_(.*))?\\.csv\",\n",
    "        p.name,\n",
    "    )\n",
    "    if m is not None:\n",
    "        dataset = m.group(1)\n",
    "        k = int(m.group(2))\n",
    "        min_impurity_decrease = float(m.group(3))\n",
    "        max_depth = None if m.group(4) == \"None\" else int(m.group(4))\n",
    "        without_feature_group = m.group(5)\n",
    "        x = pd.read_csv(p, sep=\";\")\n",
    "        result_tree.append(\n",
    "            [\n",
    "                dataset,\n",
    "                k,\n",
    "                min_impurity_decrease,\n",
    "                max_depth,\n",
    "                without_feature_group,\n",
    "                roc_auc_score(df_dec, np.nan_to_num(x.iloc[:, 0] / x.iloc[:, 1])),\n",
    "            ]\n",
    "        )\n",
    "result_tree = pd.DataFrame(\n",
    "    result_tree,\n",
    "    columns=(\n",
    "        \"dataset\",\n",
    "        \"k\",\n",
    "        \"min_impurity_decrease\",\n",
    "        \"max_depth\",\n",
    "        \"without_feature_group\",\n",
    "        \"AUC\",\n",
    "    ),\n",
    ")\n",
    "result_tree = result_tree[result_tree[\"without_feature_group\"].isnull()]"
   ]
  },
  {
   "cell_type": "code",
   "execution_count": null,
   "metadata": {},
   "outputs": [],
   "source": []
  },
  {
   "cell_type": "code",
   "execution_count": 249,
   "metadata": {},
   "outputs": [],
   "source": [
    "result_bireducts = []\n",
    "for p in (TMP_DIR / \"paper_bireducts_2_\").glob(\"*.csv\"):\n",
    "    m = re.search(\n",
    "        r\"_dataset_(\\w+)\"\n",
    "        r\"_leave_one_process_out_k_(\\d+).*_n_bireducts_(\\d+).*_candidate_n_attrs_(\\d+).*_allowed_randomness_([.\\d]+).*_max_n_attrs_(\\d+|None).*_iteration_(\\d+).*?(?:_without_feature_group_(.*))?\\.csv\",\n",
    "        p.name,\n",
    "    )\n",
    "    if m is not None:\n",
    "        dataset = m.group(1)\n",
    "        k = int(m.group(2))\n",
    "        n_bireducts = int(m.group(3))\n",
    "        candidate_n_attrs = int(m.group(4))\n",
    "        allowed_randomness = float(m.group(5))\n",
    "        max_n_attrs = None if m.group(6) == \"None\" else int(m.group(6))\n",
    "        iteration = int(m.group(7))\n",
    "        without_feature_group = m.group(8)\n",
    "        x = pd.read_csv(p, sep=\";\")\n",
    "        result_bireducts.append(\n",
    "            [\n",
    "                dataset,\n",
    "                k,\n",
    "                n_bireducts,\n",
    "                candidate_n_attrs,\n",
    "                allowed_randomness,\n",
    "                max_n_attrs,\n",
    "                iteration,\n",
    "                without_feature_group,\n",
    "                roc_auc_score(df_dec, np.nan_to_num(x.iloc[:, 0] / x.iloc[:, 1])),\n",
    "                roc_auc_score(df_dec, np.nan_to_num(x.iloc[:, 0] / x.iloc[:, 2])),\n",
    "            ]\n",
    "        )\n",
    "result_bireducts = pd.DataFrame(\n",
    "    result_bireducts,\n",
    "    columns=(\n",
    "        \"dataset\",\n",
    "        \"k\",\n",
    "        \"n_bireducts\",\n",
    "        \"candidate_n_attrs\",\n",
    "        \"allowed_randomness\",\n",
    "        \"max_n_attrs\",\n",
    "        \"iteration\",\n",
    "        \"without_feature_group\",\n",
    "        \"AUC\",\n",
    "        \"AUC2\",\n",
    "    ),\n",
    ")\n",
    "result_bireducts = result_bireducts[result_bireducts[\"without_feature_group\"].isnull()]"
   ]
  },
  {
   "cell_type": "code",
   "execution_count": 8,
   "metadata": {},
   "outputs": [],
   "source": [
    "# result_bireducts_old = []\n",
    "# for p in (TMP_DIR/'paper').glob('*.csv'):\n",
    "#     m = re.search('k_(\\d+).*_bireducts_(\\d+).*_candidate_attrs_(\\d+).*_allowed_randomness_([.\\d]+).*_rep_(\\d+).*?(?:_without_feature_group_(.*))?\\.csv', p.name)\n",
    "#     if m is not None:\n",
    "#         k = int(m.group(1))\n",
    "#         bireducts = int(m.group(2))\n",
    "#         candidate_attrs = int(m.group(3))\n",
    "#         allowed_randomness = float(m.group(4))\n",
    "#         iteration = int(m.group(5))\n",
    "#         without_feature_group = m.group(6)\n",
    "#         x = pd.read_csv(p, sep=';')\n",
    "#         result_bireducts_old.append([k, bireducts, candidate_attrs,\n",
    "#                                      allowed_randomness, iteration, without_feature_group,\n",
    "#                                      1-roc_auc_score(df_dec, np.nan_to_num(x.iloc[:, 0]/x.iloc[:, 1])),\n",
    "#                                      1-roc_auc_score(df_dec, np.nan_to_num(x.iloc[:, 0]/x.iloc[:, 2])),\n",
    "#                                     ])\n",
    "# result_bireducts_old = pd.DataFrame(result_bireducts_old, columns=('k', 'bireducts', 'candidate_attrs',\n",
    "#                                                                    'allowed_randomness', 'iteration', 'without_feature_group',\n",
    "#                                                                    'AUC', 'AUC2'))\n",
    "# result_bireducts_old = result_bireducts_old[result_bireducts_old['without_feature_group'].isnull()]"
   ]
  },
  {
   "cell_type": "code",
   "execution_count": 9,
   "metadata": {},
   "outputs": [],
   "source": [
    "# result_bireducts_old_3 = []\n",
    "# for p in (TMP_DIR/'paper_max_3_attrs').glob('*.csv'):\n",
    "#     m = re.search('k_(\\d+).*_bireducts_(\\d+).*_candidate_attrs_(\\d+).*_allowed_randomness_([.\\d]+).*_max_attrs_(\\d+).*_rep_(\\d+).*?(?:_without_feature_group_(.*))?\\.csv', p.name)\n",
    "#     if m is not None:\n",
    "#         k = int(m.group(1))\n",
    "#         bireducts = int(m.group(2))\n",
    "#         candidate_attrs = int(m.group(3))\n",
    "#         allowed_randomness = float(m.group(4))\n",
    "#         max_attrs = int(m.group(5))\n",
    "#         iteration = int(m.group(6))\n",
    "#         without_feature_group = m.group(7)\n",
    "#         x = pd.read_csv(p, sep=';')\n",
    "#         result_bireducts_old_3.append([k, bireducts, candidate_attrs,\n",
    "#                                      allowed_randomness, max_attrs, iteration, without_feature_group,\n",
    "#                                      1-roc_auc_score(df_dec, np.nan_to_num(x.iloc[:, 0]/x.iloc[:, 1])),\n",
    "#                                      1-roc_auc_score(df_dec, np.nan_to_num(x.iloc[:, 0]/x.iloc[:, 2])),\n",
    "#                                     ])\n",
    "# result_bireducts_old_3 = pd.DataFrame(result_bireducts_old_3, columns=('k', 'bireducts', 'candidate_attrs',\n",
    "#                                                                        'allowed_randomness', 'max_attrs', 'iteration', 'without_feature_group',\n",
    "#                                                                        'AUC', 'AUC2'))\n",
    "# result_bireducts_old_3 = result_bireducts_old_3[result_bireducts_old_3['without_feature_group'].isnull()]"
   ]
  },
  {
   "cell_type": "code",
   "execution_count": null,
   "metadata": {},
   "outputs": [],
   "source": []
  },
  {
   "cell_type": "code",
   "execution_count": null,
   "metadata": {},
   "outputs": [],
   "source": []
  },
  {
   "cell_type": "code",
   "execution_count": null,
   "metadata": {},
   "outputs": [],
   "source": []
  },
  {
   "cell_type": "code",
   "execution_count": null,
   "metadata": {},
   "outputs": [],
   "source": []
  },
  {
   "cell_type": "code",
   "execution_count": null,
   "metadata": {},
   "outputs": [],
   "source": []
  },
  {
   "cell_type": "code",
   "execution_count": null,
   "metadata": {},
   "outputs": [],
   "source": []
  },
  {
   "cell_type": "code",
   "execution_count": null,
   "metadata": {},
   "outputs": [],
   "source": []
  },
  {
   "cell_type": "code",
   "execution_count": null,
   "metadata": {},
   "outputs": [],
   "source": []
  },
  {
   "cell_type": "code",
   "execution_count": null,
   "metadata": {},
   "outputs": [],
   "source": []
  },
  {
   "cell_type": "code",
   "execution_count": 91,
   "metadata": {},
   "outputs": [],
   "source": [
    "# x2 = result_xgboost[(result_xgboost['num_boost_round'] == 1000) & (result_xgboost['learning_rate'] == 0.001) & (result_xgboost['max_depth'] == 2) & (result_xgboost['base_score'] == 0.0696)]\n",
    "# x3 = result_xgboost[(result_xgboost['num_boost_round'] == 1000) & (result_xgboost['learning_rate'] == 0.001) & (result_xgboost['max_depth'] == 3) & (result_xgboost['base_score'] == 0.0696)]\n",
    "# x4 = result_xgboost[(result_xgboost['num_boost_round'] == 1000) & (result_xgboost['learning_rate'] == 0.001) & (result_xgboost['max_depth'] == 4) & (result_xgboost['base_score'] == 0.0696)]\n",
    "# x5 = result_xgboost[(result_xgboost['num_boost_round'] == 1000) & (result_xgboost['learning_rate'] == 0.001) & (result_xgboost['max_depth'] == 5) & (result_xgboost['base_score'] == 0.0696)]\n",
    "# x10 = result_xgboost[(result_xgboost['num_boost_round'] == 1000) & (result_xgboost['learning_rate'] == 0.001) & (result_xgboost['max_depth'] == 10) & (result_xgboost['base_score'] == 0.0696)]\n",
    "\n",
    "x3 = result_xgboost[\n",
    "    (result_xgboost[\"dataset\"] == \"toolbox_tabular_data_annonymized\")\n",
    "    & (result_xgboost[\"num_boost_round\"] == 1000)\n",
    "    & (result_xgboost[\"learning_rate\"] == 0.001)\n",
    "    & (result_xgboost[\"max_depth\"] == 3)\n",
    "    & (result_xgboost[\"base_score\"] == 0.0696)\n",
    "]\n",
    "x2_discretized = result_xgboost[\n",
    "    (\n",
    "        result_xgboost[\"dataset\"]\n",
    "        == \"toolbox_tabular_data_annonymized_discretized_quantile\"\n",
    "    )\n",
    "    & (result_xgboost[\"num_boost_round\"] == 1000)\n",
    "    & (result_xgboost[\"learning_rate\"] == 0.001)\n",
    "    & (result_xgboost[\"max_depth\"] == 2)\n",
    "    & (result_xgboost[\"base_score\"] == 0.0696)\n",
    "]\n",
    "\n",
    "t1 = result_tree[\n",
    "    (result_tree[\"dataset\"] == \"toolbox_tabular_data_annonymized\")\n",
    "    & (result_tree[\"min_impurity_decrease\"] == 0.0)\n",
    "    & (result_tree[\"max_depth\"] == 2)\n",
    "]\n",
    "t2 = result_tree[\n",
    "    (result_tree[\"dataset\"] == \"toolbox_tabular_data_annonymized\")\n",
    "    & (result_tree[\"min_impurity_decrease\"] == 0.001)\n",
    "    & (result_tree[\"max_depth\"] == 2)\n",
    "]\n",
    "t3 = result_tree[\n",
    "    (result_tree[\"dataset\"] == \"toolbox_tabular_data_annonymized\")\n",
    "    & (result_tree[\"min_impurity_decrease\"] == 0.0)\n",
    "    & (result_tree[\"max_depth\"] == 3)\n",
    "]\n",
    "t4 = result_tree[\n",
    "    (result_tree[\"dataset\"] == \"toolbox_tabular_data_annonymized\")\n",
    "    & (result_tree[\"min_impurity_decrease\"] == 0.001)\n",
    "    & (result_tree[\"max_depth\"] == 3)\n",
    "]\n",
    "t5 = result_tree[\n",
    "    (result_tree[\"dataset\"] == \"toolbox_tabular_data_annonymized\")\n",
    "    & (result_tree[\"min_impurity_decrease\"] == 0.0)\n",
    "    & (result_tree[\"max_depth\"] == 4)\n",
    "]\n",
    "t6 = result_tree[\n",
    "    (result_tree[\"dataset\"] == \"toolbox_tabular_data_annonymized\")\n",
    "    & (result_tree[\"min_impurity_decrease\"] == 0.001)\n",
    "    & (result_tree[\"max_depth\"] == 4)\n",
    "]\n",
    "t7 = result_tree[\n",
    "    (result_tree[\"dataset\"] == \"toolbox_tabular_data_annonymized\")\n",
    "    & (result_tree[\"min_impurity_decrease\"] == 0.0)\n",
    "    & (result_tree[\"max_depth\"] == 5)\n",
    "]\n",
    "t8 = result_tree[\n",
    "    (result_tree[\"dataset\"] == \"toolbox_tabular_data_annonymized\")\n",
    "    & (result_tree[\"min_impurity_decrease\"] == 0.001)\n",
    "    & (result_tree[\"max_depth\"] == 5)\n",
    "]\n",
    "\n",
    "# u1 = result_tree_2[(result_tree_2['dataset']=='toolbox_tabular_data_annonymized') &\n",
    "#                    (result_tree_2['min_impurity_decrease'] == 0.0) & (result_tree_2['max_depth'] == 2)]\n",
    "# u2 = result_tree_2[(result_tree_2['dataset']=='toolbox_tabular_data_annonymized') &\n",
    "#                    (result_tree_2['min_impurity_decrease'] == 0.001) & (result_tree_2['max_depth'] == 2)]\n",
    "# u3 = result_tree_2[(result_tree_2['dataset']=='toolbox_tabular_data_annonymized') &\n",
    "#                    (result_tree_2['min_impurity_decrease'] == 0.0) & (result_tree_2['max_depth'] == 3)]\n",
    "# u4 = result_tree_2[(result_tree_2['dataset']=='toolbox_tabular_data_annonymized') &\n",
    "#                    (result_tree_2['min_impurity_decrease'] == 0.001) & (result_tree_2['max_depth'] == 3)]\n",
    "# u5 = result_tree_2[(result_tree_2['dataset']=='toolbox_tabular_data_annonymized') &\n",
    "#                    (result_tree_2['min_impurity_decrease'] == 0.0) & (result_tree_2['max_depth'] == 4)]\n",
    "# u6 = result_tree_2[(result_tree_2['dataset']=='toolbox_tabular_data_annonymized') &\n",
    "#                    (result_tree_2['min_impurity_decrease'] == 0.001) & (result_tree_2['max_depth'] == 4)]\n",
    "# u7 = result_tree_2[(result_tree_2['dataset']=='toolbox_tabular_data_annonymized') &\n",
    "#                    (result_tree_2['min_impurity_decrease'] == 0.0) & (result_tree_2['max_depth'] == 5)]\n",
    "# u8 = result_tree_2[(result_tree_2['dataset']=='toolbox_tabular_data_annonymized') &\n",
    "#                    (result_tree_2['min_impurity_decrease'] == 0.001) & (result_tree_2['max_depth'] == 5)]\n",
    "\n",
    "b1 = result_bireducts[\n",
    "    (result_bireducts[\"max_n_attrs\"].isnull()) & (result_bireducts[\"iteration\"] == 0)\n",
    "]\n",
    "b2 = result_bireducts[\n",
    "    (result_bireducts[\"max_n_attrs\"] == 3) & (result_bireducts[\"iteration\"] == 1)\n",
    "]\n",
    "\n",
    "# bo1 = result_bireducts_old[result_bireducts_old['iteration'] == 0]\n",
    "# bo2 = result_bireducts_old[result_bireducts_old['iteration'] == 1]\n",
    "# bo3 = result_bireducts_old[result_bireducts_old['iteration'] == 2]\n",
    "# bo4 = result_bireducts_old[result_bireducts_old['iteration'] == 3]\n",
    "# bo5 = result_bireducts_old[result_bireducts_old['iteration'] == 4]\n",
    "\n",
    "# bo31 = result_bireducts_old_3[result_bireducts_old_3['iteration'] == 0]\n",
    "# bo32 = result_bireducts_old_3[result_bireducts_old_3['iteration'] == 1]\n",
    "# bo33 = result_bireducts_old_3[result_bireducts_old_3['iteration'] == 2]\n",
    "# bo34 = result_bireducts_old_3[result_bireducts_old_3['iteration'] == 3]\n",
    "# bo35 = result_bireducts_old_3[result_bireducts_old_3['iteration'] == 4]"
   ]
  },
  {
   "cell_type": "code",
   "execution_count": null,
   "metadata": {},
   "outputs": [],
   "source": []
  },
  {
   "cell_type": "code",
   "execution_count": null,
   "metadata": {},
   "outputs": [],
   "source": []
  },
  {
   "cell_type": "code",
   "execution_count": null,
   "metadata": {},
   "outputs": [],
   "source": []
  },
  {
   "cell_type": "code",
   "execution_count": null,
   "metadata": {},
   "outputs": [],
   "source": []
  },
  {
   "cell_type": "code",
   "execution_count": null,
   "metadata": {},
   "outputs": [],
   "source": []
  },
  {
   "cell_type": "code",
   "execution_count": null,
   "metadata": {},
   "outputs": [],
   "source": []
  },
  {
   "cell_type": "code",
   "execution_count": 109,
   "metadata": {},
   "outputs": [
    {
     "data": {
      "text/plain": [
       "<AxesSubplot:xlabel='k', ylabel='AUC'>"
      ]
     },
     "execution_count": 109,
     "metadata": {},
     "output_type": "execute_result"
    },
    {
     "data": {
      "image/png": "[encoded data removed]",
      "text/plain": [
       "<Figure size 1080x576 with 1 Axes>"
      ]
     },
     "metadata": {},
     "output_type": "display_data"
    }
   ],
   "source": [
    "sns.set_theme()\n",
    "plt.figure(figsize=(15, 8))\n",
    "plt.xlim(8, 200)\n",
    "\n",
    "sns.lineplot(data=x3, x=\"k\", y=\"AUC\", markers=True, label=\"xgboost_depth_3\")\n",
    "# sns.lineplot(data=x2_discretized, x='k', y='AUC', markers=True, label='xgboost_depth_2_discretized')\n",
    "# sns.lineplot(data=x2, x='k', y='AUC', markers=True, lw=1, label='xgboost')\n",
    "# sns.lineplot(data=x3, x='k', y='AUC', markers=True, lw=1, label='xgboost')\n",
    "# sns.lineplot(data=x5, x='k', y='AUC', markers=True, lw=1, label='xgboost_depth_5')\n",
    "# sns.lineplot(data=x5, x='k', y='AUC', markers=True, lw=1, label='xgboost')\n",
    "\n",
    "sns.lineplot(data=b1, x=\"k\", y=\"AUC\", markers=True, lw=1, label=\"bireducts\")\n",
    "# sns.lineplot(data=b2, x='k', y='AUC', markers=True, lw=1, label='bireducts_attrs_3')\n",
    "\n",
    "# sns.lineplot(data=bo1, x='k', y='AUC', markers=True, lw=1, color='red', label='bireducts_old')\n",
    "# sns.lineplot(data=bo2, x='k', y='AUC', markers=True, lw=1, color='red')\n",
    "# sns.lineplot(data=bo3, x='k', y='AUC', markers=True, lw=1, color='red')\n",
    "# sns.lineplot(data=bo4, x='k', y='AUC', markers=True, lw=1, color='red')\n",
    "# sns.lineplot(data=bo5, x='k', y='AUC', markers=True, lw=1, color='red')\n",
    "\n",
    "# sns.lineplot(data=result_bireducts_old, x='k', y='AUC', markers=True, lw=1, label='bireducts_old')\n",
    "\n",
    "# sns.lineplot(data=bo31, x='k', y='AUC', markers=True, lw=1, color='plum', label='bireducts_old_3')\n",
    "# sns.lineplot(data=bo32, x='k', y='AUC', markers=True, lw=1, color='plum')\n",
    "# sns.lineplot(data=bo33, x='k', y='AUC', markers=True, lw=1, color='plum')\n",
    "# sns.lineplot(data=bo34, x='k', y='AUC', markers=True, lw=1, color='plum')\n",
    "# sns.lineplot(data=bo35, x='k', y='AUC', markers=True, lw=1, color='plum')\n",
    "\n",
    "# sns.lineplot(data=result_bireducts_old_3, x='k', y='AUC', markers=True, lw=1, label='bireducts_old_3')\n",
    "\n",
    "# sns.lineplot(data=t1, x='k', y='AUC', markers=True, lw=1, label='tree')\n",
    "# sns.lineplot(data=t2, x='k', y='AUC', markers=True, lw=1)\n",
    "# sns.lineplot(data=t3, x='k', y='AUC', markers=True, lw=1, label='3')\n",
    "# sns.lineplot(data=t4, x='k', y='AUC', markers=True, lw=1)\n",
    "# sns.lineplot(data=t5, x='k', y='AUC', markers=True, lw=1, label='5')\n",
    "# sns.lineplot(data=t6, x='k', y='AUC', markers=True, lw=1)\n",
    "# sns.lineplot(data=t7, x='k', y='AUC', markers=True, lw=1, label='7')\n",
    "# sns.lineplot(data=t8, x='k', y='AUC', markers=True, lw=1)\n",
    "\n",
    "# sns.lineplot(data=u3, x='k', y='AUC', markers=True, lw=1, label='7')"
   ]
  },
  {
   "cell_type": "code",
   "execution_count": null,
   "metadata": {},
   "outputs": [],
   "source": []
  },
  {
   "cell_type": "code",
   "execution_count": null,
   "metadata": {},
   "outputs": [],
   "source": []
  },
  {
   "cell_type": "code",
   "execution_count": 284,
   "metadata": {},
   "outputs": [],
   "source": [
    "# (ggplot()\n",
    "#  + stat_smooth(data=x3, mapping=aes('k', 'AUC'), method='loess', color='royalblue', size=2, span=0.3)\n",
    "#  + stat_smooth(data=b1, mapping=aes('k', 'AUC'), method='loess', color='limegreen', size=2, span=0.3)\n",
    "#  + stat_smooth(data=t7, mapping=aes('k', 'AUC'), method='loess', color='tomato', size=2, span=0.3)\n",
    "# )"
   ]
  },
  {
   "cell_type": "code",
   "execution_count": null,
   "metadata": {},
   "outputs": [],
   "source": []
  },
  {
   "cell_type": "code",
   "execution_count": 99,
   "metadata": {},
   "outputs": [],
   "source": [
    "valx = x3[[\"k\", \"AUC\"]].copy()\n",
    "valx[\"algorithm\"] = \"xgboost\"\n",
    "valb = b1[[\"k\", \"AUC\"]].copy()\n",
    "valb[\"algorithm\"] = \"bireducts\"\n",
    "valt = t7[[\"k\", \"AUC\"]].copy()\n",
    "valt[\"algorithm\"] = \"decision tree\"\n",
    "\n",
    "vals = pd.concat([valx, valb, valt])"
   ]
  },
  {
   "cell_type": "code",
   "execution_count": 100,
   "metadata": {},
   "outputs": [],
   "source": [
    "vals.to_csv(\"auc_vals.csv\", index=False)"
   ]
  },
  {
   "cell_type": "code",
   "execution_count": null,
   "metadata": {},
   "outputs": [],
   "source": []
  },
  {
   "cell_type": "code",
   "execution_count": 101,
   "metadata": {},
   "outputs": [
    {
     "data": {
      "image/png": "[encoded data removed]",
      "text/plain": [
       "<Figure size 640x480 with 1 Axes>"
      ]
     },
     "metadata": {
      "needs_background": "light"
     },
     "output_type": "display_data"
    },
    {
     "data": {
      "text/plain": [
       "<ggplot: (8761881125208)>"
      ]
     },
     "execution_count": 101,
     "metadata": {},
     "output_type": "execute_result"
    }
   ],
   "source": [
    "plot = (\n",
    "    ggplot(vals, aes(x=\"k\"))\n",
    "    + stat_smooth(\n",
    "        aes(\n",
    "            y=\"AUC\",\n",
    "            color=[\"red\"] * 20 + [\"blue\"] * 20 + [\"green\"] * 20,\n",
    "            group=\"algorithm\",\n",
    "        ),\n",
    "        span=0.4,\n",
    "        size=2,\n",
    "        level=0.95,\n",
    "    )\n",
    "    + theme(\n",
    "        legend_direction=\"horizontal\",\n",
    "        legend_position=\"bottom\",\n",
    "        legend_key=element_rect(alpha=0),\n",
    "        legend_title=element_blank(),\n",
    "        legend_entry_spacing_x=50,\n",
    "        legend_box_margin=-3,\n",
    "        legend_box_spacing=0.45,\n",
    "        rect=element_rect(color=\"black\", size=3, fill=\"#EEBB0050\"),\n",
    "    )\n",
    ")\n",
    "plot"
   ]
  },
  {
   "cell_type": "code",
   "execution_count": 102,
   "metadata": {},
   "outputs": [],
   "source": [
    "# plot.save('kresults_span_04.pdf')"
   ]
  },
  {
   "cell_type": "code",
   "execution_count": null,
   "metadata": {},
   "outputs": [],
   "source": []
  },
  {
   "cell_type": "code",
   "execution_count": null,
   "metadata": {},
   "outputs": [],
   "source": []
  },
  {
   "cell_type": "markdown",
   "metadata": {},
   "source": [
    "# Predictions"
   ]
  },
  {
   "cell_type": "code",
   "execution_count": 72,
   "metadata": {},
   "outputs": [],
   "source": [
    "def get_predictions(file_path, norm_column=1):\n",
    "    df = pd.read_csv(file_path, sep=\";\")\n",
    "    return df.iloc[:, 0] / df.iloc[:, 1]\n",
    "\n",
    "\n",
    "def get_predictions_metrics(df_dec, preds, round_decimals=3):\n",
    "    precision, recall, thresholds = precision_recall_curve(df_dec, preds)\n",
    "    f1_score = np.divide(\n",
    "        2 * recall * precision,\n",
    "        recall + precision,\n",
    "        out=np.zeros(len(precision)),\n",
    "        where=(recall + precision > 0),\n",
    "    )\n",
    "    i = np.argmax(f1_score)\n",
    "    #     sns.lineplot(x=range(len(f1_score)), y=f1_score, label='f1_score')\n",
    "    return {\n",
    "        \"precision\": np.round(precision[i], decimals=round_decimals),\n",
    "        \"recall\": np.round(recall[i], decimals=round_decimals),\n",
    "        \"f1_score\": np.round(f1_score[i], decimals=round_decimals),\n",
    "        \"AUC\": np.round(roc_auc_score(df_dec, preds), decimals=round_decimals),\n",
    "    }\n",
    "\n",
    "\n",
    "def get_predictions_table(df_dec, preds_all, preds_same, preds_40, round_decimal=3):\n",
    "    table = pd.DataFrame.from_dict(\n",
    "        {\n",
    "            \"all\": get_predictions_metrics(df_dec, preds_all),\n",
    "            \"same\": get_predictions_metrics(df_dec, preds_same),\n",
    "            \"top 40\": get_predictions_metrics(df_dec, preds_40),\n",
    "        },\n",
    "        orient=\"index\",\n",
    "    )\n",
    "    table = table.T\n",
    "    return table"
   ]
  },
  {
   "cell_type": "code",
   "execution_count": 93,
   "metadata": {},
   "outputs": [],
   "source": [
    "pred_xgboost_all = get_predictions(\n",
    "    \"./tmp/paper_xgboost_hyper_native_2_/xgboost_native_dataset_toolbox_tabular_data_annonymized\"\n",
    "    \"_leave_one_process_out_k_None_num_boost_round_1000_learning_rate_0.001_max_depth_3_base_score_0.0696.csv\"\n",
    ")\n",
    "pred_xgboost_same = get_predictions(\n",
    "    \"./tmp/paper_xgboost_hyper_native_2_/xgboost_native_dataset_toolbox_tabular_data_annonymized\"\n",
    "    \"_leave_one_process_out_same_category_num_boost_round_1000_learning_rate_0.001_max_depth_3_base_score_0.0696.csv\"\n",
    ")\n",
    "pred_xgboost_40 = get_predictions(\n",
    "    \"./tmp/paper_xgboost_hyper_native_2_/xgboost_native_dataset_toolbox_tabular_data_annonymized\"\n",
    "    \"_leave_one_process_out_k_40_num_boost_round_1000_learning_rate_0.001_max_depth_3_base_score_0.0696.csv\"\n",
    ")\n",
    "\n",
    "\n",
    "pred_tree_all = get_predictions(\n",
    "    \"./tmp/paper_tree_3_/decision_tree_dataset_toolbox_tabular_data_annonymized\"\n",
    "    \"_leave_one_process_out_k_None_min_impurity_decrease_0.0_max_depth_5.csv\"\n",
    ")\n",
    "pred_tree_same = get_predictions(\n",
    "    \"./tmp/paper_tree_3_/decision_tree_dataset_toolbox_tabular_data_annonymized\"\n",
    "    \"_leave_one_process_out_same_category_min_impurity_decrease_0.0_max_depth_5.csv\"\n",
    ")\n",
    "pred_tree_40 = get_predictions(\n",
    "    \"./tmp/paper_tree_3_/decision_tree_dataset_toolbox_tabular_data_annonymized\"\n",
    "    \"_leave_one_process_out_k_40_min_impurity_decrease_0.0_max_depth_5.csv\"\n",
    ")\n",
    "\n",
    "\n",
    "pred_bireducts_all = get_predictions(\n",
    "    \"./tmp/paper_bireducts_2_/bireducts_dataset_toolbox_tabular_data_annonymized_discretized_quantile\"\n",
    "    \"_leave_one_process_out_k_None_n_bireducts_1000_candidate_n_attrs_100_allowed_randomness_0.05_max_n_attrs_None_iteration_0.csv\"\n",
    ")\n",
    "pred_bireducts_same = get_predictions(\n",
    "    \"./tmp/paper_bireducts_2_/bireducts_dataset_toolbox_tabular_data_annonymized_discretized_quantile\"\n",
    "    \"_leave_one_process_out_same_category_n_bireducts_1000_candidate_n_attrs_100_allowed_randomness_0.05_max_n_attrs_None_iteration_0.csv\"\n",
    ")\n",
    "pred_bireducts_40 = get_predictions(\n",
    "    \"./tmp/paper_bireducts_2_/bireducts_dataset_toolbox_tabular_data_annonymized_discretized_quantile\"\n",
    "    \"_leave_one_process_out_k_40_n_bireducts_1000_candidate_n_attrs_100_allowed_randomness_0.05_max_n_attrs_None_iteration_0.csv\"\n",
    ")"
   ]
  },
  {
   "cell_type": "code",
   "execution_count": null,
   "metadata": {},
   "outputs": [],
   "source": []
  },
  {
   "cell_type": "code",
   "execution_count": null,
   "metadata": {},
   "outputs": [],
   "source": []
  },
  {
   "cell_type": "code",
   "execution_count": null,
   "metadata": {},
   "outputs": [],
   "source": []
  },
  {
   "cell_type": "code",
   "execution_count": null,
   "metadata": {},
   "outputs": [],
   "source": []
  },
  {
   "cell_type": "code",
   "execution_count": null,
   "metadata": {},
   "outputs": [],
   "source": []
  },
  {
   "cell_type": "code",
   "execution_count": null,
   "metadata": {},
   "outputs": [],
   "source": []
  },
  {
   "cell_type": "code",
   "execution_count": 103,
   "metadata": {},
   "outputs": [
    {
     "name": "stdout",
     "output_type": "stream",
     "text": [
      "\\begin{tabular}{lrrr}\n",
      "\\toprule\n",
      "{} &    all &   same &  top 40 \\\\\n",
      "\\midrule\n",
      "precision &  0.162 &  0.138 &   0.154 \\\\\n",
      "recall    &  0.391 &  0.341 &   0.445 \\\\\n",
      "f1\\_score  &  0.229 &  0.197 &   0.229 \\\\\n",
      "AUC       &  0.679 &  0.622 &   0.682 \\\\\n",
      "\\bottomrule\n",
      "\\end{tabular}\n",
      "\n"
     ]
    }
   ],
   "source": [
    "pred_xgboost_all = get_predictions(\n",
    "    \"./tmp/paper_xgboost_hyper_native_2_/xgboost_native_dataset_toolbox_tabular_data_annonymized\"\n",
    "    \"_leave_one_process_out_k_None_num_boost_round_1000_learning_rate_0.001_max_depth_3_base_score_0.0696.csv\"\n",
    ")\n",
    "pred_xgboost_same = get_predictions(\n",
    "    \"./tmp/paper_xgboost_hyper_native_2_/xgboost_native_dataset_toolbox_tabular_data_annonymized\"\n",
    "    \"_leave_one_process_out_same_category_num_boost_round_1000_learning_rate_0.001_max_depth_3_base_score_0.0696.csv\"\n",
    ")\n",
    "pred_xgboost_40 = get_predictions(\n",
    "    \"./tmp/paper_xgboost_hyper_native_2_/xgboost_native_dataset_toolbox_tabular_data_annonymized\"\n",
    "    \"_leave_one_process_out_k_40_num_boost_round_1000_learning_rate_0.001_max_depth_3_base_score_0.0696.csv\"\n",
    ")\n",
    "\n",
    "print(\n",
    "    get_predictions_table(\n",
    "        df_dec, pred_xgboost_all, pred_xgboost_same, pred_xgboost_40\n",
    "    ).to_latex()\n",
    ")"
   ]
  },
  {
   "cell_type": "code",
   "execution_count": null,
   "metadata": {},
   "outputs": [],
   "source": []
  },
  {
   "cell_type": "code",
   "execution_count": null,
   "metadata": {},
   "outputs": [],
   "source": []
  },
  {
   "cell_type": "code",
   "execution_count": null,
   "metadata": {},
   "outputs": [],
   "source": []
  },
  {
   "cell_type": "code",
   "execution_count": null,
   "metadata": {},
   "outputs": [],
   "source": []
  },
  {
   "cell_type": "code",
   "execution_count": null,
   "metadata": {},
   "outputs": [],
   "source": []
  },
  {
   "cell_type": "code",
   "execution_count": 787,
   "metadata": {},
   "outputs": [
    {
     "data": {
      "text/plain": [
       "{'precision': 0.162, 'recall': 0.391, 'f1_score': 0.229, 'AUC': 0.679}"
      ]
     },
     "execution_count": 787,
     "metadata": {},
     "output_type": "execute_result"
    }
   ],
   "source": [
    "get_predictions_metrics(df_dec, pred_xgboost_all)"
   ]
  },
  {
   "cell_type": "code",
   "execution_count": 789,
   "metadata": {},
   "outputs": [
    {
     "data": {
      "text/plain": [
       "{'precision': 0.138, 'recall': 0.341, 'f1_score': 0.197, 'AUC': 0.622}"
      ]
     },
     "execution_count": 789,
     "metadata": {},
     "output_type": "execute_result"
    }
   ],
   "source": [
    "get_predictions_metrics(df_dec, pred_xgboost_same)"
   ]
  },
  {
   "cell_type": "code",
   "execution_count": 790,
   "metadata": {},
   "outputs": [
    {
     "data": {
      "text/plain": [
       "{'precision': 0.154, 'recall': 0.445, 'f1_score': 0.229, 'AUC': 0.682}"
      ]
     },
     "execution_count": 790,
     "metadata": {},
     "output_type": "execute_result"
    }
   ],
   "source": [
    "get_predictions_metrics(df_dec, pred_xgboost_40)"
   ]
  },
  {
   "cell_type": "code",
   "execution_count": 809,
   "metadata": {},
   "outputs": [
    {
     "name": "stdout",
     "output_type": "stream",
     "text": [
      "\\begin{tabular}{lrrr}\n",
      "\\toprule\n",
      "{} &    all &   same &  top 40 \\\\\n",
      "\\midrule\n",
      "precision &  0.162 &  0.138 &   0.154 \\\\\n",
      "recall    &  0.391 &  0.341 &   0.445 \\\\\n",
      "f1\\_score  &  0.229 &  0.197 &   0.229 \\\\\n",
      "AUC       &  0.679 &  0.622 &   0.682 \\\\\n",
      "\\bottomrule\n",
      "\\end{tabular}\n",
      "\n"
     ]
    }
   ],
   "source": [
    "print(\n",
    "    get_predictions_table(\n",
    "        df_dec, pred_xgboost_all, pred_xgboost_same, pred_xgboost_40\n",
    "    ).to_latex()\n",
    ")"
   ]
  },
  {
   "cell_type": "code",
   "execution_count": null,
   "metadata": {},
   "outputs": [],
   "source": []
  },
  {
   "cell_type": "code",
   "execution_count": null,
   "metadata": {},
   "outputs": [],
   "source": []
  },
  {
   "cell_type": "code",
   "execution_count": null,
   "metadata": {},
   "outputs": [],
   "source": []
  },
  {
   "cell_type": "code",
   "execution_count": null,
   "metadata": {},
   "outputs": [],
   "source": []
  },
  {
   "cell_type": "code",
   "execution_count": 95,
   "metadata": {},
   "outputs": [
    {
     "data": {
      "text/plain": [
       "{'precision': 0.131, 'recall': 0.551, 'f1_score': 0.211, 'AUC': 0.659}"
      ]
     },
     "execution_count": 95,
     "metadata": {},
     "output_type": "execute_result"
    }
   ],
   "source": [
    "get_predictions_metrics(df_dec, pred_tree_all)"
   ]
  },
  {
   "cell_type": "code",
   "execution_count": 96,
   "metadata": {},
   "outputs": [
    {
     "data": {
      "text/plain": [
       "{'precision': 0.124, 'recall': 0.352, 'f1_score': 0.183, 'AUC': 0.558}"
      ]
     },
     "execution_count": 96,
     "metadata": {},
     "output_type": "execute_result"
    }
   ],
   "source": [
    "get_predictions_metrics(df_dec, pred_tree_same)"
   ]
  },
  {
   "cell_type": "code",
   "execution_count": 97,
   "metadata": {},
   "outputs": [
    {
     "data": {
      "text/plain": [
       "{'precision': 0.141, 'recall': 0.362, 'f1_score': 0.203, 'AUC': 0.63}"
      ]
     },
     "execution_count": 97,
     "metadata": {},
     "output_type": "execute_result"
    }
   ],
   "source": [
    "get_predictions_metrics(df_dec, pred_tree_40)"
   ]
  },
  {
   "cell_type": "code",
   "execution_count": 98,
   "metadata": {},
   "outputs": [
    {
     "name": "stdout",
     "output_type": "stream",
     "text": [
      "\\begin{tabular}{lrrr}\n",
      "\\toprule\n",
      "{} &    all &   same &  top 40 \\\\\n",
      "\\midrule\n",
      "precision &  0.131 &  0.124 &   0.141 \\\\\n",
      "recall    &  0.551 &  0.352 &   0.362 \\\\\n",
      "f1\\_score  &  0.211 &  0.183 &   0.203 \\\\\n",
      "AUC       &  0.659 &  0.558 &   0.630 \\\\\n",
      "\\bottomrule\n",
      "\\end{tabular}\n",
      "\n"
     ]
    }
   ],
   "source": [
    "print(\n",
    "    get_predictions_table(\n",
    "        df_dec, pred_tree_all, pred_tree_same, pred_tree_40\n",
    "    ).to_latex()\n",
    ")"
   ]
  },
  {
   "cell_type": "code",
   "execution_count": null,
   "metadata": {},
   "outputs": [],
   "source": []
  },
  {
   "cell_type": "code",
   "execution_count": null,
   "metadata": {},
   "outputs": [],
   "source": []
  },
  {
   "cell_type": "code",
   "execution_count": null,
   "metadata": {},
   "outputs": [],
   "source": []
  },
  {
   "cell_type": "code",
   "execution_count": 812,
   "metadata": {},
   "outputs": [
    {
     "data": {
      "text/plain": [
       "{'precision': 0.144, 'recall': 0.468, 'f1_score': 0.22, 'AUC': 0.671}"
      ]
     },
     "execution_count": 812,
     "metadata": {},
     "output_type": "execute_result"
    }
   ],
   "source": [
    "get_predictions_metrics(df_dec, pred_bireducts_all)"
   ]
  },
  {
   "cell_type": "code",
   "execution_count": 813,
   "metadata": {},
   "outputs": [
    {
     "data": {
      "text/plain": [
       "{'precision': 0.128, 'recall': 0.445, 'f1_score': 0.199, 'AUC': 0.63}"
      ]
     },
     "execution_count": 813,
     "metadata": {},
     "output_type": "execute_result"
    }
   ],
   "source": [
    "get_predictions_metrics(df_dec, pred_bireducts_same)"
   ]
  },
  {
   "cell_type": "code",
   "execution_count": 814,
   "metadata": {},
   "outputs": [
    {
     "data": {
      "text/plain": [
       "{'precision': 0.147, 'recall': 0.419, 'f1_score': 0.217, 'AUC': 0.668}"
      ]
     },
     "execution_count": 814,
     "metadata": {},
     "output_type": "execute_result"
    }
   ],
   "source": [
    "get_predictions_metrics(df_dec, pred_bireducts_40)"
   ]
  },
  {
   "cell_type": "code",
   "execution_count": 816,
   "metadata": {},
   "outputs": [
    {
     "name": "stdout",
     "output_type": "stream",
     "text": [
      "\\begin{tabular}{lrrr}\n",
      "\\toprule\n",
      "{} &    all &   same &  top 40 \\\\\n",
      "\\midrule\n",
      "precision &  0.144 &  0.128 &   0.147 \\\\\n",
      "recall    &  0.468 &  0.445 &   0.419 \\\\\n",
      "f1\\_score  &  0.220 &  0.199 &   0.217 \\\\\n",
      "AUC       &  0.671 &  0.630 &   0.668 \\\\\n",
      "\\bottomrule\n",
      "\\end{tabular}\n",
      "\n"
     ]
    }
   ],
   "source": [
    "print(\n",
    "    get_predictions_table(\n",
    "        df_dec, pred_bireducts_all, pred_bireducts_same, pred_bireducts_40\n",
    "    ).to_latex()\n",
    ")"
   ]
  },
  {
   "cell_type": "code",
   "execution_count": null,
   "metadata": {},
   "outputs": [],
   "source": []
  },
  {
   "cell_type": "code",
   "execution_count": null,
   "metadata": {},
   "outputs": [],
   "source": []
  },
  {
   "cell_type": "code",
   "execution_count": null,
   "metadata": {},
   "outputs": [],
   "source": []
  },
  {
   "cell_type": "code",
   "execution_count": null,
   "metadata": {},
   "outputs": [],
   "source": [
    "    "
   ]
  },
  {
   "cell_type": "code",
   "execution_count": null,
   "metadata": {},
   "outputs": [],
   "source": []
  },
  {
   "cell_type": "code",
   "execution_count": null,
   "metadata": {},
   "outputs": [],
   "source": []
  },
  {
   "cell_type": "code",
   "execution_count": null,
   "metadata": {},
   "outputs": [],
   "source": []
  },
  {
   "cell_type": "code",
   "execution_count": null,
   "metadata": {},
   "outputs": [],
   "source": []
  },
  {
   "cell_type": "code",
   "execution_count": null,
   "metadata": {},
   "outputs": [],
   "source": []
  },
  {
   "cell_type": "code",
   "execution_count": null,
   "metadata": {},
   "outputs": [],
   "source": []
  },
  {
   "cell_type": "code",
   "execution_count": null,
   "metadata": {},
   "outputs": [],
   "source": []
  },
  {
   "cell_type": "code",
   "execution_count": null,
   "metadata": {},
   "outputs": [],
   "source": []
  },
  {
   "cell_type": "code",
   "execution_count": null,
   "metadata": {},
   "outputs": [],
   "source": []
  },
  {
   "cell_type": "code",
   "execution_count": null,
   "metadata": {},
   "outputs": [],
   "source": []
  },
  {
   "cell_type": "code",
   "execution_count": null,
   "metadata": {},
   "outputs": [],
   "source": []
  },
  {
   "cell_type": "code",
   "execution_count": null,
   "metadata": {},
   "outputs": [],
   "source": []
  },
  {
   "cell_type": "code",
   "execution_count": null,
   "metadata": {},
   "outputs": [],
   "source": []
  },
  {
   "cell_type": "code",
   "execution_count": null,
   "metadata": {},
   "outputs": [],
   "source": []
  },
  {
   "cell_type": "markdown",
   "metadata": {},
   "source": [
    "# Without feature groups"
   ]
  },
  {
   "cell_type": "code",
   "execution_count": 250,
   "metadata": {},
   "outputs": [],
   "source": [
    "result_xgboost = []\n",
    "for p in (TMP_DIR / \"paper_xgboost_3_\").glob(\"*.csv\"):\n",
    "    m = re.search(\n",
    "        r\"_dataset_(\\w+)\"\n",
    "        r\"_leave_one_process_out_k_(\\d+).*_num_boost_round_(\\d+).*_learning_rate_([.\\d]+).*_max_depth_(\\d+).*_base_score_([.\\d]+).*?(?:_without_feature_group_(.*))?\\.csv\",\n",
    "        p.name,\n",
    "    )\n",
    "    if m is not None:\n",
    "        dataset = m.group(1)\n",
    "        k = int(m.group(2))\n",
    "        num_boost_round = int(m.group(3))\n",
    "        learning_rate = float(m.group(4))\n",
    "        max_depth = int(m.group(5))\n",
    "        base_score = float(m.group(6))\n",
    "        without_feature_group = m.group(7)\n",
    "        x = pd.read_csv(p, sep=\";\")\n",
    "        result_xgboost.append(\n",
    "            [\n",
    "                dataset,\n",
    "                k,\n",
    "                num_boost_round,\n",
    "                learning_rate,\n",
    "                max_depth,\n",
    "                base_score,\n",
    "                without_feature_group,\n",
    "                roc_auc_score(df_dec, np.nan_to_num(x.iloc[:, 0] / x.iloc[:, 1])),\n",
    "            ]\n",
    "        )\n",
    "result_xgboost = pd.DataFrame(\n",
    "    result_xgboost,\n",
    "    columns=(\n",
    "        \"dataset\",\n",
    "        \"k\",\n",
    "        \"num_boost_round\",\n",
    "        \"learning_rate\",\n",
    "        \"max_depth\",\n",
    "        \"base_score\",\n",
    "        \"without_feature_group\",\n",
    "        \"AUC\",\n",
    "    ),\n",
    ")\n",
    "result_xgboost = result_xgboost[~result_xgboost[\"without_feature_group\"].isnull()]"
   ]
  },
  {
   "cell_type": "code",
   "execution_count": 251,
   "metadata": {},
   "outputs": [],
   "source": [
    "result_tree = []\n",
    "for p in (TMP_DIR / \"paper_tree_3_\").glob(\"*.csv\"):\n",
    "    m = re.search(\n",
    "        r\"_dataset_(\\w+)\"\n",
    "        r\"_leave_one_process_out_k_(\\d+).*_min_impurity_decrease_([.\\d]+).*_max_depth_(\\d+|None).*?(?:_without_feature_group_(.*))?\\.csv\",\n",
    "        p.name,\n",
    "    )\n",
    "    if m is not None:\n",
    "        dataset = m.group(1)\n",
    "        k = int(m.group(2))\n",
    "        min_impurity_decrease = float(m.group(3))\n",
    "        max_depth = None if m.group(4) == \"None\" else int(m.group(4))\n",
    "        without_feature_group = m.group(5)\n",
    "        x = pd.read_csv(p, sep=\";\")\n",
    "        result_tree.append(\n",
    "            [\n",
    "                dataset,\n",
    "                k,\n",
    "                min_impurity_decrease,\n",
    "                max_depth,\n",
    "                without_feature_group,\n",
    "                roc_auc_score(df_dec, np.nan_to_num(x.iloc[:, 0] / x.iloc[:, 1])),\n",
    "            ]\n",
    "        )\n",
    "result_tree = pd.DataFrame(\n",
    "    result_tree,\n",
    "    columns=(\n",
    "        \"dataset\",\n",
    "        \"k\",\n",
    "        \"min_impurity_decrease\",\n",
    "        \"max_depth\",\n",
    "        \"without_feature_group\",\n",
    "        \"AUC\",\n",
    "    ),\n",
    ")\n",
    "result_tree = result_tree[~result_tree[\"without_feature_group\"].isnull()]"
   ]
  },
  {
   "cell_type": "code",
   "execution_count": 294,
   "metadata": {},
   "outputs": [],
   "source": [
    "result_bireducts = []\n",
    "for p in (TMP_DIR / \"paper_bireducts_3_\").glob(\"*.csv\"):\n",
    "    m = re.search(\n",
    "        r\"_dataset_(\\w+)\"\n",
    "        r\"_leave_one_process_out_k_(\\d+).*_n_bireducts_(\\d+).*_candidate_n_attrs_(\\d+).*_allowed_randomness_([.\\d]+).*_max_n_attrs_(\\d+|None).*_iteration_(\\d+).*?(?:_without_feature_group_(.*))?\\.csv\",\n",
    "        p.name,\n",
    "    )\n",
    "    if m is not None:\n",
    "        dataset = m.group(1)\n",
    "        k = int(m.group(2))\n",
    "        n_bireducts = int(m.group(3))\n",
    "        candidate_n_attrs = int(m.group(4))\n",
    "        allowed_randomness = float(m.group(5))\n",
    "        max_n_attrs = None if m.group(6) == \"None\" else int(m.group(6))\n",
    "        iteration = int(m.group(7))\n",
    "        without_feature_group = m.group(8)\n",
    "        x = pd.read_csv(p, sep=\";\")\n",
    "        result_bireducts.append(\n",
    "            [\n",
    "                dataset,\n",
    "                k,\n",
    "                n_bireducts,\n",
    "                candidate_n_attrs,\n",
    "                allowed_randomness,\n",
    "                max_n_attrs,\n",
    "                iteration,\n",
    "                without_feature_group,\n",
    "                roc_auc_score(df_dec, np.nan_to_num(x.iloc[:, 0] / x.iloc[:, 1])),\n",
    "                roc_auc_score(df_dec, np.nan_to_num(x.iloc[:, 0] / x.iloc[:, 2])),\n",
    "            ]\n",
    "        )\n",
    "result_bireducts = pd.DataFrame(\n",
    "    result_bireducts,\n",
    "    columns=(\n",
    "        \"dataset\",\n",
    "        \"k\",\n",
    "        \"n_bireducts\",\n",
    "        \"candidate_n_attrs\",\n",
    "        \"allowed_randomness\",\n",
    "        \"max_n_attrs\",\n",
    "        \"iteration\",\n",
    "        \"without_feature_group\",\n",
    "        \"AUC\",\n",
    "        \"AUC2\",\n",
    "    ),\n",
    ")\n",
    "result_bireducts = result_bireducts[~result_bireducts[\"without_feature_group\"].isnull()]"
   ]
  },
  {
   "cell_type": "code",
   "execution_count": null,
   "metadata": {},
   "outputs": [],
   "source": []
  },
  {
   "cell_type": "code",
   "execution_count": 285,
   "metadata": {},
   "outputs": [
    {
     "data": {
      "text/plain": [
       "[(0, 'employment history'),\n",
       " (1, 'skills'),\n",
       " (2, 'education'),\n",
       " (3, 'place of residence'),\n",
       " (4, 'current status'),\n",
       " (5, 'job offer'),\n",
       " (6, 'person-offer relation')]"
      ]
     },
     "execution_count": 285,
     "metadata": {},
     "output_type": "execute_result"
    }
   ],
   "source": [
    "list(enumerate(group_names))"
   ]
  },
  {
   "cell_type": "code",
   "execution_count": 297,
   "metadata": {},
   "outputs": [
    {
     "name": "stdout",
     "output_type": "stream",
     "text": [
      "\\begin{tabular}{lrrrr}\n",
      "\\toprule\n",
      "{} &    N &  decision tree &  bireducts &  XGBoost \\\\\n",
      "group\\_name                &      &                &            &          \\\\\n",
      "\\midrule\n",
      "g1: employment history    &   36 &          0.641 &      0.667 &    0.684 \\\\\n",
      "g2: skills                &  570 &          0.615 &      0.657 &    0.674 \\\\\n",
      "g3: education             &   17 &          0.630 &      0.662 &    0.682 \\\\\n",
      "g4: place of residence    &   48 &          0.618 &      0.636 &    0.658 \\\\\n",
      "g5: current status        &   29 &          0.636 &      0.651 &    0.664 \\\\\n",
      "g6: job offer             &   50 &          0.614 &      0.654 &    0.666 \\\\\n",
      "g7: person-offer relation &   22 &          0.630 &      0.675 &    0.680 \\\\\n",
      "\\bottomrule\n",
      "\\end{tabular}\n",
      "\n"
     ]
    }
   ],
   "source": [
    "def get_feature_groups_table(\n",
    "    feature_groups,\n",
    "    group_names,\n",
    "    result_xgboost,\n",
    "    result_tree,\n",
    "    result_bireducts,\n",
    "    decimals=3,\n",
    "):\n",
    "    result = []\n",
    "    for i, group_name in enumerate(group_names, start=1):\n",
    "        slugified_group_name = group_name.replace(\" \", \"_\")\n",
    "        result.append(\n",
    "            {\n",
    "                \"group_name\": f\"g{i}: {group_name}\",\n",
    "                \"N\": (feature_groups[\"group_name\"] == group_name).sum(),\n",
    "                \"decision tree\": result_tree[\n",
    "                    result_tree[\"without_feature_group\"] == slugified_group_name\n",
    "                ][\"AUC\"]\n",
    "                .iloc[0]\n",
    "                .round(decimals=decimals),\n",
    "                \"bireducts\": result_bireducts[\n",
    "                    result_bireducts[\"without_feature_group\"] == slugified_group_name\n",
    "                ][\"AUC\"]\n",
    "                .iloc[0]\n",
    "                .round(decimals=decimals),\n",
    "                \"XGBoost\": result_xgboost[\n",
    "                    result_xgboost[\"without_feature_group\"] == slugified_group_name\n",
    "                ][\"AUC\"]\n",
    "                .iloc[0]\n",
    "                .round(decimals=decimals),\n",
    "            }\n",
    "        )\n",
    "    return pd.DataFrame(result).set_index(\"group_name\")\n",
    "\n",
    "\n",
    "print(\n",
    "    get_feature_groups_table(\n",
    "        feature_groups, group_names, result_xgboost, result_tree, result_bireducts\n",
    "    ).to_latex()\n",
    ")"
   ]
  },
  {
   "cell_type": "code",
   "execution_count": null,
   "metadata": {},
   "outputs": [],
   "source": []
  },
  {
   "cell_type": "code",
   "execution_count": null,
   "metadata": {},
   "outputs": [],
   "source": []
  },
  {
   "cell_type": "code",
   "execution_count": null,
   "metadata": {},
   "outputs": [],
   "source": []
  },
  {
   "cell_type": "code",
   "execution_count": null,
   "metadata": {},
   "outputs": [],
   "source": []
  },
  {
   "cell_type": "code",
   "execution_count": null,
   "metadata": {},
   "outputs": [],
   "source": []
  },
  {
   "cell_type": "code",
   "execution_count": 255,
   "metadata": {},
   "outputs": [
    {
     "data": {
      "text/html": [
       "<div>\n",
       "<style scoped>\n",
       "    .dataframe tbody tr th:only-of-type {\n",
       "        vertical-align: middle;\n",
       "    }\n",
       "\n",
       "    .dataframe tbody tr th {\n",
       "        vertical-align: top;\n",
       "    }\n",
       "\n",
       "    .dataframe thead th {\n",
       "        text-align: right;\n",
       "    }\n",
       "</style>\n",
       "<table border=\"1\" class=\"dataframe\">\n",
       "  <thead>\n",
       "    <tr style=\"text-align: right;\">\n",
       "      <th></th>\n",
       "      <th>dataset</th>\n",
       "      <th>k</th>\n",
       "      <th>num_boost_round</th>\n",
       "      <th>learning_rate</th>\n",
       "      <th>max_depth</th>\n",
       "      <th>base_score</th>\n",
       "      <th>without_feature_group</th>\n",
       "      <th>AUC</th>\n",
       "    </tr>\n",
       "  </thead>\n",
       "  <tbody>\n",
       "    <tr>\n",
       "      <th>0</th>\n",
       "      <td>toolbox_tabular_data_annonymized</td>\n",
       "      <td>40</td>\n",
       "      <td>1000</td>\n",
       "      <td>0.001</td>\n",
       "      <td>3</td>\n",
       "      <td>0.0696</td>\n",
       "      <td>education</td>\n",
       "      <td>0.681964</td>\n",
       "    </tr>\n",
       "    <tr>\n",
       "      <th>1</th>\n",
       "      <td>toolbox_tabular_data_annonymized</td>\n",
       "      <td>40</td>\n",
       "      <td>1000</td>\n",
       "      <td>0.001</td>\n",
       "      <td>3</td>\n",
       "      <td>0.0696</td>\n",
       "      <td>skills</td>\n",
       "      <td>0.673966</td>\n",
       "    </tr>\n",
       "    <tr>\n",
       "      <th>2</th>\n",
       "      <td>toolbox_tabular_data_annonymized</td>\n",
       "      <td>40</td>\n",
       "      <td>1000</td>\n",
       "      <td>0.001</td>\n",
       "      <td>3</td>\n",
       "      <td>0.0696</td>\n",
       "      <td>place_of_residence</td>\n",
       "      <td>0.658243</td>\n",
       "    </tr>\n",
       "    <tr>\n",
       "      <th>3</th>\n",
       "      <td>toolbox_tabular_data_annonymized</td>\n",
       "      <td>40</td>\n",
       "      <td>1000</td>\n",
       "      <td>0.001</td>\n",
       "      <td>3</td>\n",
       "      <td>0.0696</td>\n",
       "      <td>job_offer</td>\n",
       "      <td>0.666337</td>\n",
       "    </tr>\n",
       "    <tr>\n",
       "      <th>4</th>\n",
       "      <td>toolbox_tabular_data_annonymized</td>\n",
       "      <td>40</td>\n",
       "      <td>1000</td>\n",
       "      <td>0.001</td>\n",
       "      <td>3</td>\n",
       "      <td>0.0696</td>\n",
       "      <td>employment_history</td>\n",
       "      <td>0.684198</td>\n",
       "    </tr>\n",
       "    <tr>\n",
       "      <th>5</th>\n",
       "      <td>toolbox_tabular_data_annonymized</td>\n",
       "      <td>40</td>\n",
       "      <td>1000</td>\n",
       "      <td>0.001</td>\n",
       "      <td>3</td>\n",
       "      <td>0.0696</td>\n",
       "      <td>current_status</td>\n",
       "      <td>0.663829</td>\n",
       "    </tr>\n",
       "    <tr>\n",
       "      <th>6</th>\n",
       "      <td>toolbox_tabular_data_annonymized</td>\n",
       "      <td>40</td>\n",
       "      <td>1000</td>\n",
       "      <td>0.001</td>\n",
       "      <td>3</td>\n",
       "      <td>0.0696</td>\n",
       "      <td>person-offer_relation</td>\n",
       "      <td>0.679971</td>\n",
       "    </tr>\n",
       "  </tbody>\n",
       "</table>\n",
       "</div>"
      ],
      "text/plain": [
       "                            dataset   k  num_boost_round  learning_rate  \\\n",
       "0  toolbox_tabular_data_annonymized  40             1000          0.001   \n",
       "1  toolbox_tabular_data_annonymized  40             1000          0.001   \n",
       "2  toolbox_tabular_data_annonymized  40             1000          0.001   \n",
       "3  toolbox_tabular_data_annonymized  40             1000          0.001   \n",
       "4  toolbox_tabular_data_annonymized  40             1000          0.001   \n",
       "5  toolbox_tabular_data_annonymized  40             1000          0.001   \n",
       "6  toolbox_tabular_data_annonymized  40             1000          0.001   \n",
       "\n",
       "   max_depth  base_score  without_feature_group       AUC  \n",
       "0          3      0.0696              education  0.681964  \n",
       "1          3      0.0696                 skills  0.673966  \n",
       "2          3      0.0696     place_of_residence  0.658243  \n",
       "3          3      0.0696              job_offer  0.666337  \n",
       "4          3      0.0696     employment_history  0.684198  \n",
       "5          3      0.0696         current_status  0.663829  \n",
       "6          3      0.0696  person-offer_relation  0.679971  "
      ]
     },
     "execution_count": 255,
     "metadata": {},
     "output_type": "execute_result"
    }
   ],
   "source": [
    "result_xgboost"
   ]
  },
  {
   "cell_type": "code",
   "execution_count": 254,
   "metadata": {},
   "outputs": [
    {
     "data": {
      "text/html": [
       "<div>\n",
       "<style scoped>\n",
       "    .dataframe tbody tr th:only-of-type {\n",
       "        vertical-align: middle;\n",
       "    }\n",
       "\n",
       "    .dataframe tbody tr th {\n",
       "        vertical-align: top;\n",
       "    }\n",
       "\n",
       "    .dataframe thead th {\n",
       "        text-align: right;\n",
       "    }\n",
       "</style>\n",
       "<table border=\"1\" class=\"dataframe\">\n",
       "  <thead>\n",
       "    <tr style=\"text-align: right;\">\n",
       "      <th></th>\n",
       "      <th>dataset</th>\n",
       "      <th>k</th>\n",
       "      <th>min_impurity_decrease</th>\n",
       "      <th>max_depth</th>\n",
       "      <th>without_feature_group</th>\n",
       "      <th>AUC</th>\n",
       "    </tr>\n",
       "  </thead>\n",
       "  <tbody>\n",
       "    <tr>\n",
       "      <th>71</th>\n",
       "      <td>toolbox_tabular_data_annonymized</td>\n",
       "      <td>40</td>\n",
       "      <td>0.0</td>\n",
       "      <td>5</td>\n",
       "      <td>employment_history</td>\n",
       "      <td>0.640943</td>\n",
       "    </tr>\n",
       "    <tr>\n",
       "      <th>72</th>\n",
       "      <td>toolbox_tabular_data_annonymized</td>\n",
       "      <td>40</td>\n",
       "      <td>0.0</td>\n",
       "      <td>5</td>\n",
       "      <td>person-offer_relation</td>\n",
       "      <td>0.630061</td>\n",
       "    </tr>\n",
       "    <tr>\n",
       "      <th>94</th>\n",
       "      <td>toolbox_tabular_data_annonymized</td>\n",
       "      <td>40</td>\n",
       "      <td>0.0</td>\n",
       "      <td>5</td>\n",
       "      <td>current_status</td>\n",
       "      <td>0.635698</td>\n",
       "    </tr>\n",
       "    <tr>\n",
       "      <th>108</th>\n",
       "      <td>toolbox_tabular_data_annonymized</td>\n",
       "      <td>40</td>\n",
       "      <td>0.0</td>\n",
       "      <td>5</td>\n",
       "      <td>skills</td>\n",
       "      <td>0.615086</td>\n",
       "    </tr>\n",
       "    <tr>\n",
       "      <th>109</th>\n",
       "      <td>toolbox_tabular_data_annonymized</td>\n",
       "      <td>40</td>\n",
       "      <td>0.0</td>\n",
       "      <td>5</td>\n",
       "      <td>place_of_residence</td>\n",
       "      <td>0.617808</td>\n",
       "    </tr>\n",
       "    <tr>\n",
       "      <th>146</th>\n",
       "      <td>toolbox_tabular_data_annonymized</td>\n",
       "      <td>40</td>\n",
       "      <td>0.0</td>\n",
       "      <td>5</td>\n",
       "      <td>job_offer</td>\n",
       "      <td>0.613529</td>\n",
       "    </tr>\n",
       "    <tr>\n",
       "      <th>166</th>\n",
       "      <td>toolbox_tabular_data_annonymized</td>\n",
       "      <td>40</td>\n",
       "      <td>0.0</td>\n",
       "      <td>5</td>\n",
       "      <td>education</td>\n",
       "      <td>0.629846</td>\n",
       "    </tr>\n",
       "  </tbody>\n",
       "</table>\n",
       "</div>"
      ],
      "text/plain": [
       "                              dataset   k  min_impurity_decrease  max_depth  \\\n",
       "71   toolbox_tabular_data_annonymized  40                    0.0          5   \n",
       "72   toolbox_tabular_data_annonymized  40                    0.0          5   \n",
       "94   toolbox_tabular_data_annonymized  40                    0.0          5   \n",
       "108  toolbox_tabular_data_annonymized  40                    0.0          5   \n",
       "109  toolbox_tabular_data_annonymized  40                    0.0          5   \n",
       "146  toolbox_tabular_data_annonymized  40                    0.0          5   \n",
       "166  toolbox_tabular_data_annonymized  40                    0.0          5   \n",
       "\n",
       "     without_feature_group       AUC  \n",
       "71      employment_history  0.640943  \n",
       "72   person-offer_relation  0.630061  \n",
       "94          current_status  0.635698  \n",
       "108                 skills  0.615086  \n",
       "109     place_of_residence  0.617808  \n",
       "146              job_offer  0.613529  \n",
       "166              education  0.629846  "
      ]
     },
     "execution_count": 254,
     "metadata": {},
     "output_type": "execute_result"
    }
   ],
   "source": [
    "result_tree"
   ]
  },
  {
   "cell_type": "code",
   "execution_count": 253,
   "metadata": {},
   "outputs": [
    {
     "data": {
      "text/html": [
       "<div>\n",
       "<style scoped>\n",
       "    .dataframe tbody tr th:only-of-type {\n",
       "        vertical-align: middle;\n",
       "    }\n",
       "\n",
       "    .dataframe tbody tr th {\n",
       "        vertical-align: top;\n",
       "    }\n",
       "\n",
       "    .dataframe thead th {\n",
       "        text-align: right;\n",
       "    }\n",
       "</style>\n",
       "<table border=\"1\" class=\"dataframe\">\n",
       "  <thead>\n",
       "    <tr style=\"text-align: right;\">\n",
       "      <th></th>\n",
       "      <th>dataset</th>\n",
       "      <th>k</th>\n",
       "      <th>n_bireducts</th>\n",
       "      <th>candidate_n_attrs</th>\n",
       "      <th>allowed_randomness</th>\n",
       "      <th>max_n_attrs</th>\n",
       "      <th>iteration</th>\n",
       "      <th>without_feature_group</th>\n",
       "      <th>AUC</th>\n",
       "      <th>AUC2</th>\n",
       "    </tr>\n",
       "  </thead>\n",
       "  <tbody>\n",
       "    <tr>\n",
       "      <th>0</th>\n",
       "      <td>toolbox_tabular_data_annonymized_discretized_q...</td>\n",
       "      <td>40</td>\n",
       "      <td>1000</td>\n",
       "      <td>100</td>\n",
       "      <td>0.05</td>\n",
       "      <td>None</td>\n",
       "      <td>1</td>\n",
       "      <td>education</td>\n",
       "      <td>0.594806</td>\n",
       "      <td>0.599048</td>\n",
       "    </tr>\n",
       "    <tr>\n",
       "      <th>1</th>\n",
       "      <td>toolbox_tabular_data_annonymized_discretized_q...</td>\n",
       "      <td>40</td>\n",
       "      <td>1000</td>\n",
       "      <td>100</td>\n",
       "      <td>0.05</td>\n",
       "      <td>None</td>\n",
       "      <td>1</td>\n",
       "      <td>person-offer_relation</td>\n",
       "      <td>0.588627</td>\n",
       "      <td>0.592938</td>\n",
       "    </tr>\n",
       "    <tr>\n",
       "      <th>2</th>\n",
       "      <td>toolbox_tabular_data_annonymized_discretized_q...</td>\n",
       "      <td>40</td>\n",
       "      <td>1000</td>\n",
       "      <td>100</td>\n",
       "      <td>0.05</td>\n",
       "      <td>None</td>\n",
       "      <td>1</td>\n",
       "      <td>skills</td>\n",
       "      <td>0.597617</td>\n",
       "      <td>0.602582</td>\n",
       "    </tr>\n",
       "    <tr>\n",
       "      <th>3</th>\n",
       "      <td>toolbox_tabular_data_annonymized_discretized_q...</td>\n",
       "      <td>40</td>\n",
       "      <td>1000</td>\n",
       "      <td>100</td>\n",
       "      <td>0.05</td>\n",
       "      <td>None</td>\n",
       "      <td>1</td>\n",
       "      <td>job_offer</td>\n",
       "      <td>0.580437</td>\n",
       "      <td>0.585369</td>\n",
       "    </tr>\n",
       "    <tr>\n",
       "      <th>4</th>\n",
       "      <td>toolbox_tabular_data_annonymized_discretized_q...</td>\n",
       "      <td>40</td>\n",
       "      <td>1000</td>\n",
       "      <td>100</td>\n",
       "      <td>0.05</td>\n",
       "      <td>None</td>\n",
       "      <td>1</td>\n",
       "      <td>place_of_residence</td>\n",
       "      <td>0.599881</td>\n",
       "      <td>0.604468</td>\n",
       "    </tr>\n",
       "    <tr>\n",
       "      <th>5</th>\n",
       "      <td>toolbox_tabular_data_annonymized_discretized_q...</td>\n",
       "      <td>40</td>\n",
       "      <td>1000</td>\n",
       "      <td>100</td>\n",
       "      <td>0.05</td>\n",
       "      <td>None</td>\n",
       "      <td>1</td>\n",
       "      <td>employment_history</td>\n",
       "      <td>0.602972</td>\n",
       "      <td>0.604889</td>\n",
       "    </tr>\n",
       "    <tr>\n",
       "      <th>6</th>\n",
       "      <td>toolbox_tabular_data_annonymized_discretized_q...</td>\n",
       "      <td>40</td>\n",
       "      <td>1000</td>\n",
       "      <td>100</td>\n",
       "      <td>0.05</td>\n",
       "      <td>None</td>\n",
       "      <td>1</td>\n",
       "      <td>current_status</td>\n",
       "      <td>0.574338</td>\n",
       "      <td>0.578973</td>\n",
       "    </tr>\n",
       "  </tbody>\n",
       "</table>\n",
       "</div>"
      ],
      "text/plain": [
       "                                             dataset   k  n_bireducts  \\\n",
       "0  toolbox_tabular_data_annonymized_discretized_q...  40         1000   \n",
       "1  toolbox_tabular_data_annonymized_discretized_q...  40         1000   \n",
       "2  toolbox_tabular_data_annonymized_discretized_q...  40         1000   \n",
       "3  toolbox_tabular_data_annonymized_discretized_q...  40         1000   \n",
       "4  toolbox_tabular_data_annonymized_discretized_q...  40         1000   \n",
       "5  toolbox_tabular_data_annonymized_discretized_q...  40         1000   \n",
       "6  toolbox_tabular_data_annonymized_discretized_q...  40         1000   \n",
       "\n",
       "   candidate_n_attrs  allowed_randomness max_n_attrs  iteration  \\\n",
       "0                100                0.05        None          1   \n",
       "1                100                0.05        None          1   \n",
       "2                100                0.05        None          1   \n",
       "3                100                0.05        None          1   \n",
       "4                100                0.05        None          1   \n",
       "5                100                0.05        None          1   \n",
       "6                100                0.05        None          1   \n",
       "\n",
       "   without_feature_group       AUC      AUC2  \n",
       "0              education  0.594806  0.599048  \n",
       "1  person-offer_relation  0.588627  0.592938  \n",
       "2                 skills  0.597617  0.602582  \n",
       "3              job_offer  0.580437  0.585369  \n",
       "4     place_of_residence  0.599881  0.604468  \n",
       "5     employment_history  0.602972  0.604889  \n",
       "6         current_status  0.574338  0.578973  "
      ]
     },
     "execution_count": 253,
     "metadata": {},
     "output_type": "execute_result"
    }
   ],
   "source": [
    "result_bireducts"
   ]
  },
  {
   "cell_type": "code",
   "execution_count": null,
   "metadata": {},
   "outputs": [],
   "source": []
  },
  {
   "cell_type": "code",
   "execution_count": null,
   "metadata": {},
   "outputs": [],
   "source": []
  }
 ],
 "metadata": {
  "kernelspec": {
   "display_name": ".venv",
   "language": "python",
   "name": "python3"
  },
  "language_info": {
   "codemirror_mode": {
    "name": "ipython",
    "version": 3
   },
   "file_extension": ".py",
   "mimetype": "text/x-python",
   "name": "python",
   "nbconvert_exporter": "python",
   "pygments_lexer": "ipython3",
   "version": "3.9.12"
  },
  "vscode": {
   "interpreter": {
    "hash": "cb353cb8b9a4ebafc945efb5c6e15e592d37ff0fcf51b748ec6c5769c1eaa51b"
   }
  }
 },
 "nbformat": 4,
 "nbformat_minor": 4
}
