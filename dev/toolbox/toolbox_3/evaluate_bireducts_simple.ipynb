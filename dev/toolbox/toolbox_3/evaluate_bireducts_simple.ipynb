{
 "cells": [
  {
   "cell_type": "code",
   "execution_count": null,
   "metadata": {},
   "outputs": [],
   "source": [
    "import json\n",
    "import pathlib\n",
    "\n",
    "import attr\n",
    "import config\n",
    "import numpy as np\n",
    "import pandas as pd\n",
    "import tqdm.notebook\n",
    "\n",
    "import skrough"
   ]
  },
  {
   "cell_type": "code",
   "execution_count": null,
   "metadata": {},
   "outputs": [],
   "source": [
    "DATA_DIR = pathlib.Path(config.DATA_DIR)\n",
    "TMP_DIR = pathlib.Path(config.TMP_DIR)\n",
    "SEP = \";\"\n",
    "\n",
    "EVAL_SETUP_1 = {\n",
    "    \"data_filepath\": DATA_DIR / \"train_utf.csv\",\n",
    "    \"bireducts_filepaths\": [\n",
    "        TMP_DIR / \"bireducts_10_10000.json\",\n",
    "        TMP_DIR / \"bireducts_20_10000.json\",\n",
    "        TMP_DIR / \"bireducts_30_10000.json\",\n",
    "        TMP_DIR / \"bireducts_50_10000.json\",\n",
    "        TMP_DIR / \"bireducts_daar.json\",\n",
    "    ],\n",
    "}\n",
    "\n",
    "EVAL_SETUP_2 = {\n",
    "    \"data_filepath\": DATA_DIR / \"train_utf_with_reordered_cols.csv\",\n",
    "    \"bireducts_filepaths\": [\n",
    "        TMP_DIR / \"bireducts_reordered_cols_10_10000.json\",\n",
    "        TMP_DIR / \"bireducts_reordered_cols_20_10000.json\",\n",
    "        TMP_DIR / \"bireducts_reordered_cols_30_10000.json\",\n",
    "    ],\n",
    "}\n",
    "\n",
    "\n",
    "EVAL_SETUP_3 = {\n",
    "    \"data_filepath\": DATA_DIR / \"train_utf_with_reordered_cols.csv\",\n",
    "    \"bireducts_filepaths\": [\n",
    "        TMP_DIR / \"bireducts_reordered_cols_n_10000_sample_attrs_100_max_attrs_10.json\",\n",
    "        TMP_DIR / \"bireducts_reordered_cols_n_10000_sample_attrs_100_max_attrs_20.json\",\n",
    "    ],\n",
    "}\n",
    "\n",
    "\n",
    "EVAL_SETUP_4 = {\n",
    "    \"data_filepath\": DATA_DIR / \"train_utf_with_reordered_cols.csv\",\n",
    "    \"bireducts_filepaths\": [\n",
    "        TMP_DIR\n",
    "        / \"bireducts_daab_reordered_cols_n_1000_candidate_attrs_30_allowed_randomness_0.1.json\",\n",
    "    ],\n",
    "}"
   ]
  },
  {
   "cell_type": "code",
   "execution_count": null,
   "metadata": {},
   "outputs": [],
   "source": [
    "def get_results(eval_setup, sep=SEP):\n",
    "    df = pd.read_csv(eval_setup[\"data_filepath\"], sep=sep)\n",
    "    df_dec = df.pop(\"target\")\n",
    "    df = df.astype(\"category\")\n",
    "    df = df.apply(lambda x: x.cat.codes)\n",
    "\n",
    "    results = {}\n",
    "    for filepath in eval_setup[\"bireducts_filepaths\"]:\n",
    "        with filepath.open(\"r\") as f:\n",
    "            bireducts = json.load(f)\n",
    "        counts = np.zeros(len(df.columns))\n",
    "        weights = np.zeros(len(df.columns))\n",
    "        for bireduct in tqdm.notebook.tqdm(bireducts):\n",
    "            counts[bireduct[\"attributes\"]] += 1\n",
    "            w = len(bireduct[\"objects\"]) / len(df)\n",
    "            weights[bireduct[\"attributes\"]] += w\n",
    "        average_weight = np.divide(\n",
    "            weights, counts, out=np.zeros_like(weights), where=counts > 0\n",
    "        )\n",
    "        results[filepath.name] = pd.DataFrame(\n",
    "            {\n",
    "                \"column\": df.columns,\n",
    "                \"weight\": weights,\n",
    "                \"count\": counts,\n",
    "                \"average_weight\": average_weight,\n",
    "            }\n",
    "        ).sort_values([\"weight\"], ascending=False)\n",
    "\n",
    "    del df, bireducts\n",
    "    return results"
   ]
  },
  {
   "cell_type": "code",
   "execution_count": null,
   "metadata": {},
   "outputs": [],
   "source": []
  },
  {
   "cell_type": "code",
   "execution_count": null,
   "metadata": {},
   "outputs": [],
   "source": [
    "# results_1 = get_results(EVAL_SETUP_1)\n",
    "# results_2 = get_results(EVAL_SETUP_2)\n",
    "# results_3 = get_results(EVAL_SETUP_3)\n",
    "results_4 = get_results(EVAL_SETUP_4)"
   ]
  },
  {
   "cell_type": "code",
   "execution_count": null,
   "metadata": {},
   "outputs": [],
   "source": []
  },
  {
   "cell_type": "code",
   "execution_count": null,
   "metadata": {},
   "outputs": [],
   "source": []
  },
  {
   "cell_type": "code",
   "execution_count": null,
   "metadata": {},
   "outputs": [],
   "source": []
  },
  {
   "cell_type": "code",
   "execution_count": null,
   "metadata": {},
   "outputs": [],
   "source": [
    "x = results_4[\n",
    "    \"bireducts_daab_reordered_cols_n_1000_candidate_attrs_30_allowed_randomness_0.1.json\"\n",
    "]\n",
    "x.sort_values(\"weight\", ascending=False)[:15]"
   ]
  },
  {
   "cell_type": "code",
   "execution_count": null,
   "metadata": {},
   "outputs": [],
   "source": []
  },
  {
   "cell_type": "code",
   "execution_count": null,
   "metadata": {},
   "outputs": [],
   "source": []
  },
  {
   "cell_type": "code",
   "execution_count": null,
   "metadata": {},
   "outputs": [],
   "source": []
  },
  {
   "cell_type": "code",
   "execution_count": null,
   "metadata": {},
   "outputs": [],
   "source": []
  },
  {
   "cell_type": "code",
   "execution_count": null,
   "metadata": {},
   "outputs": [],
   "source": []
  },
  {
   "cell_type": "code",
   "execution_count": null,
   "metadata": {},
   "outputs": [],
   "source": [
    "x = results_3[\n",
    "    \"bireducts_data_reordered_cols_n_10000_sample_attrs_100_max_attrs_10.json\"\n",
    "]\n",
    "x = x.sort_values([\"count\"], ascending=False)\n",
    "# x = x[x['count'] ]\n",
    "seq = np.arange(1, len(x) + 1)\n",
    "tmp = x[\"column\"].str.contains(\"reordered_\")\n",
    "seq[tmp].mean()"
   ]
  },
  {
   "cell_type": "code",
   "execution_count": null,
   "metadata": {},
   "outputs": [],
   "source": [
    "seq[~tmp].mean()"
   ]
  },
  {
   "cell_type": "code",
   "execution_count": null,
   "metadata": {},
   "outputs": [],
   "source": []
  }
 ],
 "metadata": {
  "kernelspec": {
   "display_name": "Python 3",
   "language": "python",
   "name": "python3"
  },
  "language_info": {
   "codemirror_mode": {
    "name": "ipython",
    "version": 3
   },
   "file_extension": ".py",
   "mimetype": "text/x-python",
   "name": "python",
   "nbconvert_exporter": "python",
   "pygments_lexer": "ipython3",
   "version": "3.8.5"
  }
 },
 "nbformat": 4,
 "nbformat_minor": 4
}
