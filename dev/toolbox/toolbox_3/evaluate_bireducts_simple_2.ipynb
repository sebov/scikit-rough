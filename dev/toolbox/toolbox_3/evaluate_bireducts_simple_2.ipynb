{
 "cells": [
  {
   "cell_type": "code",
   "execution_count": null,
   "metadata": {},
   "outputs": [],
   "source": [
    "import json\n",
    "import pathlib\n",
    "\n",
    "import attr\n",
    "import config\n",
    "import numpy as np\n",
    "import pandas as pd\n",
    "import tqdm.notebook\n",
    "from numpy import random\n",
    "\n",
    "import skrough"
   ]
  },
  {
   "cell_type": "code",
   "execution_count": null,
   "metadata": {},
   "outputs": [],
   "source": [
    "DATA_DIR = pathlib.Path(config.DATA_DIR)\n",
    "TMP_DIR = pathlib.Path(config.TMP_DIR)\n",
    "SEP = \";\"\n",
    "\n",
    "EVAL_SETUP_1 = {\n",
    "    \"data_filepath\": DATA_DIR / \"train_utf.csv\",\n",
    "    \"bireducts_filepaths\": [\n",
    "        TMP_DIR / \"bireducts_10_10000.json\",\n",
    "        TMP_DIR / \"bireducts_20_10000.json\",\n",
    "        TMP_DIR / \"bireducts_30_10000.json\",\n",
    "        TMP_DIR / \"bireducts_50_10000.json\",\n",
    "        TMP_DIR / \"bireducts_daar.json\",\n",
    "    ],\n",
    "}\n",
    "\n",
    "EVAL_SETUP_2 = {\n",
    "    \"data_filepath\": DATA_DIR / \"train_utf_with_reordered_cols.csv\",\n",
    "    \"bireducts_filepaths\": [\n",
    "        TMP_DIR / \"bireducts_reordered_cols_10_10000.json\",\n",
    "        TMP_DIR / \"bireducts_reordered_cols_20_10000.json\",\n",
    "        TMP_DIR / \"bireducts_reordered_cols_30_10000.json\",\n",
    "    ],\n",
    "}\n",
    "\n",
    "\n",
    "EVAL_SETUP_3 = {\n",
    "    \"data_filepath\": DATA_DIR / \"train_utf_with_reordered_cols.csv\",\n",
    "    \"bireducts_filepaths\": [\n",
    "        TMP_DIR / \"bireducts_reordered_cols_n_10000_sample_attrs_100_max_attrs_10.json\",\n",
    "        TMP_DIR / \"bireducts_reordered_cols_n_10000_sample_attrs_100_max_attrs_20.json\",\n",
    "    ],\n",
    "}\n",
    "\n",
    "EVAL_SETUP_4 = {\n",
    "    \"data_filepath\": DATA_DIR / \"train_utf_with_reordered_cols.csv\",\n",
    "    \"bireducts_filepaths\": [\n",
    "        TMP_DIR\n",
    "        / \"bireducts_reordered_cols_n_10000_candidate_attrs_100_max_attrs_10.json\",\n",
    "        TMP_DIR\n",
    "        / \"bireducts_reordered_cols_n_10000_candidate_attrs_200_max_attrs_10.json\",\n",
    "        TMP_DIR\n",
    "        / \"bireducts_reordered_cols_n_10000_candidate_attrs_200_max_attrs_20.json\",\n",
    "        TMP_DIR\n",
    "        / \"bireducts_reordered_cols_n_10000_candidate_attrs_200_max_attrs_20_eps_0.3.json\",\n",
    "        TMP_DIR\n",
    "        / \"bireducts_reordered_cols_n_10000_candidate_attrs_400_max_attrs_20.json\",\n",
    "        TMP_DIR\n",
    "        / \"bireducts_reordered_cols_n_10000_candidate_attrs_500_max_attrs_5_eps_0.3.json\",\n",
    "    ],\n",
    "}\n",
    "\n",
    "\n",
    "EVAL_SETUP_5 = {\n",
    "    \"data_filepath\": DATA_DIR / \"train_utf_with_reordered_cols.csv\",\n",
    "    \"bireducts_filepaths\": [\n",
    "        TMP_DIR\n",
    "        / \"bireducts_redphase_reordered_cols_n_1000_candidate_attrs_50_max_attrs_30_eps_0.0.json\",\n",
    "        TMP_DIR\n",
    "        / \"bireducts_redphase_reordered_cols_n_1000_candidate_attrs_50_max_attrs_30_eps_0.2.json\",\n",
    "        TMP_DIR\n",
    "        / \"bireducts_redphase_reordered_cols_n_1000_candidate_attrs_100_max_attrs_30_eps_0.2.json\",\n",
    "        TMP_DIR\n",
    "        / \"bireducts_redphase_reordered_cols_n_1000_candidate_attrs_100_max_attrs_30_eps_0.4.json\",\n",
    "    ],\n",
    "}\n",
    "\n",
    "EVAL_SETUP_6 = {\n",
    "    \"data_filepath\": DATA_DIR / \"train_utf_with_reordered_cols.csv\",\n",
    "    \"bireducts_filepaths\": [\n",
    "        TMP_DIR\n",
    "        / \"bireducts_daab_reordered_cols_n_1000_candidate_attrs_30_allowed_randomness_0.1.json\",\n",
    "    ],\n",
    "}"
   ]
  },
  {
   "cell_type": "code",
   "execution_count": null,
   "metadata": {},
   "outputs": [],
   "source": [
    "def get_results(eval_setup, sep=SEP):\n",
    "    df = pd.read_csv(eval_setup[\"data_filepath\"], sep=sep)\n",
    "    df_dec = df.pop(\"target\")\n",
    "    df = df.astype(\"category\")\n",
    "    df = df.apply(lambda x: x.cat.codes)\n",
    "\n",
    "    results = {}\n",
    "    for filepath in eval_setup[\"bireducts_filepaths\"]:\n",
    "        with filepath.open(\"r\") as f:\n",
    "            bireducts = json.load(f)\n",
    "        bireducts_max_attrs_len = max([len(b[\"attributes\"]) for b in bireducts])\n",
    "        counts = np.zeros(len(df.columns))\n",
    "        scores = np.zeros(len(df.columns))\n",
    "        scores_2 = np.zeros(len(df.columns))\n",
    "        for bireduct in tqdm.notebook.tqdm(bireducts):\n",
    "            bireducts_attrs_len = len(bireduct[\"attributes\"])\n",
    "            bireduct_attrs_score = (\n",
    "                1 - (bireducts_attrs_len / bireducts_max_attrs_len) / 2\n",
    "            )\n",
    "            for i, attribute in enumerate(bireduct[\"attributes\"]):\n",
    "                counts[attribute] += 1\n",
    "                score_val = bireduct_attrs_score * (1 - i / bireducts_attrs_len)\n",
    "                scores[attribute] += score_val\n",
    "                scores_2[attribute] += score_val * len(bireduct[\"objects\"]) / len(df)\n",
    "        avg = np.divide(scores, counts, out=np.zeros_like(scores), where=counts > 0)\n",
    "        avg_2 = np.divide(\n",
    "            scores_2, counts, out=np.zeros_like(scores_2), where=counts > 0\n",
    "        )\n",
    "        results[filepath.name] = pd.DataFrame(\n",
    "            {\n",
    "                \"column\": df.columns,\n",
    "                \"score\": scores,\n",
    "                \"score2\": scores_2,\n",
    "                \"count\": counts,\n",
    "                \"avg\": avg,\n",
    "                \"avg2\": avg_2,\n",
    "            }\n",
    "        ).sort_values([\"score\"], ascending=False)\n",
    "\n",
    "    del df, bireducts\n",
    "    return results"
   ]
  },
  {
   "cell_type": "code",
   "execution_count": null,
   "metadata": {},
   "outputs": [],
   "source": []
  },
  {
   "cell_type": "code",
   "execution_count": null,
   "metadata": {},
   "outputs": [],
   "source": []
  },
  {
   "cell_type": "code",
   "execution_count": null,
   "metadata": {},
   "outputs": [],
   "source": []
  },
  {
   "cell_type": "code",
   "execution_count": null,
   "metadata": {},
   "outputs": [],
   "source": []
  },
  {
   "cell_type": "code",
   "execution_count": null,
   "metadata": {},
   "outputs": [],
   "source": []
  },
  {
   "cell_type": "code",
   "execution_count": null,
   "metadata": {},
   "outputs": [],
   "source": [
    "# results_1 = get_results(EVAL_SETUP_1)\n",
    "# results_2 = get_results(EVAL_SETUP_2)\n",
    "# results_3 = get_results(EVAL_SETUP_3)\n",
    "# results_4 = get_results(EVAL_SETUP_4)\n",
    "# results_5 = get_results(EVAL_SETUP_5)\n",
    "results_6 = get_results(EVAL_SETUP_6)"
   ]
  },
  {
   "cell_type": "code",
   "execution_count": null,
   "metadata": {},
   "outputs": [],
   "source": [
    "results_6[\n",
    "    \"bireducts_daab_reordered_cols_n_1000_candidate_attrs_30_allowed_randomness_0.1.json\"\n",
    "]"
   ]
  },
  {
   "cell_type": "code",
   "execution_count": null,
   "metadata": {},
   "outputs": [],
   "source": []
  },
  {
   "cell_type": "code",
   "execution_count": null,
   "metadata": {},
   "outputs": [],
   "source": []
  },
  {
   "cell_type": "code",
   "execution_count": null,
   "metadata": {},
   "outputs": [],
   "source": []
  },
  {
   "cell_type": "code",
   "execution_count": null,
   "metadata": {},
   "outputs": [],
   "source": [
    "x = results_6[\n",
    "    \"bireducts_daab_reordered_cols_n_1000_candidate_attrs_30_allowed_randomness_0.1.json\"\n",
    "]\n",
    "x = x.sort_values([\"count\"], ascending=False)\n",
    "# x = x[x['count'] ]\n",
    "seq = np.arange(1, len(x) + 1)\n",
    "tmp = x[\"column\"].str.contains(\"reordered_\")\n",
    "seq[tmp].mean()"
   ]
  },
  {
   "cell_type": "code",
   "execution_count": null,
   "metadata": {},
   "outputs": [],
   "source": [
    "seq[~tmp].mean()"
   ]
  },
  {
   "cell_type": "code",
   "execution_count": null,
   "metadata": {},
   "outputs": [],
   "source": []
  },
  {
   "cell_type": "code",
   "execution_count": null,
   "metadata": {},
   "outputs": [],
   "source": []
  },
  {
   "cell_type": "code",
   "execution_count": null,
   "metadata": {},
   "outputs": [],
   "source": []
  },
  {
   "cell_type": "code",
   "execution_count": null,
   "metadata": {},
   "outputs": [],
   "source": []
  },
  {
   "cell_type": "code",
   "execution_count": null,
   "metadata": {},
   "outputs": [],
   "source": []
  },
  {
   "cell_type": "code",
   "execution_count": null,
   "metadata": {},
   "outputs": [],
   "source": [
    "results = results_6\n",
    "sort_column = \"score3\"\n",
    "normal = \"normal = \"\n",
    "reordered = \"reordered = \"\n",
    "\n",
    "for k, res in results.items():\n",
    "    res[\"score3\"] = res[\"score2\"] * res[\"avg2\"]\n",
    "    res = res.sort_values([sort_column], ascending=False)\n",
    "\n",
    "    #     first = res[res['count'] != 0].index.to_list()\n",
    "    #     second = res[res['count'] == 0].index.to_list()\n",
    "    #     random.shuffle(second)\n",
    "    #     res = res.loc[list(first) + list(second)]\n",
    "\n",
    "    res = res[res[\"count\"] != 0]\n",
    "\n",
    "    seq = np.arange(1, len(res) + 1)\n",
    "    tmp = res[\"column\"].str.contains(\"reordered_\")\n",
    "    print(\n",
    "        f\"{k}\\nmean column rank\\n\"\n",
    "        f\"{normal:<15}{seq[~tmp].mean()}\\n\"\n",
    "        f\"{reordered:<15}{seq[tmp].mean()}\\n\"\n",
    "    )"
   ]
  },
  {
   "cell_type": "code",
   "execution_count": null,
   "metadata": {},
   "outputs": [],
   "source": [
    "x = results_6[\n",
    "    \"bireducts_daab_reordered_cols_n_1000_candidate_attrs_30_allowed_randomness_0.1.json\"\n",
    "]\n",
    "x[\"score3\"] = x[\"score2\"] * x[\"avg2\"]\n",
    "x.sort_values(\"score\", ascending=False)[:15]"
   ]
  },
  {
   "cell_type": "code",
   "execution_count": null,
   "metadata": {},
   "outputs": [],
   "source": []
  },
  {
   "cell_type": "code",
   "execution_count": null,
   "metadata": {},
   "outputs": [],
   "source": []
  },
  {
   "cell_type": "code",
   "execution_count": null,
   "metadata": {},
   "outputs": [],
   "source": []
  },
  {
   "cell_type": "code",
   "execution_count": null,
   "metadata": {},
   "outputs": [],
   "source": [
    "x"
   ]
  }
 ],
 "metadata": {
  "kernelspec": {
   "display_name": "Python 3",
   "language": "python",
   "name": "python3"
  },
  "language_info": {
   "codemirror_mode": {
    "name": "ipython",
    "version": 3
   },
   "file_extension": ".py",
   "mimetype": "text/x-python",
   "name": "python",
   "nbconvert_exporter": "python",
   "pygments_lexer": "ipython3",
   "version": "3.8.5"
  }
 },
 "nbformat": 4,
 "nbformat_minor": 4
}
