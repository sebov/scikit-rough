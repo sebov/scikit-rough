{
 "cells": [
  {
   "cell_type": "code",
   "execution_count": null,
   "metadata": {},
   "outputs": [],
   "source": [
    "import pathlib\n",
    "import pickle\n",
    "\n",
    "import config\n",
    "import numpy as np"
   ]
  },
  {
   "cell_type": "code",
   "execution_count": null,
   "metadata": {},
   "outputs": [],
   "source": [
    "TMP_DIR = pathlib.Path(config.TMP_DIR)"
   ]
  },
  {
   "cell_type": "code",
   "execution_count": null,
   "metadata": {},
   "outputs": [],
   "source": []
  },
  {
   "cell_type": "code",
   "execution_count": null,
   "metadata": {},
   "outputs": [],
   "source": [
    "sort_column = \"score\"\n",
    "with pathlib.Path(\n",
    "    TMP_DIR\n",
    "    / \"bireducts_daab_reordered_cols_n_1000_candidate_attrs_30_allowed_randomness_0.1_eval_scope_global.pkl\"\n",
    ").open(\"rb\") as f:\n",
    "    results = pickle.load(f)\n",
    "    results = list(results.values())[0]\n",
    "    results = results.sort_values([sort_column], ascending=False)\n",
    "rg = results"
   ]
  },
  {
   "cell_type": "code",
   "execution_count": null,
   "metadata": {},
   "outputs": [],
   "source": [
    "rg[:15]"
   ]
  },
  {
   "cell_type": "code",
   "execution_count": null,
   "metadata": {},
   "outputs": [],
   "source": [
    "r1[:15]"
   ]
  },
  {
   "cell_type": "code",
   "execution_count": null,
   "metadata": {},
   "outputs": [],
   "source": [
    "sort_column = \"score\"\n",
    "with pathlib.Path(\n",
    "    TMP_DIR\n",
    "    / \"bireducts_daab_reordered_cols_n_1000_candidate_attrs_30_allowed_randomness_0.1_eval_scope_local.pkl\"\n",
    ").open(\"rb\") as f:\n",
    "    results = pickle.load(f)\n",
    "    results = list(results.values())[0]\n",
    "    results = results.sort_values([sort_column], ascending=False)\n",
    "r = results"
   ]
  },
  {
   "cell_type": "code",
   "execution_count": null,
   "metadata": {},
   "outputs": [],
   "source": [
    "r1[:10]"
   ]
  },
  {
   "cell_type": "code",
   "execution_count": null,
   "metadata": {},
   "outputs": [],
   "source": [
    "r2[:10]"
   ]
  },
  {
   "cell_type": "code",
   "execution_count": null,
   "metadata": {},
   "outputs": [],
   "source": []
  },
  {
   "cell_type": "code",
   "execution_count": null,
   "metadata": {},
   "outputs": [],
   "source": [
    "sort_column = \"avg\"\n",
    "with pathlib.Path(TMP_DIR / \"delta_results_local_scope_3.pkl\").open(\"rb\") as f:\n",
    "    results = pickle.load(f)\n",
    "    results = list(results.values())[0]\n",
    "    results = results.sort_values([sort_column], ascending=False)"
   ]
  },
  {
   "cell_type": "code",
   "execution_count": null,
   "metadata": {},
   "outputs": [],
   "source": [
    "sort_column = \"avg\"\n",
    "with pathlib.Path(\n",
    "    TMP_DIR / \"bireducts_reordered_cols_30_10000_eval_scope_local.pkl\"\n",
    ").open(\"rb\") as f:\n",
    "    results = pickle.load(f)\n",
    "    results = list(results.values())[0]\n",
    "    results = results.sort_values([sort_column], ascending=False)"
   ]
  },
  {
   "cell_type": "code",
   "execution_count": null,
   "metadata": {},
   "outputs": [],
   "source": []
  },
  {
   "cell_type": "code",
   "execution_count": null,
   "metadata": {},
   "outputs": [],
   "source": [
    "sort_column = \"avg2\"\n",
    "with pathlib.Path(\n",
    "    TMP_DIR\n",
    "    / \"bireducts_reordered_cols_n_10000_candidate_attrs_500_max_attrs_5_eps_0.3_eval_scope_global.pkl\"\n",
    ").open(\"rb\") as f:\n",
    "    results = pickle.load(f)\n",
    "    results = list(results.values())[0]\n",
    "    results = results.sort_values([sort_column], ascending=False)\n",
    "results"
   ]
  },
  {
   "cell_type": "code",
   "execution_count": null,
   "metadata": {},
   "outputs": [],
   "source": [
    "# df[df['count']>10].sort_values(['avg'], ascending=False)[:20]"
   ]
  },
  {
   "cell_type": "code",
   "execution_count": null,
   "metadata": {},
   "outputs": [],
   "source": [
    "# df.sort_values(['avg2'], ascending=False)"
   ]
  },
  {
   "cell_type": "code",
   "execution_count": null,
   "metadata": {},
   "outputs": [],
   "source": []
  },
  {
   "cell_type": "code",
   "execution_count": null,
   "metadata": {},
   "outputs": [],
   "source": []
  },
  {
   "cell_type": "code",
   "execution_count": null,
   "metadata": {},
   "outputs": [],
   "source": []
  },
  {
   "cell_type": "code",
   "execution_count": null,
   "metadata": {},
   "outputs": [],
   "source": []
  },
  {
   "cell_type": "code",
   "execution_count": null,
   "metadata": {},
   "outputs": [],
   "source": [
    "sort_column = \"avg\"\n",
    "with pathlib.Path(\n",
    "    TMP_DIR / \"bireducts_reordered_cols_30_10000_eval_scope_local.pkl\"\n",
    ").open(\"rb\") as f:\n",
    "    results = pickle.load(f)\n",
    "    results = list(results.values())[0]\n",
    "    results = results.sort_values([sort_column], ascending=False)"
   ]
  },
  {
   "cell_type": "code",
   "execution_count": null,
   "metadata": {},
   "outputs": [],
   "source": [
    "seq = np.arange(1, len(results) + 1)\n",
    "tmp = results[\"column\"].str.contains(\"reordered_\")\n",
    "print(f\"mean pos of columns: normal={seq[~tmp].mean()},  reordered={seq[tmp].mean()}\")"
   ]
  },
  {
   "cell_type": "code",
   "execution_count": null,
   "metadata": {},
   "outputs": [],
   "source": []
  },
  {
   "cell_type": "code",
   "execution_count": null,
   "metadata": {},
   "outputs": [],
   "source": [
    "normal = 'normal = '\n",
    "reordered = 'reordered = '\n",
    "sort_column = 'score2'\n",
    "# with pathlib.Path(TMP_DIR / 'bireducts_reordered_cols_10_10000_eval_scope_local.pkl').open('rb') as f:\n",
    "# with pathlib.Path(TMP_DIR / 'bireducts_reordered_cols_10_10000_eval_scope_global.pkl').open('rb') as f:\n",
    "# with pathlib.Path(TMP_DIR / 'bireducts_reordered_cols_10_10000_draw_objects_mk2_eval_scope_local.pkl').open('rb') as f:\n",
    "# with pathlib.Path(TMP_DIR / 'bireducts_reordered_cols_10_10000_draw_objects_mk2_eval_scope_global.pkl').open('rb') as f:\n",
    "# with pathlib.Path(TMP_DIR / 'bireducts_reordered_cols_20_10000_draw_objects_mk2_eval_scope_local.pkl').open('rb') as f:\n",
    "# with pathlib.Path(TMP_DIR / 'bireducts_reordered_cols_20_10000_draw_objects_mk2_eval_scope_global.pkl').open('rb') as f:\n",
    "# with pathlib.Path(TMP_DIR / 'bireducts_reordered_cols_n_10000_sample_attrs_100_max_attrs_10_eval_scope_local.pkl').open('rb') as f:\n",
    "# with pathlib.Path(TMP_DIR / 'bireducts_reordered_cols_n_10000_sample_attrs_100_max_attrs_10_eval_scope_global.pkl').open('rb') as f:\n",
    "# with pathlib.Path(TMP_DIR / 'bireducts_reordered_cols_n_10000_sample_attrs_100_max_attrs_20_eval_scope_local.pkl').open('rb') as f:\n",
    "# with pathlib.Path(TMP_DIR / 'bireducts_reordered_cols_n_10000_sample_attrs_100_max_attrs_20_eval_scope_global.pkl').open('rb') as f:\n",
    "# with pathlib.Path(TMP_DIR / 'bireducts_reordered_cols_n_10000_sample_attrs_100_max_attrs_10_eval_scope_local.pkl').open('rb') as f:\n",
    "# with pathlib.Path(TMP_DIR / 'bireducts_reordered_cols_n_10000_sample_attrs_100_max_attrs_10_eval_scope_global.pkl').open('rb') as f:\n",
    "# with pathlib.Path(TMP_DIR / 'bireducts_reordered_cols_n_10000_candidate_attrs_200_max_attrs_20_eps_0.3_eval_scope_global.pkl').open('rb') as f:\n",
    "# with pathlib.Path(TMP_DIR / 'bireducts_reordered_cols_n_10000_candidate_attrs_500_max_attrs_5_eps_0.3_eval_scope_local.pkl').open('rb') as f:\n",
    "# with pathlib.Path(TMP_DIR / 'bireducts_reordered_cols_n_10000_candidate_attrs_500_max_attrs_5_eps_0.3_eval_scope_global.pkl').open('rb') as f:\n",
    "\n",
    "# with pathlib.Path(TMP_DIR / 'bireducts_redphase_reordered_cols_n_1000_candidate_attrs_50_max_attrs_30_eps_0.0_eval_scope_local.pkl').open('rb') as f:\n",
    "# with pathlib.Path(TMP_DIR / 'bireducts_redphase_reordered_cols_n_1000_candidate_attrs_50_max_attrs_30_eps_0.0_eval_scope_global.pkl').open('rb') as f:\n",
    "# with pathlib.Path(TMP_DIR / 'bireducts_redphase_reordered_cols_n_1000_candidate_attrs_50_max_attrs_30_eps_0.2_eval_scope_local.pkl').open('rb') as f:\n",
    "# with pathlib.Path(TMP_DIR / 'bireducts_redphase_reordered_cols_n_1000_candidate_attrs_50_max_attrs_30_eps_0.2_eval_scope_global.pkl').open('rb') as f:\n",
    "# with pathlib.Path(TMP_DIR / 'bireducts_redphase_reordered_cols_n_1000_candidate_attrs_100_max_attrs_30_eps_0.2_eval_scope_local.pkl').open('rb') as f:\n",
    "# with pathlib.Path(TMP_DIR / 'bireducts_redphase_reordered_cols_n_1000_candidate_attrs_100_max_attrs_30_eps_0.2_eval_scope_global.pkl').open('rb') as f:\n",
    "# with pathlib.Path(TMP_DIR / 'bireducts_redphase_reordered_cols_n_1000_candidate_attrs_100_max_attrs_30_eps_0.4_eval_scope_local.pkl').open('rb') as f:\n",
    "# with pathlib.Path(TMP_DIR / 'bireducts_redphase_reordered_cols_n_1000_candidate_attrs_100_max_attrs_30_eps_0.4_eval_scope_global.pkl').open('rb') as f:\n",
    "# with pathlib.Path(TMP_DIR / 'bireducts_daab_reordered_cols_n_1000_candidate_attrs_30_allowed_randomness_0.1_eval_scope_local.pkl').open('rb') as f:\n",
    "# with pathlib.Path(TMP_DIR / 'bireducts_daab_reordered_cols_n_1000_candidate_attrs_30_allowed_randomness_0.1_eval_scope_global.pkl').open('rb') as f:\n",
    "    results = pickle.load(f)\n",
    "    results = list(results.values())[0]\n",
    "    results = results.sort_values([sort_column], ascending=False)\n",
    "    results = results[results['count']>0]\n",
    "    seq = np.arange(1, len(results)+1)\n",
    "    tmp = results['column'].str.contains('reordered_')\n",
    "    print(f'mean column rank\n",
    "'\n",
    "          f'{normal:<15}{seq[~tmp].mean()}\n",
    "'\n",
    "          f'{reordered:<15}{seq[tmp].mean()}\n",
    "')\n",
    "    "
   ]
  },
  {
   "cell_type": "code",
   "execution_count": null,
   "metadata": {},
   "outputs": [],
   "source": [
    "results"
   ]
  },
  {
   "cell_type": "code",
   "execution_count": null,
   "metadata": {},
   "outputs": [],
   "source": []
  },
  {
   "cell_type": "code",
   "execution_count": null,
   "metadata": {},
   "outputs": [],
   "source": []
  },
  {
   "cell_type": "code",
   "execution_count": null,
   "metadata": {},
   "outputs": [],
   "source": []
  },
  {
   "cell_type": "code",
   "execution_count": null,
   "metadata": {},
   "outputs": [],
   "source": []
  },
  {
   "cell_type": "code",
   "execution_count": null,
   "metadata": {},
   "outputs": [],
   "source": []
  },
  {
   "cell_type": "code",
   "execution_count": null,
   "metadata": {},
   "outputs": [],
   "source": []
  },
  {
   "cell_type": "code",
   "execution_count": null,
   "metadata": {},
   "outputs": [],
   "source": []
  },
  {
   "cell_type": "code",
   "execution_count": null,
   "metadata": {},
   "outputs": [],
   "source": [
    "import json\n",
    "\n",
    "with pathlib.Path(\n",
    "    TMP_DIR\n",
    "    / \"bireducts_reordered_cols_n_10000_candidate_attrs_200_max_attrs_20_eps_0.3.json\"\n",
    ").open(\"r\") as f:\n",
    "    bireducts = json.load(f)"
   ]
  },
  {
   "cell_type": "code",
   "execution_count": null,
   "metadata": {},
   "outputs": [],
   "source": [
    "import pandas as pd\n",
    "\n",
    "TMP_DIR = pathlib.Path(config.TMP_DIR)\n",
    "DATA_DIR = pathlib.Path(config.DATA_DIR)\n",
    "\n",
    "FILEPATH = DATA_DIR / \"train_utf_with_reordered_cols.csv\"\n",
    "SEP = \";\"\n",
    "\n",
    "df = pd.read_csv(FILEPATH, sep=SEP)"
   ]
  },
  {
   "cell_type": "code",
   "execution_count": null,
   "metadata": {},
   "outputs": [],
   "source": [
    "df.columns[bireducts[15][\"attributes\"]]"
   ]
  }
 ],
 "metadata": {
  "kernelspec": {
   "display_name": "Python 3",
   "language": "python",
   "name": "python3"
  },
  "language_info": {
   "codemirror_mode": {
    "name": "ipython",
    "version": 3
   },
   "file_extension": ".py",
   "mimetype": "text/x-python",
   "name": "python",
   "nbconvert_exporter": "python",
   "pygments_lexer": "ipython3",
   "version": "3.8.5"
  }
 },
 "nbformat": 4,
 "nbformat_minor": 4
}
