{
 "cells": [
  {
   "cell_type": "code",
   "execution_count": 2,
   "metadata": {},
   "outputs": [],
   "source": [
    "import numpy as np\n",
    "import xgboost as xgb"
   ]
  },
  {
   "cell_type": "code",
   "execution_count": 8,
   "metadata": {},
   "outputs": [],
   "source": [
    "data = np.random.rand(1000, 10)  # 5 entities, each contains 10 features\n",
    "# label = np.random.randint(2, size=100)  # binary target\n",
    "label = data[:, :3].sum(axis=1) > 2  # binary target\n",
    "dtrain = xgb.DMatrix(data[:900], label=label[:900])\n",
    "dtest = xgb.DMatrix(data[900:], label=label[900:])"
   ]
  },
  {
   "cell_type": "code",
   "execution_count": 23,
   "metadata": {},
   "outputs": [
    {
     "name": "stdout",
     "output_type": "stream",
     "text": [
      "[0]\ttrain-logloss:0.48964\teval-logloss:0.49521\n",
      "[1]\ttrain-logloss:0.37284\teval-logloss:0.38496\n",
      "[2]\ttrain-logloss:0.29943\teval-logloss:0.31358\n",
      "[3]\ttrain-logloss:0.24294\teval-logloss:0.25686\n",
      "[4]\ttrain-logloss:0.19639\teval-logloss:0.21369\n",
      "[5]\ttrain-logloss:0.16586\teval-logloss:0.18308\n",
      "[6]\ttrain-logloss:0.14366\teval-logloss:0.15794\n",
      "[7]\ttrain-logloss:0.12448\teval-logloss:0.14051\n",
      "[8]\ttrain-logloss:0.11046\teval-logloss:0.12560\n",
      "[9]\ttrain-logloss:0.09917\teval-logloss:0.11187\n"
     ]
    }
   ],
   "source": [
    "param = {\n",
    "    \"max_depth\": 3,\n",
    "    \"objective\": \"binary:logistic\",\n",
    "    \"nthread\": 4,\n",
    "    \"eval_metric\": \"logloss\",\n",
    "    \"base_score\": 0.5,\n",
    "}\n",
    "evallist = [(dtrain, \"train\"), (dtest, \"eval\")]\n",
    "num_round = 10\n",
    "bst = xgb.train(param, dtrain, num_round, evallist)"
   ]
  },
  {
   "cell_type": "code",
   "execution_count": 11,
   "metadata": {},
   "outputs": [
    {
     "data": {
      "text/plain": [
       "0.172"
      ]
     },
     "execution_count": 11,
     "metadata": {},
     "output_type": "execute_result"
    }
   ],
   "source": [
    "sum(label) / len(label)"
   ]
  },
  {
   "cell_type": "code",
   "execution_count": null,
   "metadata": {},
   "outputs": [],
   "source": []
  },
  {
   "cell_type": "code",
   "execution_count": null,
   "metadata": {},
   "outputs": [],
   "source": []
  },
  {
   "cell_type": "code",
   "execution_count": null,
   "metadata": {},
   "outputs": [],
   "source": []
  },
  {
   "cell_type": "code",
   "execution_count": null,
   "metadata": {},
   "outputs": [],
   "source": []
  },
  {
   "cell_type": "code",
   "execution_count": null,
   "metadata": {},
   "outputs": [],
   "source": []
  },
  {
   "cell_type": "code",
   "execution_count": null,
   "metadata": {},
   "outputs": [],
   "source": []
  },
  {
   "cell_type": "code",
   "execution_count": null,
   "metadata": {},
   "outputs": [],
   "source": []
  },
  {
   "cell_type": "code",
   "execution_count": null,
   "metadata": {},
   "outputs": [],
   "source": []
  }
 ],
 "metadata": {
  "kernelspec": {
   "display_name": "Python 3",
   "language": "python",
   "name": "python3"
  },
  "language_info": {
   "codemirror_mode": {
    "name": "ipython",
    "version": 3
   },
   "file_extension": ".py",
   "mimetype": "text/x-python",
   "name": "python",
   "nbconvert_exporter": "python",
   "pygments_lexer": "ipython3",
   "version": "3.8.5"
  }
 },
 "nbformat": 4,
 "nbformat_minor": 2
}
