{
 "cells": [
  {
   "cell_type": "code",
   "execution_count": 1,
   "metadata": {},
   "outputs": [],
   "source": [
    "import json\n",
    "import pathlib\n",
    "\n",
    "import attr\n",
    "import config\n",
    "import numpy as np\n",
    "import pandas as pd\n",
    "import tqdm.notebook\n",
    "\n",
    "import skrough"
   ]
  },
  {
   "cell_type": "code",
   "execution_count": 7,
   "metadata": {},
   "outputs": [],
   "source": [
    "DATA_DIR = pathlib.Path(config.DATA_DIR)\n",
    "TMP_DIR = pathlib.Path(config.TMP_DIR)\n",
    "SEP = \";\"\n",
    "\n",
    "EVAL_SETUP_1 = {\n",
    "    \"data_filepath\": DATA_DIR / \"train_utf.csv\",\n",
    "    \"bireducts_filepaths\": [\n",
    "        TMP_DIR / \"bireducts_10_10000.json\",\n",
    "        TMP_DIR / \"bireducts_20_10000.json\",\n",
    "        TMP_DIR / \"bireducts_30_10000.json\",\n",
    "        TMP_DIR / \"bireducts_50_10000.json\",\n",
    "        TMP_DIR / \"bireducts_daar.json\",\n",
    "    ],\n",
    "}\n",
    "\n",
    "EVAL_SETUP_2 = {\n",
    "    \"data_filepath\": DATA_DIR / \"train_utf_with_reordered_cols.csv\",\n",
    "    \"bireducts_filepaths\": [\n",
    "        TMP_DIR / \"bireducts_reordered_cols_10_10000.json\",\n",
    "        TMP_DIR / \"bireducts_reordered_cols_20_10000.json\",\n",
    "        TMP_DIR / \"bireducts_reordered_cols_30_10000.json\",\n",
    "    ],\n",
    "}\n",
    "\n",
    "\n",
    "EVAL_SETUP_3 = {\n",
    "    \"data_filepath\": DATA_DIR / \"train_utf_with_reordered_cols.csv\",\n",
    "    \"bireducts_filepaths\": [\n",
    "        TMP_DIR / \"bireducts_reordered_cols_n_10000_sample_attrs_100_max_attrs_10.json\",\n",
    "        TMP_DIR / \"bireducts_reordered_cols_n_10000_sample_attrs_100_max_attrs_20.json\",\n",
    "    ],\n",
    "}\n",
    "\n",
    "\n",
    "EVAL_SETUP_4 = {\n",
    "    \"data_filepath\": DATA_DIR / \"train_utf_with_reordered_cols.csv\",\n",
    "    \"bireducts_filepaths\": [\n",
    "        TMP_DIR\n",
    "        / \"bireducts_daab_reordered_cols_n_1000_candidate_attrs_30_allowed_randomness_0.1.json\",\n",
    "    ],\n",
    "}"
   ]
  },
  {
   "cell_type": "code",
   "execution_count": 8,
   "metadata": {},
   "outputs": [],
   "source": [
    "def get_results(eval_setup, sep=SEP):\n",
    "    df = pd.read_csv(eval_setup[\"data_filepath\"], sep=sep)\n",
    "    df_dec = df.pop(\"target\")\n",
    "    df = df.astype(\"category\")\n",
    "    df = df.apply(lambda x: x.cat.codes)\n",
    "\n",
    "    results = {}\n",
    "    for filepath in eval_setup[\"bireducts_filepaths\"]:\n",
    "        with filepath.open(\"r\") as f:\n",
    "            bireducts = json.load(f)\n",
    "        counts = np.zeros(len(df.columns))\n",
    "        weights = np.zeros(len(df.columns))\n",
    "        for bireduct in tqdm.notebook.tqdm(bireducts):\n",
    "            counts[bireduct[\"attributes\"]] += 1\n",
    "            w = len(bireduct[\"objects\"]) / len(df)\n",
    "            weights[bireduct[\"attributes\"]] += w\n",
    "        average_weight = np.divide(\n",
    "            weights, counts, out=np.zeros_like(weights), where=counts > 0\n",
    "        )\n",
    "        results[filepath.name] = pd.DataFrame(\n",
    "            {\n",
    "                \"column\": df.columns,\n",
    "                \"weight\": weights,\n",
    "                \"count\": counts,\n",
    "                \"average_weight\": average_weight,\n",
    "            }\n",
    "        ).sort_values([\"weight\"], ascending=False)\n",
    "\n",
    "    del df, bireducts\n",
    "    return results"
   ]
  },
  {
   "cell_type": "code",
   "execution_count": null,
   "metadata": {},
   "outputs": [],
   "source": []
  },
  {
   "cell_type": "code",
   "execution_count": 9,
   "metadata": {},
   "outputs": [
    {
     "data": {
      "application/vnd.jupyter.widget-view+json": {
       "model_id": "2e6431512cd645119cd41a7e11d00138",
       "version_major": 2,
       "version_minor": 0
      },
      "text/plain": [
       "  0%|          | 0/1000 [00:00<?, ?it/s]"
      ]
     },
     "metadata": {},
     "output_type": "display_data"
    }
   ],
   "source": [
    "# results_1 = get_results(EVAL_SETUP_1)\n",
    "# results_2 = get_results(EVAL_SETUP_2)\n",
    "# results_3 = get_results(EVAL_SETUP_3)\n",
    "results_4 = get_results(EVAL_SETUP_4)"
   ]
  },
  {
   "cell_type": "code",
   "execution_count": null,
   "metadata": {},
   "outputs": [],
   "source": []
  },
  {
   "cell_type": "code",
   "execution_count": null,
   "metadata": {},
   "outputs": [],
   "source": []
  },
  {
   "cell_type": "code",
   "execution_count": null,
   "metadata": {},
   "outputs": [],
   "source": []
  },
  {
   "cell_type": "code",
   "execution_count": 31,
   "metadata": {},
   "outputs": [
    {
     "data": {
      "text/html": [
       "<div>\n",
       "<style scoped>\n",
       "    .dataframe tbody tr th:only-of-type {\n",
       "        vertical-align: middle;\n",
       "    }\n",
       "\n",
       "    .dataframe tbody tr th {\n",
       "        vertical-align: top;\n",
       "    }\n",
       "\n",
       "    .dataframe thead th {\n",
       "        text-align: right;\n",
       "    }\n",
       "</style>\n",
       "<table border=\"1\" class=\"dataframe\">\n",
       "  <thead>\n",
       "    <tr style=\"text-align: right;\">\n",
       "      <th></th>\n",
       "      <th>column</th>\n",
       "      <th>weight</th>\n",
       "      <th>count</th>\n",
       "      <th>average_weight</th>\n",
       "    </tr>\n",
       "  </thead>\n",
       "  <tbody>\n",
       "    <tr>\n",
       "      <th>96</th>\n",
       "      <td>number_of_company_following</td>\n",
       "      <td>111.891516</td>\n",
       "      <td>128.0</td>\n",
       "      <td>0.874152</td>\n",
       "    </tr>\n",
       "    <tr>\n",
       "      <th>74</th>\n",
       "      <td>recruitment_developer_in_role_name</td>\n",
       "      <td>97.250212</td>\n",
       "      <td>112.0</td>\n",
       "      <td>0.868305</td>\n",
       "    </tr>\n",
       "    <tr>\n",
       "      <th>81</th>\n",
       "      <td>developer_in_title</td>\n",
       "      <td>89.775384</td>\n",
       "      <td>102.0</td>\n",
       "      <td>0.880151</td>\n",
       "    </tr>\n",
       "    <tr>\n",
       "      <th>190</th>\n",
       "      <td>country_continent..EU</td>\n",
       "      <td>85.446233</td>\n",
       "      <td>97.0</td>\n",
       "      <td>0.880889</td>\n",
       "    </tr>\n",
       "    <tr>\n",
       "      <th>191</th>\n",
       "      <td>country_continent..Other</td>\n",
       "      <td>84.174924</td>\n",
       "      <td>96.0</td>\n",
       "      <td>0.876822</td>\n",
       "    </tr>\n",
       "    <tr>\n",
       "      <th>218</th>\n",
       "      <td>country_developers_count..NA</td>\n",
       "      <td>79.167625</td>\n",
       "      <td>92.0</td>\n",
       "      <td>0.860518</td>\n",
       "    </tr>\n",
       "    <tr>\n",
       "      <th>120</th>\n",
       "      <td>country_developers_count</td>\n",
       "      <td>71.512723</td>\n",
       "      <td>82.0</td>\n",
       "      <td>0.872106</td>\n",
       "    </tr>\n",
       "    <tr>\n",
       "      <th>207</th>\n",
       "      <td>country_cluster..Other</td>\n",
       "      <td>69.880718</td>\n",
       "      <td>79.0</td>\n",
       "      <td>0.884566</td>\n",
       "    </tr>\n",
       "    <tr>\n",
       "      <th>474</th>\n",
       "      <td>skill_programming_platforms</td>\n",
       "      <td>69.061741</td>\n",
       "      <td>79.0</td>\n",
       "      <td>0.874199</td>\n",
       "    </tr>\n",
       "    <tr>\n",
       "      <th>36</th>\n",
       "      <td>developer_in_any_job_title</td>\n",
       "      <td>65.219667</td>\n",
       "      <td>74.0</td>\n",
       "      <td>0.881347</td>\n",
       "    </tr>\n",
       "    <tr>\n",
       "      <th>143</th>\n",
       "      <td>recruitment_role_category..PRODUCT</td>\n",
       "      <td>64.610808</td>\n",
       "      <td>75.0</td>\n",
       "      <td>0.861477</td>\n",
       "    </tr>\n",
       "    <tr>\n",
       "      <th>149</th>\n",
       "      <td>role_category_cluster..Other</td>\n",
       "      <td>57.579313</td>\n",
       "      <td>67.0</td>\n",
       "      <td>0.859393</td>\n",
       "    </tr>\n",
       "    <tr>\n",
       "      <th>116</th>\n",
       "      <td>es_in_person_country_languages</td>\n",
       "      <td>53.819427</td>\n",
       "      <td>61.0</td>\n",
       "      <td>0.882286</td>\n",
       "    </tr>\n",
       "    <tr>\n",
       "      <th>295</th>\n",
       "      <td>skill_JavaScript</td>\n",
       "      <td>53.632455</td>\n",
       "      <td>62.0</td>\n",
       "      <td>0.865040</td>\n",
       "    </tr>\n",
       "    <tr>\n",
       "      <th>71</th>\n",
       "      <td>recruitment_frontend_in_role_name</td>\n",
       "      <td>51.262211</td>\n",
       "      <td>58.0</td>\n",
       "      <td>0.883831</td>\n",
       "    </tr>\n",
       "  </tbody>\n",
       "</table>\n",
       "</div>"
      ],
      "text/plain": [
       "                                 column      weight  count  average_weight\n",
       "96          number_of_company_following  111.891516  128.0        0.874152\n",
       "74   recruitment_developer_in_role_name   97.250212  112.0        0.868305\n",
       "81                   developer_in_title   89.775384  102.0        0.880151\n",
       "190               country_continent..EU   85.446233   97.0        0.880889\n",
       "191            country_continent..Other   84.174924   96.0        0.876822\n",
       "218        country_developers_count..NA   79.167625   92.0        0.860518\n",
       "120            country_developers_count   71.512723   82.0        0.872106\n",
       "207              country_cluster..Other   69.880718   79.0        0.884566\n",
       "474         skill_programming_platforms   69.061741   79.0        0.874199\n",
       "36           developer_in_any_job_title   65.219667   74.0        0.881347\n",
       "143  recruitment_role_category..PRODUCT   64.610808   75.0        0.861477\n",
       "149        role_category_cluster..Other   57.579313   67.0        0.859393\n",
       "116      es_in_person_country_languages   53.819427   61.0        0.882286\n",
       "295                    skill_JavaScript   53.632455   62.0        0.865040\n",
       "71    recruitment_frontend_in_role_name   51.262211   58.0        0.883831"
      ]
     },
     "execution_count": 31,
     "metadata": {},
     "output_type": "execute_result"
    }
   ],
   "source": [
    "x = results_4[\n",
    "    \"bireducts_daab_reordered_cols_n_1000_candidate_attrs_30_allowed_randomness_0.1.json\"\n",
    "]\n",
    "x.sort_values(\"weight\", ascending=False)[:15]"
   ]
  },
  {
   "cell_type": "code",
   "execution_count": null,
   "metadata": {},
   "outputs": [],
   "source": []
  },
  {
   "cell_type": "code",
   "execution_count": null,
   "metadata": {},
   "outputs": [],
   "source": []
  },
  {
   "cell_type": "code",
   "execution_count": null,
   "metadata": {},
   "outputs": [],
   "source": []
  },
  {
   "cell_type": "code",
   "execution_count": null,
   "metadata": {},
   "outputs": [],
   "source": []
  },
  {
   "cell_type": "code",
   "execution_count": null,
   "metadata": {},
   "outputs": [],
   "source": []
  },
  {
   "cell_type": "code",
   "execution_count": 55,
   "metadata": {},
   "outputs": [
    {
     "data": {
      "text/plain": [
       "908.3329015544041"
      ]
     },
     "execution_count": 55,
     "metadata": {},
     "output_type": "execute_result"
    }
   ],
   "source": [
    "x = results_3[\n",
    "    \"bireducts_data_reordered_cols_n_10000_sample_attrs_100_max_attrs_10.json\"\n",
    "]\n",
    "x = x.sort_values([\"count\"], ascending=False)\n",
    "# x = x[x['count'] ]\n",
    "seq = np.arange(1, len(x) + 1)\n",
    "tmp = x[\"column\"].str.contains(\"reordered_\")\n",
    "seq[tmp].mean()"
   ]
  },
  {
   "cell_type": "code",
   "execution_count": 51,
   "metadata": {},
   "outputs": [
    {
     "data": {
      "text/plain": [
       "25.5"
      ]
     },
     "execution_count": 51,
     "metadata": {},
     "output_type": "execute_result"
    }
   ],
   "source": [
    "seq[~tmp].mean()"
   ]
  },
  {
   "cell_type": "code",
   "execution_count": null,
   "metadata": {},
   "outputs": [],
   "source": []
  }
 ],
 "metadata": {
  "kernelspec": {
   "display_name": ".venv",
   "language": "python",
   "name": "python3"
  },
  "language_info": {
   "codemirror_mode": {
    "name": "ipython",
    "version": 3
   },
   "file_extension": ".py",
   "mimetype": "text/x-python",
   "name": "python",
   "nbconvert_exporter": "python",
   "pygments_lexer": "ipython3",
   "version": "3.9.12 (main, Apr  5 2022, 06:56:58) \n[GCC 7.5.0]"
  },
  "vscode": {
   "interpreter": {
    "hash": "cb353cb8b9a4ebafc945efb5c6e15e592d37ff0fcf51b748ec6c5769c1eaa51b"
   }
  }
 },
 "nbformat": 4,
 "nbformat_minor": 4
}
