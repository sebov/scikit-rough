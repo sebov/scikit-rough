{
 "cells": [
  {
   "cell_type": "code",
   "execution_count": 3,
   "metadata": {},
   "outputs": [],
   "source": [
    "# from sklearn.metrics import roc_curve, auc, recall_score, precision_score\n",
    "import pathlib\n",
    "import warnings\n",
    "\n",
    "import numpy as np\n",
    "import pandas as pd\n",
    "\n",
    "# from skrough.base import Bireduct\n",
    "# from joblib import Parallel, delayed\n",
    "# import time\n",
    "import xgboost as xgb\n",
    "\n",
    "# import matplotlib.pyplot as plt\n",
    "from sklearn.model_selection import LeaveOneGroupOut\n",
    "from sklearn.neighbors import NearestNeighbors\n",
    "\n",
    "# import tqdm.notebook\n",
    "# import attr\n",
    "# import pickle\n",
    "# # from skrough.bireducts.greedy_heuristic_bireduct import GreedyHeuristicBireduct\n",
    "# from skrough.bireducts.dynamically_adapted_approximate_bireduct import DynamicallyAdaptedApproximateBireduct\n",
    "\n",
    "\n",
    "warnings.filterwarnings(\"ignore\", category=np.VisibleDeprecationWarning)\n",
    "\n",
    "import config"
   ]
  },
  {
   "cell_type": "code",
   "execution_count": 12,
   "metadata": {},
   "outputs": [],
   "source": [
    "DATA_DIR = pathlib.Path(config.DATA_DIR)\n",
    "TMP_DIR = pathlib.Path(config.TMP_DIR)\n",
    "N_JOBS = 7\n",
    "SEP = \";\"\n",
    "\n",
    "K_NEIGHBORS_PROCESSES = 40\n",
    "N_BIREDUCTS = 500\n",
    "BIREDUCT_ALLOWED_RANDOMNESS = 0.1\n",
    "BIREDUCT_CANDIDATE_N_ATTRS = 30\n",
    "\n",
    "FILEPATH_IN = DATA_DIR / \"toolbox_tabular_data_annonymized_discretized_uniform.csv\"\n",
    "# FILEPATH_IN = DATA_DIR / 'toolbox_tabular_data_annonymized_discretized_quantile.csv'\n",
    "# FILEPATH_IN = DATA_DIR / 'toolbox_tabular_data_annonymized_discretized_kmeans.csv'\n",
    "EMBEDDINGS_FILEPATH_IN = DATA_DIR / \"process_embeddings_d50.csv\""
   ]
  },
  {
   "cell_type": "code",
   "execution_count": 13,
   "metadata": {},
   "outputs": [],
   "source": [
    "df = pd.read_csv(FILEPATH_IN, sep=SEP)\n",
    "process_ids = df.pop(\"process_ids\")\n",
    "df = df.astype(\"category\")\n",
    "df = df.apply(lambda x: x.cat.codes)\n",
    "df_dec = df.pop(\"target\")\n",
    "\n",
    "\n",
    "embeddings = pd.read_csv(EMBEDDINGS_FILEPATH_IN)\n",
    "process_category = embeddings[[\"process_ids\", \"process_category\"]]\n",
    "embeddings.drop([\"process_category\"], axis=1, inplace=True)\n",
    "embeddings.set_index(\"process_ids\", inplace=True)\n",
    "emb_nbrs = NearestNeighbors().fit(embeddings)"
   ]
  },
  {
   "cell_type": "code",
   "execution_count": 14,
   "metadata": {},
   "outputs": [],
   "source": [
    "df_dec = 1 - df_dec"
   ]
  },
  {
   "cell_type": "code",
   "execution_count": 7,
   "metadata": {},
   "outputs": [
    {
     "data": {
      "text/plain": [
       "0.06968954656801479"
      ]
     },
     "execution_count": 7,
     "metadata": {},
     "output_type": "execute_result"
    }
   ],
   "source": [
    "sum(df_dec) / len(df_dec)"
   ]
  },
  {
   "cell_type": "code",
   "execution_count": 11,
   "metadata": {},
   "outputs": [
    {
     "data": {
      "text/plain": [
       "0.06968954656801479"
      ]
     },
     "execution_count": 11,
     "metadata": {},
     "output_type": "execute_result"
    }
   ],
   "source": [
    "sum(df_dec) / len(df_dec)"
   ]
  },
  {
   "cell_type": "code",
   "execution_count": 16,
   "metadata": {},
   "outputs": [
    {
     "data": {
      "text/plain": [
       "0.07490998978988661"
      ]
     },
     "execution_count": 16,
     "metadata": {},
     "output_type": "execute_result"
    }
   ],
   "source": [
    "sum(df_dec) / sum(1 - df_dec)"
   ]
  },
  {
   "cell_type": "code",
   "execution_count": 7,
   "metadata": {},
   "outputs": [],
   "source": [
    "def refine_train(train, test, process_ids, embeddings, emb_nbrs, k):\n",
    "    # search for k+1 neighbors because the one we search for is obviously the best match (thus +1)\n",
    "    test_process_id = process_ids.loc[test.index[0]]\n",
    "    nbrs = emb_nbrs.kneighbors(\n",
    "        [embeddings.loc[test_process_id]], n_neighbors=k + 1, return_distance=False\n",
    "    )[0]\n",
    "    return train[process_ids.loc[train.index].isin(embeddings.index[nbrs])]\n",
    "\n",
    "\n",
    "def get_bireducts(\n",
    "    train, df_dec, n_bireducts, bireduct_allowed_randomness, bireduct_candidate_n_attrs\n",
    "):\n",
    "    ghr = DynamicallyAdaptedApproximateBireduct(\n",
    "        n_of_probes=100,\n",
    "        allowed_randomness=bireduct_allowed_randomness,\n",
    "        candidate_n_attrs=bireduct_candidate_n_attrs,\n",
    "    )\n",
    "    ghr.fit(train, df_dec.loc[train.index], check_data_consistency=False)\n",
    "    #     bireducts = []\n",
    "    #     for i in range(n_bireducts):\n",
    "    #         bireducts.append(ghr.get_bireduct())\n",
    "    bireducts = Parallel(n_jobs=N_JOBS)(\n",
    "        delayed(ghr.get_bireduct)() for i in range(n_bireducts)\n",
    "    )\n",
    "    return bireducts\n",
    "\n",
    "\n",
    "def predict(train, test, bireduct, df_dec):\n",
    "    objs = bireduct.objects\n",
    "    cols = bireduct.attributes\n",
    "    bireduct_train = train.iloc[objs, cols]\n",
    "    bireduct_train = bireduct_train.drop_duplicates()\n",
    "    nn = NearestNeighbors().fit(bireduct_train)\n",
    "    dist, neighbors = nn.kneighbors(\n",
    "        test.iloc[:, cols], n_neighbors=1, return_distance=True\n",
    "    )\n",
    "    result = [\n",
    "        df_dec.loc[bireduct_train.index[n[0]]] if d[0] == 0 else np.nan\n",
    "        for d, n in zip(dist, neighbors)\n",
    "    ]\n",
    "    return result\n",
    "\n",
    "\n",
    "def fit_predict(\n",
    "    train,\n",
    "    test,\n",
    "    df_dec,\n",
    "    n_bireducts,\n",
    "    bireduct_allowed_randomness,\n",
    "    bireduct_candidate_n_attrs,\n",
    "):\n",
    "    #     start = time.time()\n",
    "    bireducts = get_bireducts(\n",
    "        train,\n",
    "        df_dec,\n",
    "        n_bireducts,\n",
    "        bireduct_allowed_randomness,\n",
    "        bireduct_candidate_n_attrs,\n",
    "    )\n",
    "    #     start2 = time.time()\n",
    "    #     print(f'fit: {start2 - start}')\n",
    "    scores = np.zeros(len(test))\n",
    "    counts = np.zeros(len(test))\n",
    "    counts2 = np.zeros(len(test))\n",
    "    for bireduct in bireducts:\n",
    "        for i, dec in enumerate(predict(train, test, bireduct, df_dec)):\n",
    "            if not np.isnan(dec):\n",
    "                scores[i] += int(dec)\n",
    "                counts[i] += 1\n",
    "                counts2[i] += len(bireduct.objects) / len(train)\n",
    "    #     start3 = time.time()\n",
    "    #     print(f'predict: {start3 - start2}')\n",
    "\n",
    "    return (\n",
    "        pd.Series(scores, index=test.index),\n",
    "        pd.Series(counts, index=test.index),\n",
    "        pd.Series(counts2, index=test.index),\n",
    "    )\n",
    "\n",
    "\n",
    "def do_leave_one_process_out_k(\n",
    "    df,\n",
    "    df_dec,\n",
    "    process_ids,\n",
    "    k,\n",
    "    n_bireducts,\n",
    "    bireduct_allowed_randomness,\n",
    "    bireduct_candidate_n_attrs,\n",
    "):\n",
    "    scores = pd.Series(dtype=\"float\")\n",
    "    counts = pd.Series(dtype=\"float\")\n",
    "    counts2 = pd.Series(dtype=\"float\")\n",
    "    for train_index, test_index in tqdm.notebook.tqdm(\n",
    "        LeaveOneGroupOut().split(df, df_dec, groups=process_ids)\n",
    "    ):\n",
    "        train = df.iloc[train_index]\n",
    "        test = df.iloc[test_index]\n",
    "        if k is not None:\n",
    "            train = refine_train(train, test, process_ids, embeddings, emb_nbrs, k)\n",
    "        s, c, c2 = fit_predict(\n",
    "            train,\n",
    "            test,\n",
    "            df_dec,\n",
    "            n_bireducts,\n",
    "            bireduct_allowed_randomness,\n",
    "            bireduct_candidate_n_attrs,\n",
    "        )\n",
    "        scores = scores.append(s)\n",
    "        counts = counts.append(c)\n",
    "        counts2 = counts2.append(c2)\n",
    "    return scores.sort_index(), counts.sort_index(), counts2.sort_index()"
   ]
  },
  {
   "cell_type": "code",
   "execution_count": null,
   "metadata": {},
   "outputs": [],
   "source": []
  },
  {
   "cell_type": "code",
   "execution_count": null,
   "metadata": {},
   "outputs": [],
   "source": []
  },
  {
   "cell_type": "code",
   "execution_count": 8,
   "metadata": {},
   "outputs": [],
   "source": [
    "splits = {}\n",
    "for train_index, test_index in LeaveOneGroupOut().split(df, df_dec, groups=process_ids):\n",
    "    splits[process_ids[test_index[0]]] = {\n",
    "        \"train_index\": train_index,\n",
    "        \"test_index\": test_index,\n",
    "    }"
   ]
  },
  {
   "cell_type": "code",
   "execution_count": 9,
   "metadata": {},
   "outputs": [],
   "source": [
    "def get_data(df, df_dec, process_ids, embeddings, emb_nbrs, k, proc_id):\n",
    "    train_index = splits[proc_id][\"train_index\"]\n",
    "    test_index = splits[proc_id][\"test_index\"]\n",
    "    train = df.iloc[train_index]\n",
    "    test = df.iloc[test_index]\n",
    "    train = refine_train(train, test, process_ids, embeddings, emb_nbrs, k)\n",
    "    return train, df_dec.loc[train.index], test, df_dec.loc[test.index]"
   ]
  },
  {
   "cell_type": "code",
   "execution_count": 17,
   "metadata": {},
   "outputs": [],
   "source": [
    "train, train_target, test, test_target = get_data(\n",
    "    df, df_dec, process_ids, embeddings, emb_nbrs, 40, \"process_102\"\n",
    ")\n",
    "dtrain = xgb.DMatrix(train, label=train_target)\n",
    "dtest = xgb.DMatrix(test, label=test_target)"
   ]
  },
  {
   "cell_type": "code",
   "execution_count": null,
   "metadata": {},
   "outputs": [],
   "source": []
  },
  {
   "cell_type": "code",
   "execution_count": 18,
   "metadata": {},
   "outputs": [
    {
     "name": "stdout",
     "output_type": "stream",
     "text": [
      "['process_102']\n",
      "['process_129' 'process_168' 'process_11' 'process_192' 'process_82'\n",
      " 'process_30' 'process_15' 'process_71' 'process_60' 'process_148'\n",
      " 'process_70' 'process_181' 'process_81' 'process_98' 'process_103'\n",
      " 'process_101' 'process_5' 'process_6' 'process_146' 'process_194'\n",
      " 'process_133' 'process_100' 'process_48' 'process_166' 'process_161'\n",
      " 'process_164' 'process_99' 'process_18' 'process_165' 'process_169'\n",
      " 'process_37' 'process_132' 'process_86' 'process_91' 'process_8'\n",
      " 'process_121' 'process_83' 'process_39' 'process_90' 'process_123']\n"
     ]
    }
   ],
   "source": [
    "print(process_ids[test.index].unique())\n",
    "print(process_ids[train.index].unique())"
   ]
  },
  {
   "cell_type": "code",
   "execution_count": 20,
   "metadata": {},
   "outputs": [
    {
     "name": "stdout",
     "output_type": "stream",
     "text": [
      "[0]\ttrain-auc:0.58144\ttrain-logloss:0.61557\teval-auc:0.50000\teval-logloss:0.61735\n",
      "[1]\ttrain-auc:0.65314\ttrain-logloss:0.55192\teval-auc:0.54792\teval-logloss:0.55598\n",
      "[2]\ttrain-auc:0.65032\ttrain-logloss:0.49937\teval-auc:0.54792\teval-logloss:0.50503\n",
      "[3]\ttrain-auc:0.65491\ttrain-logloss:0.45479\teval-auc:0.54583\teval-logloss:0.46304\n",
      "[4]\ttrain-auc:0.70857\ttrain-logloss:0.41732\teval-auc:0.54583\teval-logloss:0.42855\n",
      "[5]\ttrain-auc:0.71017\ttrain-logloss:0.38530\teval-auc:0.54583\teval-logloss:0.39892\n",
      "[6]\ttrain-auc:0.71702\ttrain-logloss:0.35765\teval-auc:0.54583\teval-logloss:0.37412\n",
      "[7]\ttrain-auc:0.71646\ttrain-logloss:0.33374\teval-auc:0.54583\teval-logloss:0.35178\n",
      "[8]\ttrain-auc:0.71685\ttrain-logloss:0.31326\teval-auc:0.54583\teval-logloss:0.33368\n",
      "[9]\ttrain-auc:0.72581\ttrain-logloss:0.29548\teval-auc:0.55833\teval-logloss:0.31821\n",
      "[10]\ttrain-auc:0.72714\ttrain-logloss:0.28003\teval-auc:0.55833\teval-logloss:0.30473\n",
      "[11]\ttrain-auc:0.72820\ttrain-logloss:0.26661\teval-auc:0.55833\teval-logloss:0.29347\n",
      "[12]\ttrain-auc:0.73229\ttrain-logloss:0.25490\teval-auc:0.55833\teval-logloss:0.28415\n",
      "[13]\ttrain-auc:0.73224\ttrain-logloss:0.24466\teval-auc:0.55833\teval-logloss:0.27599\n",
      "[14]\ttrain-auc:0.73569\ttrain-logloss:0.23574\teval-auc:0.55833\teval-logloss:0.26985\n",
      "[15]\ttrain-auc:0.73523\ttrain-logloss:0.22792\teval-auc:0.55833\teval-logloss:0.26386\n",
      "[16]\ttrain-auc:0.76672\ttrain-logloss:0.22103\teval-auc:0.48542\teval-logloss:0.25920\n",
      "[17]\ttrain-auc:0.76886\ttrain-logloss:0.21494\teval-auc:0.48542\teval-logloss:0.25466\n",
      "[18]\ttrain-auc:0.77599\ttrain-logloss:0.20963\teval-auc:0.62292\teval-logloss:0.25097\n",
      "[19]\ttrain-auc:0.78234\ttrain-logloss:0.20496\teval-auc:0.60208\teval-logloss:0.24830\n",
      "[20]\ttrain-auc:0.78362\ttrain-logloss:0.20083\teval-auc:0.60208\teval-logloss:0.24572\n",
      "[21]\ttrain-auc:0.78489\ttrain-logloss:0.19720\teval-auc:0.59375\teval-logloss:0.24339\n",
      "[22]\ttrain-auc:0.79072\ttrain-logloss:0.19396\teval-auc:0.61667\teval-logloss:0.24170\n",
      "[23]\ttrain-auc:0.79433\ttrain-logloss:0.19112\teval-auc:0.52917\teval-logloss:0.24025\n",
      "[24]\ttrain-auc:0.79153\ttrain-logloss:0.18857\teval-auc:0.62500\teval-logloss:0.23890\n",
      "[25]\ttrain-auc:0.79224\ttrain-logloss:0.18630\teval-auc:0.62500\teval-logloss:0.23774\n",
      "[26]\ttrain-auc:0.80403\ttrain-logloss:0.18428\teval-auc:0.52500\teval-logloss:0.23670\n",
      "[27]\ttrain-auc:0.81281\ttrain-logloss:0.18229\teval-auc:0.52917\teval-logloss:0.23630\n",
      "[28]\ttrain-auc:0.81342\ttrain-logloss:0.18068\teval-auc:0.52500\teval-logloss:0.23647\n",
      "[29]\ttrain-auc:0.81670\ttrain-logloss:0.17909\teval-auc:0.52500\teval-logloss:0.23609\n",
      "[30]\ttrain-auc:0.81893\ttrain-logloss:0.17775\teval-auc:0.50000\teval-logloss:0.23598\n",
      "[31]\ttrain-auc:0.81922\ttrain-logloss:0.17655\teval-auc:0.50000\teval-logloss:0.23573\n",
      "[32]\ttrain-auc:0.82190\ttrain-logloss:0.17529\teval-auc:0.49167\teval-logloss:0.23562\n",
      "[33]\ttrain-auc:0.82873\ttrain-logloss:0.17366\teval-auc:0.45000\teval-logloss:0.23774\n",
      "[34]\ttrain-auc:0.83208\ttrain-logloss:0.17248\teval-auc:0.45417\teval-logloss:0.23735\n",
      "[35]\ttrain-auc:0.83364\ttrain-logloss:0.17144\teval-auc:0.46667\teval-logloss:0.23692\n",
      "[36]\ttrain-auc:0.83425\ttrain-logloss:0.17061\teval-auc:0.45833\teval-logloss:0.23802\n",
      "[37]\ttrain-auc:0.83615\ttrain-logloss:0.16927\teval-auc:0.43333\teval-logloss:0.23996\n",
      "[38]\ttrain-auc:0.83882\ttrain-logloss:0.16851\teval-auc:0.43333\teval-logloss:0.23974\n",
      "[39]\ttrain-auc:0.84098\ttrain-logloss:0.16767\teval-auc:0.45000\teval-logloss:0.23947\n",
      "[40]\ttrain-auc:0.84079\ttrain-logloss:0.16698\teval-auc:0.48542\teval-logloss:0.23808\n",
      "[41]\ttrain-auc:0.84055\ttrain-logloss:0.16636\teval-auc:0.46875\teval-logloss:0.23812\n",
      "[42]\ttrain-auc:0.84172\ttrain-logloss:0.16562\teval-auc:0.47708\teval-logloss:0.23783\n",
      "[43]\ttrain-auc:0.84327\ttrain-logloss:0.16493\teval-auc:0.47708\teval-logloss:0.23790\n",
      "[44]\ttrain-auc:0.84607\ttrain-logloss:0.16390\teval-auc:0.45625\teval-logloss:0.23946\n",
      "[45]\ttrain-auc:0.84680\ttrain-logloss:0.16341\teval-auc:0.45625\teval-logloss:0.23989\n",
      "[46]\ttrain-auc:0.85133\ttrain-logloss:0.16270\teval-auc:0.45833\teval-logloss:0.23999\n",
      "[47]\ttrain-auc:0.85409\ttrain-logloss:0.16180\teval-auc:0.45417\teval-logloss:0.24145\n",
      "[48]\ttrain-auc:0.85816\ttrain-logloss:0.16087\teval-auc:0.44167\teval-logloss:0.24256\n",
      "[49]\ttrain-auc:0.86069\ttrain-logloss:0.15996\teval-auc:0.43333\teval-logloss:0.24468\n"
     ]
    }
   ],
   "source": [
    "num_boost_round = 50\n",
    "param = {\n",
    "    \"learning_rate\": 0.1,\n",
    "    \"max_depth\": 3,\n",
    "    \"objective\": \"binary:logistic\",\n",
    "    \"eval_metric\": [\"auc\", \"logloss\"],\n",
    "    #     'base_score': 0.075,\n",
    "}\n",
    "evallist = [(dtrain, \"train\"), (dtest, \"eval\")]\n",
    "\n",
    "bst = xgb.train(param, dtrain, num_boost_round=num_boost_round, evals=evallist)"
   ]
  },
  {
   "cell_type": "code",
   "execution_count": null,
   "metadata": {},
   "outputs": [],
   "source": []
  },
  {
   "cell_type": "code",
   "execution_count": null,
   "metadata": {},
   "outputs": [],
   "source": []
  },
  {
   "cell_type": "code",
   "execution_count": null,
   "metadata": {},
   "outputs": [],
   "source": []
  },
  {
   "cell_type": "code",
   "execution_count": null,
   "metadata": {},
   "outputs": [],
   "source": []
  },
  {
   "cell_type": "code",
   "execution_count": null,
   "metadata": {},
   "outputs": [],
   "source": []
  },
  {
   "cell_type": "code",
   "execution_count": null,
   "metadata": {},
   "outputs": [],
   "source": []
  },
  {
   "cell_type": "code",
   "execution_count": null,
   "metadata": {},
   "outputs": [],
   "source": []
  },
  {
   "cell_type": "code",
   "execution_count": null,
   "metadata": {},
   "outputs": [],
   "source": []
  },
  {
   "cell_type": "code",
   "execution_count": null,
   "metadata": {},
   "outputs": [],
   "source": []
  },
  {
   "cell_type": "code",
   "execution_count": null,
   "metadata": {},
   "outputs": [],
   "source": []
  },
  {
   "cell_type": "code",
   "execution_count": null,
   "metadata": {},
   "outputs": [],
   "source": []
  },
  {
   "cell_type": "code",
   "execution_count": null,
   "metadata": {},
   "outputs": [],
   "source": []
  },
  {
   "cell_type": "code",
   "execution_count": null,
   "metadata": {},
   "outputs": [],
   "source": []
  },
  {
   "cell_type": "code",
   "execution_count": null,
   "metadata": {},
   "outputs": [],
   "source": []
  },
  {
   "cell_type": "code",
   "execution_count": null,
   "metadata": {},
   "outputs": [],
   "source": []
  },
  {
   "cell_type": "code",
   "execution_count": null,
   "metadata": {},
   "outputs": [],
   "source": []
  },
  {
   "cell_type": "code",
   "execution_count": null,
   "metadata": {},
   "outputs": [],
   "source": []
  },
  {
   "cell_type": "code",
   "execution_count": null,
   "metadata": {},
   "outputs": [],
   "source": []
  },
  {
   "cell_type": "code",
   "execution_count": null,
   "metadata": {},
   "outputs": [],
   "source": []
  },
  {
   "cell_type": "code",
   "execution_count": null,
   "metadata": {},
   "outputs": [],
   "source": []
  },
  {
   "cell_type": "code",
   "execution_count": null,
   "metadata": {},
   "outputs": [],
   "source": []
  },
  {
   "cell_type": "code",
   "execution_count": null,
   "metadata": {},
   "outputs": [],
   "source": [
    "    "
   ]
  },
  {
   "cell_type": "code",
   "execution_count": null,
   "metadata": {},
   "outputs": [],
   "source": []
  },
  {
   "cell_type": "code",
   "execution_count": null,
   "metadata": {},
   "outputs": [],
   "source": []
  },
  {
   "cell_type": "code",
   "execution_count": null,
   "metadata": {},
   "outputs": [],
   "source": []
  },
  {
   "cell_type": "code",
   "execution_count": null,
   "metadata": {},
   "outputs": [],
   "source": []
  },
  {
   "cell_type": "code",
   "execution_count": null,
   "metadata": {},
   "outputs": [],
   "source": []
  },
  {
   "cell_type": "code",
   "execution_count": null,
   "metadata": {},
   "outputs": [],
   "source": []
  },
  {
   "cell_type": "code",
   "execution_count": null,
   "metadata": {},
   "outputs": [],
   "source": []
  },
  {
   "cell_type": "code",
   "execution_count": null,
   "metadata": {},
   "outputs": [],
   "source": []
  },
  {
   "cell_type": "code",
   "execution_count": null,
   "metadata": {},
   "outputs": [],
   "source": []
  }
 ],
 "metadata": {
  "kernelspec": {
   "display_name": "Python 3",
   "language": "python",
   "name": "python3"
  },
  "language_info": {
   "codemirror_mode": {
    "name": "ipython",
    "version": 3
   },
   "file_extension": ".py",
   "mimetype": "text/x-python",
   "name": "python",
   "nbconvert_exporter": "python",
   "pygments_lexer": "ipython3",
   "version": "3.8.5"
  }
 },
 "nbformat": 4,
 "nbformat_minor": 4
}
