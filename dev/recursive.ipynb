{
 "cells": [
  {
   "cell_type": "code",
   "execution_count": 1,
   "metadata": {},
   "outputs": [],
   "source": [
    "import sys\n",
    "\n",
    "sys.path.insert(0, \"../tests\")\n",
    "import logging\n",
    "\n",
    "import datasets\n",
    "import numba\n",
    "import numpy as np\n",
    "import numpy.typing as npt\n",
    "import pandas as pd\n",
    "\n",
    "import skrough as rgh\n",
    "\n",
    "logging.basicConfig()"
   ]
  },
  {
   "cell_type": "code",
   "execution_count": 2,
   "metadata": {},
   "outputs": [],
   "source": [
    "x, x_counts, y, y_count = rgh.dataprep.prepare_factorized_data(\n",
    "    datasets.golf_dataset(), \"Play\"\n",
    ")"
   ]
  },
  {
   "cell_type": "code",
   "execution_count": 3,
   "metadata": {},
   "outputs": [],
   "source": [
    "logging.getLogger(\"skrough\").setLevel(logging.ERROR)\n",
    "# logging.getLogger('skrough').manager.disable = logging.NOTSET"
   ]
  },
  {
   "cell_type": "code",
   "execution_count": 4,
   "metadata": {},
   "outputs": [],
   "source": [
    "logging.getLogger(\"skrough\").setLevel(logging.INFO)"
   ]
  },
  {
   "cell_type": "code",
   "execution_count": 7,
   "metadata": {},
   "outputs": [
    {
     "name": "stdout",
     "output_type": "stream",
     "text": [
      "[4,\n",
      " [3,\n",
      "  [2,\n",
      "   [1, [0], [0]],\n",
      "   [1, [0], [0]]],\n",
      "  [2,\n",
      "   [1, [0], [0]],\n",
      "   [1, [0], [0]]]],\n",
      " [3,\n",
      "  [2,\n",
      "   [1, [0], [0]],\n",
      "   [1, [0], [0]]],\n",
      "  [2,\n",
      "   [1, [0], [0]],\n",
      "   [1, [0], [0]]]]]\n"
     ]
    }
   ],
   "source": [
    "import importlib\n",
    "import pprint\n",
    "\n",
    "from attrs import evolve\n",
    "\n",
    "import skrough.typing as rght\n",
    "from skrough.algorithms import hooks\n",
    "from skrough.algorithms.key_names import (\n",
    "    CONFIG_CHAOS_FUN,\n",
    "    CONFIG_EPSILON,\n",
    "    CONFIG_RESULT_ATTRS_MAX_COUNT,\n",
    "    CONFIG_SELECT_RANDOM_MAX_COUNT,\n",
    ")\n",
    "from skrough.algorithms.meta import processing, stage\n",
    "from skrough.chaos_measures import gini_impurity\n",
    "from skrough.structs.state import ProcessingState\n",
    "\n",
    "importlib.reload(processing)\n",
    "importlib.reload(stage)\n",
    "importlib.reload(hooks)\n",
    "importlib.reload(rght)\n",
    "\n",
    "\n",
    "def prepare_result(state: ProcessingState):\n",
    "    return state.values[\"result\"]\n",
    "\n",
    "\n",
    "def finalize(state: ProcessingState) -> None:\n",
    "    if state.values[\"depth\"] == 0:\n",
    "        state.values[\"result\"] = [0]\n",
    "    else:\n",
    "        res = [state.values[\"depth\"]]\n",
    "        tmp = state.processing_fun(\n",
    "            evolve(state, values={\"depth\": state.values[\"depth\"] - 1})\n",
    "        )\n",
    "        res.append(tmp)\n",
    "        tmp = state.processing_fun(\n",
    "            evolve(state, values={\"depth\": state.values[\"depth\"] - 1})\n",
    "        )\n",
    "        res.append(tmp)\n",
    "        state.values[\"result\"] = res\n",
    "\n",
    "\n",
    "fun = processing.ProcessingMultiStage.from_hooks(\n",
    "    init_hooks=None,\n",
    "    finalize_hooks=finalize,\n",
    "    prepare_result_fun=prepare_result,\n",
    ")\n",
    "\n",
    "\n",
    "ps = ProcessingState(\n",
    "    values={\"depth\": 4},\n",
    "    config={},\n",
    "    processing_fun=fun,\n",
    "    rng=np.random.default_rng(),\n",
    ")\n",
    "\n",
    "pprint.pprint(fun(ps), width=20)"
   ]
  },
  {
   "cell_type": "code",
   "execution_count": null,
   "metadata": {},
   "outputs": [],
   "source": []
  },
  {
   "cell_type": "code",
   "execution_count": null,
   "metadata": {},
   "outputs": [],
   "source": []
  },
  {
   "cell_type": "code",
   "execution_count": null,
   "metadata": {},
   "outputs": [],
   "source": []
  },
  {
   "cell_type": "code",
   "execution_count": null,
   "metadata": {},
   "outputs": [],
   "source": []
  },
  {
   "cell_type": "code",
   "execution_count": null,
   "metadata": {},
   "outputs": [],
   "source": []
  },
  {
   "cell_type": "code",
   "execution_count": null,
   "metadata": {},
   "outputs": [],
   "source": []
  },
  {
   "cell_type": "code",
   "execution_count": null,
   "metadata": {},
   "outputs": [],
   "source": []
  },
  {
   "cell_type": "code",
   "execution_count": null,
   "metadata": {},
   "outputs": [],
   "source": []
  },
  {
   "cell_type": "code",
   "execution_count": null,
   "metadata": {},
   "outputs": [],
   "source": []
  },
  {
   "cell_type": "code",
   "execution_count": null,
   "metadata": {},
   "outputs": [],
   "source": []
  },
  {
   "cell_type": "code",
   "execution_count": null,
   "metadata": {},
   "outputs": [],
   "source": []
  },
  {
   "cell_type": "code",
   "execution_count": null,
   "metadata": {},
   "outputs": [],
   "source": []
  },
  {
   "cell_type": "code",
   "execution_count": null,
   "metadata": {},
   "outputs": [],
   "source": []
  },
  {
   "cell_type": "code",
   "execution_count": null,
   "metadata": {},
   "outputs": [],
   "source": []
  },
  {
   "cell_type": "code",
   "execution_count": null,
   "metadata": {},
   "outputs": [],
   "source": []
  }
 ],
 "metadata": {
  "interpreter": {
   "hash": "cb353cb8b9a4ebafc945efb5c6e15e592d37ff0fcf51b748ec6c5769c1eaa51b"
  },
  "kernelspec": {
   "display_name": "Python 3.9.9 ('.venv': poetry)",
   "language": "python",
   "name": "python3"
  },
  "language_info": {
   "codemirror_mode": {
    "name": "ipython",
    "version": 3
   },
   "file_extension": ".py",
   "mimetype": "text/x-python",
   "name": "python",
   "nbconvert_exporter": "python",
   "pygments_lexer": "ipython3",
   "version": "3.9.12"
  },
  "orig_nbformat": 4
 },
 "nbformat": 4,
 "nbformat_minor": 2
}
