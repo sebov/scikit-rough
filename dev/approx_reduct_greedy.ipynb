{
 "cells": [
  {
   "cell_type": "code",
   "execution_count": 1,
   "metadata": {},
   "outputs": [],
   "source": [
    "import numpy as np\n",
    "import pandas as pd"
   ]
  },
  {
   "cell_type": "code",
   "execution_count": 2,
   "metadata": {},
   "outputs": [],
   "source": [
    "df = pd.DataFrame(\n",
    "    np.array(\n",
    "        [\n",
    "            [\"sunny\", \"hot\", \"high\", \"weak\", \"no\"],\n",
    "            [\"sunny\", \"hot\", \"high\", \"strong\", \"no\"],\n",
    "            [\"overcast\", \"hot\", \"high\", \"weak\", \"yes\"],\n",
    "            [\"rain\", \"mild\", \"high\", \"weak\", \"yes\"],\n",
    "            [\"rain\", \"cool\", \"normal\", \"weak\", \"yes\"],\n",
    "            [\"rain\", \"cool\", \"normal\", \"strong\", \"no\"],\n",
    "            [\"overcast\", \"cool\", \"normal\", \"strong\", \"yes\"],\n",
    "            [\"sunny\", \"mild\", \"high\", \"weak\", \"no\"],\n",
    "            [\"sunny\", \"cool\", \"normal\", \"weak\", \"yes\"],\n",
    "            [\"rain\", \"mild\", \"normal\", \"weak\", \"yes\"],\n",
    "            [\"sunny\", \"mild\", \"normal\", \"strong\", \"yes\"],\n",
    "            [\"overcast\", \"mild\", \"high\", \"strong\", \"yes\"],\n",
    "            [\"overcast\", \"hot\", \"normal\", \"weak\", \"yes\"],\n",
    "            [\"rain\", \"mild\", \"high\", \"strong\", \"no\"],\n",
    "        ],\n",
    "        dtype=object,\n",
    "    ),\n",
    "    columns=[\"Outlook\", \"Temperature\", \"Humidity\", \"Wind\", \"Play\"],\n",
    ")\n",
    "TARGET_COLUMN = \"Play\"\n",
    "df_dec = df.pop(TARGET_COLUMN)"
   ]
  },
  {
   "cell_type": "code",
   "execution_count": null,
   "metadata": {},
   "outputs": [],
   "source": []
  },
  {
   "cell_type": "code",
   "execution_count": 27,
   "metadata": {},
   "outputs": [],
   "source": [
    "from sklearn.preprocessing import KBinsDiscretizer\n",
    "\n",
    "df = pd.read_csv(\n",
    "    \"../../../workspace/data/microarray/anthracyclineTaxaneChemotherapy_processed.csv\",\n",
    "    index_col=0,\n",
    ")\n",
    "df_dec = df.pop(\"target\")\n",
    "\n",
    "est = KBinsDiscretizer(n_bins=3, encode=\"ordinal\", strategy=\"quantile\")\n",
    "df = est.fit_transform(df)"
   ]
  },
  {
   "cell_type": "code",
   "execution_count": 28,
   "metadata": {},
   "outputs": [],
   "source": [
    "x, x_counts = prepare_factorized_array(df)\n",
    "y, y_count = prepare_factorized_vector(df_dec)"
   ]
  },
  {
   "cell_type": "code",
   "execution_count": null,
   "metadata": {},
   "outputs": [],
   "source": []
  },
  {
   "cell_type": "code",
   "execution_count": 68,
   "metadata": {},
   "outputs": [
    {
     "data": {
      "text/plain": [
       "AttrsSubset(attrs=[0, 3, 2])"
      ]
     },
     "execution_count": 68,
     "metadata": {},
     "output_type": "execute_result"
    }
   ],
   "source": [
    "from skrough.algorithms.reducts import get_approx_reduct_greedy_heuristic\n",
    "from skrough.chaos_measures import entropy\n",
    "\n",
    "get_approx_reduct_greedy_heuristic(df.to_numpy(), df_dec, 0.1, 4, entropy)"
   ]
  },
  {
   "cell_type": "code",
   "execution_count": 90,
   "metadata": {},
   "outputs": [
    {
     "name": "stdout",
     "output_type": "stream",
     "text": [
      "AttrsSubset(attrs=[7169, 19779, 51525, 60184, 7594, 53490, 58228, 8831, 25822, 27940])\n",
      "AttrsSubset(attrs=[7169, 19779, 51525, 60184, 7594, 53490, 27940])\n"
     ]
    }
   ],
   "source": [
    "import importlib\n",
    "\n",
    "importlib.reload(hooks)\n",
    "\n",
    "eps = 0.0\n",
    "chaos_measure = entropy\n",
    "seed = 1\n",
    "chaos_count = 15\n",
    "max_count = 100\n",
    "result_1: AttrsSubset = get_approx_reduct_1(\n",
    "    input_data={\n",
    "        # INPUT_DATA_X: x,\n",
    "        # INPUT_DATA_Y: y,\n",
    "    },\n",
    "    config={\n",
    "        CONFIG_CHAOS_FUN: chaos_measure,\n",
    "        CONFIG_EPSILON: eps,\n",
    "        CONFIG_SELECT_ATTRS_CHAOS_SCORE_BASED_MAX_COUNT: chaos_count,\n",
    "        CONFIG_CANDIDATES_SELECT_RANDOM_MAX_COUNT: max_count,\n",
    "    },\n",
    "    seed=seed,\n",
    ")\n",
    "result_2: AttrsSubset = get_approx_reduct_2(\n",
    "    input_data={\n",
    "        # INPUT_DATA_X: x,\n",
    "        # INPUT_DATA_Y: y,\n",
    "    },\n",
    "    config={\n",
    "        CONFIG_CHAOS_FUN: chaos_measure,\n",
    "        CONFIG_EPSILON: eps,\n",
    "        CONFIG_SELECT_ATTRS_CHAOS_SCORE_BASED_MAX_COUNT: chaos_count,\n",
    "        CONFIG_CANDIDATES_SELECT_RANDOM_MAX_COUNT: max_count,\n",
    "    },\n",
    "    seed=seed,\n",
    ")\n",
    "print(result_1)\n",
    "print(result_2)"
   ]
  },
  {
   "cell_type": "code",
   "execution_count": null,
   "metadata": {},
   "outputs": [],
   "source": []
  },
  {
   "cell_type": "code",
   "execution_count": null,
   "metadata": {},
   "outputs": [],
   "source": []
  },
  {
   "cell_type": "code",
   "execution_count": null,
   "metadata": {},
   "outputs": [],
   "source": []
  }
 ],
 "metadata": {
  "kernelspec": {
   "display_name": "Python 3.9.12 ('.venv': poetry)",
   "language": "python",
   "name": "python3"
  },
  "language_info": {
   "codemirror_mode": {
    "name": "ipython",
    "version": 3
   },
   "file_extension": ".py",
   "mimetype": "text/x-python",
   "name": "python",
   "nbconvert_exporter": "python",
   "pygments_lexer": "ipython3",
   "version": "3.9.12"
  },
  "vscode": {
   "interpreter": {
    "hash": "cb353cb8b9a4ebafc945efb5c6e15e592d37ff0fcf51b748ec6c5769c1eaa51b"
   }
  }
 },
 "nbformat": 4,
 "nbformat_minor": 2
}
