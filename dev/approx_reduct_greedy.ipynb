{
 "cells": [
  {
   "cell_type": "code",
   "execution_count": 1,
   "metadata": {},
   "outputs": [],
   "source": [
    "import numpy as np\n",
    "import pandas as pd"
   ]
  },
  {
   "cell_type": "code",
   "execution_count": 2,
   "metadata": {},
   "outputs": [],
   "source": [
    "# df = pd.DataFrame(\n",
    "#     np.array(\n",
    "#         [\n",
    "#             [\"sunny\", \"hot\", \"high\", \"weak\", \"no\"],\n",
    "#             [\"sunny\", \"hot\", \"high\", \"strong\", \"no\"],\n",
    "#             [\"overcast\", \"hot\", \"high\", \"weak\", \"yes\"],\n",
    "#             [\"rain\", \"mild\", \"high\", \"weak\", \"yes\"],\n",
    "#             [\"rain\", \"cool\", \"normal\", \"weak\", \"yes\"],\n",
    "#             [\"rain\", \"cool\", \"normal\", \"strong\", \"no\"],\n",
    "#             [\"overcast\", \"cool\", \"normal\", \"strong\", \"yes\"],\n",
    "#             [\"sunny\", \"mild\", \"high\", \"weak\", \"no\"],\n",
    "#             [\"sunny\", \"cool\", \"normal\", \"weak\", \"yes\"],\n",
    "#             [\"rain\", \"mild\", \"normal\", \"weak\", \"yes\"],\n",
    "#             [\"sunny\", \"mild\", \"normal\", \"strong\", \"yes\"],\n",
    "#             [\"overcast\", \"mild\", \"high\", \"strong\", \"yes\"],\n",
    "#             [\"overcast\", \"hot\", \"normal\", \"weak\", \"yes\"],\n",
    "#             [\"rain\", \"mild\", \"high\", \"strong\", \"no\"],\n",
    "#         ],\n",
    "#         dtype=object,\n",
    "#     ),\n",
    "#     columns=[\"Outlook\", \"Temperature\", \"Humidity\", \"Wind\", \"Play\"],\n",
    "# )\n",
    "# TARGET_COLUMN = \"Play\"\n",
    "# df_dec = df.pop(TARGET_COLUMN)"
   ]
  },
  {
   "cell_type": "code",
   "execution_count": null,
   "metadata": {},
   "outputs": [],
   "source": []
  },
  {
   "cell_type": "code",
   "execution_count": 2,
   "metadata": {},
   "outputs": [],
   "source": [
    "from sklearn.preprocessing import KBinsDiscretizer\n",
    "\n",
    "df = pd.read_csv(\n",
    "    \"../../../workspace/data/microarray/anthracyclineTaxaneChemotherapy_processed.csv\",\n",
    "    index_col=0,\n",
    ")\n",
    "df_dec = df.pop(\"target\")\n",
    "\n",
    "est = KBinsDiscretizer(n_bins=3, encode=\"ordinal\", strategy=\"quantile\")\n",
    "df = est.fit_transform(df)"
   ]
  },
  {
   "cell_type": "code",
   "execution_count": 4,
   "metadata": {},
   "outputs": [],
   "source": [
    "# x, x_counts = prepare_factorized_array(df)\n",
    "# y, y_count = prepare_factorized_vector(df_dec)"
   ]
  },
  {
   "cell_type": "code",
   "execution_count": null,
   "metadata": {},
   "outputs": [],
   "source": []
  },
  {
   "cell_type": "code",
   "execution_count": null,
   "metadata": {},
   "outputs": [],
   "source": []
  },
  {
   "cell_type": "code",
   "execution_count": null,
   "metadata": {},
   "outputs": [],
   "source": []
  },
  {
   "cell_type": "code",
   "execution_count": 10,
   "metadata": {},
   "outputs": [
    {
     "data": {
      "text/plain": [
       "[AttrsSubset(attrs=[22058, 27331, 8231, 57977, 26353, 17737, 10200])]"
      ]
     },
     "execution_count": 10,
     "metadata": {},
     "output_type": "execute_result"
    }
   ],
   "source": [
    "from skrough.algorithms.reducts import get_approx_reduct_greedy_heuristic\n",
    "from skrough.chaos_measures import entropy\n",
    "\n",
    "# get_approx_reduct_greedy_heuristic(df.to_numpy(), df_dec, 0.1, 4, entropy)\n",
    "get_approx_reduct_greedy_heuristic(df, df_dec, 0.0, 100, entropy, n_reducts=1, n_jobs=1)"
   ]
  },
  {
   "cell_type": "code",
   "execution_count": null,
   "metadata": {},
   "outputs": [],
   "source": []
  },
  {
   "cell_type": "code",
   "execution_count": null,
   "metadata": {},
   "outputs": [],
   "source": []
  },
  {
   "cell_type": "code",
   "execution_count": null,
   "metadata": {},
   "outputs": [],
   "source": []
  },
  {
   "cell_type": "code",
   "execution_count": null,
   "metadata": {},
   "outputs": [],
   "source": []
  },
  {
   "cell_type": "code",
   "execution_count": 6,
   "metadata": {},
   "outputs": [
    {
     "data": {
      "text/plain": [
       "ObjsAttrsSubset(objs=[0, 1, 2, 3, 4, 5, 6, 7, 8, 9, 10, 11, 12, 13], attrs=[0, 2, 3])"
      ]
     },
     "execution_count": 6,
     "metadata": {},
     "output_type": "execute_result"
    }
   ],
   "source": [
    "# from skrough.algorithms.bireducts import get_bireduct_greedy_heuristic\n",
    "# from skrough.chaos_measures import entropy\n",
    "\n",
    "# get_bireduct_greedy_heuristic(df.to_numpy(), df_dec, 0.1, 4, entropy)"
   ]
  },
  {
   "cell_type": "code",
   "execution_count": null,
   "metadata": {},
   "outputs": [],
   "source": []
  },
  {
   "cell_type": "code",
   "execution_count": null,
   "metadata": {},
   "outputs": [],
   "source": []
  },
  {
   "cell_type": "code",
   "execution_count": 49,
   "metadata": {},
   "outputs": [
    {
     "data": {
      "text/plain": [
       "4294967296"
      ]
     },
     "execution_count": 49,
     "metadata": {},
     "output_type": "execute_result"
    }
   ],
   "source": []
  },
  {
   "cell_type": "code",
   "execution_count": 47,
   "metadata": {},
   "outputs": [
    {
     "data": {
      "text/plain": [
       "[587, 777, 968, 644, 638, 779, 374, 368, 573, 536]"
      ]
     },
     "execution_count": 47,
     "metadata": {},
     "output_type": "execute_result"
    }
   ],
   "source": [
    "import joblib\n",
    "import numpy as np\n",
    "\n",
    "\n",
    "def stochastic_function(seed):\n",
    "    rng = np.random.default_rng(seed)\n",
    "    return rng.integers(1000)\n",
    "\n",
    "\n",
    "def foo(seed):\n",
    "    rng = np.random.default_rng(seed)\n",
    "    return joblib.Parallel(n_jobs=2)(\n",
    "        joblib.delayed(stochastic_function)(None) for _ in range(10)\n",
    "    )\n",
    "\n",
    "\n",
    "foo(1)"
   ]
  },
  {
   "cell_type": "code",
   "execution_count": 48,
   "metadata": {},
   "outputs": [
    {
     "ename": "TypeError",
     "evalue": "integers() takes at least 1 positional argument (0 given)",
     "output_type": "error",
     "traceback": [
      "\u001b[0;31m---------------------------------------------------------------------------\u001b[0m",
      "\u001b[0;31mTypeError\u001b[0m                                 Traceback (most recent call last)",
      "Cell \u001b[0;32mIn[48], line 2\u001b[0m\n\u001b[1;32m      1\u001b[0m rng \u001b[39m=\u001b[39m np\u001b[39m.\u001b[39mrandom\u001b[39m.\u001b[39mdefault_rng(\u001b[39m1\u001b[39m)\n\u001b[0;32m----> 2\u001b[0m rng\u001b[39m.\u001b[39;49mintegers()\n",
      "File \u001b[0;32m_generator.pyx:445\u001b[0m, in \u001b[0;36mnumpy.random._generator.Generator.integers\u001b[0;34m()\u001b[0m\n",
      "\u001b[0;31mTypeError\u001b[0m: integers() takes at least 1 positional argument (0 given)"
     ]
    }
   ],
   "source": [
    " rng = np.random.default_rng(1)\n",
    " rng."
   ]
  },
  {
   "cell_type": "code",
   "execution_count": 5,
   "metadata": {},
   "outputs": [],
   "source": [
    "import numpy as np\n",
    "from joblib import Parallel, delayed\n",
    "\n",
    "\n",
    "def print_vector(vector, backend):\n",
    "    \"\"\"Helper function to print the generated vector with a given backend.\"\"\"\n",
    "    print(\n",
    "        \"\\nThe different generated vectors using the {} backend are:\\n {}\".format(\n",
    "            backend, np.array(vector)\n",
    "        )\n",
    "    )"
   ]
  },
  {
   "cell_type": "code",
   "execution_count": 7,
   "metadata": {},
   "outputs": [
    {
     "name": "stdout",
     "output_type": "stream",
     "text": [
      "\n",
      "The different generated vectors in a sequential manner are:\n",
      " [[1 4 9 1 1]\n",
      " [6 6 4 5 1]\n",
      " [2 5 0 7 2]\n",
      " [9 1 5 2 7]\n",
      " [2 3 0 4 6]]\n"
     ]
    }
   ],
   "source": [
    "def stochastic_function(max_value):\n",
    "    \"\"\"Randomly generate integer up to a maximum value.\"\"\"\n",
    "    return np.random.randint(max_value, size=5)\n",
    "\n",
    "\n",
    "n_vectors = 5\n",
    "random_vector = [stochastic_function(10) for _ in range(n_vectors)]\n",
    "print(\n",
    "    \"\\nThe different generated vectors in a sequential manner are:\\n {}\".format(\n",
    "        np.array(random_vector)\n",
    "    )\n",
    ")"
   ]
  },
  {
   "cell_type": "code",
   "execution_count": 4,
   "metadata": {},
   "outputs": [
    {
     "ename": "NameError",
     "evalue": "name 'Parallel' is not defined",
     "output_type": "error",
     "traceback": [
      "\u001b[0;31m---------------------------------------------------------------------------\u001b[0m",
      "\u001b[0;31mNameError\u001b[0m                                 Traceback (most recent call last)",
      "Cell \u001b[0;32mIn[4], line 2\u001b[0m\n\u001b[1;32m      1\u001b[0m backend \u001b[39m=\u001b[39m \u001b[39m\"\u001b[39m\u001b[39mloky\u001b[39m\u001b[39m\"\u001b[39m\n\u001b[0;32m----> 2\u001b[0m random_vector \u001b[39m=\u001b[39m Parallel(n_jobs\u001b[39m=\u001b[39m\u001b[39m2\u001b[39m, backend\u001b[39m=\u001b[39mbackend)(\n\u001b[1;32m      3\u001b[0m     delayed(stochastic_function)(\u001b[39m10\u001b[39m) \u001b[39mfor\u001b[39;00m _ \u001b[39min\u001b[39;00m \u001b[39mrange\u001b[39m(n_vectors)\n\u001b[1;32m      4\u001b[0m )\n\u001b[1;32m      5\u001b[0m print_vector(random_vector, backend)\n",
      "\u001b[0;31mNameError\u001b[0m: name 'Parallel' is not defined"
     ]
    }
   ],
   "source": [
    "backend = \"loky\"\n",
    "random_vector = Parallel(n_jobs=2, backend=backend)(\n",
    "    delayed(stochastic_function)(10) for _ in range(n_vectors)\n",
    ")\n",
    "print_vector(random_vector, backend)"
   ]
  },
  {
   "cell_type": "code",
   "execution_count": 10,
   "metadata": {},
   "outputs": [
    {
     "name": "stdout",
     "output_type": "stream",
     "text": [
      "\n",
      "The different generated vectors using the threading backend are:\n",
      " [[6 0 4 3 9]\n",
      " [4 1 7 1 5]\n",
      " [8 6 4 1 6]\n",
      " [9 0 9 4 7]\n",
      " [0 3 5 2 3]]\n"
     ]
    }
   ],
   "source": [
    "backend = \"threading\"\n",
    "random_vector = Parallel(n_jobs=2, backend=backend)(\n",
    "    delayed(stochastic_function)(10) for _ in range(n_vectors)\n",
    ")\n",
    "print_vector(random_vector, backend)"
   ]
  },
  {
   "cell_type": "code",
   "execution_count": null,
   "metadata": {},
   "outputs": [],
   "source": []
  },
  {
   "cell_type": "code",
   "execution_count": 12,
   "metadata": {},
   "outputs": [
    {
     "name": "stdout",
     "output_type": "stream",
     "text": [
      "\n",
      "The different generated vectors using the multiprocessing backend are:\n",
      " [[9 9 7 7 5]\n",
      " [9 9 7 7 5]\n",
      " [5 0 3 1 7]\n",
      " [5 0 3 1 7]\n",
      " [1 2 3 0 9]]\n"
     ]
    }
   ],
   "source": [
    "import multiprocessing as mp\n",
    "\n",
    "if mp.get_start_method() == \"spawn\":\n",
    "    import sys\n",
    "\n",
    "    sys.exit(0)\n",
    "\n",
    "backend = \"multiprocessing\"\n",
    "random_vector = Parallel(n_jobs=2, backend=backend)(\n",
    "    delayed(stochastic_function)(10) for _ in range(n_vectors)\n",
    ")\n",
    "print_vector(random_vector, backend)"
   ]
  },
  {
   "cell_type": "code",
   "execution_count": null,
   "metadata": {},
   "outputs": [],
   "source": []
  },
  {
   "cell_type": "code",
   "execution_count": 16,
   "metadata": {},
   "outputs": [
    {
     "data": {
      "text/plain": [
       "[0, 2, 4, 6, 8, 10, 12, 14, 16, 18]"
      ]
     },
     "execution_count": 16,
     "metadata": {},
     "output_type": "execute_result"
    }
   ],
   "source": [
    "joblib.Parallel(n_jobs=1)(delayed(lambda x: x * 2)(i) for i in range(10))"
   ]
  },
  {
   "cell_type": "code",
   "execution_count": 15,
   "metadata": {},
   "outputs": [
    {
     "data": {
      "text/plain": [
       "(0.34999999999999964, 12.0)"
      ]
     },
     "execution_count": 15,
     "metadata": {},
     "output_type": "execute_result"
    }
   ],
   "source": [
    "from math import modf\n",
    "\n",
    "modf(12.35)"
   ]
  }
 ],
 "metadata": {
  "kernelspec": {
   "display_name": "Python 3.9.12 ('.venv': poetry)",
   "language": "python",
   "name": "python3"
  },
  "language_info": {
   "codemirror_mode": {
    "name": "ipython",
    "version": 3
   },
   "file_extension": ".py",
   "mimetype": "text/x-python",
   "name": "python",
   "nbconvert_exporter": "python",
   "pygments_lexer": "ipython3",
   "version": "3.9.12"
  },
  "vscode": {
   "interpreter": {
    "hash": "cb353cb8b9a4ebafc945efb5c6e15e592d37ff0fcf51b748ec6c5769c1eaa51b"
   }
  }
 },
 "nbformat": 4,
 "nbformat_minor": 2
}
