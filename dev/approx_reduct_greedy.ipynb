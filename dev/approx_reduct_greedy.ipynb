{
 "cells": [
  {
   "cell_type": "code",
   "execution_count": 1,
   "metadata": {},
   "outputs": [],
   "source": [
    "import numpy as np\n",
    "import pandas as pd"
   ]
  },
  {
   "cell_type": "code",
   "execution_count": 2,
   "metadata": {},
   "outputs": [],
   "source": [
    "# df = pd.DataFrame(\n",
    "#     np.array(\n",
    "#         [\n",
    "#             [\"sunny\", \"hot\", \"high\", \"weak\", \"no\"],\n",
    "#             [\"sunny\", \"hot\", \"high\", \"strong\", \"no\"],\n",
    "#             [\"overcast\", \"hot\", \"high\", \"weak\", \"yes\"],\n",
    "#             [\"rain\", \"mild\", \"high\", \"weak\", \"yes\"],\n",
    "#             [\"rain\", \"cool\", \"normal\", \"weak\", \"yes\"],\n",
    "#             [\"rain\", \"cool\", \"normal\", \"strong\", \"no\"],\n",
    "#             [\"overcast\", \"cool\", \"normal\", \"strong\", \"yes\"],\n",
    "#             [\"sunny\", \"mild\", \"high\", \"weak\", \"no\"],\n",
    "#             [\"sunny\", \"cool\", \"normal\", \"weak\", \"yes\"],\n",
    "#             [\"rain\", \"mild\", \"normal\", \"weak\", \"yes\"],\n",
    "#             [\"sunny\", \"mild\", \"normal\", \"strong\", \"yes\"],\n",
    "#             [\"overcast\", \"mild\", \"high\", \"strong\", \"yes\"],\n",
    "#             [\"overcast\", \"hot\", \"normal\", \"weak\", \"yes\"],\n",
    "#             [\"rain\", \"mild\", \"high\", \"strong\", \"no\"],\n",
    "#         ],\n",
    "#         dtype=object,\n",
    "#     ),\n",
    "#     columns=[\"Outlook\", \"Temperature\", \"Humidity\", \"Wind\", \"Play\"],\n",
    "# )\n",
    "# TARGET_COLUMN = \"Play\"\n",
    "# df_dec = df.pop(TARGET_COLUMN)"
   ]
  },
  {
   "cell_type": "code",
   "execution_count": null,
   "metadata": {},
   "outputs": [],
   "source": []
  },
  {
   "cell_type": "code",
   "execution_count": 2,
   "metadata": {},
   "outputs": [],
   "source": [
    "from sklearn.preprocessing import KBinsDiscretizer\n",
    "\n",
    "df = pd.read_csv(\n",
    "    \"../../../workspace/data/microarray/anthracyclineTaxaneChemotherapy_processed.csv\",\n",
    "    index_col=0,\n",
    ")\n",
    "df_dec = df.pop(\"target\")\n",
    "\n",
    "est = KBinsDiscretizer(n_bins=3, encode=\"ordinal\", strategy=\"quantile\")\n",
    "df = est.fit_transform(df)"
   ]
  },
  {
   "cell_type": "code",
   "execution_count": 4,
   "metadata": {},
   "outputs": [],
   "source": [
    "# x, x_counts = prepare_factorized_array(df)\n",
    "# y, y_count = prepare_factorized_vector(df_dec)"
   ]
  },
  {
   "cell_type": "code",
   "execution_count": null,
   "metadata": {},
   "outputs": [],
   "source": []
  },
  {
   "cell_type": "code",
   "execution_count": 18,
   "metadata": {},
   "outputs": [
    {
     "data": {
      "text/plain": [
       "[AttrsSubset(attrs=[43310, 3449, 1341, 60581, 58800]),\n",
       " AttrsSubset(attrs=[57402, 57554, 51569, 7352, 49476]),\n",
       " AttrsSubset(attrs=[56327, 42595, 37065, 32998, 1277]),\n",
       " AttrsSubset(attrs=[23742, 6224, 51187, 56393, 26086]),\n",
       " AttrsSubset(attrs=[10823, 22765, 14013, 51965, 50107]),\n",
       " AttrsSubset(attrs=[50782, 55207, 25688, 32792, 13439]),\n",
       " AttrsSubset(attrs=[5572, 6059, 20899, 30600, 39824, 55987]),\n",
       " AttrsSubset(attrs=[56619, 60216, 24413, 29880, 11798, 7832]),\n",
       " AttrsSubset(attrs=[22617, 42595, 53531, 32075, 44959]),\n",
       " AttrsSubset(attrs=[17344, 48302, 57385, 39827, 1371]),\n",
       " AttrsSubset(attrs=[4521, 33582, 24600, 49545, 18778]),\n",
       " AttrsSubset(attrs=[28663, 37324, 32084, 47995, 40755]),\n",
       " AttrsSubset(attrs=[23719, 26408, 10265, 9434, 28780, 4744]),\n",
       " AttrsSubset(attrs=[53384, 53879, 7813, 17166, 29780]),\n",
       " AttrsSubset(attrs=[34974, 31214, 922, 25394, 28796, 8746]),\n",
       " AttrsSubset(attrs=[55399, 18860, 60743, 865, 26472]),\n",
       " AttrsSubset(attrs=[33283, 37279, 34655, 15696, 2714, 15629]),\n",
       " AttrsSubset(attrs=[10717, 22368, 54016, 55660, 60332, 20788]),\n",
       " AttrsSubset(attrs=[6832, 12452, 16027, 44648, 35901]),\n",
       " AttrsSubset(attrs=[21489, 52297, 8633, 8963, 27619, 20533]),\n",
       " AttrsSubset(attrs=[19277, 2386, 61285, 35792, 36508, 5200]),\n",
       " AttrsSubset(attrs=[49435, 35221, 6724, 41478, 33742]),\n",
       " AttrsSubset(attrs=[33105, 14068, 3821, 49973, 24068]),\n",
       " AttrsSubset(attrs=[47929, 2854, 49476, 5101, 27060, 32525]),\n",
       " AttrsSubset(attrs=[13871, 53455, 14098, 46776, 15149]),\n",
       " AttrsSubset(attrs=[13584, 46701, 23310, 55595, 57929, 36756]),\n",
       " AttrsSubset(attrs=[56634, 6594, 43483, 58847, 16577]),\n",
       " AttrsSubset(attrs=[17610, 59628, 60257, 1632, 43534, 34970]),\n",
       " AttrsSubset(attrs=[34974, 43107, 36146, 53230, 15111]),\n",
       " AttrsSubset(attrs=[28902, 42163, 22971, 35585, 7465, 23941]),\n",
       " AttrsSubset(attrs=[23397, 15758, 27925, 19699, 23540]),\n",
       " AttrsSubset(attrs=[22296, 8619, 1726, 24637, 21688]),\n",
       " AttrsSubset(attrs=[24837, 42138, 58639, 42822, 6696, 12571]),\n",
       " AttrsSubset(attrs=[30707, 36930, 28478, 46173, 18628, 59019]),\n",
       " AttrsSubset(attrs=[45572, 16771, 6905, 20521, 13620]),\n",
       " AttrsSubset(attrs=[47718, 55448, 59817, 53056, 33026]),\n",
       " AttrsSubset(attrs=[58952, 16797, 10730, 37798, 61257, 15916]),\n",
       " AttrsSubset(attrs=[17520, 32451, 8876, 54774, 20615, 45977]),\n",
       " AttrsSubset(attrs=[12840, 43798, 19223, 1825, 36828]),\n",
       " AttrsSubset(attrs=[22698, 11226, 43030, 18290, 9991]),\n",
       " AttrsSubset(attrs=[33992, 988, 44217, 52331, 37031, 11996]),\n",
       " AttrsSubset(attrs=[19964, 58885, 45133, 53183, 54274]),\n",
       " AttrsSubset(attrs=[49294, 56805, 55968, 36417, 5770]),\n",
       " AttrsSubset(attrs=[57023, 20277, 50163, 21502, 3483, 59465]),\n",
       " AttrsSubset(attrs=[41533, 31929, 16199, 43840, 27818]),\n",
       " AttrsSubset(attrs=[35493, 53389, 55104, 39188, 23604, 38497]),\n",
       " AttrsSubset(attrs=[30222, 43795, 38288, 54591, 52547, 27703]),\n",
       " AttrsSubset(attrs=[55328, 17468, 34280, 424, 24409, 11955]),\n",
       " AttrsSubset(attrs=[57964, 5410, 52743, 10349, 15883]),\n",
       " AttrsSubset(attrs=[50353, 25309, 23419, 14283, 44932, 6861])]"
      ]
     },
     "execution_count": 18,
     "metadata": {},
     "output_type": "execute_result"
    }
   ],
   "source": [
    "from skrough.algorithms.reducts import get_approx_reduct_greedy_heuristic_3\n",
    "from skrough.chaos_measures import entropy\n",
    "\n",
    "# get_approx_reduct_greedy_heuristic(df.to_numpy(), df_dec, 0.1, 4, entropy)\n",
    "get_approx_reduct_greedy_heuristic_3(\n",
    "    df, df_dec, 0.1, 100, entropy, n_reducts=50, n_jobs=10\n",
    ")"
   ]
  },
  {
   "cell_type": "code",
   "execution_count": null,
   "metadata": {},
   "outputs": [],
   "source": []
  },
  {
   "cell_type": "code",
   "execution_count": null,
   "metadata": {},
   "outputs": [],
   "source": []
  },
  {
   "cell_type": "code",
   "execution_count": 34,
   "metadata": {},
   "outputs": [],
   "source": []
  },
  {
   "cell_type": "code",
   "execution_count": 3,
   "metadata": {},
   "outputs": [
    {
     "data": {
      "text/plain": [
       "[AttrsSubset(attrs=[44325, 2743, 33098, 40565, 56754]),\n",
       " AttrsSubset(attrs=[54842, 7672, 42541, 21434, 16540, 53453])]"
      ]
     },
     "execution_count": 3,
     "metadata": {},
     "output_type": "execute_result"
    }
   ],
   "source": [
    "from skrough.algorithms.reducts import get_approx_reduct_greedy_heuristic\n",
    "from skrough.chaos_measures import entropy\n",
    "\n",
    "# get_approx_reduct_greedy_heuristic(df.to_numpy(), df_dec, 0.1, 4, entropy)\n",
    "get_approx_reduct_greedy_heuristic(df, df_dec, 0.1, 100, entropy, n_reducts=2, n_jobs=1)"
   ]
  },
  {
   "cell_type": "code",
   "execution_count": null,
   "metadata": {},
   "outputs": [],
   "source": []
  },
  {
   "cell_type": "code",
   "execution_count": null,
   "metadata": {},
   "outputs": [],
   "source": []
  },
  {
   "cell_type": "code",
   "execution_count": null,
   "metadata": {},
   "outputs": [],
   "source": []
  },
  {
   "cell_type": "code",
   "execution_count": null,
   "metadata": {},
   "outputs": [],
   "source": []
  },
  {
   "cell_type": "code",
   "execution_count": 6,
   "metadata": {},
   "outputs": [
    {
     "data": {
      "text/plain": [
       "ObjsAttrsSubset(objs=[0, 1, 2, 3, 4, 5, 6, 7, 8, 9, 10, 11, 12, 13], attrs=[0, 2, 3])"
      ]
     },
     "execution_count": 6,
     "metadata": {},
     "output_type": "execute_result"
    }
   ],
   "source": [
    "# from skrough.algorithms.bireducts import get_bireduct_greedy_heuristic\n",
    "# from skrough.chaos_measures import entropy\n",
    "\n",
    "# get_bireduct_greedy_heuristic(df.to_numpy(), df_dec, 0.1, 4, entropy)"
   ]
  },
  {
   "cell_type": "code",
   "execution_count": null,
   "metadata": {},
   "outputs": [],
   "source": []
  },
  {
   "cell_type": "code",
   "execution_count": null,
   "metadata": {},
   "outputs": [],
   "source": []
  },
  {
   "cell_type": "code",
   "execution_count": 49,
   "metadata": {},
   "outputs": [
    {
     "data": {
      "text/plain": [
       "4294967296"
      ]
     },
     "execution_count": 49,
     "metadata": {},
     "output_type": "execute_result"
    }
   ],
   "source": []
  },
  {
   "cell_type": "code",
   "execution_count": 47,
   "metadata": {},
   "outputs": [
    {
     "data": {
      "text/plain": [
       "[587, 777, 968, 644, 638, 779, 374, 368, 573, 536]"
      ]
     },
     "execution_count": 47,
     "metadata": {},
     "output_type": "execute_result"
    }
   ],
   "source": [
    "import joblib\n",
    "import numpy as np\n",
    "\n",
    "\n",
    "def stochastic_function(seed):\n",
    "    rng = np.random.default_rng(seed)\n",
    "    return rng.integers(1000)\n",
    "\n",
    "\n",
    "def foo(seed):\n",
    "    rng = np.random.default_rng(seed)\n",
    "    return joblib.Parallel(n_jobs=2)(\n",
    "        joblib.delayed(stochastic_function)(None) for _ in range(10)\n",
    "    )\n",
    "\n",
    "\n",
    "foo(1)"
   ]
  },
  {
   "cell_type": "code",
   "execution_count": 48,
   "metadata": {},
   "outputs": [
    {
     "ename": "TypeError",
     "evalue": "integers() takes at least 1 positional argument (0 given)",
     "output_type": "error",
     "traceback": [
      "\u001b[0;31m---------------------------------------------------------------------------\u001b[0m",
      "\u001b[0;31mTypeError\u001b[0m                                 Traceback (most recent call last)",
      "Cell \u001b[0;32mIn[48], line 2\u001b[0m\n\u001b[1;32m      1\u001b[0m rng \u001b[39m=\u001b[39m np\u001b[39m.\u001b[39mrandom\u001b[39m.\u001b[39mdefault_rng(\u001b[39m1\u001b[39m)\n\u001b[0;32m----> 2\u001b[0m rng\u001b[39m.\u001b[39;49mintegers()\n",
      "File \u001b[0;32m_generator.pyx:445\u001b[0m, in \u001b[0;36mnumpy.random._generator.Generator.integers\u001b[0;34m()\u001b[0m\n",
      "\u001b[0;31mTypeError\u001b[0m: integers() takes at least 1 positional argument (0 given)"
     ]
    }
   ],
   "source": [
    " rng = np.random.default_rng(1)\n",
    " rng."
   ]
  },
  {
   "cell_type": "code",
   "execution_count": 8,
   "metadata": {},
   "outputs": [],
   "source": [
    "import numpy as np\n",
    "from joblib import Parallel, delayed\n",
    "\n",
    "\n",
    "def print_vector(vector, backend):\n",
    "    \"\"\"Helper function to print the generated vector with a given backend.\"\"\"\n",
    "    print(\n",
    "        \"\\nThe different generated vectors using the {} backend are:\\n {}\".format(\n",
    "            backend, np.array(vector)\n",
    "        )\n",
    "    )"
   ]
  },
  {
   "cell_type": "code",
   "execution_count": 4,
   "metadata": {},
   "outputs": [
    {
     "name": "stdout",
     "output_type": "stream",
     "text": [
      "\n",
      "The different generated vectors in a sequential manner are:\n",
      " [[3 4 9 2 1]\n",
      " [2 4 0 4 5]\n",
      " [1 8 8 2 3]\n",
      " [2 8 8 2 6]\n",
      " [9 8 3 7 2]]\n"
     ]
    }
   ],
   "source": [
    "def stochastic_function(max_value):\n",
    "    \"\"\"Randomly generate integer up to a maximum value.\"\"\"\n",
    "    return np.random.randint(max_value, size=5)\n",
    "\n",
    "\n",
    "n_vectors = 5\n",
    "random_vector = [stochastic_function(10) for _ in range(n_vectors)]\n",
    "print(\n",
    "    \"\\nThe different generated vectors in a sequential manner are:\\n {}\".format(\n",
    "        np.array(random_vector)\n",
    "    )\n",
    ")"
   ]
  },
  {
   "cell_type": "code",
   "execution_count": 10,
   "metadata": {},
   "outputs": [
    {
     "name": "stdout",
     "output_type": "stream",
     "text": [
      "\n",
      "The different generated vectors using the loky backend are:\n",
      " [[3 2 8 6 4]\n",
      " [4 3 4 5 3]\n",
      " [2 3 9 2 0]\n",
      " [8 1 8 3 4]\n",
      " [0 6 4 8 5]]\n"
     ]
    }
   ],
   "source": [
    "backend = \"loky\"\n",
    "random_vector = Parallel(n_jobs=2, backend=backend)(\n",
    "    delayed(stochastic_function)(10) for _ in range(n_vectors)\n",
    ")\n",
    "print_vector(random_vector, backend)"
   ]
  },
  {
   "cell_type": "code",
   "execution_count": 11,
   "metadata": {},
   "outputs": [
    {
     "name": "stdout",
     "output_type": "stream",
     "text": [
      "\n",
      "The different generated vectors using the threading backend are:\n",
      " [[1 2 3 6 9]\n",
      " [6 5 4 7 6]\n",
      " [3 4 1 0 5]\n",
      " [7 3 9 9 0]\n",
      " [7 4 9 8 3]]\n"
     ]
    }
   ],
   "source": [
    "backend = \"threading\"\n",
    "random_vector = Parallel(n_jobs=2, backend=backend)(\n",
    "    delayed(stochastic_function)(10) for _ in range(n_vectors)\n",
    ")\n",
    "print_vector(random_vector, backend)"
   ]
  },
  {
   "cell_type": "code",
   "execution_count": 12,
   "metadata": {},
   "outputs": [
    {
     "name": "stdout",
     "output_type": "stream",
     "text": [
      "\n",
      "The different generated vectors using the multiprocessing backend are:\n",
      " [[9 9 7 7 5]\n",
      " [9 9 7 7 5]\n",
      " [5 0 3 1 7]\n",
      " [5 0 3 1 7]\n",
      " [1 2 3 0 9]]\n"
     ]
    }
   ],
   "source": [
    "import multiprocessing as mp\n",
    "\n",
    "if mp.get_start_method() == \"spawn\":\n",
    "    import sys\n",
    "\n",
    "    sys.exit(0)\n",
    "\n",
    "backend = \"multiprocessing\"\n",
    "random_vector = Parallel(n_jobs=2, backend=backend)(\n",
    "    delayed(stochastic_function)(10) for _ in range(n_vectors)\n",
    ")\n",
    "print_vector(random_vector, backend)"
   ]
  },
  {
   "cell_type": "code",
   "execution_count": null,
   "metadata": {},
   "outputs": [],
   "source": []
  },
  {
   "cell_type": "code",
   "execution_count": 16,
   "metadata": {},
   "outputs": [
    {
     "data": {
      "text/plain": [
       "[0, 2, 4, 6, 8, 10, 12, 14, 16, 18]"
      ]
     },
     "execution_count": 16,
     "metadata": {},
     "output_type": "execute_result"
    }
   ],
   "source": [
    "joblib.Parallel(n_jobs=1)(delayed(lambda x: x * 2)(i) for i in range(10))"
   ]
  },
  {
   "cell_type": "code",
   "execution_count": 15,
   "metadata": {},
   "outputs": [
    {
     "data": {
      "text/plain": [
       "(0.34999999999999964, 12.0)"
      ]
     },
     "execution_count": 15,
     "metadata": {},
     "output_type": "execute_result"
    }
   ],
   "source": [
    "from math import modf\n",
    "\n",
    "modf(12.35)"
   ]
  }
 ],
 "metadata": {
  "kernelspec": {
   "display_name": "Python 3.9.12 ('.venv': poetry)",
   "language": "python",
   "name": "python3"
  },
  "language_info": {
   "codemirror_mode": {
    "name": "ipython",
    "version": 3
   },
   "file_extension": ".py",
   "mimetype": "text/x-python",
   "name": "python",
   "nbconvert_exporter": "python",
   "pygments_lexer": "ipython3",
   "version": "3.9.12"
  },
  "vscode": {
   "interpreter": {
    "hash": "cb353cb8b9a4ebafc945efb5c6e15e592d37ff0fcf51b748ec6c5769c1eaa51b"
   }
  }
 },
 "nbformat": 4,
 "nbformat_minor": 2
}
